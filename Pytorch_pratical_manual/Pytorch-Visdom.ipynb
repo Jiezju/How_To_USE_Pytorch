{
 "cells": [
  {
   "cell_type": "markdown",
   "metadata": {},
   "source": [
    "## **Visdom的介绍**\n",
    "\n",
    "Visdom是Facebook专为PyTorch开发的实时可视化工具包，其作用相当于TensorFlow中的Tensorboard，灵活高效且界面美观，下面就一起来学习下如何使用吧！如果想更多了解关于Visdom的使用可以参考官方https://github.com/facebookresearch/visdom"
   ]
  },
  {
   "cell_type": "markdown",
   "metadata": {},
   "source": [
    "首先来欣赏下官方提供的Visdom的可视化界面\n",
    "\n",
    "![](./visdom.gif)"
   ]
  },
  {
   "cell_type": "markdown",
   "metadata": {},
   "source": [
    "## Visdom的安装\n",
    "\n",
    "- 安装非常简易，只需要打开cmd窗口，输入一下命令即可快速安装完成"
   ]
  },
  {
   "cell_type": "code",
   "execution_count": null,
   "metadata": {},
   "outputs": [],
   "source": [
    "pip install visdom"
   ]
  },
  {
   "cell_type": "markdown",
   "metadata": {},
   "source": [
    "## Visdom的使用"
   ]
  },
  {
   "cell_type": "markdown",
   "metadata": {},
   "source": [
    "类似于TensorFlow的TensorBoard，要使用Visdom，就要在终端开启监听命令，根据显示的网址然后在浏览器里输入：http://localhost:8097 进行登录，此时如果报错，别怕，参考以下网站一定能轻松解决（新版visdom已经解决了可以使用pip install --upgrade visdom进行更新即可）：\n",
    "\n",
    "https://blog.csdn.net/zl1107604962/article/details/104229548?utm_medium=distribute.pc_relevant.none-task-blog-BlogCommendFromMachineLearnPai2-2.nonecase&depth_1-utm_source=distribute.pc_relevant.none-task-blog-BlogCommendFromMachineLearnPai2-2.nonecase"
   ]
  },
  {
   "cell_type": "markdown",
   "metadata": {},
   "source": [
    "**开启监听命令**\n",
    "\n",
    "    python -m visdom.server # 或者直接visdom命令也可以"
   ]
  },
  {
   "cell_type": "markdown",
   "metadata": {
    "ExecuteTime": {
     "end_time": "2020-05-27T14:53:35.312225Z",
     "start_time": "2020-05-27T14:53:35.255377Z"
    }
   },
   "source": [
    "## Visdom可视化函数及其参数一览\n",
    "\n",
    "- 具体使用方法仍然可以参考上述网站，限于篇幅，这里主要列举最常用的line函数以及image函数的使用方法"
   ]
  },
  {
   "cell_type": "markdown",
   "metadata": {},
   "source": [
    "**visdom基本可视化函数**\n",
    "\n",
    "    - vis.image : 图片\n",
    "    - vis.line: 曲线\n",
    "    - vis.images : 图片列表\n",
    "    - vis.text : 抽象HTML\n",
    "    - vis.properties : 属性网格\n",
    "    - vis.audio : 音频\n",
    "    - vis.video : 视频\n",
    "    - vis.svg : SVG对象\n",
    "    - vis.matplot : matplotlib图\n",
    "    - vis.save : 序列化状态服务端"
   ]
  },
  {
   "cell_type": "markdown",
   "metadata": {},
   "source": [
    "**上述函数参数**\n",
    "\n",
    "- 注意opt的参数都可以用python字典的格式传入，大家可以参考下方使用方法\n",
    "\n",
    "        - opts.title : 图标题\n",
    "        - opts.width : 图宽\n",
    "        - opts.height : 图高\n",
    "        - opts.showlegend : 显示图例 (true or false)\n",
    "        - opts.xtype : x轴的类型 ('linear' or 'log')\n",
    "        - opts.xlabel : x轴的标签\n",
    "        - opts.xtick : 显示x轴上的刻度 (boolean)\n",
    "        - opts.xtickmin : 指定x轴上的第一个刻度 (number)\n",
    "        - opts.xtickmax : 指定x轴上的最后一个刻度 (number)\n",
    "        - opts.xtickvals : x轴上刻度的位置(table of numbers)\n",
    "        - opts.xticklabels : 在x轴上标记标签 (table of strings)\n",
    "        - opts.xtickstep : x轴上刻度之间的距离 (number)\n",
    "        - opts.xtickfont :x轴标签的字体 (dict of font information)\n",
    "        - opts.ytype : type of y-axis ('linear' or 'log')\n",
    "        - opts.ylabel : label of y-axis\n",
    "        - opts.ytick : show ticks on y-axis (boolean)\n",
    "        - opts.ytickmin : first tick on y-axis (number)\n",
    "        - opts.ytickmax : last tick on y-axis (number)\n",
    "        - opts.ytickvals : locations of ticks on y-axis (table of numbers)\n",
    "        - opts.yticklabels : ticks labels on y-axis (table of strings)\n",
    "        - opts.ytickstep : distances between ticks on y-axis (number)\n",
    "        - opts.ytickfont : font for y-axis labels (dict of font information)\n",
    "        - opts.marginleft : 左边框 (in pixels)\n",
    "        - opts.marginright :右边框 (in pixels)\n",
    "        - opts.margintop : 上边框 (in pixels)\n",
    "        - opts.marginbottom: 下边框 (in pixels)\n",
    "        - opts.lagent=['']： 显示图标"
   ]
  },
  {
   "cell_type": "markdown",
   "metadata": {},
   "source": [
    "## 实时曲线绘制方法"
   ]
  },
  {
   "cell_type": "code",
   "execution_count": 4,
   "metadata": {
    "ExecuteTime": {
     "end_time": "2020-05-27T15:23:09.930128Z",
     "start_time": "2020-05-27T15:23:09.804430Z"
    }
   },
   "outputs": [
    {
     "name": "stderr",
     "output_type": "stream",
     "text": [
      "Setting up a new session...\n"
     ]
    },
    {
     "data": {
      "text/plain": [
       "'train loss'"
      ]
     },
     "execution_count": 4,
     "metadata": {},
     "output_type": "execute_result"
    }
   ],
   "source": [
    "'''\n",
    "单条追踪曲线设置\n",
    "'''\n",
    "viz = Visdom()  # 初始化visdom类\n",
    "viz.line([0.],    ## Y的第一个点坐标\n",
    "         [0.],    ## X的第一个点坐标\n",
    "         win=\"train loss\",    ##窗口名称\n",
    "         opts=dict(title='train_loss')  ## 图像标例\n",
    "        )  #设置起始点\n",
    "'''\n",
    "模型数据\n",
    "'''\n",
    "viz.line([1.],   ## Y的下一个点坐标\n",
    "         [1.],   ## X的下一个点坐标\n",
    "         win=\"train loss\", ## 窗口名称 与上个窗口同名表示显示在同一个表格里\n",
    "         update='append'   ## 添加到上一个点后面\n",
    "        )  "
   ]
  },
  {
   "cell_type": "markdown",
   "metadata": {
    "ExecuteTime": {
     "end_time": "2020-05-27T15:26:40.763577Z",
     "start_time": "2020-05-27T15:26:40.758563Z"
    }
   },
   "source": [
    "**此时界面显示如下**\n",
    "\n",
    "![](./visdom2.jpg)"
   ]
  },
  {
   "cell_type": "code",
   "execution_count": 11,
   "metadata": {
    "ExecuteTime": {
     "end_time": "2020-05-27T15:30:04.190027Z",
     "start_time": "2020-05-27T15:30:04.170093Z"
    }
   },
   "outputs": [
    {
     "data": {
      "text/plain": [
       "'test loss'"
      ]
     },
     "execution_count": 11,
     "metadata": {},
     "output_type": "execute_result"
    }
   ],
   "source": [
    "'''\n",
    "多条曲线绘制 实际上就是传入y值时为一个向量\n",
    "'''\n",
    "viz = Visdom(env='my_wind') # 注意此时我已经换了新环境\n",
    "viz.line([[0.0,0.0]],    ## Y的起始点\n",
    "         [0.],    ## X的起始点\n",
    "         win=\"test loss\",    ##窗口名称\n",
    "         opts=dict(title='test_loss')  ## 图像标例\n",
    "        )  #设置起始点\n",
    "'''\n",
    "模型数据\n",
    "'''\n",
    "viz.line([[1.1,1.5]],   ## Y的下一个点\n",
    "         [1.],   ## X的下一个点\n",
    "         win=\"test loss\", ## 窗口名称\n",
    "         update='append'   ## 添加到上一个点后面\n",
    "        )  "
   ]
  },
  {
   "cell_type": "markdown",
   "metadata": {},
   "source": [
    "大家此时查看需要先切换environment窗口为my才能看到图像，如图所示：\n",
    "![](./visdom3.jpg)"
   ]
  },
  {
   "cell_type": "markdown",
   "metadata": {},
   "source": [
    "## 图像显示\n",
    "\n",
    "- 值得注意的是，Visdom支持图像的批量显示"
   ]
  },
  {
   "cell_type": "code",
   "execution_count": 13,
   "metadata": {
    "ExecuteTime": {
     "end_time": "2020-05-27T15:35:42.197483Z",
     "start_time": "2020-05-27T15:35:41.921177Z"
    }
   },
   "outputs": [
    {
     "data": {
      "text/plain": [
       "'x'"
      ]
     },
     "execution_count": 13,
     "metadata": {},
     "output_type": "execute_result"
    }
   ],
   "source": [
    "image = np.random.randn(6, 3, 200, 300) # 此时batch为6 \n",
    "viz.images(image, win='x')"
   ]
  },
  {
   "cell_type": "markdown",
   "metadata": {},
   "source": [
    "![](./visdom4.jpg)"
   ]
  },
  {
   "cell_type": "markdown",
   "metadata": {},
   "source": [
    "## 可视化数据集"
   ]
  },
  {
   "cell_type": "code",
   "execution_count": 7,
   "metadata": {
    "ExecuteTime": {
     "end_time": "2020-05-27T16:20:38.503409Z",
     "start_time": "2020-05-27T16:20:38.451535Z"
    }
   },
   "outputs": [],
   "source": [
    "train_loader = torch.utils.data.DataLoader(datasets.MNIST(\n",
    "    'D:/Jupyter/工作准备/data/MNIST',\n",
    "    train=True,\n",
    "    download=True,\n",
    "    transform=transforms.Compose(\n",
    "        [transforms.ToTensor()])),batch_size=128,shuffle=True)"
   ]
  },
  {
   "cell_type": "code",
   "execution_count": 8,
   "metadata": {
    "ExecuteTime": {
     "end_time": "2020-05-27T16:21:20.761915Z",
     "start_time": "2020-05-27T16:21:20.703073Z"
    }
   },
   "outputs": [
    {
     "data": {
      "text/plain": [
       "'mnist'"
      ]
     },
     "execution_count": 8,
     "metadata": {},
     "output_type": "execute_result"
    }
   ],
   "source": [
    "sample=next(iter(train_loader))\n",
    "viz.images(sample[0],nrow=16,win='mnist',opts=dict(title='mnist'))"
   ]
  },
  {
   "cell_type": "markdown",
   "metadata": {},
   "source": [
    "**可视化结果如图所示**\n",
    "\n",
    "![](./visdom6.jpg)"
   ]
  },
  {
   "cell_type": "markdown",
   "metadata": {},
   "source": [
    "下面通过具体的训练过程通过visdom可视化"
   ]
  },
  {
   "cell_type": "markdown",
   "metadata": {},
   "source": [
    "## Visdom的使用案例"
   ]
  },
  {
   "cell_type": "markdown",
   "metadata": {},
   "source": [
    "为了方便显示Visdom的功能，直接使用自带的MNist数据进行可视化。"
   ]
  },
  {
   "cell_type": "code",
   "execution_count": 1,
   "metadata": {
    "ExecuteTime": {
     "end_time": "2020-05-27T16:11:16.653312Z",
     "start_time": "2020-05-27T16:11:15.806215Z"
    }
   },
   "outputs": [],
   "source": [
    "'''\n",
    "导入库文件\n",
    "'''\n",
    "from visdom import Visdom\n",
    "import numpy as np\n",
    "\n",
    "import  torch\n",
    "import  torch.nn as nn\n",
    "import  torch.nn.functional as F\n",
    "import  torch.optim as optim\n",
    "from    torchvision import datasets, transforms"
   ]
  },
  {
   "cell_type": "code",
   "execution_count": 2,
   "metadata": {
    "ExecuteTime": {
     "end_time": "2020-05-27T16:11:18.672317Z",
     "start_time": "2020-05-27T16:11:18.666306Z"
    }
   },
   "outputs": [],
   "source": [
    "'''\n",
    "构建简单的模型\n",
    "'''\n",
    "class MLP(nn.Module):\n",
    "\n",
    "    def __init__(self):\n",
    "        super(MLP, self).__init__()\n",
    "\n",
    "        self.model = nn.Sequential(\n",
    "            nn.Linear(784, 200),\n",
    "            nn.ReLU(inplace=True),\n",
    "            nn.Linear(200, 200),\n",
    "            nn.ReLU(inplace=True),\n",
    "            nn.Linear(200, 10),\n",
    "            nn.ReLU(inplace=True),\n",
    "        )\n",
    "\n",
    "    def forward(self, x):\n",
    "        x = self.model(x)\n",
    "\n",
    "        return x"
   ]
  },
  {
   "cell_type": "code",
   "execution_count": 4,
   "metadata": {
    "ExecuteTime": {
     "end_time": "2020-05-27T16:17:14.960548Z",
     "start_time": "2020-05-27T16:12:47.634173Z"
    },
    "scrolled": true
   },
   "outputs": [
    {
     "name": "stderr",
     "output_type": "stream",
     "text": [
      "Setting up a new session...\n"
     ]
    },
    {
     "name": "stdout",
     "output_type": "stream",
     "text": [
      "Train Epoch: 0 [0/60000 (0%)]\tLoss: 2.295465\n",
      "Train Epoch: 0 [12800/60000 (21%)]\tLoss: 2.186591\n",
      "Train Epoch: 0 [25600/60000 (43%)]\tLoss: 1.680299\n",
      "Train Epoch: 0 [38400/60000 (64%)]\tLoss: 1.233092\n",
      "Train Epoch: 0 [51200/60000 (85%)]\tLoss: 1.132240\n",
      "\n",
      "Test set: Average loss: 0.0079, Accuracy: 7151.0/10000 (72%)\n",
      "\n",
      "Train Epoch: 1 [0/60000 (0%)]\tLoss: 1.034136\n",
      "Train Epoch: 1 [12800/60000 (21%)]\tLoss: 0.717574\n",
      "Train Epoch: 1 [25600/60000 (43%)]\tLoss: 0.843303\n",
      "Train Epoch: 1 [38400/60000 (64%)]\tLoss: 0.908609\n",
      "Train Epoch: 1 [51200/60000 (85%)]\tLoss: 0.701709\n",
      "\n",
      "Test set: Average loss: 0.0062, Accuracy: 7341.0/10000 (73%)\n",
      "\n",
      "Train Epoch: 2 [0/60000 (0%)]\tLoss: 0.780809\n",
      "Train Epoch: 2 [12800/60000 (21%)]\tLoss: 0.847154\n",
      "Train Epoch: 2 [25600/60000 (43%)]\tLoss: 0.899906\n",
      "Train Epoch: 2 [38400/60000 (64%)]\tLoss: 0.665957\n",
      "Train Epoch: 2 [51200/60000 (85%)]\tLoss: 0.619249\n",
      "\n",
      "Test set: Average loss: 0.0058, Accuracy: 7412.0/10000 (74%)\n",
      "\n",
      "Train Epoch: 3 [0/60000 (0%)]\tLoss: 0.695548\n",
      "Train Epoch: 3 [12800/60000 (21%)]\tLoss: 0.658115\n",
      "Train Epoch: 3 [25600/60000 (43%)]\tLoss: 0.544909\n",
      "Train Epoch: 3 [38400/60000 (64%)]\tLoss: 0.553123\n",
      "Train Epoch: 3 [51200/60000 (85%)]\tLoss: 0.685904\n",
      "\n",
      "Test set: Average loss: 0.0055, Accuracy: 7458.0/10000 (75%)\n",
      "\n",
      "Train Epoch: 4 [0/60000 (0%)]\tLoss: 0.814670\n",
      "Train Epoch: 4 [12800/60000 (21%)]\tLoss: 0.752603\n",
      "Train Epoch: 4 [25600/60000 (43%)]\tLoss: 0.694026\n",
      "Train Epoch: 4 [38400/60000 (64%)]\tLoss: 0.641801\n",
      "Train Epoch: 4 [51200/60000 (85%)]\tLoss: 0.693593\n",
      "\n",
      "Test set: Average loss: 0.0054, Accuracy: 7479.0/10000 (75%)\n",
      "\n",
      "Train Epoch: 5 [0/60000 (0%)]\tLoss: 0.676913\n",
      "Train Epoch: 5 [12800/60000 (21%)]\tLoss: 0.465759\n",
      "Train Epoch: 5 [25600/60000 (43%)]\tLoss: 0.756419\n",
      "Train Epoch: 5 [38400/60000 (64%)]\tLoss: 0.573767\n",
      "Train Epoch: 5 [51200/60000 (85%)]\tLoss: 0.743377\n",
      "\n",
      "Test set: Average loss: 0.0053, Accuracy: 7527.0/10000 (75%)\n",
      "\n",
      "Train Epoch: 6 [0/60000 (0%)]\tLoss: 0.663292\n",
      "Train Epoch: 6 [12800/60000 (21%)]\tLoss: 0.555222\n",
      "Train Epoch: 6 [25600/60000 (43%)]\tLoss: 0.802179\n",
      "Train Epoch: 6 [38400/60000 (64%)]\tLoss: 0.828413\n",
      "Train Epoch: 6 [51200/60000 (85%)]\tLoss: 0.622156\n",
      "\n",
      "Test set: Average loss: 0.0053, Accuracy: 7551.0/10000 (76%)\n",
      "\n",
      "Train Epoch: 7 [0/60000 (0%)]\tLoss: 0.731522\n",
      "Train Epoch: 7 [12800/60000 (21%)]\tLoss: 0.637348\n",
      "Train Epoch: 7 [25600/60000 (43%)]\tLoss: 0.776924\n",
      "Train Epoch: 7 [38400/60000 (64%)]\tLoss: 0.648009\n",
      "Train Epoch: 7 [51200/60000 (85%)]\tLoss: 0.639944\n",
      "\n",
      "Test set: Average loss: 0.0052, Accuracy: 7561.0/10000 (76%)\n",
      "\n",
      "Train Epoch: 8 [0/60000 (0%)]\tLoss: 0.673641\n",
      "Train Epoch: 8 [12800/60000 (21%)]\tLoss: 0.667220\n",
      "Train Epoch: 8 [25600/60000 (43%)]\tLoss: 0.448928\n",
      "Train Epoch: 8 [38400/60000 (64%)]\tLoss: 0.593169\n",
      "Train Epoch: 8 [51200/60000 (85%)]\tLoss: 0.677707\n",
      "\n",
      "Test set: Average loss: 0.0051, Accuracy: 7580.0/10000 (76%)\n",
      "\n",
      "Train Epoch: 9 [0/60000 (0%)]\tLoss: 0.713350\n",
      "Train Epoch: 9 [12800/60000 (21%)]\tLoss: 0.622664\n",
      "Train Epoch: 9 [25600/60000 (43%)]\tLoss: 0.724408\n",
      "Train Epoch: 9 [38400/60000 (64%)]\tLoss: 0.661977\n",
      "Train Epoch: 9 [51200/60000 (85%)]\tLoss: 0.539243\n",
      "\n",
      "Test set: Average loss: 0.0051, Accuracy: 7602.0/10000 (76%)\n",
      "\n"
     ]
    }
   ],
   "source": [
    "batch_size = 128\n",
    "learning_rate = 0.01\n",
    "epochs = 10\n",
    "\n",
    "train_loader = torch.utils.data.DataLoader(datasets.MNIST(\n",
    "    'D:/Jupyter/工作准备/data/MNIST',\n",
    "    train=True,\n",
    "    download=True,\n",
    "    transform=transforms.Compose(\n",
    "        [transforms.ToTensor(),\n",
    "         transforms.Normalize((0.1307, ), (0.3081, ))])),\n",
    "                                           batch_size=batch_size,\n",
    "                                           shuffle=True)\n",
    "test_loader = torch.utils.data.DataLoader(datasets.MNIST(\n",
    "    'D:/Jupyter/工作准备/data/MNIST',\n",
    "    train=False,\n",
    "    transform=transforms.Compose(\n",
    "        [transforms.ToTensor(),\n",
    "         transforms.Normalize((0.1307, ), (0.3081, ))])),\n",
    "                                          batch_size=batch_size,\n",
    "                                          shuffle=True)\n",
    "\n",
    "# 注意此处初始化visdom类\n",
    "viz = Visdom()\n",
    "# 绘制起点\n",
    "viz.line([0.], [0.], win=\"train loss\", opts=dict(title='train_loss'))\n",
    "device = torch.device('cuda:0')\n",
    "net = MLP().to(device)\n",
    "optimizer = optim.SGD(net.parameters(), lr=learning_rate)\n",
    "criteon = nn.CrossEntropyLoss().to(device)\n",
    "\n",
    "for epoch in range(epochs):\n",
    "\n",
    "    for batch_idx, (data, target) in enumerate(train_loader):\n",
    "        data = data.view(-1, 28 * 28)\n",
    "        data, target = data.to(device), target.cuda()\n",
    "        logits = net(data)\n",
    "        loss = criteon(logits, target)\n",
    "\n",
    "        optimizer.zero_grad()\n",
    "        loss.backward()\n",
    "        # print(w1.grad.norm(), w2.grad.norm())\n",
    "        optimizer.step()\n",
    "\n",
    "        if batch_idx % 100 == 0:\n",
    "            print('Train Epoch: {} [{}/{} ({:.0f}%)]\\tLoss: {:.6f}'.format(\n",
    "                epoch, batch_idx * len(data), len(train_loader.dataset),\n",
    "                100. * batch_idx / len(train_loader), loss.item()))\n",
    "        \n",
    "    test_loss = 0\n",
    "    correct = 0\n",
    "    for data, target in test_loader:\n",
    "        data = data.view(-1, 28 * 28)\n",
    "        data, target = data.to(device), target.cuda()\n",
    "        logits = net(data)\n",
    "        test_loss += criteon(logits, target).item()\n",
    "\n",
    "        pred = logits.argmax(dim=1)\n",
    "        correct += pred.eq(target).float().sum().item()\n",
    "\n",
    "    test_loss /= len(test_loader.dataset)\n",
    "    # 绘制epoch以及对应的测试集损失loss\n",
    "    viz.line([test_loss], [epoch], win=\"train loss\", update='append')\n",
    "    print(\n",
    "        '\\nTest set: Average loss: {:.4f}, Accuracy: {}/{} ({:.0f}%)\\n'.format(\n",
    "            test_loss, correct, len(test_loader.dataset),\n",
    "            100. * correct / len(test_loader.dataset)))"
   ]
  },
  {
   "cell_type": "markdown",
   "metadata": {},
   "source": [
    "**loss曲线如图所示**\n",
    "\n",
    "![](./visdom5.jpg)"
   ]
  },
  {
   "cell_type": "code",
   "execution_count": null,
   "metadata": {},
   "outputs": [],
   "source": []
  }
 ],
 "metadata": {
  "kernelspec": {
   "display_name": "Python 3",
   "language": "python",
   "name": "python3"
  },
  "language_info": {
   "codemirror_mode": {
    "name": "ipython",
    "version": 3
   },
   "file_extension": ".py",
   "mimetype": "text/x-python",
   "name": "python",
   "nbconvert_exporter": "python",
   "pygments_lexer": "ipython3",
   "version": "3.7.0"
  }
 },
 "nbformat": 4,
 "nbformat_minor": 2
}
