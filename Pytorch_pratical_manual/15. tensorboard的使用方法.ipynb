{
 "cells": [
  {
   "cell_type": "markdown",
   "metadata": {},
   "source": [
    "## TensorBoard使用"
   ]
  },
  {
   "cell_type": "markdown",
   "metadata": {},
   "source": [
    "**SummaryWriter**\n",
    "\n",
    "- add_image()\n",
    "\n",
    "    - 功能\n",
    "    \n",
    "        记录图像\n",
    "    \n",
    "    - tag\n",
    "    \n",
    "        图像标签名\n",
    "        \n",
    "    - img_tensor\n",
    "    \n",
    "        图像数据，注意尺度 tensor的值范围在0-1之间，会自动乘以255，否则按原值显示\n",
    "    \n",
    "    - global_step\n",
    "    \n",
    "        x轴 通过拖动x轴获取图像\n",
    "        \n",
    "    - dataformats\n",
    "    \n",
    "        数据形式：CHW/HWC/HW\n",
    "        \n",
    "    "
   ]
  },
  {
   "cell_type": "code",
   "execution_count": 4,
   "metadata": {
    "ExecuteTime": {
     "end_time": "2020-05-04T16:17:01.025664Z",
     "start_time": "2020-05-04T16:17:01.020677Z"
    }
   },
   "outputs": [],
   "source": [
    "import os\n",
    "import torch\n",
    "import time\n",
    "import torchvision.models as models\n",
    "import torchvision.transforms as transforms\n",
    "import torchvision.utils as vutils\n",
    "from torch.utils.tensorboard import SummaryWriter\n",
    "from torch.utils.data import DataLoader\n",
    "import torch.nn as nn\n",
    "import torch.nn.functional as F"
   ]
  },
  {
   "cell_type": "code",
   "execution_count": 2,
   "metadata": {
    "ExecuteTime": {
     "end_time": "2020-05-04T13:50:22.159641Z",
     "start_time": "2020-05-04T13:49:45.846050Z"
    }
   },
   "outputs": [],
   "source": [
    "# ----------------------------------- 3 image -----------------------------------\n",
    "writer = SummaryWriter(comment='test_your_comment',\n",
    "                       filename_suffix=\"_test_your_filename_suffix\")\n",
    "\n",
    "# img 1     random\n",
    "fake_img = torch.randn(3, 512, 512)  # 0-1之间，乘以255以后显示\n",
    "writer.add_image(\"fake_img\", fake_img, 1)\n",
    "time.sleep(1)\n",
    "\n",
    "# img 2     ones\n",
    "fake_img = torch.ones(3, 512, 512)\n",
    "time.sleep(1)\n",
    "writer.add_image(\"fake_img\", fake_img, 2)\n",
    "\n",
    "# img 3     1.1\n",
    "fake_img = torch.ones(3, 512, 512) * 1.1    # 大于1了 所以按原值显示\n",
    "time.sleep(1)\n",
    "writer.add_image(\"fake_img\", fake_img, 3)\n",
    "\n",
    "# img 4     HW\n",
    "fake_img = torch.rand(512, 512)\n",
    "writer.add_image(\"fake_img\", fake_img, 4, dataformats=\"HW\")\n",
    "\n",
    "# img 5     HWC\n",
    "fake_img = torch.rand(512, 512, 3)\n",
    "writer.add_image(\"fake_img\", fake_img, 5, dataformats=\"HWC\")  ##注意格式\n",
    "\n",
    "writer.close()"
   ]
  },
  {
   "cell_type": "code",
   "execution_count": null,
   "metadata": {
    "collapsed": true
   },
   "outputs": [],
   "source": []
  },
  {
   "cell_type": "markdown",
   "metadata": {},
   "source": [
    "**torchvision.utils.makes_grid**\n",
    "\n",
    "- 功能：\n",
    "\n",
    "    制作网格图像，一张图像显示多张图像，而不需要step进行选择\n",
    "    \n",
    "- tensor\n",
    "\n",
    "    图像数据，B\\*C\\*H*W\n",
    "    \n",
    "- nrow\n",
    "\n",
    "    行数，一列有多少图像\n",
    "    \n",
    "- padding\n",
    "\n",
    "    图像间距（像素单位） 分隔图像用\n",
    "    \n",
    "- normalize\n",
    "\n",
    "    是否将像素值标准化，标准化到0-255区间\n",
    "    \n",
    "- range\n",
    "\n",
    "    标准化范围  将像素值限制在固定区间内，然后进行归一化到0-255之间\n",
    "    \n",
    "- scale_each\n",
    "\n",
    "    是否单张图维度标准化\n",
    "    \n",
    "- pad_value\n",
    "\n",
    "    padding的像素值\n"
   ]
  },
  {
   "cell_type": "code",
   "execution_count": 2,
   "metadata": {
    "ExecuteTime": {
     "end_time": "2020-05-04T14:20:48.969970Z",
     "start_time": "2020-05-04T14:20:44.834708Z"
    }
   },
   "outputs": [],
   "source": [
    "# ----------------------------------- 使用 make_grid 显示数据集图像-----------------------------------\n",
    "\n",
    "import torchvision\n",
    "\n",
    "writer = SummaryWriter(comment='test_your_comment',\n",
    "                       filename_suffix=\"_test_your_filename_suffix\")\n",
    "\n",
    "transform_compose = transforms.Compose(\n",
    "    [transforms.Resize((32, 64)),\n",
    "     transforms.ToTensor()])\n",
    "trainset = torchvision.datasets.MNIST(root='./data/MNIST',\n",
    "                                        train=True,\n",
    "                                        download=True,\n",
    "                                        transform=transform_compose)\n",
    "train_loader = torch.utils.data.DataLoader(trainset,\n",
    "                                          batch_size=16,\n",
    "                                          shuffle=True)\n",
    "# 获取一个batch的图片显示\n",
    "data_batch, label_batch = next(iter(train_loader))\n",
    "\n",
    "img_grid = vutils.make_grid(data_batch,\n",
    "                            nrow=4,\n",
    "                            normalize=True,\n",
    "                            scale_each=True)\n",
    "# img_grid = vutils.make_grid(data_batch, nrow=4, normalize=False, scale_each=False)\n",
    "writer.add_image(\"input img\", img_grid, 0)\n",
    "writer.close()"
   ]
  },
  {
   "cell_type": "code",
   "execution_count": null,
   "metadata": {
    "collapsed": true
   },
   "outputs": [],
   "source": []
  },
  {
   "cell_type": "markdown",
   "metadata": {},
   "source": [
    "## 卷积核的可视化"
   ]
  },
  {
   "cell_type": "code",
   "execution_count": 4,
   "metadata": {
    "ExecuteTime": {
     "end_time": "2020-05-04T14:50:14.956492Z",
     "start_time": "2020-05-04T14:50:09.878464Z"
    }
   },
   "outputs": [
    {
     "name": "stdout",
     "output_type": "stream",
     "text": [
      "0_convlayer shape:(64, 3, 11, 11)\n",
      "1_convlayer shape:(192, 64, 5, 5)\n"
     ]
    }
   ],
   "source": [
    "# ----------------------------------- kernel visualization -----------------------------------\n",
    "\n",
    "writer = SummaryWriter(comment='test_your_comment',\n",
    "                       filename_suffix=\"_test_your_filename_suffix\")\n",
    "\n",
    "alexnet = models.alexnet(pretrained=True)  ##载入预训练模型\n",
    "\n",
    "kernel_num = -1\n",
    "vis_max = 1\n",
    "\n",
    "for sub_module in alexnet.modules(): # alexnet.modules() 返回所有子模块\n",
    "    if isinstance(sub_module, nn.Conv2d):\n",
    "        kernel_num += 1\n",
    "        if kernel_num > vis_max:\n",
    "            break\n",
    "        kernels = sub_module.weight\n",
    "        c_out, c_int, k_w, k_h = tuple(kernels.shape) # 转为元组 c_out表示卷积核个数  c_int表示卷积核通道数\n",
    "        \n",
    "        '''\n",
    "        2种可视化方法\n",
    "        '''\n",
    "        \n",
    "        \n",
    "        # 单个卷积核的依次可视化   通道数设为1 所以为黑白图像\n",
    "        for o_idx in range(c_out):\n",
    "            kernel_idx = kernels[o_idx, :, :, :].unsqueeze(1)  # make_grid需要 BCHW，这里拓展C维度 将c_in看作卷积核个数\n",
    "            kernel_grid = vutils.make_grid(kernel_idx,\n",
    "                                           normalize=True,\n",
    "                                           scale_each=True,\n",
    "                                           nrow=c_int)\n",
    "            writer.add_image(\n",
    "                '{}_Convlayer_split_in_channel'.format(kernel_num),\n",
    "                kernel_grid,\n",
    "                global_step=o_idx)\n",
    "        \n",
    "        # 所有卷积核直接可视化  通道设为3 所以为彩色图像\n",
    "        kernel_all = kernels.view(-1, 3, k_h, k_w)  # 3, h, w\n",
    "        kernel_grid = vutils.make_grid(kernel_all,\n",
    "                                       normalize=True,\n",
    "                                       scale_each=True,\n",
    "                                       nrow=8)  # c, h, w\n",
    "        writer.add_image('{}_all'.format(kernel_num),\n",
    "                         kernel_grid,\n",
    "                         global_step=322)\n",
    "\n",
    "        print(\"{}_convlayer shape:{}\".format(kernel_num, tuple(kernels.shape)))\n",
    "\n",
    "writer.close()"
   ]
  },
  {
   "cell_type": "markdown",
   "metadata": {},
   "source": [
    "## 特征图可视化"
   ]
  },
  {
   "cell_type": "code",
   "execution_count": 7,
   "metadata": {
    "ExecuteTime": {
     "end_time": "2020-05-04T15:13:18.311846Z",
     "start_time": "2020-05-04T15:13:15.715220Z"
    }
   },
   "outputs": [],
   "source": [
    "# ----------------------------------- feature map visualization -----------------------------------\n",
    "from PIL import Image\n",
    "\n",
    "writer = SummaryWriter(comment='test_your_comment',\n",
    "                       filename_suffix=\"_test_your_filename_suffix\")\n",
    "\n",
    "# 数据\n",
    "path_img = \"./lena.png\"  # your path to image\n",
    "normMean = [0.49139968, 0.48215827, 0.44653124]\n",
    "normStd = [0.24703233, 0.24348505, 0.26158768]\n",
    "\n",
    "norm_transform = transforms.Normalize(normMean, normStd)\n",
    "img_transforms = transforms.Compose(\n",
    "    [transforms.Resize((224, 224)),\n",
    "     transforms.ToTensor(), norm_transform])\n",
    "\n",
    "img_pil = Image.open(path_img).convert('RGB')\n",
    "if img_transforms is not None:\n",
    "    img_tensor = img_transforms(img_pil)  # 对img的图像处理\n",
    "img_tensor.unsqueeze_(0)  # chw --> bchw\n",
    "\n",
    "# 模型\n",
    "alexnet = models.alexnet(pretrained=True)\n",
    "\n",
    "# forward\n",
    "convlayer1 = alexnet.features[0]\n",
    "# 获取特征图\n",
    "fmap_1 = convlayer1(img_tensor)  # 调用call函数进行卷积计算\n",
    "\n",
    "# 预处理\n",
    "fmap_1.transpose_(0, 1)  # bchw=(1, 64, 55, 55) --> (64, 1, 55, 55)\n",
    "fmap_1_grid = vutils.make_grid(fmap_1, normalize=True, scale_each=True, nrow=8)\n",
    "\n",
    "# 显示特征图\n",
    "writer.add_image('feature map in conv1', fmap_1_grid, global_step=322)\n",
    "writer.close()"
   ]
  },
  {
   "cell_type": "markdown",
   "metadata": {
    "collapsed": true
   },
   "source": [
    "## 计算图以及模型显示"
   ]
  },
  {
   "cell_type": "markdown",
   "metadata": {},
   "source": [
    "    add_graph()\n",
    "\n",
    "- 功能\n",
    "\n",
    "    可视化模型计算图\n",
    "    \n",
    "- model\n",
    "\n",
    "    模型，nn.model()\n",
    "    \n",
    "- input_to_model\n",
    "\n",
    "    输出给模型的数据，给定的是 shape\n",
    "    \n",
    "- verbose\n",
    "\n",
    "    是否打印计算图结构信息，注意需要1.3.0环境\n",
    "    "
   ]
  },
  {
   "cell_type": "code",
   "execution_count": 5,
   "metadata": {
    "ExecuteTime": {
     "end_time": "2020-05-04T16:17:10.559348Z",
     "start_time": "2020-05-04T16:17:10.549405Z"
    }
   },
   "outputs": [],
   "source": [
    "# 模型\n",
    "class LeNet(nn.Module):\n",
    "    def __init__(self, classes):\n",
    "        super(LeNet, self).__init__()\n",
    "        self.conv1 = nn.Conv2d(3, 6, 5)\n",
    "        self.conv2 = nn.Conv2d(6, 16, 5)\n",
    "        self.fc1 = nn.Linear(16 * 5 * 5, 120)\n",
    "        self.fc2 = nn.Linear(120, 84)\n",
    "        self.fc3 = nn.Linear(84, classes)\n",
    "\n",
    "    def forward(self, x):\n",
    "        out = F.relu(self.conv1(x))\n",
    "        out = F.max_pool2d(out, 2)\n",
    "        out = F.relu(self.conv2(out))\n",
    "        out = F.max_pool2d(out, 2)\n",
    "        out = out.view(out.size(0), -1)\n",
    "        out = F.relu(self.fc1(out))\n",
    "        out = F.relu(self.fc2(out))\n",
    "        out = self.fc3(out)\n",
    "        return out\n",
    "\n",
    "    def initialize_weights(self):\n",
    "        for m in self.modules():\n",
    "            if isinstance(m, nn.Conv2d):\n",
    "                nn.init.xavier_normal_(m.weight.data)\n",
    "                if m.bias is not None:\n",
    "                    m.bias.data.zero_()\n",
    "            elif isinstance(m, nn.BatchNorm2d):\n",
    "                m.weight.data.fill_(1)\n",
    "                m.bias.data.zero_()\n",
    "            elif isinstance(m, nn.Linear):\n",
    "                nn.init.normal_(m.weight.data, 0, 0.1)\n",
    "                m.bias.data.zero_()"
   ]
  },
  {
   "cell_type": "code",
   "execution_count": 6,
   "metadata": {
    "ExecuteTime": {
     "end_time": "2020-05-04T16:17:12.080103Z",
     "start_time": "2020-05-04T16:17:11.064051Z"
    }
   },
   "outputs": [],
   "source": [
    "# ----------------------------------- 5 add_graph -----------------------------------\n",
    "writer = SummaryWriter(comment='test_your_comment',\n",
    "                       filename_suffix=\"_test_your_filename_suffix\")\n",
    "\n",
    "# 输入数据，保持维度正确\n",
    "fake_img = torch.randn(1, 3, 32, 32)\n",
    "\n",
    "lenet = LeNet(classes=2)\n",
    "\n",
    "# 加入模型\n",
    "writer.add_graph(lenet, fake_img)\n",
    "\n",
    "writer.close()"
   ]
  },
  {
   "cell_type": "markdown",
   "metadata": {},
   "source": [
    "    torch.summary\n",
    "    \n",
    "- 功能\n",
    "    \n",
    "    查看模型信息便于调试\n",
    "\n",
    "- model\n",
    "\n",
    "    pytorch模型\n",
    "    \n",
    "- input_size\n",
    "    \n",
    "    模型输入size\n",
    "    \n",
    "- batch_size\n",
    "\n",
    "    batch_size  默认为-1 不需要设置\n",
    "    \n",
    "- device\n",
    "\n",
    "    cuda cpu"
   ]
  },
  {
   "cell_type": "code",
   "execution_count": 8,
   "metadata": {
    "ExecuteTime": {
     "end_time": "2020-05-04T15:19:20.374296Z",
     "start_time": "2020-05-04T15:19:20.367311Z"
    }
   },
   "outputs": [
    {
     "name": "stdout",
     "output_type": "stream",
     "text": [
      "1.4.0\n"
     ]
    }
   ],
   "source": [
    "print(torch.__version__)"
   ]
  },
  {
   "cell_type": "code",
   "execution_count": 8,
   "metadata": {
    "ExecuteTime": {
     "end_time": "2020-05-04T16:26:28.472724Z",
     "start_time": "2020-05-04T16:26:28.259295Z"
    }
   },
   "outputs": [
    {
     "name": "stdout",
     "output_type": "stream",
     "text": [
      "----------------------------------------------------------------\n",
      "        Layer (type)               Output Shape         Param #\n",
      "================================================================\n",
      "            Conv2d-1            [-1, 6, 28, 28]             456\n",
      "            Conv2d-2           [-1, 16, 10, 10]           2,416\n",
      "            Linear-3                  [-1, 120]          48,120\n",
      "            Linear-4                   [-1, 84]          10,164\n",
      "            Linear-5                    [-1, 2]             170\n",
      "================================================================\n",
      "Total params: 61,326\n",
      "Trainable params: 61,326\n",
      "Non-trainable params: 0\n",
      "----------------------------------------------------------------\n",
      "Input size (MB): 0.01\n",
      "Forward/backward pass size (MB): 0.05\n",
      "Params size (MB): 0.23\n",
      "Estimated Total Size (MB): 0.30\n",
      "----------------------------------------------------------------\n",
      "None\n"
     ]
    }
   ],
   "source": [
    "from torchsummary import summary\n",
    "print(summary(lenet, (1, 32, 32), device=\"cpu\"))"
   ]
  },
  {
   "cell_type": "code",
   "execution_count": null,
   "metadata": {
    "collapsed": true
   },
   "outputs": [],
   "source": []
  },
  {
   "cell_type": "code",
   "execution_count": null,
   "metadata": {
    "collapsed": true
   },
   "outputs": [],
   "source": []
  }
 ],
 "metadata": {
  "anaconda-cloud": {},
  "kernelspec": {
   "display_name": "Python 3",
   "language": "python",
   "name": "python3"
  },
  "language_info": {
   "codemirror_mode": {
    "name": "ipython",
    "version": 3
   },
   "file_extension": ".py",
   "mimetype": "text/x-python",
   "name": "python",
   "nbconvert_exporter": "python",
   "pygments_lexer": "ipython3",
   "version": "3.7.0"
  }
 },
 "nbformat": 4,
 "nbformat_minor": 1
}
