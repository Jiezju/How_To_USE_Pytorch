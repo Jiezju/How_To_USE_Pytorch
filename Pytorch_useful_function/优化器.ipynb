{
 "cells": [
  {
   "cell_type": "markdown",
   "metadata": {},
   "source": [
    "### 优化器"
   ]
  },
  {
   "cell_type": "code",
   "execution_count": 19,
   "metadata": {
    "ExecuteTime": {
     "end_time": "2020-04-13T10:41:24.412130Z",
     "start_time": "2020-04-13T10:41:24.407144Z"
    }
   },
   "outputs": [],
   "source": [
    "import torch\n",
    "import torch.nn.functional as F\n",
    "from torch import nn"
   ]
  },
  {
   "cell_type": "markdown",
   "metadata": {},
   "source": [
    "#### 参数组 (param_groups)"
   ]
  },
  {
   "cell_type": "code",
   "execution_count": 3,
   "metadata": {
    "ExecuteTime": {
     "end_time": "2020-04-13T10:14:34.097603Z",
     "start_time": "2020-04-13T10:14:33.893479Z"
    }
   },
   "outputs": [
    {
     "name": "stdout",
     "output_type": "stream",
     "text": [
      "len(optimizer.param_groups):  1\n",
      "[{'params': [tensor([[-1.0558, -1.6159],\n",
      "        [ 0.8573, -2.3439]], requires_grad=True), tensor([[ 0.4339, -0.9652],\n",
      "        [ 0.2432,  1.8470]], requires_grad=True)], 'lr': 0.1, 'momentum': 0, 'dampening': 0, 'weight_decay': 0, 'nesterov': False}] \n",
      "\n",
      "len(optimizer.param_groups):  2\n",
      "[{'params': [tensor([[-1.0558, -1.6159],\n",
      "        [ 0.8573, -2.3439]], requires_grad=True)], 'lr': 0.1, 'momentum': 0, 'dampening': 0, 'weight_decay': 0, 'nesterov': False}, {'params': [tensor([[ 1.4977,  0.5828],\n",
      "        [ 0.6707, -0.2233]], requires_grad=True)], 'lr': 0.001, 'momentum': 0, 'dampening': 0, 'weight_decay': 0, 'nesterov': False}]\n"
     ]
    }
   ],
   "source": [
    "import torch.optim as optim\n",
    "\n",
    "\n",
    "w1 = torch.randn(2, 2)\n",
    "w1.requires_grad = True\n",
    "\n",
    "w2 = torch.randn(2, 2)\n",
    "w2.requires_grad = True\n",
    "\n",
    "w3 = torch.randn(2, 2)\n",
    "w3.requires_grad = True\n",
    "\n",
    "# 一个参数组\n",
    "optimizer_1 = optim.SGD([w1, w3], lr=0.1)\n",
    "print('len(optimizer.param_groups): ', len(optimizer_1.param_groups))\n",
    "print(optimizer_1.param_groups, '\\n')\n",
    "\n",
    "# 两个参数组\n",
    "'''\n",
    "参数组在 optimizer 中表现为一个 list(self.param_groups)，其中每个元素是dict，表示一个参数及其相应配置，\n",
    "在 dict 中包含'params'、'weight_decay'、'lr' 、'momentum'等字段。\n",
    "'''\n",
    "optimizer_2 = optim.SGD([{'params': w1, 'lr': 0.1},\n",
    "                         {'params': w2, 'lr': 0.001}])\n",
    "print('len(optimizer.param_groups): ', len(optimizer_2.param_groups))\n",
    "print(optimizer_2.param_groups)"
   ]
  },
  {
   "cell_type": "code",
   "execution_count": 16,
   "metadata": {
    "ExecuteTime": {
     "end_time": "2020-04-13T10:34:42.961500Z",
     "start_time": "2020-04-13T10:34:42.954520Z"
    }
   },
   "outputs": [
    {
     "data": {
      "text/plain": [
       "[{'params': [tensor([[-1.0558, -1.6159],\n",
       "           [ 0.8573, -2.3439]], requires_grad=True)],\n",
       "  'lr': 0.1,\n",
       "  'momentum': 0,\n",
       "  'dampening': 0,\n",
       "  'weight_decay': 0,\n",
       "  'nesterov': False},\n",
       " {'params': [tensor([[ 1.4977,  0.5828],\n",
       "           [ 0.6707, -0.2233]], requires_grad=True)],\n",
       "  'lr': 0.001,\n",
       "  'momentum': 0,\n",
       "  'dampening': 0,\n",
       "  'weight_decay': 0,\n",
       "  'nesterov': False}]"
      ]
     },
     "execution_count": 16,
     "metadata": {},
     "output_type": "execute_result"
    }
   ],
   "source": [
    "optimizer_2.param_groups"
   ]
  },
  {
   "cell_type": "markdown",
   "metadata": {},
   "source": [
    "### 梯度清零"
   ]
  },
  {
   "cell_type": "code",
   "execution_count": 4,
   "metadata": {
    "ExecuteTime": {
     "end_time": "2020-04-13T10:27:11.565156Z",
     "start_time": "2020-04-13T10:27:11.436613Z"
    }
   },
   "outputs": [
    {
     "name": "stdout",
     "output_type": "stream",
     "text": [
      "参数w1的梯度：\n",
      "tensor([[ 0.6420,  0.3585],\n",
      "        [ 1.7008, -0.1880]]) \n",
      "\n",
      "执行zero_grad()之后，参数w1的梯度：\n",
      "tensor([[0., 0.],\n",
      "        [0., 0.]])\n"
     ]
    }
   ],
   "source": [
    "# ----------------------------------- zero_grad\n",
    "\n",
    "w1 = torch.randn(2, 2)\n",
    "w1.requires_grad = True\n",
    "\n",
    "w2 = torch.randn(2, 2)\n",
    "w2.requires_grad = True\n",
    "\n",
    "optimizer = optim.SGD([w1, w2], lr=0.001, momentum=0.9)\n",
    "\n",
    "optimizer.param_groups[0]['params'][0].grad = torch.randn(2, 2)\n",
    "\n",
    "print('参数w1的梯度：')\n",
    "print(optimizer.param_groups[0]['params'][0].grad, '\\n')  # 参数组，第一个参数(w1)的梯度\n",
    "\n",
    "optimizer.zero_grad()\n",
    "print('执行zero_grad()之后，参数w1的梯度：')\n",
    "print(optimizer.param_groups[0]['params'][0].grad)  # 参数组，第一个参数(w1)的梯度"
   ]
  },
  {
   "cell_type": "code",
   "execution_count": 15,
   "metadata": {
    "ExecuteTime": {
     "end_time": "2020-04-13T10:33:02.899073Z",
     "start_time": "2020-04-13T10:33:02.893087Z"
    }
   },
   "outputs": [
    {
     "data": {
      "text/plain": [
       "[{'params': [tensor([[-0.1268, -0.5123],\n",
       "           [ 0.5882,  0.0946]], requires_grad=True),\n",
       "   tensor([[-0.1072,  1.1358],\n",
       "           [-0.1049,  1.3049]], requires_grad=True)],\n",
       "  'lr': 0.001,\n",
       "  'momentum': 0.9,\n",
       "  'dampening': 0,\n",
       "  'weight_decay': 0,\n",
       "  'nesterov': False}]"
      ]
     },
     "execution_count": 15,
     "metadata": {},
     "output_type": "execute_result"
    }
   ],
   "source": [
    "optimizer.param_groups"
   ]
  },
  {
   "cell_type": "markdown",
   "metadata": {},
   "source": [
    "### 获取模型当前的参数，以一个有序字典形式返回"
   ]
  },
  {
   "cell_type": "code",
   "execution_count": 20,
   "metadata": {
    "ExecuteTime": {
     "end_time": "2020-04-13T10:41:29.095326Z",
     "start_time": "2020-04-13T10:41:28.931257Z"
    }
   },
   "outputs": [
    {
     "name": "stdout",
     "output_type": "stream",
     "text": [
      "net_state_dict类型： <class 'collections.OrderedDict'>\n",
      "net_state_dict管理的参数:  odict_keys(['conv1.weight', 'conv1.bias', 'fc1.weight', 'fc1.bias'])\n",
      "参数名:  conv1.weight \t大小:  torch.Size([1, 3, 3, 3])\n",
      "参数名:  conv1.bias \t大小:  torch.Size([1])\n",
      "参数名:  fc1.weight \t大小:  torch.Size([2, 9])\n",
      "参数名:  fc1.bias \t大小:  torch.Size([2])\n"
     ]
    }
   ],
   "source": [
    "# ----------------------------------- state_dict\n",
    "class Net(nn.Module):\n",
    "    def __init__(self):\n",
    "        super(Net, self).__init__()\n",
    "        self.conv1 = nn.Conv2d(3, 1, 3)\n",
    "        self.pool = nn.MaxPool2d(2, 2)\n",
    "        self.fc1 = nn.Linear(1 * 3 * 3, 2)\n",
    "\n",
    "    def forward(self, x):\n",
    "        x = self.pool(F.relu(self.conv1(x)))\n",
    "        x = x.view(-1, 1 * 3 * 3)\n",
    "        x = F.relu(self.fc1(x))\n",
    "        return x\n",
    "\n",
    "\n",
    "net = Net()\n",
    "\n",
    "# 获取网络当前参数\n",
    "net_state_dict = net.state_dict()\n",
    "\n",
    "print('net_state_dict类型：', type(net_state_dict))\n",
    "print('net_state_dict管理的参数: ', net_state_dict.keys())\n",
    "for key, value in net_state_dict.items():\n",
    "    print('参数名: ', key, '\\t大小: ', value.shape)"
   ]
  },
  {
   "cell_type": "markdown",
   "metadata": {},
   "source": [
    "### 将 state_dict 中的参数加载到当前网络"
   ]
  },
  {
   "cell_type": "code",
   "execution_count": 21,
   "metadata": {
    "ExecuteTime": {
     "end_time": "2020-04-13T10:43:15.046030Z",
     "start_time": "2020-04-13T10:43:14.914496Z"
    }
   },
   "outputs": [
    {
     "name": "stdout",
     "output_type": "stream",
     "text": [
      "conv1层的权值为:\n",
      " tensor([[[[0., 0., 0.],\n",
      "          [0., 0., 0.],\n",
      "          [0., 0., 0.]],\n",
      "\n",
      "         [[0., 0., 0.],\n",
      "          [0., 0., 0.],\n",
      "          [0., 0., 0.]],\n",
      "\n",
      "         [[0., 0., 0.],\n",
      "          [0., 0., 0.],\n",
      "          [0., 0., 0.]]]]) \n",
      "\n",
      "加载之后，conv1层的权值变为:\n",
      " tensor([[[[-0.0696,  0.0299,  0.0624],\n",
      "          [-0.1281, -0.1762,  0.0200],\n",
      "          [ 0.0929, -0.0608, -0.1759]],\n",
      "\n",
      "         [[-0.0801, -0.1615, -0.1500],\n",
      "          [ 0.0214, -0.1653, -0.1576],\n",
      "          [-0.1875, -0.1405, -0.1172]],\n",
      "\n",
      "         [[ 0.1052, -0.1635,  0.1350],\n",
      "          [-0.0646, -0.0185,  0.1848],\n",
      "          [-0.1506, -0.0744,  0.0389]]]])\n"
     ]
    }
   ],
   "source": [
    "# ----------------------------------- load_state_dict\n",
    "\n",
    "class Net(nn.Module):\n",
    "    def __init__(self):\n",
    "        super(Net, self).__init__()\n",
    "        self.conv1 = nn.Conv2d(3, 1, 3)\n",
    "        self.pool = nn.MaxPool2d(2, 2)\n",
    "        self.fc1 = nn.Linear(1 * 3 * 3, 2)\n",
    "\n",
    "    def forward(self, x):\n",
    "        x = self.pool(F.relu(self.conv1(x)))\n",
    "        x = x.view(-1, 1 * 3 * 3)\n",
    "        x = F.relu(self.fc1(x))\n",
    "        return x\n",
    "\n",
    "    def zero_param(self):\n",
    "        for m in self.modules():\n",
    "            if isinstance(m, nn.Conv2d):\n",
    "                torch.nn.init.constant_(m.weight.data, 0)\n",
    "                if m.bias is not None:\n",
    "                    m.bias.data.zero_()\n",
    "            elif isinstance(m, nn.Linear):\n",
    "                torch.nn.init.constant_(m.weight.data, 0)\n",
    "                m.bias.data.zero_()\n",
    "net = Net()\n",
    "\n",
    "# 保存，并加载模型参数(仅保存模型参数)\n",
    "torch.save(net.state_dict(), 'net_params.pkl')   # 假设训练好了一个模型net\n",
    "pretrained_dict = torch.load('net_params.pkl')\n",
    "\n",
    "# 将net的参数全部置0，方便对比\n",
    "net.zero_param()\n",
    "net_state_dict = net.state_dict()\n",
    "print('conv1层的权值为:\\n', net_state_dict['conv1.weight'], '\\n')\n",
    "\n",
    "# 通过load_state_dict 加载参数\n",
    "net.load_state_dict(pretrained_dict)\n",
    "print('加载之后，conv1层的权值变为:\\n', net_state_dict['conv1.weight'])"
   ]
  },
  {
   "cell_type": "markdown",
   "metadata": {},
   "source": [
    "### 给 optimizer 管理的参数组中增加一组参数，可为该组参数 定制  lr,momentum, "
   ]
  },
  {
   "cell_type": "code",
   "execution_count": 22,
   "metadata": {
    "ExecuteTime": {
     "end_time": "2020-04-13T10:44:29.767970Z",
     "start_time": "2020-04-13T10:44:29.739047Z"
    }
   },
   "outputs": [
    {
     "name": "stdout",
     "output_type": "stream",
     "text": [
      "当前参数组个数:  1\n",
      "[{'params': [tensor([[0.4280, 1.7579],\n",
      "        [0.7520, 0.0159]], requires_grad=True), tensor([[-0.5168,  0.2112],\n",
      "        [-1.0788, -0.7243]], requires_grad=True)], 'lr': 0.1, 'momentum': 0, 'dampening': 0, 'weight_decay': 0, 'nesterov': False}] \n",
      "\n",
      "增加一组参数 w3\n",
      "\n",
      "当前参数组个数:  2\n",
      "[{'params': [tensor([[0.4280, 1.7579],\n",
      "        [0.7520, 0.0159]], requires_grad=True), tensor([[-0.5168,  0.2112],\n",
      "        [-1.0788, -0.7243]], requires_grad=True)], 'lr': 0.1, 'momentum': 0, 'dampening': 0, 'weight_decay': 0, 'nesterov': False}, {'params': [tensor([[-0.8405,  0.6584],\n",
      "        [ 1.0136, -0.9179]], requires_grad=True)], 'lr': 0.001, 'momentum': 0.8, 'dampening': 0, 'weight_decay': 0, 'nesterov': False}] \n",
      "\n",
      "可以看到，参数组是一个list，一个元素是一个dict，每个dict中都有lr, momentum等参数，这些都是可单独管理，单独设定，十分灵活！\n"
     ]
    }
   ],
   "source": [
    "# ----------------------------------- add_param_group\n",
    "\n",
    "w1 = torch.randn(2, 2)\n",
    "w1.requires_grad = True\n",
    "\n",
    "w2 = torch.randn(2, 2)\n",
    "w2.requires_grad = True\n",
    "\n",
    "w3 = torch.randn(2, 2)\n",
    "w3.requires_grad = True\n",
    "\n",
    "# 一个参数组\n",
    "optimizer_1 = optim.SGD([w1, w2], lr=0.1)\n",
    "print('当前参数组个数: ', len(optimizer_1.param_groups))\n",
    "print(optimizer_1.param_groups, '\\n')\n",
    "\n",
    "# 增加一个参数组\n",
    "print('增加一组参数 w3\\n')\n",
    "optimizer_1.add_param_group({'params': w3, 'lr': 0.001, 'momentum': 0.8})\n",
    "\n",
    "print('当前参数组个数: ', len(optimizer_1.param_groups))\n",
    "print(optimizer_1.param_groups, '\\n')\n",
    "\n",
    "print('可以看到，参数组是一个list，一个元素是一个dict，每个dict中都有lr, momentum等参数，这些都是可单独管理，单独设定，十分灵活！')"
   ]
  },
  {
   "cell_type": "code",
   "execution_count": null,
   "metadata": {},
   "outputs": [],
   "source": []
  }
 ],
 "metadata": {
  "kernelspec": {
   "display_name": "Python 3",
   "language": "python",
   "name": "python3"
  },
  "language_info": {
   "codemirror_mode": {
    "name": "ipython",
    "version": 3
   },
   "file_extension": ".py",
   "mimetype": "text/x-python",
   "name": "python",
   "nbconvert_exporter": "python",
   "pygments_lexer": "ipython3",
   "version": "3.7.0"
  }
 },
 "nbformat": 4,
 "nbformat_minor": 2
}
