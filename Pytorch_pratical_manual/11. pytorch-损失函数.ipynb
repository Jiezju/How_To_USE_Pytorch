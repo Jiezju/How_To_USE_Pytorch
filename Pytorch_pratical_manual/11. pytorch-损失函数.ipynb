{
 "cells": [
  {
   "cell_type": "markdown",
   "metadata": {},
   "source": [
    "## 损失函数"
   ]
  },
  {
   "cell_type": "markdown",
   "metadata": {},
   "source": [
    "### 损失函数的底层实现与改写方法"
   ]
  },
  {
   "cell_type": "code",
   "execution_count": 1,
   "metadata": {
    "ExecuteTime": {
     "end_time": "2020-04-26T10:53:50.274692Z",
     "start_time": "2020-04-26T10:53:46.091079Z"
    }
   },
   "outputs": [],
   "source": [
    "import torch\n",
    "import torch.nn as nn\n",
    "import torch.nn.functional as F\n",
    "import numpy as np"
   ]
  },
  {
   "cell_type": "code",
   "execution_count": 7,
   "metadata": {
    "ExecuteTime": {
     "end_time": "2020-04-26T11:03:44.282282Z",
     "start_time": "2020-04-26T11:03:44.279275Z"
    }
   },
   "outputs": [],
   "source": [
    "class _Loss(nn.Module):\n",
    "    def __init__(self, reduction='mean'):\n",
    "        super(_Loss, self).__init__()\n",
    "        if reduction is not None:\n",
    "            pass\n",
    "        else:\n",
    "            pass"
   ]
  },
  {
   "cell_type": "markdown",
   "metadata": {},
   "source": [
    "    nn.CrossEntropyloss(weight=None,size_average=None,ignore_index=-100,reduce=None,reduction='mean')\n",
    "\n",
    "- 功能\n",
    "\n",
    "    交叉熵计算 包含了SoftMax计算\n",
    "    \n",
    "- weight\n",
    "\n",
    "    各类别的loss设置权值\n",
    "\n",
    "- ignore_index\n",
    "\n",
    "    忽略某个类别\n",
    "\n",
    "- reduction\n",
    "\n",
    "   计算模式：None/sum/mean \n",
    "   - None 逐个元素计算\n",
    "   - sum  所有元素求和，返回标量\n",
    "   - mean 加权平均\n",
    "   \n",
    "- 计算公式\n",
    "\n",
    "    $$loss(x,class)=weight[class]*(-x[class]+log{\\sum_jexp(x[j])})$$"
   ]
  },
  {
   "cell_type": "code",
   "execution_count": 8,
   "metadata": {
    "ExecuteTime": {
     "end_time": "2020-04-26T13:55:36.749030Z",
     "start_time": "2020-04-26T13:55:36.742019Z"
    }
   },
   "outputs": [],
   "source": [
    "# fake data  inputs为未归一化的输出向量\n",
    "inputs = torch.tensor([[1, 2], [1, 3], [1, 3]], dtype=torch.float)\n",
    "target = torch.tensor([0, 1, 1], dtype=torch.long)"
   ]
  },
  {
   "cell_type": "code",
   "execution_count": 4,
   "metadata": {
    "ExecuteTime": {
     "end_time": "2020-04-26T11:03:08.553003Z",
     "start_time": "2020-04-26T11:03:08.373989Z"
    }
   },
   "outputs": [
    {
     "name": "stdout",
     "output_type": "stream",
     "text": [
      "[1. 2.]\n",
      "[[1. 2.]\n",
      " [1. 3.]\n",
      " [1. 3.]]\n",
      "第一个样本loss为:  1.3132617\n"
     ]
    }
   ],
   "source": [
    "'''\n",
    "公式实现nn.CrossEntropyloss()\n",
    "'''\n",
    "\n",
    "idx = 0\n",
    "\n",
    "input_1 = inputs.detach().numpy()[idx]  # [1, 2]\n",
    "print(input_1)\n",
    "print(inputs.numpy())\n",
    "target_1 = target.numpy()[idx]  # [0]\n",
    "\n",
    "# 第一项\n",
    "x_class = input_1[target_1]\n",
    "\n",
    "# 第二项\n",
    "sigma_exp_x = np.sum(list(map(np.exp, input_1)))\n",
    "#map(np.exp, input_1)  对input_1的每个元素计算exp()函数\n",
    "log_sigma_exp_x = np.log(sigma_exp_x)\n",
    "\n",
    "# 输出loss\n",
    "loss_1 = -x_class + log_sigma_exp_x\n",
    "\n",
    "print(\"第一个样本loss为: \", loss_1)"
   ]
  },
  {
   "cell_type": "code",
   "execution_count": 5,
   "metadata": {
    "ExecuteTime": {
     "end_time": "2020-04-26T11:03:09.784501Z",
     "start_time": "2020-04-26T11:03:09.242363Z"
    }
   },
   "outputs": [
    {
     "name": "stdout",
     "output_type": "stream",
     "text": [
      "Cross Entropy Loss:\n",
      "  tensor([1.3133, 0.1269, 0.1269]) tensor(1.5671) tensor(0.5224)\n"
     ]
    }
   ],
   "source": [
    "# ----------------------------------- CrossEntropy loss: reduction -----------------------------------\n",
    "\n",
    "# def loss function\n",
    "loss_f_none = nn.CrossEntropyLoss(weight=None, reduction='none')  ##返回向量 分别计算每个样本的损失\n",
    "loss_f_sum = nn.CrossEntropyLoss(weight=None, reduction='sum')  ##返回损失和 计算所有样本损失和\n",
    "loss_f_mean = nn.CrossEntropyLoss(weight=None, reduction='mean')  ##返回损失均值  计算所有样本的损失均值\n",
    "\n",
    "# forward\n",
    "loss_none = loss_f_none(inputs, target)\n",
    "loss_sum = loss_f_sum(inputs, target)\n",
    "loss_mean = loss_f_mean(inputs, target)\n",
    "\n",
    "# view\n",
    "print(\"Cross Entropy Loss:\\n \", loss_none, loss_sum, loss_mean)"
   ]
  },
  {
   "cell_type": "code",
   "execution_count": 6,
   "metadata": {
    "ExecuteTime": {
     "end_time": "2020-04-26T11:03:12.192578Z",
     "start_time": "2020-04-26T11:03:12.174620Z"
    }
   },
   "outputs": [
    {
     "name": "stdout",
     "output_type": "stream",
     "text": [
      "\n",
      "weights:  tensor([1., 2.])\n",
      "tensor([1.3133, 0.2539, 0.2539]) tensor(1.8210) tensor(0.3642)\n"
     ]
    }
   ],
   "source": [
    "# ----------------------------------- weight -----------------------------------\n",
    "\n",
    "# def loss function\n",
    "weights = torch.tensor([1, 2], dtype=torch.float)  #0类别损失乘以1,1类别损失乘以2\n",
    "# weights = torch.tensor([0.7, 0.3], dtype=torch.float)\n",
    "\n",
    "loss_f_none_w = nn.CrossEntropyLoss(weight=weights, reduction='none')\n",
    "loss_f_sum = nn.CrossEntropyLoss(weight=weights, reduction='sum')\n",
    "loss_f_mean = nn.CrossEntropyLoss(weight=weights, reduction='mean')\n",
    "\n",
    "# forward\n",
    "loss_none_w = loss_f_none_w(inputs, target)\n",
    "loss_sum = loss_f_sum(inputs, target)\n",
    "loss_mean = loss_f_mean(inputs, target)\n",
    "\n",
    "# view\n",
    "print(\"\\nweights: \", weights)\n",
    "print(loss_none_w, loss_sum, loss_mean)"
   ]
  },
  {
   "cell_type": "code",
   "execution_count": 8,
   "metadata": {},
   "outputs": [
    {
     "name": "stdout",
     "output_type": "stream",
     "text": [
      "0.3641947731375694\n"
     ]
    }
   ],
   "source": [
    "# --------------------------------- compute by hand\n",
    "\n",
    "# flag = 1\n",
    "weights = torch.tensor([1, 2], dtype=torch.float)\n",
    "weights_all = np.sum(list(map(lambda x: weights.numpy()[x], target.numpy())))  # [0, 1, 1]  # [1 2 2]\n",
    "\n",
    "mean = 0\n",
    "loss_sep = loss_none.detach().numpy()\n",
    "for i in range(target.shape[0]):\n",
    "\n",
    "    x_class = target.numpy()[i]\n",
    "    tmp = loss_sep[i] * (weights.numpy()[x_class] / weights_all)\n",
    "    mean += tmp\n",
    "\n",
    "print(mean)"
   ]
  },
  {
   "cell_type": "code",
   "execution_count": null,
   "metadata": {
    "collapsed": true
   },
   "outputs": [],
   "source": []
  },
  {
   "cell_type": "markdown",
   "metadata": {},
   "source": [
    "    nn.NLLLoss(weight=None,ignore_index=-100,reduction='mean')\n",
    "\n",
    "- 功能\n",
    "\n",
    "    实现负对数似然的负号功能\n",
    "    \n",
    "- weight\n",
    "\n",
    "    各类别的loss设置权值\n",
    "\n",
    "- ignore_index\n",
    "\n",
    "    忽略某个类别\n",
    "\n",
    "- reduction\n",
    "\n",
    "   计算模式：None/sum/mean \n",
    "   - None 逐个元素计算\n",
    "   - sum  所有元素求和，返回标量\n",
    "   - mean 加权平均"
   ]
  },
  {
   "cell_type": "code",
   "execution_count": 9,
   "metadata": {},
   "outputs": [
    {
     "name": "stdout",
     "output_type": "stream",
     "text": [
      "\n",
      "weights:  tensor([1., 1.])\n",
      "NLL Loss tensor([-1., -3., -3.]) tensor(-7.) tensor(-2.3333)\n"
     ]
    }
   ],
   "source": [
    "# ----------------------------------- 2 NLLLoss -----------------------------------\n",
    "\n",
    "weights = torch.tensor([1, 1], dtype=torch.float)\n",
    "\n",
    "loss_f_none_w = nn.NLLLoss(weight=weights, reduction='none')\n",
    "loss_f_sum = nn.NLLLoss(weight=weights, reduction='sum')\n",
    "loss_f_mean = nn.NLLLoss(weight=weights, reduction='mean')\n",
    "\n",
    "# forward\n",
    "loss_none_w = loss_f_none_w(inputs, target)\n",
    "loss_sum = loss_f_sum(inputs, target)\n",
    "loss_mean = loss_f_mean(inputs, target)\n",
    "\n",
    "# view\n",
    "print(\"\\nweights: \", weights)\n",
    "print(\"NLL Loss\", loss_none_w, loss_sum, loss_mean)"
   ]
  },
  {
   "cell_type": "code",
   "execution_count": null,
   "metadata": {
    "collapsed": true
   },
   "outputs": [],
   "source": []
  },
  {
   "cell_type": "markdown",
   "metadata": {},
   "source": [
    "    nn.BCELoss(weight=None,reduction='mean')\n",
    "\n",
    "- 功能\n",
    "\n",
    "    二分类交叉熵\n",
    "    \n",
    "- 计算公式\n",
    "\n",
    "    $$l_n=-w_n*(y_n*log(x_n)+(1-y_n)*log(1-x_n))$$"
   ]
  },
  {
   "cell_type": "code",
   "execution_count": 12,
   "metadata": {},
   "outputs": [
    {
     "name": "stdout",
     "output_type": "stream",
     "text": [
      "BCE inputs:  tensor([[1., 2.],\n",
      "        [2., 2.],\n",
      "        [3., 4.],\n",
      "        [4., 5.]])\n",
      "第一个loss为:  -0.0\n"
     ]
    }
   ],
   "source": [
    "'''\n",
    "函数实现\n",
    "'''\n",
    "\n",
    "inputs = torch.tensor([[1, 2], [2, 2], [3, 4], [4, 5]], dtype=torch.float)\n",
    "target = torch.tensor([[1, 0], [1, 0], [0, 1], [0, 1]], dtype=torch.float)\n",
    "\n",
    "idx = 0\n",
    "\n",
    "x_i = inputs.detach().numpy()[idx, idx]\n",
    "y_i = target.numpy()[idx, idx]              #\n",
    "\n",
    "# loss\n",
    "# l_i = -[ y_i * np.log(x_i) + (1-y_i) * np.log(1-y_i) ]      # np.log(0) = nan\n",
    "l_i = -y_i * np.log(x_i) if y_i else -(1-y_i) * np.log(1-x_i)\n",
    "\n",
    "# 输出loss\n",
    "print(\"BCE inputs: \", inputs)\n",
    "print(\"第一个loss为: \", l_i)"
   ]
  },
  {
   "cell_type": "code",
   "execution_count": 11,
   "metadata": {},
   "outputs": [
    {
     "name": "stdout",
     "output_type": "stream",
     "text": [
      "\n",
      "weights:  tensor([1., 1.])\n",
      "BCE Loss tensor([[0.3133, 2.1269],\n",
      "        [0.1269, 2.1269],\n",
      "        [3.0486, 0.0181],\n",
      "        [4.0181, 0.0067]]) tensor(11.7856) tensor(1.4732)\n"
     ]
    }
   ],
   "source": [
    "inputs = torch.tensor([[1, 2], [2, 2], [3, 4], [4, 5]], dtype=torch.float)\n",
    "target = torch.tensor([[1, 0], [1, 0], [0, 1], [0, 1]], dtype=torch.float)\n",
    "\n",
    "target_bce = target\n",
    "\n",
    "# itarget\n",
    "inputs = torch.sigmoid(inputs)  ##输入值在0-1之间\n",
    "\n",
    "weights = torch.tensor([1, 1], dtype=torch.float)\n",
    "\n",
    "loss_f_none_w = nn.BCELoss(weight=weights, reduction='none')\n",
    "loss_f_sum = nn.BCELoss(weight=weights, reduction='sum')\n",
    "loss_f_mean = nn.BCELoss(weight=weights, reduction='mean')\n",
    "\n",
    "# forward\n",
    "loss_none_w = loss_f_none_w(inputs, target_bce)\n",
    "loss_sum = loss_f_sum(inputs, target_bce)\n",
    "loss_mean = loss_f_mean(inputs, target_bce)\n",
    "\n",
    "# view\n",
    "print(\"\\nweights: \", weights)\n",
    "print(\"BCE Loss\", loss_none_w, loss_sum, loss_mean)"
   ]
  },
  {
   "cell_type": "code",
   "execution_count": null,
   "metadata": {
    "collapsed": true
   },
   "outputs": [],
   "source": []
  },
  {
   "cell_type": "markdown",
   "metadata": {},
   "source": [
    "    nn.BCEWithLogitsLoss(self, weight=None, reduction='mean', pos_weight=None)\n",
    "\n",
    "- 功能\n",
    "\n",
    "    结合sigmoid函数与二分类的交叉熵\n",
    "\n",
    "- pos_weight\n",
    "\n",
    "    正样本的权值\n",
    "    \n",
    "- weight\n",
    "\n",
    "    各类别的loss设置权值\n",
    "\n",
    "- ignore_index\n",
    "\n",
    "    忽略某个类别\n",
    "\n",
    "- reduction\n",
    "\n",
    "   计算模式：None/sum/mean \n",
    "   - None 逐个元素计算\n",
    "   - sum  所有元素求和，返回标量\n",
    "   - mean 加权平均\n",
    "   \n",
    "- 计算公式\n",
    "\n",
    "     $$l_n=-w_n*(y_n*log(\\sigma(x_n))+(1-y_n)*log(1-\\sigma(x_n)))$$"
   ]
  },
  {
   "cell_type": "code",
   "execution_count": 13,
   "metadata": {},
   "outputs": [
    {
     "name": "stdout",
     "output_type": "stream",
     "text": [
      "\n",
      "weights:  tensor([1., 1.])\n",
      "tensor([[0.3133, 2.1269],\n",
      "        [0.1269, 2.1269],\n",
      "        [3.0486, 0.0181],\n",
      "        [4.0181, 0.0067]]) tensor(11.7856) tensor(1.4732)\n"
     ]
    }
   ],
   "source": [
    "# ----------------------------------- 4 BCE with Logis Loss -----------------------------------\n",
    "\n",
    "inputs = torch.tensor([[1, 2], [2, 2], [3, 4], [4, 5]], dtype=torch.float)\n",
    "target = torch.tensor([[1, 0], [1, 0], [0, 1], [0, 1]], dtype=torch.float)\n",
    "\n",
    "target_bce = target\n",
    "\n",
    "# inputs = torch.sigmoid(inputs)  调用BCEWithLogitsLoss()函数不需要再添加Sigmoid函数\n",
    "\n",
    "weights = torch.tensor([1, 1], dtype=torch.float)\n",
    "\n",
    "loss_f_none_w = nn.BCEWithLogitsLoss(weight=weights, reduction='none')\n",
    "loss_f_sum = nn.BCEWithLogitsLoss(weight=weights, reduction='sum')\n",
    "loss_f_mean = nn.BCEWithLogitsLoss(weight=weights, reduction='mean')\n",
    "\n",
    "# forward\n",
    "loss_none_w = loss_f_none_w(inputs, target_bce)\n",
    "loss_sum = loss_f_sum(inputs, target_bce)\n",
    "loss_mean = loss_f_mean(inputs, target_bce)\n",
    "\n",
    "# view\n",
    "print(\"\\nweights: \", weights)\n",
    "print(loss_none_w, loss_sum, loss_mean)"
   ]
  },
  {
   "cell_type": "code",
   "execution_count": 14,
   "metadata": {},
   "outputs": [
    {
     "name": "stdout",
     "output_type": "stream",
     "text": [
      "\n",
      "pos_weights:  tensor([3.])\n",
      "tensor([[0.9398, 2.1269],\n",
      "        [0.3808, 2.1269],\n",
      "        [3.0486, 0.0544],\n",
      "        [4.0181, 0.0201]]) tensor(12.7158) tensor(1.5895)\n"
     ]
    }
   ],
   "source": [
    "# --------------------------------- pos weight\n",
    "\n",
    "inputs = torch.tensor([[1, 2], [2, 2], [3, 4], [4, 5]], dtype=torch.float)\n",
    "target = torch.tensor([[1, 0], [1, 0], [0, 1], [0, 1]], dtype=torch.float)\n",
    "\n",
    "target_bce = target\n",
    "\n",
    "# itarget\n",
    "# inputs = torch.sigmoid(inputs)\n",
    "\n",
    "weights = torch.tensor([1], dtype=torch.float)\n",
    "pos_w = torch.tensor([3], dtype=torch.float)  # 3\n",
    "\n",
    "loss_f_none_w = nn.BCEWithLogitsLoss(weight=weights,\n",
    "                                     reduction='none',\n",
    "                                     pos_weight=pos_w)\n",
    "loss_f_sum = nn.BCEWithLogitsLoss(weight=weights,\n",
    "                                  reduction='sum',\n",
    "                                  pos_weight=pos_w)\n",
    "loss_f_mean = nn.BCEWithLogitsLoss(weight=weights,\n",
    "                                   reduction='mean',\n",
    "                                   pos_weight=pos_w)\n",
    "\n",
    "# forward\n",
    "loss_none_w = loss_f_none_w(inputs, target_bce)\n",
    "loss_sum = loss_f_sum(inputs, target_bce)\n",
    "loss_mean = loss_f_mean(inputs, target_bce)\n",
    "\n",
    "# view\n",
    "print(\"\\npos_weights: \", pos_w)\n",
    "print(loss_none_w, loss_sum, loss_mean)"
   ]
  },
  {
   "cell_type": "code",
   "execution_count": null,
   "metadata": {
    "collapsed": true
   },
   "outputs": [],
   "source": []
  },
  {
   "cell_type": "markdown",
   "metadata": {},
   "source": [
    "    torch.nn.L1Loss(reduction='mean')\n",
    "\n",
    "- 计算公式：\n",
    "\n",
    "    $$l_n=|x_n-y_n|$$"
   ]
  },
  {
   "cell_type": "code",
   "execution_count": 15,
   "metadata": {},
   "outputs": [
    {
     "name": "stdout",
     "output_type": "stream",
     "text": [
      "input:tensor([[1., 1.],\n",
      "        [1., 1.]])\n",
      "target:tensor([[3., 3.],\n",
      "        [3., 3.]])\n",
      "L1 loss:tensor([[2., 2.],\n",
      "        [2., 2.]])\n"
     ]
    }
   ],
   "source": [
    "# ------------------------------------------------- 5 L1 loss ----------------------------------------------\n",
    "\n",
    "inputs = torch.ones((2, 2))\n",
    "target = torch.ones((2, 2)) * 3\n",
    "\n",
    "loss_f = nn.L1Loss(reduction='none')\n",
    "loss = loss_f(inputs, target)\n",
    "\n",
    "print(\"input:{}\\ntarget:{}\\nL1 loss:{}\".format(inputs, target, loss))"
   ]
  },
  {
   "cell_type": "markdown",
   "metadata": {},
   "source": [
    "    torch.nn.MSELoss(reduction='mean')\n",
    "\n",
    "- 计算公式\n",
    "\n",
    "    $$l_n=(x_n-y_n)^2$$"
   ]
  },
  {
   "cell_type": "code",
   "execution_count": 16,
   "metadata": {},
   "outputs": [
    {
     "name": "stdout",
     "output_type": "stream",
     "text": [
      "MSE loss:tensor([[4., 4.],\n",
      "        [4., 4.]])\n"
     ]
    }
   ],
   "source": [
    "# ------------------------------------------------- 6 MSE loss ----------------------------------------------\n",
    "\n",
    "loss_f_mse = nn.MSELoss(reduction='none')\n",
    "loss_mse = loss_f_mse(inputs, target)\n",
    "\n",
    "print(\"MSE loss:{}\".format(loss_mse))"
   ]
  },
  {
   "cell_type": "markdown",
   "metadata": {},
   "source": [
    "    torch.nn.SmoothL1Loss(reduction='mean')\n",
    "\n",
    "- 计算公式\n",
    "\n",
    "    $$\n",
    "z_i=\n",
    "\\begin{cases}\n",
    "0.5*(x_i-y_i)^2, &if\\ |x_i-y_i|<1\\\\\n",
    "|x_i-y_i|-0.5, &otherwise\n",
    "\\end{cases}\n",
    "$$\n",
    "\n",
    "$$loss(x,y)=\\frac 1n\\sum_i{z_i}$$"
   ]
  },
  {
   "cell_type": "code",
   "execution_count": 19,
   "metadata": {},
   "outputs": [
    {
     "data": {
      "image/png": "[encoded data removed]",
      "text/plain": [
       "<matplotlib.figure.Figure at 0xef30048>"
      ]
     },
     "metadata": {},
     "output_type": "display_data"
    }
   ],
   "source": [
    "# ------------------------------------------------- 7 Smooth L1 loss ----------------------------------------------\n",
    "%matplotlib inline\n",
    "from matplotlib import pyplot as plt\n",
    "\n",
    "inputs = torch.linspace(-3, 3, steps=500)\n",
    "target = torch.zeros_like(inputs)\n",
    "\n",
    "loss_f = nn.SmoothL1Loss(reduction='none')\n",
    "\n",
    "loss_smooth = loss_f(inputs, target)\n",
    "\n",
    "loss_l1 = np.abs(inputs.numpy())\n",
    "\n",
    "plt.plot(inputs.numpy(), loss_smooth.numpy(), label='Smooth L1 Loss')\n",
    "plt.plot(inputs.numpy(), loss_l1, label='L1 loss')\n",
    "plt.xlabel('x_i - y_i')\n",
    "plt.ylabel('loss value')\n",
    "plt.legend()\n",
    "plt.grid()\n",
    "plt.show()"
   ]
  },
  {
   "cell_type": "code",
   "execution_count": null,
   "metadata": {
    "collapsed": true
   },
   "outputs": [],
   "source": []
  },
  {
   "cell_type": "markdown",
   "metadata": {},
   "source": [
    "    torch.nn.PoissonNLLLoss(log_input=True, full=False,  eps=1e-08,  reduction='mean')\n",
    "- 功能\n",
    "\n",
    "    泊松分布的负对数似然损失函数\n",
    "\n",
    "- log_input\n",
    "\n",
    "    输入是否为对数形式\n",
    "    \n",
    "- full\n",
    "    \n",
    "    计算所有loss，一般不改变\n",
    "\n",
    "- eps\n",
    "\n",
    "    防止log为NAN\n",
    "\n",
    "- 计算公式\n",
    "\n",
    "    log_input=True:\n",
    "    \n",
    "    $loss(input,target)=exp(input) - target * input$ \n",
    "    \n",
    "    log_input=False:\n",
    "    \n",
    "    $loss(input,target)=input - target * log(input+eps)$"
   ]
  },
  {
   "cell_type": "code",
   "execution_count": 21,
   "metadata": {
    "scrolled": true
   },
   "outputs": [
    {
     "name": "stdout",
     "output_type": "stream",
     "text": [
      "第一个元素loss: tensor(-0.1584)\n",
      "input:tensor([[-1.5419, -1.2423],\n",
      "        [-0.3392, -1.5404]])\n",
      "target:tensor([[-0.2415,  1.2992],\n",
      "        [-0.3380,  0.6951]])\n",
      "Poisson NLL loss:tensor([[-0.1584,  1.9027],\n",
      "        [ 0.5977,  1.2850]])\n"
     ]
    }
   ],
   "source": [
    "# ------------------------------------------------- 8 Poisson NLL Loss ----------------------------------------------\n",
    "\n",
    "inputs = torch.randn((2, 2))\n",
    "target = torch.randn((2, 2))\n",
    "\n",
    "##手动实现\n",
    "idx = 0\n",
    "\n",
    "loss_1 = torch.exp(inputs[idx, idx]) - target[idx, idx] * inputs[idx, idx]\n",
    "\n",
    "print(\"第一个元素loss:\", loss_1)\n",
    "\n",
    "##pytorch框架实现\n",
    "loss_f = nn.PoissonNLLLoss(log_input=True, full=False, reduction='none')\n",
    "loss = loss_f(inputs, target)\n",
    "print(\"input:{}\\ntarget:{}\\nPoisson NLL loss:{}\".format(inputs, target, loss))"
   ]
  },
  {
   "cell_type": "code",
   "execution_count": null,
   "metadata": {
    "collapsed": true
   },
   "outputs": [],
   "source": []
  },
  {
   "cell_type": "markdown",
   "metadata": {},
   "source": [
    "    torch.nn.KLDivLoss(reduction='mean')\n",
    "\n",
    "- 功能\n",
    "\n",
    "    计算 input 和 target 之间的 KL 散度\n",
    "    \n",
    "- 计算公式\n",
    "\n",
    "    需要要提前对输入取nn.logsoftmax($x_n$)\n",
    "    \n",
    "    $$l_n=y_n*(logy_n-x_n)$$\n",
    "\n",
    "- reduction\n",
    "\n",
    "    注意reduction中的batchmean，表示以batchsize为总量求取均值"
   ]
  },
  {
   "cell_type": "code",
   "execution_count": 23,
   "metadata": {},
   "outputs": [
    {
     "name": "stdout",
     "output_type": "stream",
     "text": [
      "第一个元素loss: tensor(-0.5448)\n",
      "loss_none:\n",
      "tensor([[-0.5448, -0.1648, -0.1598],\n",
      "        [-0.2503, -0.4597, -0.4219]])\n",
      "loss_mean:\n",
      "-0.3335360288619995\n",
      "loss_bs_mean:\n",
      "-1.0006080865859985\n"
     ]
    },
    {
     "name": "stderr",
     "output_type": "stream",
     "text": [
      "C:\\Anaconda3\\lib\\site-packages\\torch\\nn\\functional.py:1932: UserWarning: reduction: 'mean' divides the total loss by both the batch size and the support size.'batchmean' divides only by the batch size, and aligns with the KL div math definition.'mean' will be changed to behave the same as 'batchmean' in the next major release.\n",
      "  warnings.warn(\"reduction: 'mean' divides the total loss by both the batch size and the support size.\"\n"
     ]
    }
   ],
   "source": [
    "# ------------------------------------------------- 9 KL Divergence Loss ----------------\n",
    "\n",
    "inputs = torch.tensor([[0.5, 0.3, 0.2], [0.2, 0.3, 0.5]])\n",
    "inputs_log = torch.log(inputs)  ##log输入\n",
    "target = torch.tensor([[0.9, 0.05, 0.05], [0.1, 0.7, 0.2]], dtype=torch.float)\n",
    "\n",
    "#手动实现\n",
    "idx = 0\n",
    "loss_1 = target[idx, idx] * (torch.log(target[idx, idx]) - inputs[idx, idx])\n",
    "print(\"第一个元素loss:\", loss_1)\n",
    "\n",
    "#pytorch框架\n",
    "loss_f_none = nn.KLDivLoss(reduction='none')\n",
    "loss_f_mean = nn.KLDivLoss(reduction='mean')\n",
    "loss_f_bs_mean = nn.KLDivLoss(reduction='batchmean')\n",
    "\n",
    "loss_none = loss_f_none(inputs, target)\n",
    "loss_mean = loss_f_mean(inputs, target)\n",
    "loss_bs_mean = loss_f_bs_mean(inputs, target)\n",
    "\n",
    "print(\"loss_none:\\n{}\\nloss_mean:\\n{}\\nloss_bs_mean:\\n{}\".format(\n",
    "    loss_none, loss_mean, loss_bs_mean))"
   ]
  },
  {
   "cell_type": "code",
   "execution_count": null,
   "metadata": {
    "collapsed": true
   },
   "outputs": [],
   "source": []
  },
  {
   "cell_type": "markdown",
   "metadata": {},
   "source": [
    "    torch.nn.MarginRankingLoss(margin=0.0, reduction='mean')\n",
    " \n",
    "- 功能\n",
    "\n",
    "    比较两个向量的相似度，然后进行排序\n",
    "\n",
    "- margin\n",
    "\n",
    "    边界值，x1和x2的差异值\n",
    "    \n",
    "- 计算公式\n",
    "\n",
    "    $$loss(x,y)=max(0,-y*(x_1-x_2)+margin)$$\n",
    "    \n",
    "    - 公式分析：\n",
    "    - y=1时，希望$x_1$比$x_2$大，$x_1>x_2$,loss为0\n",
    "    - y=-1时，希望$x_1$比$x_2$小，$x_1<x_2$,loss为0\n"
   ]
  },
  {
   "cell_type": "code",
   "execution_count": 24,
   "metadata": {},
   "outputs": [
    {
     "name": "stdout",
     "output_type": "stream",
     "text": [
      "tensor([[1., 1., 0.],\n",
      "        [0., 0., 0.],\n",
      "        [0., 0., 1.]])\n"
     ]
    }
   ],
   "source": [
    "# ---------------------------------------------- 10 Margin Ranking Loss -----------------------------------------\n",
    "\n",
    "x1 = torch.tensor([[1], [2], [3]], dtype=torch.float)\n",
    "x2 = torch.tensor([[2], [2], [2]], dtype=torch.float)\n",
    "\n",
    "target = torch.tensor([1, 1, -1], dtype=torch.float)\n",
    "\n",
    "loss_f_none = nn.MarginRankingLoss(margin=0, reduction='none')\n",
    "\n",
    "loss = loss_f_none(x1, x2, target)\n",
    "\n",
    "print(loss)"
   ]
  },
  {
   "cell_type": "code",
   "execution_count": null,
   "metadata": {
    "collapsed": true
   },
   "outputs": [],
   "source": []
  },
  {
   "cell_type": "markdown",
   "metadata": {},
   "source": [
    "    torch.nn.MultiLabelMarginLoss(reduction='mean')\n",
    "\n",
    "- 功能\n",
    "\n",
    "    多标签边界损失函数\n",
    "    \n",
    "- 计算公式\n",
    "\n",
    "    $$loss(x,y)=\\sum{_i}{_j}\\frac {max(0,1-(x[y[j]]-x[i]))}{x.size(0)}$$"
   ]
  },
  {
   "cell_type": "code",
   "execution_count": 28,
   "metadata": {},
   "outputs": [
    {
     "name": "stdout",
     "output_type": "stream",
     "text": [
      "tensor([0.8500])\n",
      "tensor([0.1000, 0.2000, 0.4000, 0.8000])\n",
      "tensor(0.8500)\n"
     ]
    }
   ],
   "source": [
    "# ---------------------------------------------- 11 Multi Label Margin Loss ---------------------\n",
    "\n",
    "x = torch.tensor([[0.1, 0.2, 0.4, 0.8]])\n",
    "y = torch.tensor([[0, 3, -1, -1]], dtype=torch.long)\n",
    "\n",
    "##pytorch框架\n",
    "loss_f = nn.MultiLabelMarginLoss(reduction='none')\n",
    "loss = loss_f(x, y)\n",
    "print(loss)\n",
    "\n",
    "\n",
    "##公式实现\n",
    "\n",
    "x = x[0]\n",
    "print(x)\n",
    "item_1 = (1 - (x[0] - x[1])) + (1 - (x[0] - x[2]))  # [0]\n",
    "item_2 = (1 - (x[3] - x[1])) + (1 - (x[3] - x[2]))  # [3]\n",
    "loss_h = (item_1 + item_2) / x.shape[0]\n",
    "print(loss_h)"
   ]
  },
  {
   "cell_type": "code",
   "execution_count": null,
   "metadata": {
    "collapsed": true
   },
   "outputs": [],
   "source": []
  },
  {
   "cell_type": "markdown",
   "metadata": {},
   "source": [
    "    torch.nn.SoftMarginLoss(reduction='mean')\n",
    "\n",
    "- 功能\n",
    "    \n",
    "    计算二分类的逻辑斯特损失\n",
    "    \n",
    "- 计算公式\n",
    "\n",
    "    $$loss(x,y)=\\sum_i \\frac {log(1+exp(-y[i]*x[i])}{x.nelement()})$$"
   ]
  },
  {
   "cell_type": "code",
   "execution_count": 30,
   "metadata": {},
   "outputs": [
    {
     "name": "stdout",
     "output_type": "stream",
     "text": [
      "tensor(0.8544)\n",
      "SoftMargin:  tensor([[0.8544, 0.4032],\n",
      "        [0.4741, 0.9741]])\n"
     ]
    }
   ],
   "source": [
    "# ---------------------------------------------- 12 SoftMargin Loss -----------------------------------------\n",
    "\n",
    "inputs = torch.tensor([[0.3, 0.7], [0.5, 0.5]])\n",
    "target = torch.tensor([[-1, 1], [1, -1]], dtype=torch.float)\n",
    "\n",
    "\n",
    "#手动实现\n",
    "idx = 0\n",
    "inputs_i = inputs[idx, idx]\n",
    "target_i = target[idx, idx]\n",
    "loss_h = np.log(1 + np.exp(-target_i * inputs_i))\n",
    "print(loss_h)\n",
    "\n",
    "##pytorch框架\n",
    "loss_f = nn.SoftMarginLoss(reduction='none')\n",
    "loss = loss_f(inputs, target)\n",
    "print(\"SoftMargin: \", loss)\n"
   ]
  },
  {
   "cell_type": "code",
   "execution_count": null,
   "metadata": {
    "collapsed": true
   },
   "outputs": [],
   "source": []
  },
  {
   "cell_type": "markdown",
   "metadata": {},
   "source": [
    "    torch.nn.MultiLabelSoftMarginLoss(weight=None, reduction='mean')\n",
    "    \n",
    "- 功能\n",
    "\n",
    "    SoftMarginLoss的多标签版本\n",
    "\n",
    "- 计算公式\n",
    "\n",
    "    $$loss(x,y)=-\\frac 1C \\sum_i y[i]*log(1+exp(-x[i])^-1)+(1-y[i])*log(\\frac {exp(-x[i])}{1+exp(-x[i])})$$"
   ]
  },
  {
   "cell_type": "code",
   "execution_count": 33,
   "metadata": {},
   "outputs": [
    {
     "name": "stdout",
     "output_type": "stream",
     "text": [
      "tensor(0.5429)\n",
      "MultiLabel SoftMargin:  tensor([0.5429])\n"
     ]
    }
   ],
   "source": [
    "# ---------------------------------------------- 13 MultiLabel SoftMargin Loss ---------------------------------\n",
    "\n",
    "##手动实现\n",
    "inputs = torch.tensor([[0.3, 0.7, 0.8]])\n",
    "target = torch.tensor([[0, 1, 1]], dtype=torch.float)\n",
    "\n",
    "i_0 = torch.log(torch.exp(-inputs[0, 0]) / (1 + torch.exp(-inputs[0, 0])))\n",
    "i_1 = torch.log(1 / (1 + torch.exp(-inputs[0, 1])))\n",
    "i_2 = torch.log(1 / (1 + torch.exp(-inputs[0, 2])))\n",
    "loss_h = (i_0 + i_1 + i_2) / -3\n",
    "print(loss_h)\n",
    "\n",
    "#pytorch 框架\n",
    "loss_f = nn.MultiLabelSoftMarginLoss(reduction='none')\n",
    "loss = loss_f(inputs, target)\n",
    "print(\"MultiLabel SoftMargin: \", loss)"
   ]
  },
  {
   "cell_type": "code",
   "execution_count": null,
   "metadata": {
    "collapsed": true
   },
   "outputs": [],
   "source": []
  },
  {
   "cell_type": "markdown",
   "metadata": {},
   "source": [
    "    torch.nn.MultiMarginLoss(p=1, margin=1.0, weight=None,  reduction='mean')\n",
    "\n",
    "- 功能\n",
    "\n",
    "    计算多分类的合页损失\n",
    "\n",
    "- 计算公式\n",
    "\n",
    "    $$loss(x,y)=\\frac {\\sum_i max(0,w[y]*(margin-x[y]+x[i])^p)}{x.size(0)}$$"
   ]
  },
  {
   "cell_type": "code",
   "execution_count": 34,
   "metadata": {},
   "outputs": [
    {
     "name": "stdout",
     "output_type": "stream",
     "text": [
      "Multi Margin Loss:  tensor([0.8000, 0.7000])\n",
      "tensor(0.8000)\n"
     ]
    }
   ],
   "source": [
    "# ---------------------------------------------- 14 Multi Margin Loss -----------------------------------------\n",
    "\n",
    "x = torch.tensor([[0.1, 0.2, 0.7], [0.2, 0.5, 0.3]])\n",
    "y = torch.tensor([1, 2], dtype=torch.long)\n",
    "\n",
    "loss_f = nn.MultiMarginLoss(reduction='none')\n",
    "\n",
    "loss = loss_f(x, y)\n",
    "\n",
    "print(\"Multi Margin Loss: \", loss)\n",
    "\n",
    "# --------------------------------- 手动计算\n",
    "\n",
    "x = x[0]\n",
    "margin = 1\n",
    "i_0 = margin - (x[1] - x[0])\n",
    "# i_1 = margin - (x[1] - x[1])\n",
    "i_2 = margin - (x[1] - x[2])\n",
    "\n",
    "loss_h = (i_0 + i_2) / x.shape[0]\n",
    "\n",
    "print(loss_h)"
   ]
  },
  {
   "cell_type": "code",
   "execution_count": null,
   "metadata": {
    "collapsed": true
   },
   "outputs": [],
   "source": []
  },
  {
   "cell_type": "markdown",
   "metadata": {},
   "source": [
    "    torch.nn.TripletMarginLoss(margin=1.0, p=2.0, eps=1e-06, swap=False, reduction='mean')\n",
    "\n",
    "- 功能\n",
    "\n",
    "    计算三元组损失，常用于人脸验证\n",
    "\n",
    "- 计算公式\n",
    "\n",
    "    $$L(a,p,n)=max\\{d(a_i,p_i)-d(a_i,n_i)+margin,0\\}$$\n",
    "    \n",
    "    $$d(x_i,y_i)=|x_i-y_i|_p$$\n",
    "    \n",
    "![](./img/trip.png)"
   ]
  },
  {
   "cell_type": "code",
   "execution_count": 35,
   "metadata": {},
   "outputs": [
    {
     "name": "stdout",
     "output_type": "stream",
     "text": [
      "Triplet Margin Loss tensor(1.5000)\n",
      "tensor([1.5000])\n"
     ]
    }
   ],
   "source": [
    "# ---------------------------------------------- 15 Triplet Margin Loss -----------------------------------------\n",
    "\n",
    "anchor = torch.tensor([[1.]])\n",
    "pos = torch.tensor([[2.]])\n",
    "neg = torch.tensor([[0.5]])\n",
    "\n",
    "loss_f = nn.TripletMarginLoss(margin=1.0, p=1)\n",
    "\n",
    "loss = loss_f(anchor, pos, neg)\n",
    "\n",
    "print(\"Triplet Margin Loss\", loss)\n",
    "\n",
    "# --------------------------------- compute by hand\n",
    "margin = 1\n",
    "a, p, n = anchor[0], pos[0], neg[0]\n",
    "\n",
    "d_ap = torch.abs(a-p)\n",
    "d_an = torch.abs(a-n)\n",
    "loss = d_ap - d_an + margin\n",
    "print(loss)"
   ]
  },
  {
   "cell_type": "code",
   "execution_count": null,
   "metadata": {
    "collapsed": true
   },
   "outputs": [],
   "source": []
  },
  {
   "cell_type": "markdown",
   "metadata": {},
   "source": [
    "    torch.nn.HingeEmbeddingLoss(margin=1.0,  reduction='mean')\n",
    "\n",
    "- 功能\n",
    "    \n",
    "    计算两个输入的相似性，常用语非线性embedding和半监督学习\n",
    "    \n",
    "    注意：\n",
    "    输入x为两个输入之差的绝对值\n",
    "    \n",
    "$$\n",
    "l_n=\n",
    "\\begin{cases}\n",
    "x_n, &if\\ y_n = 1\\\\\n",
    "max(0,margin-x_n), &if\\  y_n = -1\n",
    "\\end{cases}\n",
    "$$\n",
    "    \n"
   ]
  },
  {
   "cell_type": "code",
   "execution_count": 36,
   "metadata": {},
   "outputs": [
    {
     "name": "stdout",
     "output_type": "stream",
     "text": [
      "Hinge Embedding Loss tensor([[1.0000, 0.8000, 0.5000]])\n",
      "0.5\n"
     ]
    }
   ],
   "source": [
    "# ---------------------------------------------- 16 Hinge Embedding Loss -----------------------------------------\n",
    "\n",
    "inputs = torch.tensor([[1., 0.8, 0.5]])\n",
    "target = torch.tensor([[1, 1, -1]])\n",
    "\n",
    "loss_f = nn.HingeEmbeddingLoss(margin=1, reduction='none')\n",
    "\n",
    "loss = loss_f(inputs, target)\n",
    "\n",
    "print(\"Hinge Embedding Loss\", loss)\n",
    "\n",
    "# --------------------------------- compute by hand\n",
    "\n",
    "margin = 1.\n",
    "loss = max(0, margin - inputs.numpy()[0, 2])\n",
    "print(loss)"
   ]
  },
  {
   "cell_type": "code",
   "execution_count": null,
   "metadata": {
    "collapsed": true
   },
   "outputs": [],
   "source": []
  },
  {
   "cell_type": "markdown",
   "metadata": {},
   "source": [
    "    torch.nn.CosineEmbeddingLoss(margin=0.0, reduction='mean')\n",
    "\n",
    "- 功能\n",
    "\n",
    "    采用余弦相似度计算两个输入的相似性\n",
    "\n",
    "- 计算公式\n",
    "\n",
    "    $$\n",
    "loss(x,y)=\n",
    "\\begin{cases}\n",
    "1-cos(x_1,x_2), &if\\ y = 1\\\\\n",
    "max(0,cos(x_1,x_2)-margin), &if\\  y = -1\n",
    "\\end{cases}\n",
    "$$\n",
    "    "
   ]
  },
  {
   "cell_type": "code",
   "execution_count": 37,
   "metadata": {},
   "outputs": [
    {
     "name": "stdout",
     "output_type": "stream",
     "text": [
      "Cosine Embedding Loss tensor([[0.0167, 0.9833]])\n",
      "0.016662120819091797 0.9833378791809082\n"
     ]
    }
   ],
   "source": [
    "# ---------------------------------------------- 17 Cosine Embedding Loss -----------------------------------------\n",
    "\n",
    "x1 = torch.tensor([[0.3, 0.5, 0.7], [0.3, 0.5, 0.7]])\n",
    "x2 = torch.tensor([[0.1, 0.3, 0.5], [0.1, 0.3, 0.5]])\n",
    "\n",
    "target = torch.tensor([[1, -1]], dtype=torch.float)\n",
    "\n",
    "loss_f = nn.CosineEmbeddingLoss(margin=0., reduction='none')\n",
    "\n",
    "loss = loss_f(x1, x2, target)\n",
    "\n",
    "print(\"Cosine Embedding Loss\", loss)\n",
    "\n",
    "# --------------------------------- compute by hand\n",
    "\n",
    "margin = 0.\n",
    "\n",
    "def cosine(a, b):\n",
    "    numerator = torch.dot(a, b)\n",
    "    denominator = torch.norm(a, 2) * torch.norm(b, 2)\n",
    "    return float(numerator/denominator)\n",
    "\n",
    "l_1 = 1 - (cosine(x1[0], x2[0]))\n",
    "\n",
    "l_2 = max(0, cosine(x1[0], x2[0]))\n",
    "print(l_1, l_2)"
   ]
  },
  {
   "cell_type": "code",
   "execution_count": null,
   "metadata": {
    "collapsed": true
   },
   "outputs": [],
   "source": []
  },
  {
   "cell_type": "markdown",
   "metadata": {},
   "source": [
    "    torch.nn.CTCLoss(blank=0, reduction='mean',zero_infinity=False)\n",
    "\n",
    "- 功能\n",
    "\n",
    "    解决时序数据的分类\n",
    "    \n",
    "- blank\n",
    "\n",
    "    标签\n",
    "\n",
    "- zero_infinity\n",
    "\n",
    "    无穷大的值或梯度置为0"
   ]
  },
  {
   "cell_type": "code",
   "execution_count": 38,
   "metadata": {},
   "outputs": [
    {
     "name": "stdout",
     "output_type": "stream",
     "text": [
      "CTC loss:  tensor(6.6590, grad_fn=<MeanBackward0>)\n"
     ]
    }
   ],
   "source": [
    "# ---------------------------------------------- 18 CTC Loss -----------------------------------------\n",
    "\n",
    "T = 50      # Input sequence length\n",
    "C = 20      # Number of classes (including blank)\n",
    "N = 16      # Batch size\n",
    "S = 30      # Target sequence length of longest target in batch\n",
    "S_min = 10  # Minimum target length, for demonstration purposes\n",
    "\n",
    "# Initialize random batch of input vectors, for *size = (T,N,C)\n",
    "inputs = torch.randn(T, N, C).log_softmax(2).detach().requires_grad_()\n",
    "\n",
    "# Initialize random batch of targets (0 = blank, 1:C = classes)\n",
    "target = torch.randint(low=1, high=C, size=(N, S), dtype=torch.long)\n",
    "\n",
    "input_lengths = torch.full(size=(N,), fill_value=T, dtype=torch.long)\n",
    "target_lengths = torch.randint(low=S_min, high=S, size=(N,), dtype=torch.long)\n",
    "\n",
    "ctc_loss = nn.CTCLoss()\n",
    "loss = ctc_loss(inputs, target, input_lengths, target_lengths)\n",
    "\n",
    "print(\"CTC loss: \", loss)"
   ]
  },
  {
   "cell_type": "code",
   "execution_count": null,
   "metadata": {
    "collapsed": true
   },
   "outputs": [],
   "source": []
  }
 ],
 "metadata": {
  "anaconda-cloud": {},
  "kernelspec": {
   "display_name": "Python 3",
   "language": "python",
   "name": "python3"
  },
  "language_info": {
   "codemirror_mode": {
    "name": "ipython",
    "version": 3
   },
   "file_extension": ".py",
   "mimetype": "text/x-python",
   "name": "python",
   "nbconvert_exporter": "python",
   "pygments_lexer": "ipython3",
   "version": "3.7.0"
  }
 },
 "nbformat": 4,
 "nbformat_minor": 1
}
