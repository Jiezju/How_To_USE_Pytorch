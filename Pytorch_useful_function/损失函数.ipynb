{
 "cells": [
  {
   "cell_type": "code",
   "execution_count": 4,
   "metadata": {
    "ExecuteTime": {
     "end_time": "2020-04-13T09:49:12.708608Z",
     "start_time": "2020-04-13T09:49:12.704638Z"
    }
   },
   "outputs": [],
   "source": [
    "import torch\n",
    "import torch.nn as nn\n",
    "import numpy as np"
   ]
  },
  {
   "cell_type": "markdown",
   "metadata": {},
   "source": [
    "### L1loss"
   ]
  },
  {
   "cell_type": "code",
   "execution_count": 4,
   "metadata": {
    "ExecuteTime": {
     "end_time": "2020-04-12T13:25:58.012539Z",
     "start_time": "2020-04-12T13:25:57.998579Z"
    }
   },
   "outputs": [
    {
     "name": "stdout",
     "output_type": "stream",
     "text": [
      "\n",
      "reduce=False, 输出同维度的loss:\n",
      "tensor([[0.5000, 0.5000],\n",
      "        [0.5000, 0.5000]], grad_fn=<L1LossBackward>)\n",
      "\n",
      "size_average=True，\t求平均:\t0.5\n",
      "size_average=False，\t求和:\t2.0\n"
     ]
    }
   ],
   "source": [
    "# ----------------------------------- L1 Loss\n",
    "\n",
    "# 生成网络输出 以及 目标输出\n",
    "output = torch.ones(2, 2, requires_grad=True) * 0.5\n",
    "target = torch.ones(2, 2)\n",
    "\n",
    "# 设置三种不同参数的L1Loss\n",
    "reduce_False = nn.L1Loss(reduction='none')\n",
    "size_average_True = nn.L1Loss(reduction='mean')\n",
    "size_average_False = nn.L1Loss(reduction='sum')\n",
    "\n",
    "o_0 = reduce_False(output, target)\n",
    "o_1 = size_average_True(output, target)\n",
    "o_2 = size_average_False(output, target)\n",
    "\n",
    "print('\\nreduce=False, 输出同维度的loss:\\n{}\\n'.format(o_0))\n",
    "print('size_average=True，\\t求平均:\\t{}'.format(o_1))\n",
    "print('size_average=False，\\t求和:\\t{}'.format(o_2))"
   ]
  },
  {
   "cell_type": "markdown",
   "metadata": {},
   "source": [
    "### MSELoss"
   ]
  },
  {
   "cell_type": "code",
   "execution_count": 2,
   "metadata": {
    "ExecuteTime": {
     "end_time": "2020-04-13T09:42:44.580639Z",
     "start_time": "2020-04-13T09:42:43.588508Z"
    }
   },
   "outputs": [
    {
     "name": "stdout",
     "output_type": "stream",
     "text": [
      "\n",
      "reduce=False, 输出同维度的loss:\n",
      "tensor([[0.2500, 0.2500],\n",
      "        [0.2500, 0.2500]], grad_fn=<MseLossBackward>)\n",
      "\n",
      "size_average=True，\t求平均:\t0.25\n",
      "size_average=False，\t求和:\t1.0\n"
     ]
    }
   ],
   "source": [
    "# 生成网络输出 以及 目标输出\n",
    "output = torch.ones(2, 2, requires_grad=True) * 0.5\n",
    "target = torch.ones(2, 2)\n",
    "\n",
    "# 设置三种不同参数的L1Loss\n",
    "reduce_False = nn.MSELoss(reduction='none')\n",
    "size_average_True = nn.MSELoss(reduction='mean')\n",
    "size_average_False = nn.MSELoss(reduction='sum')\n",
    "\n",
    "o_0 = reduce_False(output, target)\n",
    "o_1 = size_average_True(output, target)\n",
    "o_2 = size_average_False(output, target)\n",
    "\n",
    "print('\\nreduce=False, 输出同维度的loss:\\n{}\\n'.format(o_0))\n",
    "print('size_average=True，\\t求平均:\\t{}'.format(o_1))\n",
    "print('size_average=False，\\t求和:\\t{}'.format(o_2))"
   ]
  },
  {
   "cell_type": "markdown",
   "metadata": {},
   "source": [
    "### CrossEntropyLoss"
   ]
  },
  {
   "cell_type": "code",
   "execution_count": 6,
   "metadata": {
    "ExecuteTime": {
     "end_time": "2020-04-13T09:49:46.136189Z",
     "start_time": "2020-04-13T09:49:45.989151Z"
    }
   },
   "outputs": [
    {
     "name": "stdout",
     "output_type": "stream",
     "text": [
      "--------------------------------------------------- CrossEntropy loss: base\n",
      "loss:  tensor([1.0986, 1.0986], grad_fn=<NllLossBackward>)\n",
      "由于reduce=False，所以可以看到每一个样本的loss，输出为[1.0986, 1.0986]\n"
     ]
    }
   ],
   "source": [
    "# ----------------------------------- CrossEntropy loss: base\n",
    "\n",
    "loss_f = nn.CrossEntropyLoss(reduction='none')\n",
    "# 生成网络输出 以及 目标输出\n",
    "output = torch.ones(2, 3, requires_grad=True) * 0.5      # 假设一个三分类任务，batchsize=2，假设每个神经元输出都为0.5\n",
    "target = torch.from_numpy(np.array([0, 1])).type(torch.LongTensor)\n",
    "\n",
    "loss = loss_f(output, target)\n",
    "\n",
    "print('--------------------------------------------------- CrossEntropy loss: base')\n",
    "print('loss: ', loss)\n",
    "print('由于reduce=False，所以可以看到每一个样本的loss，输出为[1.0986, 1.0986]')"
   ]
  },
  {
   "cell_type": "code",
   "execution_count": 9,
   "metadata": {
    "ExecuteTime": {
     "end_time": "2020-04-13T09:51:34.911096Z",
     "start_time": "2020-04-13T09:51:34.894141Z"
    }
   },
   "outputs": [
    {
     "name": "stdout",
     "output_type": "stream",
     "text": [
      "--------------------------------------------------- CrossEntropy loss: weight\n",
      "loss:  tensor([0.6592, 0.2197], grad_fn=<NllLossBackward>)\n",
      "原始loss值为1.0986, 第一个样本是第0类，weight=0.6,所以输出为1.0986*0.6 = 0.65916\n"
     ]
    }
   ],
   "source": [
    "# ----------------------------------- CrossEntropy loss: weight参数\n",
    "'''\n",
    "weight(Tensor)- 为每个类别的 loss 设置权值，常用于类别不均衡问题。weight 必须是 float类型的 tensor，其长度要于类别 C 一致，\n",
    "即每一个类别都要设置有 weight。\n",
    "'''\n",
    "weight = torch.from_numpy(np.array([0.6, 0.2, 0.2])).float()\n",
    "loss_f = nn.CrossEntropyLoss(weight=weight, reduction='none')\n",
    "output = torch.ones(2, 3, requires_grad=True) * 0.5  # 假设一个三分类任务，batchsize为2个，假设每个神经元输出都为0.5\n",
    "target = torch.from_numpy(np.array([0, 1])).type(torch.LongTensor)\n",
    "loss = loss_f(output, target)\n",
    "print('--------------------------------------------------- CrossEntropy loss: weight')\n",
    "print('loss: ', loss)  #\n",
    "print('原始loss值为1.0986, 第一个样本是第0类，weight=0.6,所以输出为1.0986*0.6 =', 1.0986*0.6)"
   ]
  },
  {
   "cell_type": "code",
   "execution_count": 10,
   "metadata": {
    "ExecuteTime": {
     "end_time": "2020-04-13T09:54:54.260686Z",
     "start_time": "2020-04-13T09:54:54.241736Z"
    }
   },
   "outputs": [
    {
     "name": "stdout",
     "output_type": "stream",
     "text": [
      "\n",
      "\n",
      "--------------------------------------------------- CrossEntropy loss: ignore_index\n",
      "ignore_index = 1:  tensor([1.0986, 0.0000, 1.0986], grad_fn=<NllLossBackward>)\n",
      "ignore_index = 2:  tensor([1.0986, 1.0986, 0.0000], grad_fn=<NllLossBackward>)\n"
     ]
    }
   ],
   "source": [
    "# ----------------------------------- CrossEntropy loss: ignore_index\n",
    "'''\n",
    "gnore_index(int)- 忽略某一类别，不计算其 loss，其 loss 会为 0\n",
    "'''\n",
    "\n",
    "loss_f_1 = nn.CrossEntropyLoss(weight=None, reduction='none', ignore_index=1)\n",
    "loss_f_2 = nn.CrossEntropyLoss(weight=None, reduction='none', ignore_index=2)\n",
    "\n",
    "output = torch.ones(3, 3, requires_grad=True) * 0.5  # 假设一个三分类任务，batchsize为2个，假设每个神经元输出都为0.5\n",
    "target = torch.from_numpy(np.array([0, 1, 2])).type(torch.LongTensor)\n",
    "\n",
    "loss_1 = loss_f_1(output, target)\n",
    "loss_2 = loss_f_2(output, target)\n",
    "\n",
    "print('\\n\\n--------------------------------------------------- CrossEntropy loss: ignore_index')\n",
    "print('ignore_index = 1: ', loss_1)     # 类别为1的样本的loss为0\n",
    "print('ignore_index = 2: ', loss_2)     # 类别为2的样本的loss为0"
   ]
  },
  {
   "cell_type": "markdown",
   "metadata": {},
   "source": [
    "### KLDivLoss\n",
    "\n",
    "- 计算 input 和 target 之间的 KL 散度"
   ]
  },
  {
   "cell_type": "code",
   "execution_count": 11,
   "metadata": {
    "ExecuteTime": {
     "end_time": "2020-04-13T09:57:33.269290Z",
     "start_time": "2020-04-13T09:57:33.121679Z"
    }
   },
   "outputs": [
    {
     "name": "stderr",
     "output_type": "stream",
     "text": [
      "D:\\Anaconda3\\lib\\site-packages\\torch\\nn\\functional.py:1958: UserWarning: reduction: 'mean' divides the total loss by both the batch size and the support size.'batchmean' divides only by the batch size, and aligns with the KL div math definition.'mean' will be changed to behave the same as 'batchmean' in the next major release.\n",
      "  warnings.warn(\"reduction: 'mean' divides the total loss by both the batch size and the support size.\"\n"
     ]
    },
    {
     "name": "stdout",
     "output_type": "stream",
     "text": [
      "\n",
      "loss:  tensor([[-0.2314, -0.1800, -0.2553]], grad_fn=<KlDivBackward>)\n",
      "\n",
      "loss_mean:  tensor(-0.2222, grad_fn=<KlDivBackward>)\n"
     ]
    }
   ],
   "source": [
    "# -----------------------------------  KLDiv loss\n",
    "\n",
    "loss_f = nn.KLDivLoss(reduction='none')\n",
    "loss_f_mean = nn.KLDivLoss(reduction='mean')\n",
    "\n",
    "# 生成网络输出 以及 目标输出\n",
    "output = torch.from_numpy(np.array([[0.1132, 0.5477, 0.3390]])).float()\n",
    "output.requires_grad = True\n",
    "target = torch.from_numpy(np.array([[0.8541, 0.0511, 0.0947]])).float()\n",
    "\n",
    "loss_1 = loss_f(output, target)\n",
    "loss_mean = loss_f_mean(output, target)\n",
    "\n",
    "print('\\nloss: ', loss_1)\n",
    "print('\\nloss_mean: ', loss_mean)"
   ]
  },
  {
   "cell_type": "code",
   "execution_count": null,
   "metadata": {},
   "outputs": [],
   "source": []
  }
 ],
 "metadata": {
  "kernelspec": {
   "display_name": "Python 3",
   "language": "python",
   "name": "python3"
  },
  "language_info": {
   "codemirror_mode": {
    "name": "ipython",
    "version": 3
   },
   "file_extension": ".py",
   "mimetype": "text/x-python",
   "name": "python",
   "nbconvert_exporter": "python",
   "pygments_lexer": "ipython3",
   "version": "3.7.0"
  }
 },
 "nbformat": 4,
 "nbformat_minor": 2
}
