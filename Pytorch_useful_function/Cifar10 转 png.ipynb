{
 "cells": [
  {
   "cell_type": "markdown",
   "metadata": {},
   "source": [
    "### Cifar10 转 png\n",
    "**程序功能：将cifar10的data_batch_12345 转换成 png格式的图片每个类别单独存放在一个文件夹，文件夹名称为0-9**"
   ]
  },
  {
   "cell_type": "code",
   "execution_count": 4,
   "metadata": {
    "ExecuteTime": {
     "end_time": "2020-04-08T13:00:06.356366Z",
     "start_time": "2020-04-08T13:00:06.352348Z"
    }
   },
   "outputs": [],
   "source": [
    "from imageio import imsave\n",
    "import numpy as np\n",
    "import os\n",
    "import pickle"
   ]
  },
  {
   "cell_type": "code",
   "execution_count": 13,
   "metadata": {
    "ExecuteTime": {
     "end_time": "2020-04-08T13:37:46.279851Z",
     "start_time": "2020-04-08T13:37:46.273865Z"
    }
   },
   "outputs": [],
   "source": [
    "data_dir = os.path.join(\".\",  \"Data\", \"cifar-10-batches-py\")\n",
    "train_o_dir = os.path.join(\".\",  \"Data\", \"cifar-10-png\", \"raw_train\")\n",
    "test_o_dir = os.path.join(\".\",  \"Data\", \"cifar-10-png\", \"raw_test\")"
   ]
  },
  {
   "cell_type": "code",
   "execution_count": 14,
   "metadata": {
    "ExecuteTime": {
     "end_time": "2020-04-08T13:37:46.699736Z",
     "start_time": "2020-04-08T13:37:46.695720Z"
    }
   },
   "outputs": [
    {
     "data": {
      "text/plain": [
       "'.\\\\Data\\\\cifar-10-batches-py'"
      ]
     },
     "execution_count": 14,
     "metadata": {},
     "output_type": "execute_result"
    }
   ],
   "source": [
    "data_dir"
   ]
  },
  {
   "cell_type": "code",
   "execution_count": 15,
   "metadata": {
    "ExecuteTime": {
     "end_time": "2020-04-08T13:37:50.561655Z",
     "start_time": "2020-04-08T13:37:50.557638Z"
    }
   },
   "outputs": [],
   "source": [
    "Train = False  # 不解压训练集，仅解压测试集\n",
    "\n",
    "\n",
    "# 解压缩，返回解压后的字典\n",
    "def unpickle(file):\n",
    "    with open(file, 'rb') as fo:\n",
    "        dict_ = pickle.load(fo, encoding='bytes')\n",
    "    return dict_\n",
    "\n",
    "# 创建本地文件夹\n",
    "def my_mkdir(my_dir):\n",
    "    if not os.path.isdir(my_dir):\n",
    "        os.makedirs(my_dir)"
   ]
  },
  {
   "cell_type": "code",
   "execution_count": 16,
   "metadata": {
    "ExecuteTime": {
     "end_time": "2020-04-08T13:38:05.017268Z",
     "start_time": "2020-04-08T13:37:50.942903Z"
    }
   },
   "outputs": [
    {
     "name": "stdout",
     "output_type": "stream",
     "text": [
      "test_batch is loading...\n",
      "test_batch loaded.\n"
     ]
    }
   ],
   "source": [
    "if Train:\n",
    "    for j in range(1, 6):\n",
    "        data_path = os.path.join(data_dir, \"data_batch_\" + str(j))  # data_batch_12345\n",
    "        train_data = unpickle(data_path)\n",
    "        print(data_path + \" is loading...\")\n",
    "\n",
    "        for i in range(0, 10000):\n",
    "            img = np.reshape(train_data[b'data'][i], (3, 32, 32))\n",
    "            img = img.transpose(1, 2, 0)\n",
    "\n",
    "            label_num = str(train_data[b'labels'][i])\n",
    "            o_dir = os.path.join(train_o_dir, label_num)\n",
    "            my_mkdir(o_dir)\n",
    "\n",
    "            img_name = label_num + '_' + str(i + (j - 1) * 10000) + '.png'\n",
    "            img_path = os.path.join(o_dir, img_name)\n",
    "            imsave(img_path, img)\n",
    "        print(data_path + \" loaded.\")\n",
    "\n",
    "print(\"test_batch is loading...\")\n",
    "\n",
    "# 生成测试集图片\n",
    "test_data_path = os.path.join(data_dir, \"test_batch\")\n",
    "test_data = unpickle(test_data_path)\n",
    "for i in range(0, 10000):\n",
    "    img = np.reshape(test_data[b'data'][i], (3, 32, 32))\n",
    "    img = img.transpose(1, 2, 0)\n",
    "\n",
    "    label_num = str(test_data[b'labels'][i])\n",
    "    o_dir = os.path.join(test_o_dir, label_num)\n",
    "    my_mkdir(o_dir)\n",
    "\n",
    "    img_name = label_num + '_' + str(i) + '.png'\n",
    "    img_path = os.path.join(o_dir, img_name)\n",
    "    imsave(img_path, img)\n",
    "print(\"test_batch loaded.\")"
   ]
  },
  {
   "cell_type": "code",
   "execution_count": null,
   "metadata": {},
   "outputs": [],
   "source": []
  }
 ],
 "metadata": {
  "kernelspec": {
   "display_name": "Python 3",
   "language": "python",
   "name": "python3"
  },
  "language_info": {
   "codemirror_mode": {
    "name": "ipython",
    "version": 3
   },
   "file_extension": ".py",
   "mimetype": "text/x-python",
   "name": "python",
   "nbconvert_exporter": "python",
   "pygments_lexer": "ipython3",
   "version": "3.7.0"
  }
 },
 "nbformat": 4,
 "nbformat_minor": 2
}
