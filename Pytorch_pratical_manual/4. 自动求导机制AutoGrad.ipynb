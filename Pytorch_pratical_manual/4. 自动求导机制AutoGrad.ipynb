{
 "cells": [
  {
   "cell_type": "markdown",
   "metadata": {},
   "source": [
    "## Pytorch导数"
   ]
  },
  {
   "cell_type": "markdown",
   "metadata": {},
   "source": [
    "    torch.autograd.backward(tensors, grad_tensors=None, retain_graph=None, create_graph=False, grad_variables=None)\n",
    "\n",
    "- 功能：\n",
    "\n",
    "    自动求取梯度\n",
    "    \n",
    "- tensors (Tensor序列)  \n",
    "\n",
    "    计算导数的张量。\n",
    "\n",
    "- grad_tensors (Tensor 或 None序列) \n",
    "\n",
    "    关于相应张量每个元素的梯度。标量张量或不需要梯度的可用None指定。如果None对所有grad_tensors可接受，则此参数可选。\n",
    "\n",
    "- retain_graph (bool, 可选) \n",
    "    \n",
    "    如果False，用于计算梯度的图将被释放。请注意，在几乎所有情况下，不需要将此选项设置为真，而且通常可以更有效地解决问题。默create_graph值。\n",
    "\n",
    "- create_graph (bool, 可选) \n",
    "\n",
    "    如果True，则构造导数图，以便计算更高阶导数，默认False。"
   ]
  },
  {
   "cell_type": "code",
   "execution_count": 1,
   "metadata": {
    "ExecuteTime": {
     "end_time": "2020-04-19T08:43:51.475873Z",
     "start_time": "2020-04-19T08:43:46.757972Z"
    }
   },
   "outputs": [],
   "source": [
    "import torch"
   ]
  },
  {
   "cell_type": "code",
   "execution_count": 4,
   "metadata": {
    "ExecuteTime": {
     "end_time": "2020-04-18T09:45:37.467523Z",
     "start_time": "2020-04-18T09:45:37.460514Z"
    }
   },
   "outputs": [
    {
     "name": "stdout",
     "output_type": "stream",
     "text": [
      "tensor([5.])\n"
     ]
    }
   ],
   "source": [
    "# ====================================== retain_graph ==============================================\n",
    "\n",
    "w = torch.tensor([1.], requires_grad=True)\n",
    "x = torch.tensor([2.], requires_grad=True)\n",
    "\n",
    "a = torch.add(w, x)\n",
    "b = torch.add(w, 1)\n",
    "y = torch.mul(a, b)\n",
    "\n",
    "#y.backward(retain_graph=True) 1.4 版本其实已经默认了\n",
    "#print(w.grad)\n",
    "y.backward()\n",
    "print(w.grad)"
   ]
  },
  {
   "cell_type": "code",
   "execution_count": 4,
   "metadata": {
    "ExecuteTime": {
     "end_time": "2019-12-28T22:51:54.363153Z",
     "start_time": "2019-12-28T22:51:54.319268Z"
    }
   },
   "outputs": [
    {
     "name": "stdout",
     "output_type": "stream",
     "text": [
      "tensor([9.])\n"
     ]
    }
   ],
   "source": [
    "# ====================================== grad_tensors ==============================================\n",
    "\n",
    "w = torch.tensor([1.], requires_grad=True)\n",
    "x = torch.tensor([2.], requires_grad=True)\n",
    "\n",
    "a = torch.add(w, x)     # retain_grad()\n",
    "b = torch.add(w, 1)\n",
    "\n",
    "y0 = torch.mul(a, b)    # y0 = (x+w) * (w+1)\n",
    "y1 = torch.add(a, b)    # y1 = (x+w) + (w+1)    dy1/dw = 2\n",
    "\n",
    "loss = torch.cat([y0, y1], dim=0)       # [y0, y1] 输出为多维向量的时候\n",
    "grad_tensors = torch.tensor([1., 2.])   # 1* w.grad_y0+2*w.grad_y1\n",
    "\n",
    "loss.backward(gradient=grad_tensors)    # gradient 传入 torch.autograd.backward()中的grad_tensors\n",
    "\n",
    "print(w.grad)"
   ]
  },
  {
   "cell_type": "markdown",
   "metadata": {},
   "source": [
    "    torch.autograd.grad(inputs, grad_outputs=None, retain_graph=None, create_graph=False, only_inputs=True, allow_unused=False)\n",
    "\n",
    "功能：\n",
    "\n",
    "   求取input的梯度\n",
    "    \n",
    "- inputs (Tensor序列) \n",
    "\n",
    "    关于将返回梯度的输入(不累加到.grad)。\n",
    "    \n",
    "- grad_outputs (Tensor序列) \n",
    "\n",
    "    关于每个输入的梯度。标量张量或不需要梯度的可用None指定。如果None对所有grad_tensors可接受，则此参数可选。默认：None。\n",
    "    \n",
    "- retain_graph (bool, 可选) \n",
    "\n",
    "    如果False，用于计算梯度的图将被释放。请注意，在几乎所有情况下，不需要将此选项设置为真，而且通常可以更有效地解决问题。默认为create_graph值。\n",
    "    \n",
    "- create_graph (bool, 可选) \n",
    "\n",
    "    如果True，则构造导数图，以便计算更高阶导数，默认False。\n",
    "\n",
    "- allow_unused (bool, 可选) \n",
    "\n",
    "    如果False, 当计算输出出错时指明不使用的输入 (因此它们的梯度一直是0)。 默认False。"
   ]
  },
  {
   "cell_type": "code",
   "execution_count": 5,
   "metadata": {
    "ExecuteTime": {
     "end_time": "2019-12-28T22:53:38.739330Z",
     "start_time": "2019-12-28T22:53:38.593691Z"
    }
   },
   "outputs": [
    {
     "name": "stdout",
     "output_type": "stream",
     "text": [
      "(tensor([6.], grad_fn=<MulBackward0>),)\n",
      "(tensor([2.]),)\n"
     ]
    }
   ],
   "source": [
    "# ====================================== autograd.gard ==============================================\n",
    "#  二阶导数\n",
    "\n",
    "x = torch.tensor([3.], requires_grad=True)\n",
    "y = torch.pow(x, 2)     # y = x**2\n",
    "\n",
    "grad_1 = torch.autograd.grad(y, x, create_graph=True)   # grad_1 = dy/dx = 2x = 2 * 3 = 6\n",
    "print(grad_1)\n",
    "\n",
    "grad_2 = torch.autograd.grad(grad_1[0], x)              # grad_2 = d(dy/dx)/dx = d(2x)/dx = 2\n",
    "print(grad_2)"
   ]
  },
  {
   "cell_type": "markdown",
   "metadata": {},
   "source": [
    "**注意1**\n",
    "\n",
    "    计算图梯度不会自动清零"
   ]
  },
  {
   "cell_type": "code",
   "execution_count": 10,
   "metadata": {
    "ExecuteTime": {
     "end_time": "2020-04-18T10:37:54.760212Z",
     "start_time": "2020-04-18T10:37:54.646517Z"
    }
   },
   "outputs": [
    {
     "name": "stdout",
     "output_type": "stream",
     "text": [
      "tensor([5.])\n",
      "tensor([5.])\n",
      "tensor([5.])\n",
      "tensor([5.])\n"
     ]
    }
   ],
   "source": [
    "w = torch.tensor([1.], requires_grad=True)\n",
    "x = torch.tensor([2.], requires_grad=True)\n",
    "a = torch.add(w, x)\n",
    "b = torch.add(w, 1)\n",
    "y = torch.mul(a, b)\n",
    "for i in range(4):\n",
    "    y.backward(retain_graph=True)\n",
    "    print(w.grad)\n",
    "\n",
    "    w.grad.zero_()"
   ]
  },
  {
   "cell_type": "code",
   "execution_count": 2,
   "metadata": {
    "ExecuteTime": {
     "end_time": "2020-04-19T08:44:02.244256Z",
     "start_time": "2020-04-19T08:44:01.462658Z"
    }
   },
   "outputs": [
    {
     "name": "stdout",
     "output_type": "stream",
     "text": [
      "tensor([5.])\n",
      "tensor([10.])\n",
      "tensor([15.])\n",
      "tensor([20.])\n"
     ]
    }
   ],
   "source": [
    "w = torch.tensor([1.], requires_grad=True)\n",
    "x = torch.tensor([2.], requires_grad=True)\n",
    "a = torch.add(w, x)\n",
    "b = torch.add(w, 1)\n",
    "y = torch.mul(a, b)\n",
    "for i in range(4):\n",
    "    y.backward(retain_graph=True)\n",
    "    print(w.grad)\n",
    "\n",
    "    #w.grad.zero_()"
   ]
  },
  {
   "cell_type": "markdown",
   "metadata": {},
   "source": [
    "**注意2**\n",
    "\n",
    "    依赖于叶子结点的节点，requires_grad默认为True"
   ]
  },
  {
   "cell_type": "code",
   "execution_count": 6,
   "metadata": {
    "ExecuteTime": {
     "end_time": "2020-04-18T10:35:10.244523Z",
     "start_time": "2020-04-18T10:35:10.232573Z"
    }
   },
   "outputs": [
    {
     "name": "stdout",
     "output_type": "stream",
     "text": [
      "True True True\n"
     ]
    }
   ],
   "source": [
    "w = torch.tensor([1.], requires_grad=True)\n",
    "x = torch.tensor([2.], requires_grad=True)\n",
    "\n",
    "a = torch.add(w, x)\n",
    "b = torch.add(w, 1)\n",
    "y = torch.mul(a, b)\n",
    "\n",
    "print(a.requires_grad, b.requires_grad, y.requires_grad)"
   ]
  },
  {
   "cell_type": "markdown",
   "metadata": {},
   "source": [
    "**注意3**\n",
    "\n",
    "    叶子节点不可执行in_place操作"
   ]
  },
  {
   "cell_type": "code",
   "execution_count": 7,
   "metadata": {
    "ExecuteTime": {
     "end_time": "2020-04-18T10:35:38.038432Z",
     "start_time": "2020-04-18T10:35:37.671749Z"
    }
   },
   "outputs": [
    {
     "name": "stdout",
     "output_type": "stream",
     "text": [
      "1593581905816 tensor([1.])\n",
      "1593581905816 tensor([2.])\n"
     ]
    }
   ],
   "source": [
    "# inplace操作理解\n",
    "a = torch.ones((1, ))\n",
    "print(id(a), a)\n",
    "\n",
    "# a = a + torch.ones((1, )) # 非原地操作\n",
    "# print(id(a), a)\n",
    "\n",
    "a += torch.ones((1, )) # 原地操作\n",
    "print(id(a), a)"
   ]
  },
  {
   "cell_type": "code",
   "execution_count": 8,
   "metadata": {
    "ExecuteTime": {
     "end_time": "2020-04-18T10:36:10.679642Z",
     "start_time": "2020-04-18T10:36:09.477438Z"
    }
   },
   "outputs": [
    {
     "ename": "RuntimeError",
     "evalue": "a leaf Variable that requires grad has been used in an in-place operation.",
     "output_type": "error",
     "traceback": [
      "\u001b[1;31m---------------------------------------------------------------------------\u001b[0m",
      "\u001b[1;31mRuntimeError\u001b[0m                              Traceback (most recent call last)",
      "\u001b[1;32m<ipython-input-8-7e2ec3c17fc3>\u001b[0m in \u001b[0;36m<module>\u001b[1;34m()\u001b[0m\n\u001b[0;32m      6\u001b[0m \u001b[0my\u001b[0m \u001b[1;33m=\u001b[0m \u001b[0mtorch\u001b[0m\u001b[1;33m.\u001b[0m\u001b[0mmul\u001b[0m\u001b[1;33m(\u001b[0m\u001b[0ma\u001b[0m\u001b[1;33m,\u001b[0m \u001b[0mb\u001b[0m\u001b[1;33m)\u001b[0m\u001b[1;33m\u001b[0m\u001b[0m\n\u001b[0;32m      7\u001b[0m \u001b[1;33m\u001b[0m\u001b[0m\n\u001b[1;32m----> 8\u001b[1;33m \u001b[0mw\u001b[0m\u001b[1;33m.\u001b[0m\u001b[0madd_\u001b[0m\u001b[1;33m(\u001b[0m\u001b[1;36m1\u001b[0m\u001b[1;33m)\u001b[0m\u001b[1;33m\u001b[0m\u001b[0m\n\u001b[0m\u001b[0;32m      9\u001b[0m \u001b[1;33m\u001b[0m\u001b[0m\n\u001b[0;32m     10\u001b[0m \u001b[0my\u001b[0m\u001b[1;33m.\u001b[0m\u001b[0mbackward\u001b[0m\u001b[1;33m(\u001b[0m\u001b[1;33m)\u001b[0m\u001b[1;33m\u001b[0m\u001b[0m\n",
      "\u001b[1;31mRuntimeError\u001b[0m: a leaf Variable that requires grad has been used in an in-place operation."
     ]
    }
   ],
   "source": [
    "w = torch.tensor([1.], requires_grad=True)\n",
    "x = torch.tensor([2.], requires_grad=True)\n",
    "\n",
    "a = torch.add(w, x)\n",
    "b = torch.add(w, 1)\n",
    "y = torch.mul(a, b)\n",
    "\n",
    "w.add_(1)\n",
    "\n",
    "y.backward()"
   ]
  },
  {
   "cell_type": "markdown",
   "metadata": {},
   "source": [
    "## 优化实例\n",
    "\n",
    "![](./img/youhua.png)"
   ]
  },
  {
   "cell_type": "code",
   "execution_count": 11,
   "metadata": {
    "ExecuteTime": {
     "end_time": "2020-04-18T10:43:18.446496Z",
     "start_time": "2020-04-18T10:43:15.348142Z"
    }
   },
   "outputs": [],
   "source": [
    "import torch\n",
    "import numpy as np\n",
    "from matplotlib import pyplot as plt\n",
    "from mpl_toolkits.mplot3d import Axes3D"
   ]
  },
  {
   "cell_type": "code",
   "execution_count": 8,
   "metadata": {
    "ExecuteTime": {
     "end_time": "2019-12-30T07:17:18.237603Z",
     "start_time": "2019-12-30T07:17:17.396575Z"
    }
   },
   "outputs": [
    {
     "name": "stdout",
     "output_type": "stream",
     "text": [
      "x,y range: (120,) (120,)\n",
      "X,Y maps: (120, 120) (120, 120)\n"
     ]
    },
    {
     "data": {
      "image/png": "[encoded data removed]",
      "text/plain": [
       "<Figure size 432x288 with 1 Axes>"
      ]
     },
     "metadata": {
      "needs_background": "light"
     },
     "output_type": "display_data"
    }
   ],
   "source": [
    "# ==================================== 函数优化实例 ================================================\n",
    "\n",
    "def function_op(x):\n",
    "    return (x[0]**2+x[1]-11)**2+(x[0]+x[1]**2-7)**2\n",
    "\n",
    "'''\n",
    "绘制函数图像\n",
    "'''\n",
    "\n",
    "x=np.arange(-6,6,0.1)\n",
    "y=np.arange(-6,6,0.1)\n",
    "\n",
    "## 生成x,y平面\n",
    "print('x,y range:', x.shape, y.shape)\n",
    "X, Y = np.meshgrid(x, y)  ## 将点x，y进行匹配\n",
    "print('X,Y maps:', X.shape, Y.shape)\n",
    "\n",
    "Z = function_op([X, Y])\n",
    "\n",
    "fig = plt.figure('himmelblau')\n",
    "ax = fig.gca(projection='3d')\n",
    "ax.plot_surface(X, Y, Z)\n",
    "ax.view_init(60, -30)\n",
    "ax.set_xlabel('x')\n",
    "ax.set_ylabel('y')\n",
    "plt.show()"
   ]
  },
  {
   "cell_type": "code",
   "execution_count": 11,
   "metadata": {
    "ExecuteTime": {
     "end_time": "2019-12-30T07:31:42.941955Z",
     "start_time": "2019-12-30T07:31:34.198129Z"
    },
    "scrolled": false
   },
   "outputs": [
    {
     "name": "stdout",
     "output_type": "stream",
     "text": [
      "step 0: x = [-3.999000072479248, -0.0009999999310821295], f(x) = 146.0\n",
      "step 2000: x = [-3.526559829711914, -2.5002429485321045], f(x) = 19.4503231048584\n",
      "step 4000: x = [-3.777446746826172, -3.2777843475341797], f(x) = 0.0012130826944485307\n",
      "step 6000: x = [-3.7793045043945312, -3.283174753189087], f(x) = 5.636138666886836e-09\n",
      "step 8000: x = [-3.779308319091797, -3.28318190574646], f(x) = 7.248672773130238e-10\n",
      "step 10000: x = [-3.7793095111846924, -3.28318452835083], f(x) = 8.822098607197404e-11\n",
      "step 12000: x = [-3.7793102264404297, -3.2831854820251465], f(x) = 8.185452315956354e-12\n",
      "step 14000: x = [-3.7793102264404297, -3.2831859588623047], f(x) = 0.0\n",
      "step 16000: x = [-3.7793102264404297, -3.2831859588623047], f(x) = 0.0\n",
      "step 18000: x = [-3.7793102264404297, -3.2831859588623047], f(x) = 0.0\n"
     ]
    }
   ],
   "source": [
    "'''\n",
    "函数优化\n",
    "'''\n",
    "\n",
    "# [1., 0.], [-4, 0.], [4, 0.]\n",
    "x = torch.tensor([-4., 0.], requires_grad=True)\n",
    "optimizer = torch.optim.Adam([x], lr=1e-3)   # 优化目标x，提供学习率\n",
    "for step in range(20000):\n",
    "\n",
    "    pred = function_op(x)\n",
    "\n",
    "    optimizer.zero_grad()\n",
    "    pred.backward()\n",
    "    optimizer.step()  #更新一次\n",
    "\n",
    "    if step % 2000 == 0:\n",
    "        print ('step {}: x = {}, f(x) = {}'\n",
    "               .format(step, x.tolist(), pred.item()))  #tolist将x转为list"
   ]
  },
  {
   "cell_type": "code",
   "execution_count": null,
   "metadata": {},
   "outputs": [],
   "source": []
  }
 ],
 "metadata": {
  "kernelspec": {
   "display_name": "Python 3",
   "language": "python",
   "name": "python3"
  },
  "language_info": {
   "codemirror_mode": {
    "name": "ipython",
    "version": 3
   },
   "file_extension": ".py",
   "mimetype": "text/x-python",
   "name": "python",
   "nbconvert_exporter": "python",
   "pygments_lexer": "ipython3",
   "version": "3.7.0"
  }
 },
 "nbformat": 4,
 "nbformat_minor": 2
}
