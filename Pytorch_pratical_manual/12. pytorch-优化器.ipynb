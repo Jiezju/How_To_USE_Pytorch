{
 "cells": [
  {
   "cell_type": "markdown",
   "metadata": {},
   "source": [
    "## 优化器Optimizer"
   ]
  },
  {
   "cell_type": "code",
   "execution_count": 1,
   "metadata": {
    "ExecuteTime": {
     "end_time": "2020-05-02T07:27:19.562108Z",
     "start_time": "2020-05-02T07:27:14.616467Z"
    }
   },
   "outputs": [],
   "source": [
    "import os\n",
    "##BASE_DIR = os.path.dirname(os.path.abspath(__file__))\n",
    "import torch\n",
    "import torch.optim as optim"
   ]
  },
  {
   "cell_type": "markdown",
   "metadata": {},
   "source": [
    "**导数**\n",
    "\n",
    "    函数在指定坐标轴上x的变化率\n",
    "    \n",
    "**方向导数**\n",
    "\n",
    "    函数在指定方向上的变化率\n",
    "    \n",
    "**梯度**\n",
    "\n",
    "    一个向量，向量方向为梯度最大值的方向"
   ]
  },
  {
   "cell_type": "markdown",
   "metadata": {},
   "source": [
    "**优化器Optimizer的基本属性**\n",
    "\n",
    "- defaults\n",
    "\n",
    "    优化器超参数\n",
    "    \n",
    "- state\n",
    "    \n",
    "    参数缓存，如momentum的缓存\n",
    "    \n",
    "- param_group\n",
    "\n",
    "    管理的参数组，依据不同的初始化进行分组  一个list结构，每一个元素为key-value的字典\n",
    "    \n",
    "- \\_step\\_count\n",
    "\n",
    "    记录更新次数\n",
    "    \n"
   ]
  },
  {
   "cell_type": "code",
   "execution_count": 41,
   "metadata": {
    "ExecuteTime": {
     "end_time": "2020-05-02T08:37:35.553896Z",
     "start_time": "2020-05-02T08:37:35.549933Z"
    }
   },
   "outputs": [],
   "source": [
    "##初始化参数及梯度\n",
    "\n",
    "weight = torch.randn((2, 2), requires_grad=True)"
   ]
  },
  {
   "cell_type": "code",
   "execution_count": 42,
   "metadata": {
    "ExecuteTime": {
     "end_time": "2020-05-02T08:37:36.009857Z",
     "start_time": "2020-05-02T08:37:36.006864Z"
    }
   },
   "outputs": [],
   "source": [
    "'''\n",
    "传递参数到优化器\n",
    "'''\n",
    "optimizer = optim.SGD([weight], lr=0.1)"
   ]
  },
  {
   "cell_type": "code",
   "execution_count": 43,
   "metadata": {
    "ExecuteTime": {
     "end_time": "2020-05-02T08:37:36.487851Z",
     "start_time": "2020-05-02T08:37:36.482865Z"
    }
   },
   "outputs": [
    {
     "data": {
      "text/plain": [
       "{'lr': 0.1,\n",
       " 'momentum': 0,\n",
       " 'dampening': 0,\n",
       " 'weight_decay': 0,\n",
       " 'nesterov': False}"
      ]
     },
     "execution_count": 43,
     "metadata": {},
     "output_type": "execute_result"
    }
   ],
   "source": [
    "'''\n",
    "optim的参数\n",
    "'''\n",
    "\n",
    "optimizer.defaults # 字典格式"
   ]
  },
  {
   "cell_type": "code",
   "execution_count": 44,
   "metadata": {
    "ExecuteTime": {
     "end_time": "2020-05-02T08:37:36.984146Z",
     "start_time": "2020-05-02T08:37:36.975169Z"
    }
   },
   "outputs": [
    {
     "data": {
      "text/plain": [
       "[{'params': [tensor([[ 2.2768,  2.2090],\n",
       "           [-0.6272, -0.7168]], requires_grad=True)],\n",
       "  'lr': 0.1,\n",
       "  'momentum': 0,\n",
       "  'dampening': 0,\n",
       "  'weight_decay': 0,\n",
       "  'nesterov': False}]"
      ]
     },
     "execution_count": 44,
     "metadata": {},
     "output_type": "execute_result"
    }
   ],
   "source": [
    "'''\n",
    "optim的参数组\n",
    "'''\n",
    "optimizer.param_groups"
   ]
  },
  {
   "cell_type": "code",
   "execution_count": 45,
   "metadata": {
    "ExecuteTime": {
     "end_time": "2020-05-02T08:37:37.688118Z",
     "start_time": "2020-05-02T08:37:37.682110Z"
    }
   },
   "outputs": [
    {
     "data": {
      "text/plain": [
       "[tensor([[ 2.2768,  2.2090],\n",
       "         [-0.6272, -0.7168]], requires_grad=True)]"
      ]
     },
     "execution_count": 45,
     "metadata": {},
     "output_type": "execute_result"
    }
   ],
   "source": [
    "optimizer.param_groups[0]['params']"
   ]
  },
  {
   "cell_type": "code",
   "execution_count": 46,
   "metadata": {
    "ExecuteTime": {
     "end_time": "2020-05-02T08:37:38.715750Z",
     "start_time": "2020-05-02T08:37:38.710792Z"
    }
   },
   "outputs": [
    {
     "data": {
      "text/plain": [
       "defaultdict(dict, {})"
      ]
     },
     "execution_count": 46,
     "metadata": {},
     "output_type": "execute_result"
    }
   ],
   "source": [
    "optimizer.state"
   ]
  },
  {
   "cell_type": "markdown",
   "metadata": {},
   "source": [
    "**优化器Optimizer的基本方法**\n",
    "\n",
    "- zero_grad()\n",
    "\n",
    "    清空所管理的参数梯度 由于新的梯度值与原有的梯度值是累加的\n",
    "    \n",
    "- step()\n",
    "\n",
    "    进行参数的一步更新\n",
    "   \n",
    "- add_param_group()\n",
    "\n",
    "    添加参数组\n",
    "    \n",
    "- state_dict()\n",
    "\n",
    "   获取优化器当前状态信息字典\n",
    "   \n",
    "- load_state_dict()\n",
    "\n",
    "    加载状态信息字典"
   ]
  },
  {
   "cell_type": "code",
   "execution_count": 47,
   "metadata": {
    "ExecuteTime": {
     "end_time": "2020-05-02T08:37:43.827854Z",
     "start_time": "2020-05-02T08:37:43.823858Z"
    }
   },
   "outputs": [],
   "source": [
    "weight = torch.randn((2, 2), requires_grad=True)\n",
    "weight.grad = torch.ones((2, 2))\n",
    "optimizer = optim.SGD([weight], lr=0.1)"
   ]
  },
  {
   "cell_type": "code",
   "execution_count": 48,
   "metadata": {
    "ExecuteTime": {
     "end_time": "2020-05-02T08:37:44.397012Z",
     "start_time": "2020-05-02T08:37:44.388015Z"
    }
   },
   "outputs": [
    {
     "name": "stdout",
     "output_type": "stream",
     "text": [
      "weight before step:tensor([[-0.2464,  0.1202],\n",
      "        [-0.0018,  0.6168]])\n",
      "weight after step:tensor([[-0.3464,  0.0202],\n",
      "        [-0.1018,  0.5168]])\n"
     ]
    }
   ],
   "source": [
    "'''\n",
    "梯度更新函数  step()\n",
    "'''\n",
    "\n",
    "print(\"weight before step:{}\".format(weight.data))\n",
    "optimizer.step()        # 修改lr=1 0.1观察结果\n",
    "print(\"weight after step:{}\".format(weight.data))"
   ]
  },
  {
   "cell_type": "code",
   "execution_count": 49,
   "metadata": {
    "ExecuteTime": {
     "end_time": "2020-05-02T08:37:46.516360Z",
     "start_time": "2020-05-02T08:37:46.506373Z"
    }
   },
   "outputs": [
    {
     "name": "stdout",
     "output_type": "stream",
     "text": [
      "weight.grad is tensor([[1., 1.],\n",
      "        [1., 1.]])\n",
      "\n",
      "after optimizer.zero_grad(), weight.grad is\n",
      "tensor([[0., 0.],\n",
      "        [0., 0.]])\n"
     ]
    }
   ],
   "source": [
    "'''\n",
    "梯度清零函数 zero_grad()\n",
    "'''\n",
    "\n",
    "print(\"weight.grad is {}\\n\".format(weight.grad))\n",
    "optimizer.zero_grad()\n",
    "print(\"after optimizer.zero_grad(), weight.grad is\\n{}\".format(weight.grad))"
   ]
  },
  {
   "cell_type": "code",
   "execution_count": 50,
   "metadata": {
    "ExecuteTime": {
     "end_time": "2020-05-02T08:37:49.481603Z",
     "start_time": "2020-05-02T08:37:49.475217Z"
    }
   },
   "outputs": [
    {
     "name": "stdout",
     "output_type": "stream",
     "text": [
      "optimizer.param_groups is\n",
      "[{'params': [tensor([[-0.3464,  0.0202],\n",
      "        [-0.1018,  0.5168]], requires_grad=True)], 'lr': 0.1, 'momentum': 0, 'dampening': 0, 'weight_decay': 0, 'nesterov': False}]\n"
     ]
    }
   ],
   "source": [
    "print(\"optimizer.param_groups is\\n{}\".format(optimizer.param_groups))"
   ]
  },
  {
   "cell_type": "code",
   "execution_count": 51,
   "metadata": {
    "ExecuteTime": {
     "end_time": "2020-05-02T08:38:03.172664Z",
     "start_time": "2020-05-02T08:38:03.164692Z"
    }
   },
   "outputs": [
    {
     "name": "stdout",
     "output_type": "stream",
     "text": [
      "optimizer.param_groups is\n",
      "[{'params': [tensor([[-0.3464,  0.0202],\n",
      "        [-0.1018,  0.5168]], requires_grad=True)], 'lr': 0.1, 'momentum': 0, 'dampening': 0, 'weight_decay': 0, 'nesterov': False}, {'params': [tensor([[ 0.6067, -1.6898, -1.8859],\n",
      "        [-0.4855, -1.1372,  0.7215],\n",
      "        [ 0.9482,  0.7658, -0.9246]], requires_grad=True)], 'lr': 0.0001, 'momentum': 0, 'dampening': 0, 'weight_decay': 0, 'nesterov': False}]\n"
     ]
    }
   ],
   "source": [
    "'''\n",
    "使用 add_param_group 为优化器添加参数\n",
    "'''\n",
    "# ----------------------------------- add_param_group -----------------------------------\n",
    "\n",
    "w2 = torch.randn((3, 3), requires_grad=True)\n",
    "\n",
    "optimizer.add_param_group({\"params\": w2, 'lr': 0.0001})  ##添加另一组参数 并为他设置学习率\n",
    "\n",
    "print(\"optimizer.param_groups is\\n{}\".format(optimizer.param_groups))"
   ]
  },
  {
   "cell_type": "code",
   "execution_count": 53,
   "metadata": {
    "ExecuteTime": {
     "end_time": "2020-05-02T08:41:18.016692Z",
     "start_time": "2020-05-02T08:41:17.887566Z"
    }
   },
   "outputs": [
    {
     "name": "stdout",
     "output_type": "stream",
     "text": [
      "state_dict before step:\n",
      " {'state': {}, 'param_groups': [{'lr': 0.1, 'momentum': 0.9, 'dampening': 0, 'weight_decay': 0, 'nesterov': False, 'params': [1366746681992]}]}\n",
      "state_dict after step:\n",
      " {'state': {1366746681992: {'momentum_buffer': tensor([[0., 0.],\n",
      "        [0., 0.]])}}, 'param_groups': [{'lr': 0.1, 'momentum': 0.9, 'dampening': 0, 'weight_decay': 0, 'nesterov': False, 'params': [1366746681992]}]}\n",
      "state_dict before step:\n",
      " {'state': {}, 'param_groups': [{'lr': 0.1, 'momentum': 0.9, 'dampening': 0, 'weight_decay': 0, 'nesterov': False, 'params': [1366746681992]}]}\n"
     ]
    }
   ],
   "source": [
    "'''\n",
    "使用 state_dict 保留学习状态\n",
    "'''\n",
    "# ----------------------------------- state_dict -----------------------------------\n",
    "\n",
    "optimizer = optim.SGD([weight], lr=0.1, momentum=0.9)\n",
    "opt_state_dict = optimizer.state_dict()\n",
    "\n",
    "print(\"state_dict before step:\\n\", opt_state_dict)\n",
    "\n",
    "for i in range(10):\n",
    "    optimizer.step()\n",
    "\n",
    "print(\"state_dict after step:\\n\", optimizer.state_dict())\n",
    "print(\"state_dict before step:\\n\", opt_state_dict)\n",
    "##保存状态信息\n",
    "torch.save(optimizer.state_dict(), os.path.join(\"D:/Jupyter/工作准备/pytorch学习/Pytorch基本手册\", \"optimizer_state_dict.pkl\"))"
   ]
  },
  {
   "cell_type": "code",
   "execution_count": 54,
   "metadata": {
    "ExecuteTime": {
     "end_time": "2020-05-02T08:48:04.470352Z",
     "start_time": "2020-05-02T08:48:04.100157Z"
    }
   },
   "outputs": [
    {
     "name": "stdout",
     "output_type": "stream",
     "text": [
      "state_dict before load state:\n",
      " {'state': {}, 'param_groups': [{'lr': 0.1, 'momentum': 0.9, 'dampening': 0, 'weight_decay': 0, 'nesterov': False, 'params': [1366746681992]}]}\n",
      "state_dict after load state:\n",
      " {'state': {1366746681992: {'momentum_buffer': tensor([[0., 0.],\n",
      "        [0., 0.]])}}, 'param_groups': [{'lr': 0.1, 'momentum': 0.9, 'dampening': 0, 'weight_decay': 0, 'nesterov': False, 'params': [1366746681992]}]}\n"
     ]
    }
   ],
   "source": [
    "'''\n",
    "使用 load state_dict 加载学习状态\n",
    "'''\n",
    "# -----------------------------------load state_dict -----------------------------------\n",
    "\n",
    "optimizer = optim.SGD([weight], lr=0.1, momentum=0.9)\n",
    "state_dict = torch.load(os.path.join(\"D:/Jupyter/工作准备/pytorch学习/Pytorch基本手册\", \"optimizer_state_dict.pkl\"))\n",
    "\n",
    "print(\"state_dict before load state:\\n\", optimizer.state_dict())\n",
    "optimizer.load_state_dict(state_dict)  ##加载状态字典\n",
    "print(\"state_dict after load state:\\n\", optimizer.state_dict())"
   ]
  },
  {
   "cell_type": "markdown",
   "metadata": {},
   "source": [
    "**pytorch优化器的使用步骤**\n",
    "\n",
    "1. 参数初始化，需要自定义初始化函数\n",
    "        net.initialize_weights()\n",
    "    \n",
    "2. 传递参数到优化器中 设计优化器\n",
    "        optimizer = optim.SGD(net.parameters(), lr=LR, momentum=0.9)  \n",
    "        \n",
    "3. 清零优化器存储梯度 \n",
    "        optimizer.zero_grad()\n",
    "        \n",
    "4. 优化更新梯度\n",
    "\n",
    "        optimizer.step()"
   ]
  },
  {
   "cell_type": "code",
   "execution_count": 32,
   "metadata": {
    "ExecuteTime": {
     "end_time": "2020-05-02T08:17:43.837434Z",
     "start_time": "2020-05-02T08:17:43.832425Z"
    }
   },
   "outputs": [],
   "source": [
    "# 定义优化函数\n",
    "def function_(x):\n",
    "    return (x[0]**2 + x[1] - 11)**2 + (x[0] + x[1]**2 - 7)**2"
   ]
  },
  {
   "cell_type": "code",
   "execution_count": 36,
   "metadata": {
    "ExecuteTime": {
     "end_time": "2020-05-02T08:23:56.082294Z",
     "start_time": "2020-05-02T08:23:51.901967Z"
    }
   },
   "outputs": [
    {
     "name": "stdout",
     "output_type": "stream",
     "text": [
      "step 0: x = [-2.9800000190734863, -0.09999999403953552], f(x) = 146.0\n",
      "step 2000: x = [-3.7793102264404297, -3.2831859588623047], f(x) = 0.0\n",
      "step 4000: x = [-3.7793102264404297, -3.2831859588623047], f(x) = 0.0\n",
      "step 6000: x = [-3.7793102264404297, -3.2831859588623047], f(x) = 0.0\n",
      "step 8000: x = [-3.7793102264404297, -3.2831859588623047], f(x) = 0.0\n"
     ]
    }
   ],
   "source": [
    "# 查找函数最小值\n",
    "x = torch.tensor([-4., 0.], requires_grad=True)\n",
    "optimizer = optim.SGD([x], lr=0.01)\n",
    "for epoch in range(10000):\n",
    "    y = function_(x)\n",
    "\n",
    "    # 清空梯度\n",
    "    optimizer.zero_grad()\n",
    "\n",
    "    y.backward()  # 计算梯度\n",
    "\n",
    "    # 更新参数\n",
    "    optimizer.step()\n",
    "\n",
    "    # 输出结果\n",
    "    if epoch % 2000 == 0:\n",
    "        print('step {}: x = {}, f(x) = {}'.format(epoch, x.tolist(), y.item()))  #tolist将x转为list"
   ]
  },
  {
   "cell_type": "markdown",
   "metadata": {},
   "source": [
    "## 学习率的设定"
   ]
  },
  {
   "cell_type": "code",
   "execution_count": 12,
   "metadata": {},
   "outputs": [
    {
     "data": {
      "text/plain": [
       "<torch._C.Generator at 0x53940d0>"
      ]
     },
     "execution_count": 12,
     "metadata": {},
     "output_type": "execute_result"
    }
   ],
   "source": [
    "%matplotlib inline\n",
    "import torch\n",
    "import numpy as np\n",
    "import matplotlib.pyplot as plt\n",
    "torch.manual_seed(1)"
   ]
  },
  {
   "cell_type": "code",
   "execution_count": 13,
   "metadata": {},
   "outputs": [
    {
     "data": {
      "image/png": "[encoded data removed]",
      "text/plain": [
       "<matplotlib.figure.Figure at 0xf27b940>"
      ]
     },
     "metadata": {},
     "output_type": "display_data"
    }
   ],
   "source": [
    "def func(x_t):\n",
    "    \"\"\"\n",
    "    y = (2x)^2 = 4*x^2      dy/dx = 8x\n",
    "    \"\"\"\n",
    "    return torch.pow(2*x_t, 2)\n",
    "\n",
    "\n",
    "# init\n",
    "x = torch.tensor([2.], requires_grad=True)\n",
    "\n",
    "\n",
    "# ------------------------------ plot data ------------------------------\n",
    "\n",
    "\n",
    "x_t = torch.linspace(-3, 3, 100)\n",
    "y = func(x_t)\n",
    "plt.plot(x_t.numpy(), y.numpy(), label=\"y = 4*x^2\")\n",
    "plt.grid()\n",
    "plt.xlabel(\"x\")\n",
    "plt.ylabel(\"y\")\n",
    "plt.legend()\n",
    "plt.show()"
   ]
  },
  {
   "cell_type": "code",
   "execution_count": 14,
   "metadata": {},
   "outputs": [
    {
     "name": "stdout",
     "output_type": "stream",
     "text": [
      "Iter:0, X:     2.0, X.grad:    16.0, loss:      16.0\n",
      "Iter:1, X:1.840000033378601, X.grad:14.720000267028809, loss:13.542400360107422\n",
      "Iter:2, X:1.6928000450134277, X.grad:13.542400360107422, loss:11.462287902832031\n",
      "Iter:3, X:1.5573760271072388, X.grad:12.45900821685791, loss:9.701680183410645\n",
      "Iter:4, X:1.432785987854004, X.grad:11.462287902832031, loss:8.211503028869629\n",
      "Iter:5, X:1.3181631565093994, X.grad:10.545305252075195, loss:6.950216293334961\n",
      "Iter:6, X:1.2127101421356201, X.grad:9.701681137084961, loss:5.882663726806641\n",
      "Iter:7, X:1.1156933307647705, X.grad:8.925546646118164, loss:4.979086399078369\n",
      "Iter:8, X:1.0264378786087036, X.grad:8.211503028869629, loss:4.214298725128174\n",
      "Iter:9, X:0.9443228244781494, X.grad:7.554582595825195, loss:3.5669822692871094\n",
      "Iter:10, X:0.8687769770622253, X.grad:6.950215816497803, loss:3.0190937519073486\n",
      "Iter:11, X:0.7992748022079468, X.grad:6.394198417663574, loss:2.555360794067383\n",
      "Iter:12, X:0.7353328466415405, X.grad:5.882662773132324, loss:2.1628575325012207\n",
      "Iter:13, X:0.6765062212944031, X.grad:5.412049770355225, loss:1.8306427001953125\n",
      "Iter:14, X:0.6223857402801514, X.grad:4.979085922241211, loss:1.549456000328064\n",
      "Iter:15, X:0.5725948810577393, X.grad:4.580759048461914, loss:1.3114595413208008\n",
      "Iter:16, X:0.526787281036377, X.grad:4.214298248291016, loss:1.110019326210022\n",
      "Iter:17, X:0.4846442937850952, X.grad:3.8771543502807617, loss:0.9395203590393066\n",
      "Iter:18, X:0.4458727538585663, X.grad:3.5669820308685303, loss:0.795210063457489\n",
      "Iter:19, X:0.41020292043685913, X.grad:3.281623363494873, loss:0.673065721988678\n"
     ]
    },
    {
     "data": {
      "image/png": "[encoded data removed]",
      "text/plain": [
       "<matplotlib.figure.Figure at 0xf396a20>"
      ]
     },
     "metadata": {},
     "output_type": "display_data"
    }
   ],
   "source": [
    "# ------------------------------ gradient descent ------------------------------\n",
    "\n",
    "iter_rec, loss_rec, x_rec = list(), list(), list()\n",
    "\n",
    "lr = 0.01    # /1. /.5 /.2 /.1 /.125\n",
    "max_iteration = 20   # /1. 4     /.5 4   /.2 20 200\n",
    "\n",
    "for i in range(max_iteration):\n",
    "\n",
    "    y = func(x)\n",
    "    y.backward()\n",
    "\n",
    "    print(\"Iter:{}, X:{:8}, X.grad:{:8}, loss:{:10}\".format(\n",
    "        i, x.detach().numpy()[0], x.grad.detach().numpy()[0], y.item()))\n",
    "\n",
    "    x_rec.append(x.item())\n",
    "\n",
    "    x.data.sub_(lr * x.grad)    # x -= x.grad  数学表达式意义:  x = x - x.grad    # 0.5 0.2 0.1 0.125\n",
    "    x.grad.zero_()\n",
    "\n",
    "    iter_rec.append(i)\n",
    "    loss_rec.append(y)\n",
    "\n",
    "plt.subplot(121).plot(iter_rec, loss_rec, '-ro')\n",
    "plt.xlabel(\"Iteration\")\n",
    "plt.ylabel(\"Loss value\")\n",
    "\n",
    "x_t = torch.linspace(-3, 3, 100)\n",
    "y = func(x_t)\n",
    "plt.subplot(122).plot(x_t.numpy(), y.numpy(), label=\"y = 4*x^2\")\n",
    "plt.grid()\n",
    "y_rec = [func(torch.tensor(i)).item() for i in x_rec]\n",
    "plt.subplot(122).plot(x_rec, y_rec, '-ro')\n",
    "plt.legend()\n",
    "plt.show()"
   ]
  },
  {
   "cell_type": "code",
   "execution_count": 16,
   "metadata": {},
   "outputs": [
    {
     "name": "stdout",
     "output_type": "stream",
     "text": [
      "Iter:0, X:     0.0, X.grad:     0.0, loss:       0.0\n",
      "Iter:1, X:     0.0, X.grad:     0.0, loss:       0.0\n",
      "Iter:2, X:     0.0, X.grad:     0.0, loss:       0.0\n",
      "Iter:3, X:     0.0, X.grad:     0.0, loss:       0.0\n"
     ]
    },
    {
     "data": {
      "image/png": "[encoded data removed]",
      "text/plain": [
       "<matplotlib.figure.Figure at 0x1163d6d8>"
      ]
     },
     "metadata": {},
     "output_type": "display_data"
    }
   ],
   "source": [
    "iter_rec, loss_rec, x_rec = list(), list(), list()\n",
    "\n",
    "lr = 0.125    # /1. /.5 /.2 /.1 /.125\n",
    "max_iteration = 4  # /1. 4     /.5 4   /.2 20 200\n",
    "\n",
    "for i in range(max_iteration):\n",
    "\n",
    "    y = func(x)\n",
    "    y.backward()\n",
    "\n",
    "    print(\"Iter:{}, X:{:8}, X.grad:{:8}, loss:{:10}\".format(\n",
    "        i, x.detach().numpy()[0], x.grad.detach().numpy()[0], y.item()))\n",
    "\n",
    "    x_rec.append(x.item())\n",
    "\n",
    "    x.data.sub_(lr * x.grad)    # x -= x.grad  数学表达式意义:  x = x - x.grad    # 0.5 0.2 0.1 0.125\n",
    "    x.grad.zero_()\n",
    "\n",
    "    iter_rec.append(i)\n",
    "    loss_rec.append(y)\n",
    "\n",
    "plt.subplot(121).plot(iter_rec, loss_rec, '-ro')\n",
    "plt.xlabel(\"Iteration\")\n",
    "plt.ylabel(\"Loss value\")\n",
    "\n",
    "x_t = torch.linspace(-3, 3, 100)\n",
    "y = func(x_t)\n",
    "plt.subplot(122).plot(x_t.numpy(), y.numpy(), label=\"y = 4*x^2\")\n",
    "plt.grid()\n",
    "y_rec = [func(torch.tensor(i)).item() for i in x_rec]\n",
    "plt.subplot(122).plot(x_rec, y_rec, '-ro')\n",
    "plt.legend()\n",
    "plt.show()"
   ]
  },
  {
   "cell_type": "code",
   "execution_count": 17,
   "metadata": {
    "scrolled": true
   },
   "outputs": [
    {
     "data": {
      "image/png": "[encoded data removed]",
      "text/plain": [
       "<matplotlib.figure.Figure at 0x11a5df60>"
      ]
     },
     "metadata": {},
     "output_type": "display_data"
    }
   ],
   "source": [
    "# ------------------------------ multi learning rate ------------------------------\n",
    "\n",
    "\n",
    "iteration = 100\n",
    "num_lr = 10\n",
    "lr_min, lr_max = 0.01, 0.2  # .5 .3 .2\n",
    "\n",
    "lr_list = np.linspace(lr_min, lr_max, num=num_lr).tolist()\n",
    "loss_rec = [[] for l in range(len(lr_list))]\n",
    "iter_rec = list()\n",
    "\n",
    "for i, lr in enumerate(lr_list):  # 构建多个学习率 进行查找最优学习率\n",
    "    x = torch.tensor([2.], requires_grad=True)\n",
    "    for iter in range(iteration):\n",
    "\n",
    "        y = func(x)\n",
    "        y.backward()\n",
    "        x.data.sub_(lr * x.grad)  # x.data -= x.grad\n",
    "        x.grad.zero_()\n",
    "\n",
    "        loss_rec[i].append(y.item())\n",
    "\n",
    "for i, loss_r in enumerate(loss_rec):\n",
    "    plt.plot(range(len(loss_r)), loss_r, label=\"LR: {}\".format(lr_list[i]))\n",
    "plt.legend()\n",
    "plt.xlabel('Iterations')\n",
    "plt.ylabel('Loss value')\n",
    "plt.show()"
   ]
  },
  {
   "cell_type": "markdown",
   "metadata": {},
   "source": [
    "### 指数加权平均的理解"
   ]
  },
  {
   "cell_type": "markdown",
   "metadata": {},
   "source": [
    "![](./expweight.jpg)"
   ]
  },
  {
   "cell_type": "code",
   "execution_count": 18,
   "metadata": {},
   "outputs": [
    {
     "data": {
      "image/png": "[encoded data removed]",
      "text/plain": [
       "<matplotlib.figure.Figure at 0x11a5d828>"
      ]
     },
     "metadata": {},
     "output_type": "display_data"
    },
    {
     "name": "stdout",
     "output_type": "stream",
     "text": [
      "0.9999734386011124\n"
     ]
    }
   ],
   "source": [
    "'''\n",
    "指数加权 时间越长，权重越小\n",
    "'''\n",
    "\n",
    "def exp_w_func(beta, time_list):\n",
    "    return [(1 - beta) * np.power(beta, exp) for exp in time_list]\n",
    "\n",
    "\n",
    "beta = 0.9\n",
    "num_point = 100\n",
    "time_list = np.arange(num_point).tolist()\n",
    "\n",
    "# ------------------------------ exponential weight ------------------------------\n",
    "\n",
    "weights = exp_w_func(beta, time_list)\n",
    "\n",
    "plt.plot(time_list, weights, '-ro', label=\"Beta: {}\\ny = B^t * (1-B)\".format(beta))\n",
    "plt.xlabel(\"time\")\n",
    "plt.ylabel(\"weight\")\n",
    "plt.legend()\n",
    "plt.title(\"exponentially weighted average\")\n",
    "plt.show()\n",
    "\n",
    "print(np.sum(weights))"
   ]
  },
  {
   "cell_type": "code",
   "execution_count": 19,
   "metadata": {},
   "outputs": [
    {
     "data": {
      "image/png": "[encoded data removed]",
      "text/plain": [
       "<matplotlib.figure.Figure at 0x11a5d4a8>"
      ]
     },
     "metadata": {},
     "output_type": "display_data"
    }
   ],
   "source": [
    "# ------------------------------ multi weights ------------------------------\n",
    "\n",
    "'''\n",
    "不同指数权重的影响 越大记忆周期越长，否则记忆周期越短\n",
    "'''\n",
    "\n",
    "\n",
    "beta_list = [0.98, 0.95, 0.9, 0.8]\n",
    "w_list = [exp_w_func(beta, time_list) for beta in beta_list]\n",
    "for i, w in enumerate(w_list):\n",
    "    plt.plot(time_list, w, label=\"Beta: {}\".format(beta_list[i]))\n",
    "plt.xlabel(\"time\")\n",
    "plt.ylabel(\"weight\")\n",
    "plt.legend()\n",
    "plt.show()"
   ]
  },
  {
   "cell_type": "markdown",
   "metadata": {},
   "source": [
    "### Momentum的理解\n",
    "\n",
    "- 对梯度进行历史累加"
   ]
  },
  {
   "cell_type": "markdown",
   "metadata": {},
   "source": [
    "![](./memento.jpg)"
   ]
  },
  {
   "cell_type": "code",
   "execution_count": 21,
   "metadata": {},
   "outputs": [
    {
     "data": {
      "image/png": "[encoded data removed]",
      "text/plain": [
       "<matplotlib.figure.Figure at 0x11640e80>"
      ]
     },
     "metadata": {},
     "output_type": "display_data"
    }
   ],
   "source": [
    "# ------------------------------ SGD momentum ------------------------------\n",
    "\n",
    "\n",
    "def func(x):\n",
    "    return torch.pow(2 * x, 2)  # y = (2x)^2 = 4*x^2        dy/dx = 8x\n",
    "\n",
    "\n",
    "iteration = 100\n",
    "m = 0.9  # .9 .63\n",
    "\n",
    "lr_list = [0.01, 0.03]\n",
    "\n",
    "momentum_list = list()\n",
    "loss_rec = [[] for l in range(len(lr_list))]\n",
    "iter_rec = list()\n",
    "\n",
    "for i, lr in enumerate(lr_list):\n",
    "    x = torch.tensor([2.], requires_grad=True)\n",
    "\n",
    "    momentum = 0. if lr == 0.03 else m\n",
    "    momentum_list.append(momentum)\n",
    "\n",
    "    optimizer = optim.SGD([x], lr=lr, momentum=momentum)\n",
    "\n",
    "    for iter in range(iteration):\n",
    "\n",
    "        y = func(x)\n",
    "        y.backward()\n",
    "\n",
    "        optimizer.step()\n",
    "        optimizer.zero_grad()\n",
    "\n",
    "        loss_rec[i].append(y.item())\n",
    "\n",
    "for i, loss_r in enumerate(loss_rec):\n",
    "    plt.plot(range(len(loss_r)),\n",
    "             loss_r,\n",
    "             label=\"LR: {} M:{}\".format(lr_list[i], momentum_list[i]))\n",
    "plt.legend()\n",
    "plt.xlabel('Iterations')\n",
    "plt.ylabel('Loss value')\n",
    "plt.show()"
   ]
  },
  {
   "cell_type": "code",
   "execution_count": null,
   "metadata": {
    "collapsed": true
   },
   "outputs": [],
   "source": []
  },
  {
   "cell_type": "markdown",
   "metadata": {},
   "source": [
    "## pytorch优化器选择"
   ]
  },
  {
   "cell_type": "markdown",
   "metadata": {},
   "source": [
    "     torch.optim.SGD(params, lr=, momentum=0, dampening=0, weight_decay=0, nesterov=False)\n",
    "\n",
    "- params(iterable)\n",
    "\n",
    "    参数组，优化器要管理的那部分参数。\n",
    "   \n",
    "       #对不同的层初始化学习率\n",
    "        optim.SGD([\n",
    "            {'params': model.base.parameters()},\n",
    "            {'params': model.classifier.parameters(), 'lr': 1e-3}\n",
    "            ], lr=1e-2, momentum=0.9)\n",
    "\n",
    "- lr(float) \n",
    "\n",
    "    初始学习率，可按需随着训练过程不断调整学习率。\n",
    "\n",
    "- momentum(float)\n",
    "\n",
    "    动量，通常设置为0.9，0.8\n",
    "\n",
    "- dampening(float)\n",
    "\n",
    "     dampening for momentum ，暂时不了其功能，在源码中是这样用的：buf.mul_(momentum).add_(1 - dampening, d_p)，值得注意的是，若采用nesterov，dampening必须为 0.\n",
    "\n",
    "- weight_decay(float)\n",
    "\n",
    "    权值衰减系数，也就是L2正则项的系数\n",
    "\n",
    "- nesterov(bool)\n",
    "\n",
    "    bool选项，是否使用NAG(Nesterov accelerated gradient)"
   ]
  },
  {
   "cell_type": "markdown",
   "metadata": {},
   "source": []
  },
  {
   "cell_type": "markdown",
   "metadata": {},
   "source": [
    "    torch.optim.Adadelta(params, lr=1.0, rho=0.9, eps=1e-06, weight_decay=0)\n",
    "\n",
    "- params (iterable) \n",
    "\n",
    "    用于优化的可以迭代参数或定义参数组\n",
    "- rho (float, 可选) \n",
    "\n",
    "    用于计算平方梯度的运行平均值的系数（默认值：0.9）\n",
    "    \n",
    "- eps (float, 可选) \n",
    "    \n",
    "    增加到分母中以提高数值稳定性的术语（默认值：1e-6）\n",
    "    \n",
    "- lr (float, 可选) \n",
    "\n",
    "    将delta应用于参数之前缩放的系数（默认值：1.0）\n",
    "    \n",
    "- weight_decay (float, 可选)\n",
    "\n",
    "    权重衰减 (L2范数)（默认值: 0）"
   ]
  },
  {
   "cell_type": "code",
   "execution_count": null,
   "metadata": {
    "collapsed": true
   },
   "outputs": [],
   "source": []
  },
  {
   "cell_type": "markdown",
   "metadata": {},
   "source": [
    "    torch.optim.Adagrad(params, lr=0.01, lr_decay=0, weight_decay=0)\n",
    "\n",
    "- params (iterable)\n",
    "\n",
    "    用于优化的可以迭代参数或定义参数组\n",
    "    \n",
    "- lr (float, 可选) \n",
    "\n",
    "    学习率（默认: 1e-2）\n",
    " \n",
    "- lr_decay (float, 可选) \n",
    "\n",
    "    学习率衰减（默认: 0）\n",
    "    \n",
    "- weight_decay (float, 可选) \n",
    "\n",
    "    权重衰减（L2范数）（默认: 0）"
   ]
  },
  {
   "cell_type": "code",
   "execution_count": null,
   "metadata": {
    "collapsed": true
   },
   "outputs": [],
   "source": []
  },
  {
   "cell_type": "markdown",
   "metadata": {},
   "source": [
    "    torch.optim.Adam(params, lr=0.001, betas=(0.9, 0.999), eps=1e-08, weight_decay=0)\n",
    "\n",
    "- params (iterable) \n",
    "\n",
    "    用于优化的可以迭代参数或定义参数组\n",
    "    \n",
    "- lr (float, 可选) \n",
    "\n",
    "    学习率（默认：1e-3）\n",
    "    \n",
    "- betas (Tuple[float, float], 可选) \n",
    "\n",
    "    用于计算梯度运行平均值及其平方的系数（默认：0.9，0.999）\n",
    "    \n",
    "- eps (float, 可选) \n",
    "\n",
    "    增加分母的数值以提高数值稳定性（默认：1e-8）\n",
    "    \n",
    "- weight_decay (float, 可选) \n",
    "\n",
    "    权重衰减（L2范数）（默认: 0）"
   ]
  },
  {
   "cell_type": "code",
   "execution_count": null,
   "metadata": {
    "collapsed": true
   },
   "outputs": [],
   "source": []
  },
  {
   "cell_type": "markdown",
   "metadata": {},
   "source": [
    "    torch.optim.Adamax(params, lr=0.002, betas=(0.9, 0.999), eps=1e-08, weight_decay=0)\n",
    "\n",
    "- params (iterable) \n",
    "\n",
    "    用于优化的可以迭代参数或定义参数组\n",
    "\n",
    "- lr (float, 可选) \n",
    "\n",
    "    学习率（默认：2e-3）\n",
    "\n",
    "- betas (Tuple[float, float], 可选) \n",
    "\n",
    "    用于计算梯度以及梯度平方的运行平均值的系数\n",
    "\n",
    "- eps (float, 可选) \n",
    "\n",
    "    增加分母的数值以提高数值稳定性（默认：1e-8）\n",
    "\n",
    "- weight_decay (float, 可选) \n",
    "\n",
    "    权重衰减（L2范数）（默认: 0）"
   ]
  },
  {
   "cell_type": "code",
   "execution_count": null,
   "metadata": {
    "collapsed": true
   },
   "outputs": [],
   "source": []
  },
  {
   "cell_type": "markdown",
   "metadata": {},
   "source": [
    "    torch.optim.ASGD(params, lr=0.01, lambd=0.0001, alpha=0.75, t0=1000000.0, weight_decay=0)\n",
    "    \n",
    "- params (iterable) \n",
    "\n",
    "    用于优化的可以迭代参数或定义参数组\n",
    "\n",
    "- lr (float, 可选) \n",
    "\n",
    "    学习率（默认：1e-2）\n",
    "\n",
    "- lambd (float, 可选) \n",
    "\n",
    "    衰减期（默认：1e-4）\n",
    "    \n",
    "- alpha (float, 可选) \n",
    "\n",
    "    eta更新的指数（默认：0.75）\n",
    "    \n",
    "- t0 (float, 可选) \n",
    "\n",
    "    指明在哪一次开始平均化（默认：1e6）\n",
    "    \n",
    "- weight_decay (float, 可选) \n",
    "\n",
    "    权重衰减（L2范数）（默认: 0）"
   ]
  },
  {
   "cell_type": "code",
   "execution_count": null,
   "metadata": {
    "collapsed": true
   },
   "outputs": [],
   "source": []
  },
  {
   "cell_type": "markdown",
   "metadata": {},
   "source": [
    "    torch.optim.LBFGS(params, lr=1, max_iter=20, max_eval=None, tolerance_grad=1e-05, tolerance_change=1e-09, history_size=100, line_search_fn=None)\n",
    "    \n",
    "- lr (float) \n",
    "\n",
    "    学习率（默认：1）\n",
    "\n",
    "- max_iter (int) \n",
    "\n",
    "    每个优化步骤的最大迭代次数（默认：20）)\n",
    "\n",
    "- max_eval (int) \n",
    "\n",
    "    每个优化步骤的最大函数评估次数（默认：max * 1.25）\n",
    "\n",
    "- tolerance_grad (float) \n",
    "\n",
    "    一阶最优的终止容忍度（默认：1e-5）\n",
    "\n",
    "- tolerance_change (float) \n",
    "\n",
    "    功能值/参数更改的终止公差（默认：1e-9）\n",
    "\n",
    "- history_size (int) \n",
    "\n",
    "    更新历史记录大小（默认：100）"
   ]
  },
  {
   "cell_type": "code",
   "execution_count": null,
   "metadata": {
    "collapsed": true
   },
   "outputs": [],
   "source": []
  },
  {
   "cell_type": "markdown",
   "metadata": {},
   "source": [
    "    torch.optim.RMSprop(params, lr=0.01, alpha=0.99, eps=1e-08, weight_decay=0, momentum=0, centered=False)[source]\n",
    "\n",
    "- params (iterable) \n",
    "\n",
    "    用于优化的可以迭代参数或定义参数组\n",
    "\n",
    "- lr (float, 可选) \n",
    "\n",
    "    学习率（默认：1e-2）\n",
    "\n",
    "- momentum (float, 可选) \n",
    "\n",
    "    动量因子（默认：0）\n",
    "\n",
    "- alpha (float, 可选) \n",
    "\n",
    "    平滑常数（默认：0.99）\n",
    "\n",
    "- eps (float, 可选) \n",
    "\n",
    "    增加分母的数值以提高数值稳定性（默认：1e-8）\n",
    "\n",
    "- centered (bool, 可选) \n",
    "\n",
    "    如果为True，计算中心化的RMSProp，通过其方差的估计来对梯度进行归一化\n",
    "\n",
    "- weight_decay (float, 可选) \n",
    "\n",
    "    权重衰减（L2范数）（默认: 0）"
   ]
  },
  {
   "cell_type": "code",
   "execution_count": null,
   "metadata": {
    "collapsed": true
   },
   "outputs": [],
   "source": []
  },
  {
   "cell_type": "markdown",
   "metadata": {},
   "source": [
    "     torch.optim.Rprop(params, lr=0.01, etas=(0.5, 1.2), step_sizes=(1e-06, 50))\n",
    "     \n",
    "- params (iterable) \n",
    "\n",
    "    用于优化的可以迭代参数或定义参数组\n",
    "\n",
    "- lr (float, 可选) \n",
    "\n",
    "    学习率（默认：1e-2）\n",
    "    \n",
    "- etas (Tuple[float, float], 可选) \n",
    "\n",
    "    一对（etaminus，etaplis）, 它们是乘数增加和减少因子（默认：0.5，1.2）\n",
    "\n",
    "- step_sizes (Tuple[float, float], 可选) \n",
    "\n",
    "    允许的一对最小和最大的步长（默认：1e-6，50）"
   ]
  },
  {
   "cell_type": "code",
   "execution_count": null,
   "metadata": {
    "collapsed": true
   },
   "outputs": [],
   "source": []
  }
 ],
 "metadata": {
  "anaconda-cloud": {},
  "kernelspec": {
   "display_name": "Python 3",
   "language": "python",
   "name": "python3"
  },
  "language_info": {
   "codemirror_mode": {
    "name": "ipython",
    "version": 3
   },
   "file_extension": ".py",
   "mimetype": "text/x-python",
   "name": "python",
   "nbconvert_exporter": "python",
   "pygments_lexer": "ipython3",
   "version": "3.7.0"
  }
 },
 "nbformat": 4,
 "nbformat_minor": 1
}
