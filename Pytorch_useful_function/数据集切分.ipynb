{
 "cells": [
  {
   "cell_type": "markdown",
   "metadata": {},
   "source": [
    "### 数据集切分"
   ]
  },
  {
   "cell_type": "code",
   "execution_count": 1,
   "metadata": {
    "ExecuteTime": {
     "end_time": "2020-05-09T11:53:27.883076Z",
     "start_time": "2020-05-09T11:53:27.878089Z"
    }
   },
   "outputs": [],
   "source": [
    "import os\n",
    "import glob\n",
    "import random\n",
    "import shutil"
   ]
  },
  {
   "cell_type": "code",
   "execution_count": 2,
   "metadata": {
    "ExecuteTime": {
     "end_time": "2020-05-09T11:53:28.187264Z",
     "start_time": "2020-05-09T11:53:28.182275Z"
    }
   },
   "outputs": [],
   "source": [
    "'''\n",
    "数据集路径\n",
    "'''\n",
    "dataset_dir = os.path.join(\".\", \"Data\", \"cifar-10-png\", \"raw_test\")  # 所有数据集文件夹\n",
    "train_dir = os.path.join(\".\", \"Data\", \"train\")\n",
    "valid_dir = os.path.join(\".\",  \"Data\", \"valid\")\n",
    "test_dir = os.path.join(\".\",  \"Data\", \"test\")"
   ]
  },
  {
   "cell_type": "code",
   "execution_count": 3,
   "metadata": {
    "ExecuteTime": {
     "end_time": "2020-05-09T11:53:32.942179Z",
     "start_time": "2020-05-09T11:53:32.928217Z"
    }
   },
   "outputs": [
    {
     "data": {
      "text/plain": [
       "'.\\\\Data\\\\train'"
      ]
     },
     "execution_count": 3,
     "metadata": {},
     "output_type": "execute_result"
    }
   ],
   "source": [
    "train_dir"
   ]
  },
  {
   "cell_type": "code",
   "execution_count": 3,
   "metadata": {
    "ExecuteTime": {
     "end_time": "2020-04-09T12:58:15.968007Z",
     "start_time": "2020-04-09T12:58:15.963011Z"
    }
   },
   "outputs": [],
   "source": [
    "'''\n",
    "数据集比例\n",
    "'''\n",
    "train_per = 0.8\n",
    "valid_per = 0.1\n",
    "test_per = 0.1"
   ]
  },
  {
   "cell_type": "code",
   "execution_count": 4,
   "metadata": {
    "ExecuteTime": {
     "end_time": "2020-04-09T12:58:34.824591Z",
     "start_time": "2020-04-09T12:58:34.820597Z"
    }
   },
   "outputs": [],
   "source": [
    "def makedir(new_dir):\n",
    "    if not os.path.exists(new_dir):\n",
    "        os.makedirs(new_dir)"
   ]
  },
  {
   "cell_type": "code",
   "execution_count": 8,
   "metadata": {
    "ExecuteTime": {
     "end_time": "2020-04-09T13:22:57.789042Z",
     "start_time": "2020-04-09T13:21:14.919866Z"
    }
   },
   "outputs": [
    {
     "name": "stdout",
     "output_type": "stream",
     "text": [
      "Class:0, train:800, valid:100, test:100\n",
      "Class:1, train:800, valid:100, test:100\n",
      "Class:2, train:800, valid:100, test:100\n",
      "Class:3, train:800, valid:100, test:100\n",
      "Class:4, train:800, valid:100, test:100\n",
      "Class:5, train:800, valid:100, test:100\n",
      "Class:6, train:800, valid:100, test:100\n",
      "Class:7, train:800, valid:100, test:100\n",
      "Class:8, train:800, valid:100, test:100\n",
      "Class:9, train:800, valid:100, test:100\n"
     ]
    }
   ],
   "source": [
    "'''\n",
    "root:  root 所指的是当前正在遍历的这个文件夹的本身的目录 \n",
    "dirs:   是一个 list ，内容是dataset_dir目录下所有的文件夹的名字\n",
    "files:  是一个list 内容是dataset_dir目录下所有文件的名字\n",
    "'''\n",
    "for root, dirs, files in os.walk(dataset_dir):\n",
    "    for sDir in dirs:\n",
    "        imgs_list = glob.glob(os.path.join(root, sDir, '*.png')) # 获取所有的png名文件名，形成列表\n",
    "        random.seed(666)\n",
    "        random.shuffle(imgs_list)\n",
    "        imgs_num = len(imgs_list)\n",
    "        # 设定切分点\n",
    "        train_point = int(imgs_num * train_per)\n",
    "        valid_point = int(imgs_num * (train_per + valid_per))\n",
    "\n",
    "        for i in range(imgs_num):\n",
    "            if i < train_point:\n",
    "                out_dir = os.path.join(train_dir, sDir)\n",
    "            elif i < valid_point:\n",
    "                out_dir = os.path.join(valid_dir, sDir)\n",
    "            else:\n",
    "                out_dir = os.path.join(test_dir, sDir)\n",
    "\n",
    "            makedir(out_dir)\n",
    "            out_path = os.path.join(out_dir, os.path.split(imgs_list[i])[-1])\n",
    "            shutil.copy(imgs_list[i], out_path)\n",
    "\n",
    "        print('Class:{}, train:{}, valid:{}, test:{}'.format(sDir, train_point, valid_point-train_point, imgs_num-valid_point))"
   ]
  },
  {
   "cell_type": "code",
   "execution_count": null,
   "metadata": {},
   "outputs": [],
   "source": []
  }
 ],
 "metadata": {
  "kernelspec": {
   "display_name": "Python 3",
   "language": "python",
   "name": "python3"
  },
  "language_info": {
   "codemirror_mode": {
    "name": "ipython",
    "version": 3
   },
   "file_extension": ".py",
   "mimetype": "text/x-python",
   "name": "python",
   "nbconvert_exporter": "python",
   "pygments_lexer": "ipython3",
   "version": "3.7.0"
  }
 },
 "nbformat": 4,
 "nbformat_minor": 2
}
