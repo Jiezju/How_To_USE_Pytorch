{
 "cells": [
  {
   "cell_type": "markdown",
   "metadata": {},
   "source": [
    "### 数据迁移"
   ]
  },
  {
   "cell_type": "code",
   "execution_count": 18,
   "metadata": {
    "ExecuteTime": {
     "end_time": "2020-05-07T15:58:26.987536Z",
     "start_time": "2020-05-07T15:58:26.983551Z"
    }
   },
   "outputs": [],
   "source": [
    "import torch\n",
    "from torch import nn\n",
    "import numpy as np"
   ]
  },
  {
   "cell_type": "markdown",
   "metadata": {},
   "source": [
    "![](./gpu.jpg)\n",
    "\n",
    "\n",
    "**使用方法**\n",
    "\n",
    "- data.to('cpu')\n",
    "\n",
    "- module.to('cuda')"
   ]
  },
  {
   "cell_type": "markdown",
   "metadata": {},
   "source": [
    "    to函数：转换数据类型/设备\n",
    "    \n",
    "- 区别\n",
    "\n",
    "    张量的to函数不执行in_place        module执行in_place操作"
   ]
  },
  {
   "cell_type": "code",
   "execution_count": 2,
   "metadata": {
    "ExecuteTime": {
     "end_time": "2020-05-07T15:19:09.808041Z",
     "start_time": "2020-05-07T15:19:09.722273Z"
    }
   },
   "outputs": [
    {
     "data": {
      "text/plain": [
       "tensor([[1., 1., 1.],\n",
       "        [1., 1., 1.],\n",
       "        [1., 1., 1.]], dtype=torch.float64)"
      ]
     },
     "execution_count": 2,
     "metadata": {},
     "output_type": "execute_result"
    }
   ],
   "source": [
    "x = torch.ones((3, 3))\n",
    "x.to(torch.float64)"
   ]
  },
  {
   "cell_type": "code",
   "execution_count": 3,
   "metadata": {
    "ExecuteTime": {
     "end_time": "2020-05-07T15:19:41.504413Z",
     "start_time": "2020-05-07T15:19:31.741929Z"
    }
   },
   "outputs": [
    {
     "data": {
      "text/plain": [
       "tensor([[1., 1., 1.],\n",
       "        [1., 1., 1.],\n",
       "        [1., 1., 1.]], device='cuda:0')"
      ]
     },
     "execution_count": 3,
     "metadata": {},
     "output_type": "execute_result"
    }
   ],
   "source": [
    "x = torch.ones((3, 3))\n",
    "x.to('cuda')"
   ]
  },
  {
   "cell_type": "code",
   "execution_count": 5,
   "metadata": {
    "ExecuteTime": {
     "end_time": "2020-05-07T15:21:11.966805Z",
     "start_time": "2020-05-07T15:21:11.066144Z"
    }
   },
   "outputs": [
    {
     "data": {
      "text/plain": [
       "Linear(in_features=2, out_features=2, bias=True)"
      ]
     },
     "execution_count": 5,
     "metadata": {},
     "output_type": "execute_result"
    }
   ],
   "source": [
    "linear=nn.Linear(2,2)\n",
    "linear.to(torch.float64)"
   ]
  },
  {
   "cell_type": "code",
   "execution_count": 6,
   "metadata": {
    "ExecuteTime": {
     "end_time": "2020-05-07T15:22:09.428442Z",
     "start_time": "2020-05-07T15:22:08.416554Z"
    }
   },
   "outputs": [
    {
     "data": {
      "text/plain": [
       "Linear(in_features=2, out_features=2, bias=True)"
      ]
     },
     "execution_count": 6,
     "metadata": {},
     "output_type": "execute_result"
    }
   ],
   "source": [
    "gpu = torch.device('cuda')\n",
    "linear.to(gpu)"
   ]
  },
  {
   "cell_type": "code",
   "execution_count": 8,
   "metadata": {
    "ExecuteTime": {
     "end_time": "2020-05-07T15:26:59.317952Z",
     "start_time": "2020-05-07T15:26:58.152255Z"
    }
   },
   "outputs": [
    {
     "name": "stdout",
     "output_type": "stream",
     "text": [
      "x_cpu:\n",
      "device: cpu is_cuda: False id: 2890607536888\n",
      "x_gpu:\n",
      "device: cuda:0 is_cuda: True id: 2890607536024\n"
     ]
    }
   ],
   "source": [
    "# ========================== tensor to cuda\n",
    "\n",
    "x_cpu = torch.ones((3, 3))\n",
    "print(\"x_cpu:\\ndevice: {} is_cuda: {} id: {}\".format(x_cpu.device, x_cpu.is_cuda, id(x_cpu)))\n",
    "\n",
    "x_gpu = x_cpu.to('cuda')\n",
    "print(\"x_gpu:\\ndevice: {} is_cuda: {} id: {}\".format(x_gpu.device, x_gpu.is_cuda, id(x_gpu)))"
   ]
  },
  {
   "cell_type": "code",
   "execution_count": 10,
   "metadata": {
    "ExecuteTime": {
     "end_time": "2020-05-07T15:28:41.309670Z",
     "start_time": "2020-05-07T15:28:40.239673Z"
    }
   },
   "outputs": [
    {
     "name": "stdout",
     "output_type": "stream",
     "text": [
      "\n",
      "id:2890607416712 is_cuda: False\n",
      "\n",
      "id:2890607416712 is_cuda: True\n"
     ]
    }
   ],
   "source": [
    "# ========================== module to cuda\n",
    "net = nn.Sequential(nn.Linear(3, 3))\n",
    "\n",
    "print(\"\\nid:{} is_cuda: {}\".format(id(net), next(net.parameters()).is_cuda))\n",
    "\n",
    "net.to('cuda')\n",
    "print(\"\\nid:{} is_cuda: {}\".format(id(net), next(net.parameters()).is_cuda))"
   ]
  },
  {
   "cell_type": "markdown",
   "metadata": {},
   "source": [
    "## torch.cuda的常用方法"
   ]
  },
  {
   "cell_type": "markdown",
   "metadata": {},
   "source": [
    "    torch.cuda.device_count()\n",
    "    \n",
    "- 查看可用的GPU数量"
   ]
  },
  {
   "cell_type": "markdown",
   "metadata": {},
   "source": [
    "    torch.cuda.get_device_name()\n",
    "    \n",
    "- 获取GPU名称"
   ]
  },
  {
   "cell_type": "code",
   "execution_count": 12,
   "metadata": {
    "ExecuteTime": {
     "end_time": "2020-05-07T15:53:08.406507Z",
     "start_time": "2020-05-07T15:53:07.533781Z"
    }
   },
   "outputs": [
    {
     "name": "stdout",
     "output_type": "stream",
     "text": [
      "current_device:  0\n",
      "current_device:  0\n",
      "(6, 1)\n",
      "GeForce GTX 1050\n",
      "True\n"
     ]
    }
   ],
   "source": [
    "# ========================== 查看当前gpu 序号，尝试修改可见gpu，以及主gpu\n",
    "current_device = torch.cuda.current_device()\n",
    "print(\"current_device: \", current_device)\n",
    "\n",
    "torch.cuda.set_device(0)\n",
    "current_device = torch.cuda.current_device()\n",
    "print(\"current_device: \", current_device)\n",
    "\n",
    "#\n",
    "cap = torch.cuda.get_device_capability(device=None)\n",
    "print(cap)\n",
    "#\n",
    "name = torch.cuda.get_device_name()\n",
    "print(name)\n",
    "\n",
    "is_available = torch.cuda.is_available()\n",
    "print(is_available)"
   ]
  },
  {
   "cell_type": "code",
   "execution_count": 13,
   "metadata": {
    "ExecuteTime": {
     "end_time": "2020-05-07T15:54:18.405520Z",
     "start_time": "2020-05-07T15:54:18.272563Z"
    }
   },
   "outputs": [
    {
     "name": "stdout",
     "output_type": "stream",
     "text": [
      "2\n"
     ]
    }
   ],
   "source": [
    "# ===================== seed\n",
    "seed = 2\n",
    "torch.cuda.manual_seed(seed)\n",
    "torch.cuda.manual_seed_all(seed)\n",
    "\n",
    "current_seed = torch.cuda.initial_seed()\n",
    "print(current_seed)\n",
    "\n",
    "s = torch.cuda.seed()\n",
    "s_all = torch.cuda.seed_all()"
   ]
  },
  {
   "cell_type": "code",
   "execution_count": 14,
   "metadata": {
    "ExecuteTime": {
     "end_time": "2020-05-07T15:55:35.321288Z",
     "start_time": "2020-05-07T15:55:35.315311Z"
    }
   },
   "outputs": [
    {
     "name": "stdout",
     "output_type": "stream",
     "text": [
      "\n",
      "device_count: 1\n",
      "\n",
      "device_name: GeForce GTX 1050\n"
     ]
    }
   ],
   "source": [
    "# ========================== 查看 gpu数量/名称\n",
    "device_count = torch.cuda.device_count()\n",
    "print(\"\\ndevice_count: {}\".format(device_count))\n",
    "\n",
    "device_name = torch.cuda.get_device_name(0)\n",
    "print(\"\\ndevice_name: {}\".format(device_name))"
   ]
  },
  {
   "cell_type": "code",
   "execution_count": 16,
   "metadata": {
    "ExecuteTime": {
     "end_time": "2020-05-07T15:56:36.305421Z",
     "start_time": "2020-05-07T15:56:36.300435Z"
    }
   },
   "outputs": [],
   "source": [
    "# ============================ 手动选择gpu\n",
    "import os\n",
    "gpu_list = [0]\n",
    "gpu_list_str = ','.join(map(str, gpu_list))\n",
    "os.environ.setdefault(\"CUDA_VISIBLE_DEVICES\", gpu_list_str) \n",
    "device = torch.device(\"cuda\" if torch.cuda.is_available() else \"cpu\")"
   ]
  },
  {
   "cell_type": "code",
   "execution_count": 19,
   "metadata": {
    "ExecuteTime": {
     "end_time": "2020-05-07T15:58:30.539358Z",
     "start_time": "2020-05-07T15:58:30.411883Z"
    }
   },
   "outputs": [
    {
     "name": "stdout",
     "output_type": "stream",
     "text": [
      "显存计算功能暂不支持windows操作系统\n",
      "\n",
      "gpu free memory: False\n"
     ]
    }
   ],
   "source": [
    "# ============================ 依内存情况自动选择主gpu\n",
    "def get_gpu_memory():\n",
    "    import platform\n",
    "    if 'Windows' != platform.system():\n",
    "        import os\n",
    "        os.system('nvidia-smi -q -d Memory | grep -A4 GPU | grep Free > tmp.txt')\n",
    "        memory_gpu = [int(x.split()[2]) for x in open('tmp.txt', 'r').readlines()]\n",
    "        os.system('rm tmp.txt')\n",
    "    else:\n",
    "        memory_gpu = False\n",
    "        print(\"显存计算功能暂不支持windows操作系统\")\n",
    "    return memory_gpu\n",
    "\n",
    "\n",
    "gpu_memory = get_gpu_memory()\n",
    "if not gpu_memory:\n",
    "    print(\"\\ngpu free memory: {}\".format(gpu_memory))\n",
    "    gpu_list = np.argsort(gpu_memory)[::-1]\n",
    "\n",
    "    gpu_list_str = ','.join(map(str, gpu_list))\n",
    "    os.environ.setdefault(\"CUDA_VISIBLE_DEVICES\", gpu_list_str)\n",
    "    device = torch.device(\"cuda\" if torch.cuda.is_available() else \"cpu\")"
   ]
  },
  {
   "cell_type": "markdown",
   "metadata": {},
   "source": [
    "## 多GPU的分发并行机制"
   ]
  },
  {
   "cell_type": "markdown",
   "metadata": {
    "ExecuteTime": {
     "end_time": "2020-05-07T15:42:26.012864Z",
     "start_time": "2020-05-07T15:42:25.978951Z"
    }
   },
   "source": [
    "    torch.nn.DataParallel(module,device_ids,output_device,dim)\n",
    "\n",
    "- module\n",
    "\n",
    "    需要包装分发的模型\n",
    "\n",
    "- device_ids\n",
    "\n",
    "    可分发的GPU\n",
    "\n",
    "- output_device\n",
    "\n",
    "    结果输出设备"
   ]
  },
  {
   "cell_type": "code",
   "execution_count": 20,
   "metadata": {
    "ExecuteTime": {
     "end_time": "2020-05-07T15:59:29.843055Z",
     "start_time": "2020-05-07T15:59:29.837038Z"
    }
   },
   "outputs": [],
   "source": [
    "class FooNet(nn.Module):\n",
    "    def __init__(self, neural_num, layers=3):\n",
    "        super(FooNet, self).__init__()\n",
    "        self.linears = nn.ModuleList([nn.Linear(neural_num, neural_num, bias=False) for i in range(layers)])\n",
    "\n",
    "    def forward(self, x):\n",
    "\n",
    "        print(\"\\nbatch size in forward: {}\".format(x.size()[0]))\n",
    "\n",
    "        for (i, linear) in enumerate(self.linears):\n",
    "            x = linear(x)\n",
    "            x = torch.relu(x)\n",
    "        return x"
   ]
  },
  {
   "cell_type": "code",
   "execution_count": 21,
   "metadata": {
    "ExecuteTime": {
     "end_time": "2020-05-07T16:00:30.630972Z",
     "start_time": "2020-05-07T16:00:12.494116Z"
    }
   },
   "outputs": [
    {
     "name": "stdout",
     "output_type": "stream",
     "text": [
      "\n",
      "batch size in forward: 16\n",
      "model outputs.size: torch.Size([16, 3])\n",
      "CUDA_VISIBLE_DEVICES :0\n",
      "device_count :1\n"
     ]
    }
   ],
   "source": [
    "batch_size = 16\n",
    "\n",
    "# data\n",
    "inputs = torch.randn(batch_size, 3)\n",
    "labels = torch.randn(batch_size, 3)\n",
    "\n",
    "inputs, labels = inputs.to(device), labels.to(device)\n",
    "\n",
    "# model\n",
    "net = FooNet(neural_num=3, layers=3)  # 使用了并行机制\n",
    "net = nn.DataParallel(net)\n",
    "net.to(device)\n",
    "\n",
    "# training\n",
    "for epoch in range(1):\n",
    "\n",
    "    outputs = net(inputs)\n",
    "\n",
    "    print(\"model outputs.size: {}\".format(outputs.size()))\n",
    "\n",
    "print(\"CUDA_VISIBLE_DEVICES :{}\".format(os.environ[\"CUDA_VISIBLE_DEVICES\"]))\n",
    "print(\"device_count :{}\".format(torch.cuda.device_count()))"
   ]
  },
  {
   "cell_type": "code",
   "execution_count": null,
   "metadata": {},
   "outputs": [],
   "source": []
  }
 ],
 "metadata": {
  "kernelspec": {
   "display_name": "Python 3",
   "language": "python",
   "name": "python3"
  },
  "language_info": {
   "codemirror_mode": {
    "name": "ipython",
    "version": 3
   },
   "file_extension": ".py",
   "mimetype": "text/x-python",
   "name": "python",
   "nbconvert_exporter": "python",
   "pygments_lexer": "ipython3",
   "version": "3.7.0"
  }
 },
 "nbformat": 4,
 "nbformat_minor": 2
}
