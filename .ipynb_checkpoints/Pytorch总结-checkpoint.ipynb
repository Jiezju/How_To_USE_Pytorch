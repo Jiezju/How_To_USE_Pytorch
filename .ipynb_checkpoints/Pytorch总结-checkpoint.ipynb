{
 "cells": [
  {
   "cell_type": "markdown",
   "metadata": {},
   "source": [
    "## 1. PyTorch构建模型"
   ]
  },
  {
   "cell_type": "code",
   "execution_count": 1,
   "metadata": {
    "ExecuteTime": {
     "end_time": "2020-06-14T15:59:04.997863Z",
     "start_time": "2020-06-14T15:58:59.302889Z"
    }
   },
   "outputs": [],
   "source": [
    "import torch\n",
    "torch.manual_seed(0)\n",
    "torch.backends.cudnn.deterministic= False\n",
    "torch.backends.cudnn.benchmark = True\n",
    "import torchvision.models as models\n",
    "import torchvision.transforms as transforms\n",
    "import torchvision.datasets as datasets\n",
    "import torch.nn as nn\n",
    "import torch.nn.functional as F\n",
    "import torch.optim as optim\n",
    "from torch.autograd import Variable\n",
    "from torch.utils.data.dataset import Dataset"
   ]
  },
  {
   "cell_type": "markdown",
   "metadata": {},
   "source": [
    "## pytorch常用网络"
   ]
  },
  {
   "cell_type": "markdown",
   "metadata": {},
   "source": [
    "### Linear介绍 [全连接层]"
   ]
  },
  {
   "cell_type": "code",
   "execution_count": null,
   "metadata": {},
   "outputs": [],
   "source": [
    "linear = nn.Linear(input_feature, out_feature, bias=True)"
   ]
  },
  {
   "cell_type": "markdown",
   "metadata": {},
   "source": [
    "### 卷积介绍 [2D卷积层]"
   ]
  },
  {
   "cell_type": "code",
   "execution_count": null,
   "metadata": {},
   "outputs": [],
   "source": [
    "conv = nn.Conv2d(in_channels,out_channels,kernel_size,stride=1,padding=0,dilation=1,groups,bias=True,padding_mode='zeros')\n",
    "# kernel_size,stride,padding 都可以是元组\n",
    "# dilation 为在卷积核中插入的数量"
   ]
  },
  {
   "cell_type": "markdown",
   "metadata": {},
   "source": [
    "### 转置卷积介绍 [2D反卷积层]"
   ]
  },
  {
   "cell_type": "code",
   "execution_count": null,
   "metadata": {},
   "outputs": [],
   "source": [
    "convinv = nn.ConvTranspose2d(in_channels,out_channels,kernel_size,stride=1,padding=0,out_padding=0,groups=1,bias=True,dilation=1,padding_mode='zeros')\n",
    "# padding是输入填充，out_padding填充到输出"
   ]
  },
  {
   "cell_type": "markdown",
   "metadata": {},
   "source": [
    "### 最大值池化层 [2D池化层]"
   ]
  },
  {
   "cell_type": "code",
   "execution_count": null,
   "metadata": {},
   "outputs": [],
   "source": [
    "maxpool = nn.MaxPool2d(kernel_size,stride=None,padding=0,dilation=1)"
   ]
  },
  {
   "cell_type": "markdown",
   "metadata": {},
   "source": [
    "### 批量归一化层 [2D归一化层]"
   ]
  },
  {
   "cell_type": "code",
   "execution_count": null,
   "metadata": {},
   "outputs": [],
   "source": [
    "ba = nn.BatchNorm2d(num_features,eps,momentum,affine=True,track_running_stats=True)\n",
    "\n",
    "# affine=True 表示批量归一化的α，β是被学到的\n",
    "# track_running_stats=True 表示对数据的统计特征进行关注"
   ]
  },
  {
   "cell_type": "markdown",
   "metadata": {},
   "source": [
    "## 2. PyTorch 创建模型的四种方法"
   ]
  },
  {
   "cell_type": "code",
   "execution_count": 4,
   "metadata": {
    "ExecuteTime": {
     "end_time": "2020-06-14T16:07:32.211287Z",
     "start_time": "2020-06-14T16:07:32.207300Z"
    }
   },
   "outputs": [],
   "source": [
    "from collections import OrderedDict"
   ]
  },
  {
   "cell_type": "markdown",
   "metadata": {},
   "source": [
    "### 定义在init，前向过程在forward"
   ]
  },
  {
   "cell_type": "code",
   "execution_count": 6,
   "metadata": {
    "ExecuteTime": {
     "end_time": "2020-06-14T16:09:40.915875Z",
     "start_time": "2020-06-14T16:09:40.910884Z"
    }
   },
   "outputs": [],
   "source": [
    "# 使用属性定义\n",
    "class Net1(torch.nn.Module):\n",
    "    def __init__(self):\n",
    "        super(Net1, self).__init__()\n",
    "        self.conv1 = torch.nn.Conv2d(3, 32, 3, 1, 1)\n",
    "        self.dense1 = torch.nn.Linear(32 * 3 * 3, 128)\n",
    "        self.dense2 = torch.nn.Linear(128, 10)\n",
    "\n",
    "    def forward(self, x):\n",
    "        x = F.max_pool2d(F.relu(self.conv(x)), 2)\n",
    "        x = x.view(x.size(0), -1)\n",
    "        x = F.relu(self.dense1(x))\n",
    "        x = self.dense2(x)\n",
    "\n",
    "        return x"
   ]
  },
  {
   "cell_type": "code",
   "execution_count": 8,
   "metadata": {
    "ExecuteTime": {
     "end_time": "2020-06-14T16:12:02.210052Z",
     "start_time": "2020-06-14T16:12:02.204060Z"
    }
   },
   "outputs": [],
   "source": [
    "model = Net1()"
   ]
  },
  {
   "cell_type": "code",
   "execution_count": 9,
   "metadata": {
    "ExecuteTime": {
     "end_time": "2020-06-14T16:12:09.801193Z",
     "start_time": "2020-06-14T16:12:09.789223Z"
    }
   },
   "outputs": [
    {
     "data": {
      "text/plain": [
       "Conv2d(3, 32, kernel_size=(3, 3), stride=(1, 1), padding=(1, 1))"
      ]
     },
     "execution_count": 9,
     "metadata": {},
     "output_type": "execute_result"
    }
   ],
   "source": [
    "model.conv1"
   ]
  },
  {
   "cell_type": "markdown",
   "metadata": {},
   "source": [
    "### 序列集成型[利用nn.Squential(顺序执行的层函数)]\n",
    "\n",
    "- 访问各层只能通过数字索引"
   ]
  },
  {
   "cell_type": "code",
   "execution_count": 7,
   "metadata": {
    "ExecuteTime": {
     "end_time": "2020-06-14T16:11:32.172868Z",
     "start_time": "2020-06-14T16:11:32.166913Z"
    }
   },
   "outputs": [],
   "source": [
    "class Net2(torch.nn.Module):\n",
    "    def __init__(self):\n",
    "        super(Net2, self).__init__()\n",
    "        self.conv = torch.nn.Sequential(torch.nn.Conv2d(3, 32, 3, 1, 1),\n",
    "                                        torch.nn.ReLU(), torch.nn.MaxPool2d(2))\n",
    "        self.dense = torch.nn.Sequential(torch.nn.Linear(32 * 3 * 3, 128),\n",
    "                                         torch.nn.ReLU(),\n",
    "                                         torch.nn.Linear(128, 10))\n",
    "\n",
    "    def forward(self, x):\n",
    "        conv_out = self.conv(x)\n",
    "        res = conv_out.view(conv_out.size(0), -1)\n",
    "        out = self.dense(res)\n",
    "        return out"
   ]
  },
  {
   "cell_type": "code",
   "execution_count": 12,
   "metadata": {
    "ExecuteTime": {
     "end_time": "2020-06-14T16:12:59.184363Z",
     "start_time": "2020-06-14T16:12:59.177385Z"
    }
   },
   "outputs": [
    {
     "data": {
      "text/plain": [
       "Conv2d(3, 32, kernel_size=(3, 3), stride=(1, 1), padding=(1, 1))"
      ]
     },
     "execution_count": 12,
     "metadata": {},
     "output_type": "execute_result"
    }
   ],
   "source": [
    "model = Net2()\n",
    "model.conv[0]"
   ]
  },
  {
   "cell_type": "markdown",
   "metadata": {},
   "source": [
    "### 序列添加型[利用Squential类add_module顺序逐层添加]\n",
    "\n",
    "- 给予各层的name属性"
   ]
  },
  {
   "cell_type": "code",
   "execution_count": 13,
   "metadata": {
    "ExecuteTime": {
     "end_time": "2020-06-14T16:16:55.647717Z",
     "start_time": "2020-06-14T16:16:55.641727Z"
    }
   },
   "outputs": [],
   "source": [
    "class Net3(torch.nn.Module):\n",
    "    def __init__(self):\n",
    "        super(Net3, self).__init__()\n",
    "        self.conv = torch.nn.Sequential()\n",
    "        self.conv.add_module(\"conv1\", torch.nn.Conv2d(3, 32, 3, 1, 1))\n",
    "        self.conv.add_module(\"relu1\", torch.nn.ReLU())\n",
    "        self.conv.add_module(\"pool1\", torch.nn.MaxPool2d(2))\n",
    "        self.dense = torch.nn.Sequential()\n",
    "        self.dense.add_module(\"dense1\", torch.nn.Linear(32 * 3 * 3, 128))\n",
    "        self.dense.add_module(\"relu2\", torch.nn.ReLU())\n",
    "        self.dense.add_module(\"dense2\", torch.nn.Linear(128, 10))\n",
    "\n",
    "    def forward(self, x):\n",
    "        conv_out = self.conv(x)\n",
    "        res = conv_out.view(conv_out.size(0), -1)\n",
    "        out = self.dense(res)\n",
    "        return out"
   ]
  },
  {
   "cell_type": "code",
   "execution_count": 17,
   "metadata": {
    "ExecuteTime": {
     "end_time": "2020-06-14T16:17:43.163036Z",
     "start_time": "2020-06-14T16:17:43.156018Z"
    }
   },
   "outputs": [
    {
     "data": {
      "text/plain": [
       "Conv2d(3, 32, kernel_size=(3, 3), stride=(1, 1), padding=(1, 1))"
      ]
     },
     "execution_count": 17,
     "metadata": {},
     "output_type": "execute_result"
    }
   ],
   "source": [
    "model = Net3()\n",
    "model.conv.conv1"
   ]
  },
  {
   "cell_type": "markdown",
   "metadata": {},
   "source": [
    "### 序列集成字典型[OrderDict集成模型字典【‘name’:层函数】]\n",
    "\n",
    "- name为key"
   ]
  },
  {
   "cell_type": "code",
   "execution_count": 20,
   "metadata": {
    "ExecuteTime": {
     "end_time": "2020-06-14T16:20:42.732617Z",
     "start_time": "2020-06-14T16:20:42.724636Z"
    }
   },
   "outputs": [],
   "source": [
    "class Net4(torch.nn.Module):\n",
    "    def __init__(self):\n",
    "        super(Net4, self).__init__()\n",
    "        self.conv = torch.nn.Sequential(\n",
    "            OrderedDict([(\"conv1\", torch.nn.Conv2d(3, 32, 3, 1, 1)),\n",
    "                         (\"relu1\", torch.nn.ReLU()),\n",
    "                         (\"pool\", torch.nn.MaxPool2d(2))]))\n",
    "\n",
    "        self.dense = torch.nn.Sequential(\n",
    "            OrderedDict([(\"dense1\", torch.nn.Linear(32 * 3 * 3, 128)),\n",
    "                         (\"relu2\", torch.nn.ReLU()),\n",
    "                         (\"dense2\", torch.nn.Linear(128, 10))]))\n",
    "\n",
    "    def forward(self, x):\n",
    "        conv_out = self.conv1(x)\n",
    "        res = conv_out.view(conv_out.size(0), -1)\n",
    "        out = self.dense(res)\n",
    "        return out"
   ]
  },
  {
   "cell_type": "code",
   "execution_count": 25,
   "metadata": {
    "ExecuteTime": {
     "end_time": "2020-06-14T16:21:47.183334Z",
     "start_time": "2020-06-14T16:21:47.176360Z"
    }
   },
   "outputs": [
    {
     "data": {
      "text/plain": [
       "Conv2d(3, 32, kernel_size=(3, 3), stride=(1, 1), padding=(1, 1))"
      ]
     },
     "execution_count": 25,
     "metadata": {},
     "output_type": "execute_result"
    }
   ],
   "source": [
    "model = Net4()\n",
    "model.conv.conv1"
   ]
  },
  {
   "cell_type": "markdown",
   "metadata": {},
   "source": [
    "## 3. PyTorch 对模型参数的访问，初始化，共享"
   ]
  },
  {
   "cell_type": "markdown",
   "metadata": {},
   "source": [
    "### 访问参数\n",
    "\n",
    "- 如果采用序列集成型,序列添加型或者字典集成性，都只能使用id索引访问层。eg:net[1]；\n",
    "\n",
    "- 如果想以网络的name访问，eg:net.layer_name。"
   ]
  },
  {
   "cell_type": "markdown",
   "metadata": {},
   "source": [
    "### 访问参数【权重参数名：层名_weight/bias】\n",
    "\n",
    "- layer.parameters----访问该层参数字典；\n",
    "- layer.weight , layer.bias-----访问该层权重和偏置；\n",
    "- layer.weight.data()/grad() ------访问该层权重的具体数值/梯度【bias也使用】；\n",
    "- net.collect_params() ----返回该网络的所有参数，返回一个由参数名称到实例的字典。"
   ]
  },
  {
   "cell_type": "code",
   "execution_count": 29,
   "metadata": {
    "ExecuteTime": {
     "end_time": "2020-06-14T16:29:53.946047Z",
     "start_time": "2020-06-14T16:29:53.942026Z"
    }
   },
   "outputs": [
    {
     "data": {
      "text/plain": [
       "<bound method Module.parameters of Conv2d(3, 32, kernel_size=(3, 3), stride=(1, 1), padding=(1, 1))>"
      ]
     },
     "execution_count": 29,
     "metadata": {},
     "output_type": "execute_result"
    }
   ],
   "source": [
    "model.conv.conv1.parameters"
   ]
  },
  {
   "cell_type": "code",
   "execution_count": 31,
   "metadata": {
    "ExecuteTime": {
     "end_time": "2020-06-14T16:31:21.477100Z",
     "start_time": "2020-06-14T16:31:21.453134Z"
    }
   },
   "outputs": [
    {
     "data": {
      "text/plain": [
       "Parameter containing:\n",
       "tensor([[[[ 1.8588e-01,  1.1830e-01,  1.7910e-01],\n",
       "          [-6.0694e-02,  1.2648e-01,  7.1135e-02],\n",
       "          [ 7.3809e-02, -4.6837e-02, -1.2379e-01]],\n",
       "\n",
       "         [[ 1.1960e-01, -6.5238e-02, -4.9806e-02],\n",
       "          [ 1.8110e-01,  1.8658e-01, -1.1365e-01],\n",
       "          [-6.7899e-02, -1.4177e-01, -9.2813e-02]],\n",
       "\n",
       "         [[-5.5717e-02, -4.2587e-02,  1.2439e-01],\n",
       "          [-1.0647e-01, -1.5759e-04,  3.6399e-02],\n",
       "          [-1.4140e-01, -3.6170e-02,  4.5594e-02]]],\n",
       "\n",
       "\n",
       "        [[[ 1.8899e-01,  3.7958e-02, -1.7555e-01],\n",
       "          [-1.3407e-03, -1.1275e-01, -1.6665e-01],\n",
       "          [ 6.3226e-02,  1.9218e-01, -1.7576e-01]],\n",
       "\n",
       "         [[-1.8028e-01,  1.7894e-01,  1.9123e-01],\n",
       "          [ 4.6231e-02,  1.2398e-02, -2.1908e-02],\n",
       "          [ 1.6763e-01, -1.2918e-01,  7.9540e-02]],\n",
       "\n",
       "         [[ 1.8170e-01, -3.5179e-02, -9.2398e-02],\n",
       "          [-1.1363e-01, -1.6119e-01,  1.7509e-01],\n",
       "          [-4.5471e-03, -1.9712e-02, -7.1500e-02]]],\n",
       "\n",
       "\n",
       "        [[[-1.2019e-01, -2.4589e-02, -9.1015e-02],\n",
       "          [-1.8183e-01,  2.2629e-02, -1.7487e-01],\n",
       "          [-1.0059e-01,  1.0497e-01,  1.8105e-01]],\n",
       "\n",
       "         [[ 1.2874e-01,  7.3907e-02, -7.4044e-02],\n",
       "          [ 1.7113e-01,  1.2013e-01, -2.3735e-02],\n",
       "          [ 1.0478e-01,  1.7093e-02,  1.3199e-01]],\n",
       "\n",
       "         [[-1.7233e-01, -1.5006e-01, -1.5224e-01],\n",
       "          [ 1.2048e-01, -2.2098e-02,  4.4366e-02],\n",
       "          [-1.0500e-01,  1.5260e-01, -1.9019e-01]]],\n",
       "\n",
       "\n",
       "        [[[-1.2185e-01,  1.0168e-01,  9.1519e-02],\n",
       "          [ 1.8668e-01, -1.2316e-01, -1.1886e-01],\n",
       "          [ 8.4600e-02, -1.4996e-01, -1.5090e-01]],\n",
       "\n",
       "         [[ 1.7523e-01, -8.5556e-02,  4.3971e-02],\n",
       "          [ 1.6459e-01, -2.3599e-03, -1.3602e-01],\n",
       "          [-1.7014e-01, -4.0060e-02,  9.6698e-02]],\n",
       "\n",
       "         [[-1.3187e-01, -5.1907e-02, -5.6345e-02],\n",
       "          [-8.3946e-02,  5.4588e-02, -1.4949e-01],\n",
       "          [ 1.3061e-01, -1.9237e-02,  3.4408e-02]]],\n",
       "\n",
       "\n",
       "        [[[ 1.7181e-01, -1.1461e-01, -7.4310e-02],\n",
       "          [-8.4832e-03, -4.9362e-02,  1.4660e-01],\n",
       "          [-1.1369e-01, -1.6669e-01, -1.2815e-01]],\n",
       "\n",
       "         [[-1.4056e-02, -5.5759e-02,  1.3992e-02],\n",
       "          [-1.0725e-01,  9.9606e-02,  8.4841e-02],\n",
       "          [-1.1757e-01,  7.7656e-02, -1.1186e-01]],\n",
       "\n",
       "         [[ 1.2794e-01,  4.1040e-02,  9.5006e-02],\n",
       "          [ 3.0310e-02, -7.7646e-02, -1.6724e-02],\n",
       "          [ 2.1044e-02,  4.8046e-02, -1.8402e-01]]],\n",
       "\n",
       "\n",
       "        [[[-1.0852e-01, -1.1782e-02,  9.0019e-03],\n",
       "          [ 1.1298e-01,  1.2418e-01, -1.4648e-01],\n",
       "          [-1.2378e-01, -1.6993e-01, -1.5503e-01]],\n",
       "\n",
       "         [[-1.8126e-01,  1.1256e-01, -1.2674e-01],\n",
       "          [-4.5221e-03,  1.3834e-01,  1.1985e-01],\n",
       "          [-1.2879e-01, -5.9167e-02, -1.3693e-01]],\n",
       "\n",
       "         [[-3.0173e-02,  9.7189e-02, -5.7117e-02],\n",
       "          [-2.7789e-02,  2.5934e-02, -1.3338e-01],\n",
       "          [ 1.5340e-01, -9.8460e-02,  1.2632e-01]]],\n",
       "\n",
       "\n",
       "        [[[ 1.8293e-01, -7.5175e-02,  8.7708e-02],\n",
       "          [ 1.7811e-01, -7.7406e-02,  5.1054e-02],\n",
       "          [-3.2219e-02, -1.4323e-01, -1.3017e-01]],\n",
       "\n",
       "         [[ 8.1156e-02,  2.4655e-02,  2.1974e-02],\n",
       "          [ 1.7945e-01, -5.4765e-02, -8.8851e-02],\n",
       "          [ 7.4562e-02,  3.7326e-02, -5.1299e-02]],\n",
       "\n",
       "         [[ 1.6115e-01,  1.4088e-01,  1.6949e-01],\n",
       "          [-1.3243e-01, -8.3743e-02,  1.0860e-01],\n",
       "          [ 8.8800e-02,  1.8985e-01, -1.4501e-02]]],\n",
       "\n",
       "\n",
       "        [[[ 4.5351e-02,  1.7868e-01, -1.3208e-01],\n",
       "          [-7.6526e-02, -2.2562e-02,  1.4722e-01],\n",
       "          [-1.4198e-01, -8.7141e-02,  7.1902e-02]],\n",
       "\n",
       "         [[-1.2613e-01, -1.8143e-01,  1.1342e-01],\n",
       "          [ 5.3404e-02, -4.9591e-02,  4.7544e-02],\n",
       "          [ 7.7266e-02,  9.0802e-02, -1.3782e-01]],\n",
       "\n",
       "         [[-1.3836e-01,  1.4354e-01,  1.2931e-01],\n",
       "          [ 1.6715e-01, -4.9189e-02,  2.9928e-02],\n",
       "          [-1.5306e-01,  5.7505e-02, -1.2395e-01]]],\n",
       "\n",
       "\n",
       "        [[[ 4.7443e-02, -1.6086e-01,  4.8897e-02],\n",
       "          [-1.5285e-01, -1.3760e-01, -1.8472e-01],\n",
       "          [ 7.8950e-02,  1.7849e-01, -7.7386e-02]],\n",
       "\n",
       "         [[-1.1988e-01,  1.1483e-01, -1.6519e-01],\n",
       "          [-4.5013e-02, -7.0513e-02,  2.7555e-02],\n",
       "          [ 5.3181e-04, -1.2116e-01, -1.1167e-01]],\n",
       "\n",
       "         [[ 1.1440e-01, -7.0181e-02, -4.0132e-02],\n",
       "          [ 1.8713e-02, -3.2527e-02, -1.5462e-01],\n",
       "          [ 1.1845e-01,  4.9870e-02, -1.4486e-01]]],\n",
       "\n",
       "\n",
       "        [[[-5.5716e-02,  8.8746e-02,  1.7934e-02],\n",
       "          [ 6.7266e-02, -3.2696e-02,  1.0552e-01],\n",
       "          [ 1.4824e-01, -5.7899e-02,  4.4522e-02]],\n",
       "\n",
       "         [[-1.0676e-01, -5.0424e-02, -8.5899e-02],\n",
       "          [-1.5177e-01,  5.6211e-02,  1.5433e-01],\n",
       "          [-1.6961e-01, -9.5916e-03, -5.9813e-02]],\n",
       "\n",
       "         [[-9.7336e-02,  5.2458e-02,  3.8940e-02],\n",
       "          [ 8.8926e-02, -6.1881e-02,  4.0581e-02],\n",
       "          [-1.5126e-01,  6.0903e-03, -6.5802e-02]]],\n",
       "\n",
       "\n",
       "        [[[ 1.6842e-01,  5.9235e-02, -1.6430e-01],\n",
       "          [ 2.9909e-03,  9.0622e-02, -1.1669e-01],\n",
       "          [ 1.1023e-01,  7.9454e-02, -3.7742e-02]],\n",
       "\n",
       "         [[ 7.2968e-02,  1.1168e-01, -1.1769e-01],\n",
       "          [ 8.2240e-02, -1.6860e-01, -1.9065e-01],\n",
       "          [-1.0420e-01,  1.8421e-01,  1.2074e-01]],\n",
       "\n",
       "         [[ 1.7815e-02,  4.6836e-02,  1.0564e-01],\n",
       "          [-5.6890e-02,  8.1058e-02, -3.0803e-02],\n",
       "          [ 9.4502e-02, -1.1695e-01, -2.5631e-02]]],\n",
       "\n",
       "\n",
       "        [[[-1.8586e-01, -1.8928e-01,  2.7054e-02],\n",
       "          [ 1.6472e-01,  9.8138e-02, -1.0586e-01],\n",
       "          [-1.6097e-01,  4.5042e-02, -1.4158e-01]],\n",
       "\n",
       "         [[ 7.4068e-02,  3.3198e-02,  1.3720e-01],\n",
       "          [ 2.9437e-02,  5.7820e-02, -3.0656e-02],\n",
       "          [ 4.6736e-02, -1.8994e-02,  1.0922e-01]],\n",
       "\n",
       "         [[ 3.0022e-03,  3.7224e-02,  3.1632e-02],\n",
       "          [ 1.8884e-01, -1.4611e-01, -8.0237e-02],\n",
       "          [ 1.4923e-02, -1.4957e-02,  9.8140e-02]]],\n",
       "\n",
       "\n",
       "        [[[-1.5428e-01,  1.0416e-01,  1.7130e-01],\n",
       "          [-1.5743e-01, -1.2932e-01, -1.1896e-01],\n",
       "          [-9.8853e-02,  6.8143e-02,  1.8386e-01]],\n",
       "\n",
       "         [[ 1.5335e-01, -6.8543e-03,  1.0721e-01],\n",
       "          [ 4.6129e-02,  1.5966e-01, -1.1715e-01],\n",
       "          [ 8.6583e-02,  5.2057e-02,  5.7061e-03]],\n",
       "\n",
       "         [[-9.0758e-02, -6.1421e-02, -7.3439e-02],\n",
       "          [-5.3061e-02, -1.4244e-01, -1.3243e-01],\n",
       "          [-1.0125e-01, -1.5351e-01, -1.5555e-01]]],\n",
       "\n",
       "\n",
       "        [[[ 1.6511e-01, -1.0115e-01,  1.2187e-01],\n",
       "          [ 1.5171e-01, -2.0656e-02, -1.9149e-01],\n",
       "          [-6.1474e-03, -1.4671e-01, -3.2464e-02]],\n",
       "\n",
       "         [[-1.7013e-02, -1.6394e-01,  7.4665e-02],\n",
       "          [ 1.9692e-02,  1.4853e-01, -1.1342e-01],\n",
       "          [-1.7208e-01, -1.2085e-01, -1.0666e-01]],\n",
       "\n",
       "         [[-2.0257e-02, -5.0504e-02, -1.3437e-01],\n",
       "          [-1.8932e-01, -1.2901e-01,  1.4177e-01],\n",
       "          [ 1.6536e-01, -8.2504e-02,  1.2627e-01]]],\n",
       "\n",
       "\n",
       "        [[[ 3.0615e-02, -1.8902e-01, -5.2369e-02],\n",
       "          [-1.6849e-01, -1.4465e-01, -8.5510e-02],\n",
       "          [ 1.7322e-01, -1.6742e-01, -1.3916e-01]],\n",
       "\n",
       "         [[ 1.3659e-01,  1.2597e-01,  9.5361e-02],\n",
       "          [-1.4295e-01,  1.7960e-01,  1.4104e-01],\n",
       "          [ 1.3678e-01, -1.8895e-02, -6.3998e-03]],\n",
       "\n",
       "         [[ 1.2375e-01, -4.2868e-03,  1.1489e-01],\n",
       "          [ 1.5249e-01,  1.1985e-01,  4.1062e-02],\n",
       "          [-6.9847e-02, -8.3818e-02,  4.3962e-02]]],\n",
       "\n",
       "\n",
       "        [[[ 1.3891e-01,  1.3373e-01, -3.7904e-02],\n",
       "          [ 2.0028e-02,  9.8409e-02, -1.4905e-01],\n",
       "          [ 3.1884e-02,  1.5706e-01,  4.7113e-02]],\n",
       "\n",
       "         [[ 1.2792e-01, -1.7742e-01,  6.3760e-02],\n",
       "          [-1.7747e-01, -1.3576e-01,  2.9813e-02],\n",
       "          [-2.3772e-02, -6.8484e-02,  1.2710e-01]],\n",
       "\n",
       "         [[ 7.2442e-02, -2.9765e-02, -6.5027e-02],\n",
       "          [ 1.2772e-01, -1.7229e-01, -1.0897e-01],\n",
       "          [-1.9368e-03,  1.2862e-01,  3.6895e-02]]],\n",
       "\n",
       "\n",
       "        [[[-1.0541e-01,  1.6388e-01,  1.0396e-01],\n",
       "          [ 1.5825e-01, -1.0482e-01,  1.3630e-01],\n",
       "          [-7.1695e-02,  9.4463e-02,  1.5798e-01]],\n",
       "\n",
       "         [[ 1.8642e-01, -5.6209e-02, -4.0061e-02],\n",
       "          [-6.8169e-02, -6.5842e-02,  9.2854e-03],\n",
       "          [ 1.1865e-02,  7.1915e-02, -9.8216e-02]],\n",
       "\n",
       "         [[ 8.9291e-02,  4.0536e-02, -1.0518e-02],\n",
       "          [ 1.5738e-01,  1.5328e-01,  1.0842e-01],\n",
       "          [-1.8587e-01, -1.7024e-01, -1.2936e-01]]],\n",
       "\n",
       "\n",
       "        [[[-1.0568e-01,  7.6276e-02,  1.1351e-01],\n",
       "          [-4.6232e-02, -1.6908e-01, -1.4477e-01],\n",
       "          [-2.0732e-02, -5.7776e-02,  3.0406e-02]],\n",
       "\n",
       "         [[ 6.3559e-03, -1.2150e-01, -6.3804e-02],\n",
       "          [ 7.0967e-02, -1.8458e-01,  1.8551e-02],\n",
       "          [ 1.5854e-01,  1.8508e-01, -2.6887e-03]],\n",
       "\n",
       "         [[ 8.7938e-02,  1.4213e-01, -1.5831e-01],\n",
       "          [ 4.9052e-02,  1.0000e-01,  2.4510e-02],\n",
       "          [-1.0546e-01, -1.4193e-01,  7.3339e-02]]],\n",
       "\n",
       "\n",
       "        [[[ 1.1365e-01,  6.5256e-02,  1.2353e-01],\n",
       "          [-5.0197e-02,  1.1224e-01,  9.9247e-03],\n",
       "          [ 1.6770e-01, -6.2808e-02, -1.1112e-01]],\n",
       "\n",
       "         [[-8.8369e-02, -1.1881e-01, -3.7694e-03],\n",
       "          [ 4.5057e-02, -5.2217e-02, -1.8148e-01],\n",
       "          [-3.0527e-02,  9.3674e-03,  9.9869e-03]],\n",
       "\n",
       "         [[-3.2596e-02,  9.0423e-02,  1.0512e-01],\n",
       "          [-2.7738e-02,  1.8700e-01,  1.2772e-01],\n",
       "          [ 5.3048e-02, -1.4914e-01, -8.6537e-02]]],\n",
       "\n",
       "\n",
       "        [[[-8.0592e-02, -1.4521e-01,  4.4308e-02],\n",
       "          [-6.3035e-02,  1.0239e-01,  8.7708e-02],\n",
       "          [-1.2456e-01,  8.0993e-02,  1.0956e-01]],\n",
       "\n",
       "         [[-1.1213e-01,  1.9731e-02, -1.8530e-01],\n",
       "          [ 8.9457e-02,  1.2924e-01, -1.5240e-01],\n",
       "          [-1.6835e-01, -1.8077e-01,  5.8472e-02]],\n",
       "\n",
       "         [[ 1.3238e-01,  1.6153e-01, -6.5913e-02],\n",
       "          [ 1.6745e-01,  1.7179e-01, -1.6395e-01],\n",
       "          [ 9.3667e-02,  1.8049e-01,  9.7523e-02]]],\n",
       "\n",
       "\n",
       "        [[[ 6.6362e-02, -8.1823e-02,  1.8738e-01],\n",
       "          [ 4.6766e-02,  1.0652e-01, -1.8709e-02],\n",
       "          [ 1.6935e-02,  6.3221e-02, -1.5417e-01]],\n",
       "\n",
       "         [[-4.8048e-02,  1.6707e-01,  1.0666e-01],\n",
       "          [-1.4388e-01, -8.9604e-02,  5.8708e-02],\n",
       "          [-1.4709e-01, -1.5331e-01, -1.1618e-01]],\n",
       "\n",
       "         [[ 5.3721e-02, -7.0174e-02,  1.7525e-01],\n",
       "          [ 5.4969e-02, -7.6521e-03, -1.0238e-01],\n",
       "          [ 1.1272e-01,  1.7318e-01, -1.5163e-01]]],\n",
       "\n",
       "\n",
       "        [[[-2.5173e-02,  6.7219e-02, -6.7893e-02],\n",
       "          [-2.2736e-02,  6.6168e-02,  6.3807e-02],\n",
       "          [-1.2374e-02, -2.2214e-02,  2.0129e-02]],\n",
       "\n",
       "         [[ 1.5391e-01, -2.3598e-02,  1.8652e-01],\n",
       "          [-3.7242e-02,  9.1061e-02,  1.1682e-01],\n",
       "          [-1.1550e-01, -1.4004e-01, -1.2123e-01]],\n",
       "\n",
       "         [[-6.4102e-02, -1.7266e-01,  1.5081e-01],\n",
       "          [-1.1959e-01, -1.2677e-01, -9.1203e-02],\n",
       "          [ 6.5275e-02, -1.3470e-01,  1.7452e-01]]],\n",
       "\n",
       "\n",
       "        [[[-9.6616e-02, -8.6719e-02,  8.2024e-02],\n",
       "          [ 1.0008e-01, -8.7190e-02, -1.0118e-01],\n",
       "          [ 2.8875e-02, -2.2493e-02,  3.7911e-02]],\n",
       "\n",
       "         [[ 2.4395e-02,  1.7379e-01, -1.5482e-02],\n",
       "          [-1.3494e-01,  1.6715e-01, -1.8879e-01],\n",
       "          [-1.4883e-01,  7.8812e-02,  5.6132e-02]],\n",
       "\n",
       "         [[ 6.8650e-02,  9.8926e-03,  1.6702e-01],\n",
       "          [-7.2545e-02,  1.2004e-01, -4.6324e-02],\n",
       "          [-1.3096e-01, -1.5093e-02, -8.6220e-02]]],\n",
       "\n",
       "\n",
       "        [[[ 1.2171e-01, -1.0645e-01,  9.2365e-03],\n",
       "          [-1.3571e-01,  2.1840e-02, -8.1890e-02],\n",
       "          [-1.1695e-01,  5.9848e-03, -1.0878e-02]],\n",
       "\n",
       "         [[-1.4152e-01, -1.6908e-01,  1.3083e-01],\n",
       "          [ 7.9909e-03,  4.1416e-02,  1.4277e-01],\n",
       "          [-6.4464e-02,  8.9146e-03,  1.5941e-01]],\n",
       "\n",
       "         [[ 2.4335e-04,  1.8772e-01, -5.9523e-03],\n",
       "          [-3.6459e-02, -3.1685e-02, -1.6222e-01],\n",
       "          [-1.7644e-01,  1.5163e-02, -1.6558e-01]]],\n",
       "\n",
       "\n",
       "        [[[ 1.1331e-01,  1.5433e-01, -7.3092e-02],\n",
       "          [-7.4554e-02,  1.7233e-01, -1.6480e-01],\n",
       "          [ 1.0080e-01,  2.8812e-02,  3.9022e-02]],\n",
       "\n",
       "         [[-1.2331e-02,  1.8084e-01,  5.9847e-02],\n",
       "          [-4.1043e-02, -1.0370e-01, -3.7112e-02],\n",
       "          [ 1.4205e-01, -9.2905e-02,  3.8752e-02]],\n",
       "\n",
       "         [[-1.2796e-02,  8.4866e-02,  1.5845e-01],\n",
       "          [ 8.6329e-03,  1.6573e-01, -1.2635e-01],\n",
       "          [ 1.1944e-01, -1.1023e-01, -3.5408e-02]]],\n",
       "\n",
       "\n",
       "        [[[ 7.8563e-02, -7.7310e-02,  9.0728e-02],\n",
       "          [-4.8819e-02,  5.7935e-02,  4.3773e-02],\n",
       "          [-1.7699e-01,  7.4369e-02, -3.8615e-02]],\n",
       "\n",
       "         [[ 4.9640e-02, -1.4519e-01,  1.5912e-01],\n",
       "          [ 6.3797e-02,  4.8755e-02, -1.3785e-01],\n",
       "          [ 1.1497e-01,  3.0788e-02, -8.3226e-02]],\n",
       "\n",
       "         [[-1.4334e-02, -5.3869e-02, -1.3503e-01],\n",
       "          [-1.4788e-01, -4.0502e-02,  1.3131e-01],\n",
       "          [-9.0444e-02, -4.2526e-02,  1.6126e-01]]],\n",
       "\n",
       "\n",
       "        [[[-1.6212e-01,  2.6058e-02,  1.4267e-01],\n",
       "          [-2.2281e-03,  4.3302e-02,  1.7319e-01],\n",
       "          [ 1.8789e-01,  1.0709e-01, -1.4430e-01]],\n",
       "\n",
       "         [[ 1.2199e-01,  1.1219e-02,  1.5649e-02],\n",
       "          [ 2.0294e-02,  1.2492e-01, -1.3614e-01],\n",
       "          [-1.3451e-01,  6.1251e-02,  8.4963e-02]],\n",
       "\n",
       "         [[-4.3463e-02, -1.8623e-01,  7.9204e-02],\n",
       "          [ 5.3774e-02,  3.1086e-02,  1.1557e-01],\n",
       "          [ 7.3306e-02, -2.1201e-02, -6.5683e-02]]],\n",
       "\n",
       "\n",
       "        [[[ 8.5284e-02, -2.8867e-03, -8.4332e-02],\n",
       "          [ 8.7940e-02, -1.0162e-01,  1.5992e-02],\n",
       "          [ 6.0424e-02, -1.4829e-01, -4.2545e-02]],\n",
       "\n",
       "         [[ 1.2661e-01, -1.7950e-01, -7.7583e-02],\n",
       "          [-1.0321e-01, -3.9319e-02, -7.3488e-02],\n",
       "          [ 1.3873e-01,  1.2970e-01,  8.0422e-02]],\n",
       "\n",
       "         [[-8.5877e-02, -1.2452e-01, -4.9462e-02],\n",
       "          [-8.4136e-02,  1.6421e-01, -3.3562e-02],\n",
       "          [ 9.1971e-02, -1.7796e-01, -8.8110e-02]]],\n",
       "\n",
       "\n",
       "        [[[-1.8936e-01,  1.2500e-01,  6.3479e-02],\n",
       "          [-1.2182e-02, -1.0957e-01,  1.3192e-01],\n",
       "          [-1.7953e-01, -1.4939e-01, -5.8030e-02]],\n",
       "\n",
       "         [[-6.4168e-02, -1.6991e-01, -6.4578e-02],\n",
       "          [-3.0832e-02,  5.2068e-02,  4.7102e-02],\n",
       "          [ 8.3004e-02,  1.1982e-01, -5.5647e-02]],\n",
       "\n",
       "         [[ 6.5645e-02, -1.4053e-01,  9.7795e-02],\n",
       "          [ 2.1173e-03, -9.9924e-03, -4.4140e-02],\n",
       "          [ 7.6368e-02,  3.1665e-02, -1.6419e-01]]],\n",
       "\n",
       "\n",
       "        [[[-6.5094e-02, -1.7307e-01, -1.1450e-01],\n",
       "          [-1.1735e-02,  3.3071e-02, -1.2993e-01],\n",
       "          [ 1.3284e-01,  1.0153e-01,  1.1979e-01]],\n",
       "\n",
       "         [[-5.9421e-02, -3.8818e-02,  1.3181e-01],\n",
       "          [-6.6924e-02,  1.2168e-01, -6.3578e-03],\n",
       "          [-2.9837e-02,  1.2287e-01,  1.0741e-02]],\n",
       "\n",
       "         [[ 4.9797e-02, -1.0463e-01, -1.0508e-01],\n",
       "          [ 2.6849e-02,  1.6155e-01,  6.7274e-02],\n",
       "          [ 1.1355e-01, -5.8978e-02, -1.3988e-01]]],\n",
       "\n",
       "\n",
       "        [[[ 1.0891e-01,  1.8035e-01, -3.5385e-02],\n",
       "          [-1.7497e-01,  1.1740e-01, -7.8394e-02],\n",
       "          [-1.1558e-02, -5.3550e-02,  2.1491e-02]],\n",
       "\n",
       "         [[ 9.6046e-02,  9.5747e-03,  1.3789e-01],\n",
       "          [ 4.3225e-02, -1.7007e-02,  1.4074e-02],\n",
       "          [ 1.6071e-01, -1.9042e-01,  1.7060e-01]],\n",
       "\n",
       "         [[ 1.4440e-01,  1.4653e-01, -5.6944e-02],\n",
       "          [ 7.4174e-02, -7.7747e-02,  1.3664e-01],\n",
       "          [-8.1406e-02, -2.9242e-02, -3.5171e-02]]],\n",
       "\n",
       "\n",
       "        [[[-1.0267e-01,  1.4544e-01,  6.1210e-02],\n",
       "          [ 1.0634e-01,  1.8942e-01, -1.1414e-01],\n",
       "          [ 1.2197e-01,  5.3332e-03,  1.8017e-01]],\n",
       "\n",
       "         [[-1.1447e-01,  1.6643e-01, -1.0357e-01],\n",
       "          [-1.3828e-01, -1.7982e-02, -2.6881e-02],\n",
       "          [-4.5970e-03, -6.3114e-02, -6.1686e-02]],\n",
       "\n",
       "         [[-1.2654e-01,  6.3202e-02, -3.4183e-04],\n",
       "          [ 6.9215e-02,  1.3644e-01,  1.7545e-01],\n",
       "          [-7.8851e-02, -7.0686e-02,  1.3375e-01]]]], requires_grad=True)"
      ]
     },
     "execution_count": 31,
     "metadata": {},
     "output_type": "execute_result"
    }
   ],
   "source": [
    "model.conv.conv1.weight"
   ]
  },
  {
   "cell_type": "code",
   "execution_count": 32,
   "metadata": {
    "ExecuteTime": {
     "end_time": "2020-06-14T16:31:56.742107Z",
     "start_time": "2020-06-14T16:31:56.735098Z"
    },
    "scrolled": true
   },
   "outputs": [
    {
     "data": {
      "text/plain": [
       "Parameter containing:\n",
       "tensor([ 0.0208,  0.1765,  0.0448,  0.1503,  0.0577,  0.1165, -0.0872,  0.0285,\n",
       "         0.0732, -0.1383,  0.0878, -0.0737, -0.0869,  0.0606,  0.0911,  0.1191,\n",
       "        -0.1159,  0.0227,  0.0961, -0.0410,  0.0785, -0.0181,  0.1075, -0.1841,\n",
       "         0.0634, -0.0570, -0.1532, -0.0897, -0.0129, -0.1014, -0.0056, -0.1760],\n",
       "       requires_grad=True)"
      ]
     },
     "execution_count": 32,
     "metadata": {},
     "output_type": "execute_result"
    }
   ],
   "source": [
    "model.conv.conv1.bias"
   ]
  },
  {
   "cell_type": "code",
   "execution_count": 36,
   "metadata": {
    "ExecuteTime": {
     "end_time": "2020-06-14T16:34:22.909283Z",
     "start_time": "2020-06-14T16:34:22.904309Z"
    }
   },
   "outputs": [
    {
     "data": {
      "text/plain": [
       "<bound method Module.named_parameters of Net4(\n",
       "  (conv): Sequential(\n",
       "    (conv1): Conv2d(3, 32, kernel_size=(3, 3), stride=(1, 1), padding=(1, 1))\n",
       "    (relu1): ReLU()\n",
       "    (pool): MaxPool2d(kernel_size=2, stride=2, padding=0, dilation=1, ceil_mode=False)\n",
       "  )\n",
       "  (dense): Sequential(\n",
       "    (dense1): Linear(in_features=288, out_features=128, bias=True)\n",
       "    (relu2): ReLU()\n",
       "    (dense2): Linear(in_features=128, out_features=10, bias=True)\n",
       "  )\n",
       ")>"
      ]
     },
     "execution_count": 36,
     "metadata": {},
     "output_type": "execute_result"
    }
   ],
   "source": [
    "model.named_parameters"
   ]
  },
  {
   "cell_type": "markdown",
   "metadata": {},
   "source": [
    "### 初始化[若非首次初始化，force_reinit=True]"
   ]
  },
  {
   "cell_type": "markdown",
   "metadata": {},
   "source": [
    "### init 利用各种分布初始化"
   ]
  },
  {
   "cell_type": "code",
   "execution_count": null,
   "metadata": {},
   "outputs": [],
   "source": [
    "net.initialize(init=init.Normal(sigma=0.1)，force_reinit=True)"
   ]
  },
  {
   "cell_type": "markdown",
   "metadata": {},
   "source": [
    "### init 对网络参数进行常数初始化"
   ]
  },
  {
   "cell_type": "code",
   "execution_count": null,
   "metadata": {},
   "outputs": [],
   "source": [
    "net.initialize(init=init.Constant(1))"
   ]
  },
  {
   "cell_type": "markdown",
   "metadata": {},
   "source": [
    "### 自定义初始化"
   ]
  },
  {
   "cell_type": "markdown",
   "metadata": {},
   "source": [
    "### 继承init的Initialize类，并实现函数\\_init\\_weight(self,name,data)"
   ]
  },
  {
   "cell_type": "code",
   "execution_count": null,
   "metadata": {},
   "outputs": [],
   "source": [
    "def _init_weight(self, name, data):\n",
    "    print('Init', name, data.shape)\n",
    "    data[:] = nd.random.uniform(low=-10, high=10, shape=data.shape)\n",
    "    # 表示一半几率为0，一半几率为[-10,-5]U[5，10]的均匀分布\n",
    "    data *= data.abs() >= 5\n",
    "\n",
    "\n",
    "# 调用自定义初始化函数1\n",
    "net.initialize(MyInit(), force_reinit=True)"
   ]
  },
  {
   "cell_type": "markdown",
   "metadata": {},
   "source": [
    "### 参数共享\n",
    "\n",
    "- 参数共享，梯度共享，但是梯度计算的是所有共享层的和\n",
    "\n",
    "- 梯度共享，且梯度只更新一次"
   ]
  }
 ],
 "metadata": {
  "kernelspec": {
   "display_name": "Python 3",
   "language": "python",
   "name": "python3"
  },
  "language_info": {
   "codemirror_mode": {
    "name": "ipython",
    "version": 3
   },
   "file_extension": ".py",
   "mimetype": "text/x-python",
   "name": "python",
   "nbconvert_exporter": "python",
   "pygments_lexer": "ipython3",
   "version": "3.7.0"
  }
 },
 "nbformat": 4,
 "nbformat_minor": 2
}
