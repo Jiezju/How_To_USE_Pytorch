{
 "cells": [
  {
   "cell_type": "markdown",
   "metadata": {},
   "source": [
    "## 模型构建"
   ]
  },
  {
   "cell_type": "markdown",
   "metadata": {},
   "source": [
    "**模型构建两要素**\n",
    "\n",
    "- 样例\n",
    "    \n",
    "        class Net(nn.Module):\n",
    "            ##初始化构造模型\n",
    "            def __init__(self, classes):\n",
    "                super(LeNet, self).__init__()\n",
    "                self.conv1 = nn.Conv2d(3, 6, 5)\n",
    "                ....\n",
    "            \n",
    "            ##前向运算\n",
    "            def forward(self, x):\n",
    "                out = F.relu(self.conv1(x))\n",
    "                out = F.max_pool2d(out, 2)\n",
    "                out = F.relu(self.conv2(out))\n",
    "                \n",
    "                .....\n",
    "                \n",
    "                return out\n",
    "            \n",
    "            ##初始化模型\n",
    "            def initialize_weights(self):\n",
    "                for m in self.modules():\n",
    "                    if isinstance(m, nn.Conv2d):\n",
    "                        nn.init.xavier_normal_(m.weight.data)\n",
    "                        if m.bias is not None:\n",
    "                            m.bias.data.zero_()\n",
    "                    ...\n",
    "\n",
    "\n",
    "\n",
    "\n",
    "- 构建子模块：\n",
    "\n",
    "       def __init__()函数\n",
    "\n",
    "- 拼接子模块\n",
    "\n",
    "       def forward()函数"
   ]
  },
  {
   "cell_type": "markdown",
   "metadata": {},
   "source": [
    "**pytorch的神经网络模块**\n",
    "\n",
    "torch.nn模块\n",
    "\n",
    "- nn.parameter\n",
    "\n",
    "    张量子类，表示可学习参数\n",
    "\n",
    "- nn.module\n",
    "\n",
    "    所有网络层基类\n",
    "\n",
    "- nn.functional\n",
    "\n",
    "    函数具体实现，如卷积，池化，激活函数\n",
    "\n",
    "- nn.init\n",
    "\n",
    "    基本初始化方法\n",
    "\n",
    "![](./img/module.png)"
   ]
  },
  {
   "cell_type": "markdown",
   "metadata": {},
   "source": [
    "**nn.module**\n",
    "\n",
    "- 一个module可以包含多个module\n",
    "\n",
    "- 一个module相当于运算，必须实现forward()函数\n",
    "\n",
    "- 每个module都有8个字典管理属性\n",
    "\n"
   ]
  },
  {
   "cell_type": "code",
   "execution_count": 1,
   "metadata": {
    "collapsed": true
   },
   "outputs": [],
   "source": [
    "'''\n",
    "模型创建实例\n",
    "'''\n",
    "import torch.nn as nn\n",
    "import torch.nn.functional as F\n",
    "\n",
    "\n",
    "class LeNet(nn.Module):\n",
    "    def __init__(self, classes):\n",
    "        super(LeNet, self).__init__()\n",
    "        self.conv1 = nn.Conv2d(3, 6, 5)\n",
    "        self.conv2 = nn.Conv2d(6, 16, 5)\n",
    "        self.fc1 = nn.Linear(16 * 5 * 5, 120)\n",
    "        self.fc2 = nn.Linear(120, 84)\n",
    "        self.fc3 = nn.Linear(84, classes)\n",
    "\n",
    "    def forward(self, x):\n",
    "        out = F.relu(self.conv1(x))\n",
    "        out = F.max_pool2d(out, 2)\n",
    "        out = F.relu(self.conv2(out))\n",
    "        out = F.max_pool2d(out, 2)\n",
    "        out = out.view(out.size(0), -1)\n",
    "        out = F.relu(self.fc1(out))\n",
    "        out = F.relu(self.fc2(out))\n",
    "        out = self.fc3(out)\n",
    "        return out\n",
    "\n",
    "    def initialize_weights(self):\n",
    "        for m in self.modules():\n",
    "            if isinstance(m, nn.Conv2d):\n",
    "                nn.init.xavier_normal_(m.weight.data)\n",
    "                if m.bias is not None:\n",
    "                    m.bias.data.zero_()\n",
    "            elif isinstance(m, nn.BatchNorm2d):\n",
    "                m.weight.data.fill_(1)\n",
    "                m.bias.data.zero_()\n",
    "            elif isinstance(m, nn.Linear):\n",
    "                nn.init.normal_(m.weight.data, 0, 0.1)\n",
    "                m.bias.data.zero_()"
   ]
  },
  {
   "cell_type": "markdown",
   "metadata": {},
   "source": []
  },
  {
   "cell_type": "markdown",
   "metadata": {},
   "source": [
    "## 模型容器"
   ]
  },
  {
   "cell_type": "markdown",
   "metadata": {},
   "source": [
    "**Containers**\n",
    "\n",
    "- nn.Sequential\n",
    "\n",
    "    按顺序包装多个网络层\n",
    "    \n",
    "- nn.ModuleList\n",
    "\n",
    "    像python的list一样包装多个网络层\n",
    "\n",
    "- nn.ModuleDict\n",
    "\n",
    "    像python的字典一样保证网络层"
   ]
  },
  {
   "cell_type": "code",
   "execution_count": 2,
   "metadata": {
    "collapsed": true
   },
   "outputs": [],
   "source": [
    "'''\n",
    "nn.Sequential构建模型，能够自行反向传播\n",
    "\n",
    "只能通过索引获取每个层\n",
    "'''\n",
    "\n",
    "\n",
    "class LeNet2(nn.Module):\n",
    "    def __init__(self, classes):\n",
    "        super(LeNet2, self).__init__()\n",
    "        self.features = nn.Sequential(nn.Conv2d(3, 6, 5), nn.ReLU(),\n",
    "                                      nn.MaxPool2d(2, 2), nn.Conv2d(6, 16, 5),\n",
    "                                      nn.ReLU(), nn.MaxPool2d(2, 2))\n",
    "        self.classifier = nn.Sequential(nn.Linear(16 * 5 * 5, 120), nn.ReLU(),\n",
    "                                        nn.Linear(120, 84), nn.ReLU(),\n",
    "                                        nn.Linear(84, classes))\n",
    "\n",
    "    def forward(self, x):\n",
    "        x = self.features(x)\n",
    "        x = x.view(x.size()[0], -1)\n",
    "        x = self.classifier(x)\n",
    "        return x"
   ]
  },
  {
   "cell_type": "markdown",
   "metadata": {},
   "source": []
  },
  {
   "cell_type": "code",
   "execution_count": 3,
   "metadata": {
    "collapsed": true
   },
   "outputs": [],
   "source": [
    "'''\n",
    "通过有序字典对构建网络模型并命名\n",
    "'''\n",
    "\n",
    "\n",
    "class LeNetSequentialOrderDict(nn.Module):\n",
    "    def __init__(self, classes):\n",
    "        super(LeNetSequentialOrderDict, self).__init__()\n",
    "\n",
    "        self.features = nn.Sequential(\n",
    "            OrderedDict({\n",
    "                'conv1': nn.Conv2d(3, 6, 5),\n",
    "                'relu1': nn.ReLU(inplace=True),\n",
    "                'pool1': nn.MaxPool2d(kernel_size=2, stride=2),\n",
    "                'conv2': nn.Conv2d(6, 16, 5),\n",
    "                'relu2': nn.ReLU(inplace=True),\n",
    "                'pool2': nn.MaxPool2d(kernel_size=2, stride=2),\n",
    "            }))\n",
    "\n",
    "        self.classifier = nn.Sequential(\n",
    "            OrderedDict({\n",
    "                'fc1': nn.Linear(16 * 5 * 5, 120),\n",
    "                'relu3': nn.ReLU(),\n",
    "                'fc2': nn.Linear(120, 84),\n",
    "                'relu4': nn.ReLU(inplace=True),\n",
    "                'fc3': nn.Linear(84, classes),\n",
    "            }))\n",
    "\n",
    "    def forward(self, x):\n",
    "        x = self.features(x)\n",
    "        x = x.view(x.size()[0], -1)\n",
    "        x = self.classifier(x)\n",
    "        return x"
   ]
  },
  {
   "cell_type": "markdown",
   "metadata": {},
   "source": []
  },
  {
   "cell_type": "markdown",
   "metadata": {},
   "source": [
    "    nn.ModuleList以迭代方式调用网络层\n",
    "\n",
    "- append()\n",
    "\n",
    "    在ModuleList后面添加网络层\n",
    "\n",
    "- extend()\n",
    "\n",
    "    拼接两个ModuleList\n",
    "\n",
    "- insert()\n",
    "\n",
    "    指定ModuleList的某个位置插入网络层"
   ]
  },
  {
   "cell_type": "code",
   "execution_count": 4,
   "metadata": {
    "collapsed": true
   },
   "outputs": [],
   "source": [
    "class ModuleList(nn.Module):\n",
    "    def __init__(self):\n",
    "        super(ModuleList, self).__init__()\n",
    "        self.linears = nn.ModuleList([nn.Linear(10, 10) for i in range(20)])\n",
    "\n",
    "    def forward(self, x):\n",
    "        for i, linear in enumerate(self.linears):\n",
    "            x = linear(x)\n",
    "        return x"
   ]
  },
  {
   "cell_type": "code",
   "execution_count": null,
   "metadata": {
    "collapsed": true
   },
   "outputs": [],
   "source": []
  },
  {
   "cell_type": "markdown",
   "metadata": {},
   "source": [
    "    nn.ModuleDict可以通过索引方式构建网络层\n",
    "    \n",
    "- clear()\n",
    "\n",
    "    清空nn.ModuleDict\n",
    "\n",
    "- items\n",
    "\n",
    "    返回键值对\n",
    "\n",
    "- keys\n",
    "\n",
    "    返回字典的键\n",
    "    \n",
    "- values\n",
    "\n",
    "    返回键的值\n",
    "    \n",
    "- pop()\n",
    "\n",
    "    返回键值对并删除"
   ]
  },
  {
   "cell_type": "code",
   "execution_count": 5,
   "metadata": {
    "collapsed": false
   },
   "outputs": [
    {
     "ename": "NameError",
     "evalue": "name 'torch' is not defined",
     "output_type": "error",
     "traceback": [
      "\u001b[1;31m---------------------------------------------------------------------------\u001b[0m",
      "\u001b[1;31mNameError\u001b[0m                                 Traceback (most recent call last)",
      "\u001b[1;32m<ipython-input-5-36760eff7d7f>\u001b[0m in \u001b[0;36m<module>\u001b[1;34m()\u001b[0m\n\u001b[0;32m     20\u001b[0m \u001b[0mnet\u001b[0m \u001b[1;33m=\u001b[0m \u001b[0mModuleDict\u001b[0m\u001b[1;33m(\u001b[0m\u001b[1;33m)\u001b[0m\u001b[1;33m\u001b[0m\u001b[0m\n\u001b[0;32m     21\u001b[0m \u001b[1;33m\u001b[0m\u001b[0m\n\u001b[1;32m---> 22\u001b[1;33m \u001b[0mfake_img\u001b[0m \u001b[1;33m=\u001b[0m \u001b[0mtorch\u001b[0m\u001b[1;33m.\u001b[0m\u001b[0mrandn\u001b[0m\u001b[1;33m(\u001b[0m\u001b[1;33m(\u001b[0m\u001b[1;36m4\u001b[0m\u001b[1;33m,\u001b[0m \u001b[1;36m10\u001b[0m\u001b[1;33m,\u001b[0m \u001b[1;36m32\u001b[0m\u001b[1;33m,\u001b[0m \u001b[1;36m32\u001b[0m\u001b[1;33m)\u001b[0m\u001b[1;33m)\u001b[0m\u001b[1;33m\u001b[0m\u001b[0m\n\u001b[0m\u001b[0;32m     23\u001b[0m \u001b[1;33m\u001b[0m\u001b[0m\n\u001b[0;32m     24\u001b[0m \u001b[0moutput\u001b[0m \u001b[1;33m=\u001b[0m \u001b[0mnet\u001b[0m\u001b[1;33m(\u001b[0m\u001b[0mfake_img\u001b[0m\u001b[1;33m,\u001b[0m \u001b[1;34m'conv'\u001b[0m\u001b[1;33m,\u001b[0m \u001b[1;34m'relu'\u001b[0m\u001b[1;33m)\u001b[0m\u001b[1;33m\u001b[0m\u001b[0m\n",
      "\u001b[1;31mNameError\u001b[0m: name 'torch' is not defined"
     ]
    }
   ],
   "source": [
    "class ModuleDict(nn.Module):\n",
    "    def __init__(self):\n",
    "        super(ModuleDict, self).__init__()\n",
    "        self.choices = nn.ModuleDict({\n",
    "            'conv': nn.Conv2d(10, 10, 3),\n",
    "            'pool': nn.MaxPool2d(3)\n",
    "        })\n",
    "\n",
    "        self.activations = nn.ModuleDict({\n",
    "            'relu': nn.ReLU(),\n",
    "            'prelu': nn.PReLU()\n",
    "        })\n",
    "\n",
    "    def forward(self, x, choice, act):\n",
    "        x = self.choices[choice](x)\n",
    "        x = self.activations[act](x)\n",
    "        return x\n",
    "\n",
    "\n",
    "net = ModuleDict()\n",
    "\n",
    "fake_img = torch.randn((4, 10, 32, 32))\n",
    "\n",
    "output = net(fake_img, 'conv', 'relu')\n",
    "\n",
    "print(output)"
   ]
  },
  {
   "cell_type": "code",
   "execution_count": null,
   "metadata": {
    "collapsed": true
   },
   "outputs": [],
   "source": []
  }
 ],
 "metadata": {
  "anaconda-cloud": {},
  "kernelspec": {
   "display_name": "Python [Root]",
   "language": "python",
   "name": "Python [Root]"
  },
  "language_info": {
   "codemirror_mode": {
    "name": "ipython",
    "version": 3
   },
   "file_extension": ".py",
   "mimetype": "text/x-python",
   "name": "python",
   "nbconvert_exporter": "python",
   "pygments_lexer": "ipython3",
   "version": "3.5.2"
  }
 },
 "nbformat": 4,
 "nbformat_minor": 0
}
