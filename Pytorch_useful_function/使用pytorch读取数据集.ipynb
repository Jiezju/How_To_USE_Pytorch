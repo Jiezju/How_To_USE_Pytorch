{
 "cells": [
  {
   "cell_type": "markdown",
   "metadata": {},
   "source": [
    "### 使用pytorch读取自己的数据集"
   ]
  },
  {
   "cell_type": "markdown",
   "metadata": {},
   "source": [
    "**常用做法**\n",
    "\n",
    "    通常的方法是将图片的路径和标签信息存储在一个 txt 中，然后从该 txt 中读取为一个list，这个 list 的每个元素就包含了图片数据的路径和标签信息。"
   ]
  },
  {
   "cell_type": "markdown",
   "metadata": {},
   "source": [
    "**基本流程**\n",
    "\n",
    "    1. 制作存储了图片的路径和标签信息的 txt\n",
    "    2. 将这些信息转化为 list，该 list 每一个元素对应一个样本\n",
    "    3. 通过通过 Dataset 类的 getitem 函数，读取数据和标签，并返回数据和标签"
   ]
  },
  {
   "cell_type": "markdown",
   "metadata": {},
   "source": [
    "### 1. 制作图片数据的索引"
   ]
  },
  {
   "cell_type": "code",
   "execution_count": 2,
   "metadata": {
    "ExecuteTime": {
     "end_time": "2020-05-09T12:24:23.274172Z",
     "start_time": "2020-05-09T12:24:23.270182Z"
    }
   },
   "outputs": [],
   "source": [
    "import os"
   ]
  },
  {
   "cell_type": "code",
   "execution_count": 3,
   "metadata": {
    "ExecuteTime": {
     "end_time": "2020-05-09T12:24:23.633213Z",
     "start_time": "2020-05-09T12:24:23.628224Z"
    }
   },
   "outputs": [],
   "source": [
    "train_txt_path = os.path.join(\".\", \"Data\", \"train.txt\")\n",
    "# 训练集路径\n",
    "train_dir = os.path.join(\".\", \"Data\", \"train\")\n",
    "\n",
    "valid_txt_path = os.path.join(\".\", \"Data\", \"valid.txt\")\n",
    "# 验证集路径\n",
    "valid_dir = os.path.join(\".\", \"Data\", \"valid\")\n",
    "\n",
    "\n",
    "def gen_txt(txt_path, img_dir):\n",
    "    f = open(txt_path, 'w')  # 打开text文件\n",
    "\n",
    "    for root, s_dirs, _ in os.walk(img_dir, topdown=True):  # 获取 train文件下各文件夹名称  topdown为True，则优先遍历 top 目录\n",
    "        for sub_dir in s_dirs:\n",
    "            i_dir = os.path.join(root, sub_dir)  # 获取各类的文件夹 绝对路径\n",
    "            img_list = os.listdir(i_dir)  # 获取类别文件夹下所有png图片的路径\n",
    "            for i in range(len(img_list)):\n",
    "                if not img_list[i].endswith('png'):  # 若不是png文件，跳过\n",
    "                    continue\n",
    "                label = img_list[i].split('_')[0]\n",
    "                img_path = os.path.join(i_dir, img_list[i])\n",
    "                line = img_path + ' ' + label + '\\n'\n",
    "                f.write(line)\n",
    "    f.close()"
   ]
  },
  {
   "cell_type": "code",
   "execution_count": 4,
   "metadata": {
    "ExecuteTime": {
     "end_time": "2020-05-09T12:24:33.572627Z",
     "start_time": "2020-05-09T12:24:33.562654Z"
    }
   },
   "outputs": [
    {
     "data": {
      "text/plain": [
       "'.\\\\Data\\\\train.txt'"
      ]
     },
     "execution_count": 4,
     "metadata": {},
     "output_type": "execute_result"
    }
   ],
   "source": [
    "train_txt_path"
   ]
  },
  {
   "cell_type": "code",
   "execution_count": 3,
   "metadata": {
    "ExecuteTime": {
     "end_time": "2020-04-09T14:04:54.830420Z",
     "start_time": "2020-04-09T14:04:54.751614Z"
    }
   },
   "outputs": [],
   "source": [
    "gen_txt(train_txt_path, train_dir)\n",
    "gen_txt(valid_txt_path, valid_dir)"
   ]
  },
  {
   "cell_type": "markdown",
   "metadata": {},
   "source": [
    "### 2. 构建 Dataset 子类"
   ]
  },
  {
   "cell_type": "code",
   "execution_count": 2,
   "metadata": {
    "ExecuteTime": {
     "end_time": "2020-04-10T12:42:30.264714Z",
     "start_time": "2020-04-10T12:42:23.572446Z"
    }
   },
   "outputs": [],
   "source": [
    "from PIL import Image\n",
    "from torch.utils.data import Dataset\n",
    "\n",
    "\n",
    "class MyDataset(Dataset):\n",
    "    '''\n",
    "    初始化 transform，transform 是一个 Compose 类型，里边有一个 list，list中就会定义了各种对图像进行处理的操作，可以设置减均值，除标准差，随机裁剪，旋\n",
    "    转，翻转，仿射变换等操作。\n",
    "    '''\n",
    "    def __init__(self, txt_path, transform=None, target_transform=None):\n",
    "        fh = open(txt_path, 'r')\n",
    "        imgs = []\n",
    "        for line in fh:\n",
    "            line = line.rstrip()\n",
    "            words = line.split() # 以空格分割为列表\n",
    "            # 一个元素对应一个样本的路径和标签，其实就是 txt 中的一行\n",
    "            imgs.append((words[0], int(words[1])))\n",
    "        '''\n",
    "        self.imgs 是一个 list，也就是一开始提到的 list，self.imgs 的一个元素是一个 str，包含图片路径，图片标签，这些信息是从 txt 文件中读取\n",
    "        '''\n",
    "        self.imgs = imgs  # 最主要就是要生成这个list， 然后DataLoader中给index，通过getitem读取图片数据\n",
    "        self.transform = transform\n",
    "        self.target_transform = target_transform\n",
    "\n",
    "    def __getitem__(self, index):\n",
    "        fn, label = self.imgs[index]\n",
    "        img = Image.open(fn).convert('RGB')  # 像素值 0~255，在transfrom.totensor会除以255，使像素值变成 0~1\n",
    "        \n",
    "        '''\n",
    "        PyTorch 的数据增强是将原始图片进行了处理，并不会生成新的一份图片，而是“覆盖”原图，当采用 randomcrop 之类的随机操作时，\n",
    "        每个 epoch 输入进来的图片几乎不会是一模一样的，这达到了样本多样性的功能。\n",
    "        '''\n",
    "        if self.transform is not None:\n",
    "            img = self.transform(img)  # 在这里做transform，转为tensor等等\n",
    "\n",
    "        return img, label\n",
    "\n",
    "    def __len__(self):\n",
    "        return len(self.imgs)"
   ]
  },
  {
   "cell_type": "markdown",
   "metadata": {},
   "source": [
    "### 3. DataSet通过DataLoder获取一个batch"
   ]
  },
  {
   "cell_type": "code",
   "execution_count": 6,
   "metadata": {
    "ExecuteTime": {
     "end_time": "2020-04-10T13:13:42.496792Z",
     "start_time": "2020-04-10T13:13:42.339882Z"
    }
   },
   "outputs": [],
   "source": [
    "from torch.utils.data import DataLoader\n",
    "import torchvision.transforms as transforms\n",
    "\n",
    "train_txt_path = os.path.join(\".\", \"Data\", \"train.txt\")\n",
    "# 数据预处理设置\n",
    "normMean = [0.4948052, 0.48568845, 0.44682974]\n",
    "normStd = [0.24580306, 0.24236229, 0.2603115]\n",
    "normTransform = transforms.Normalize(normMean, normStd)\n",
    "trainTransform = transforms.Compose([\n",
    "    transforms.Resize(32),\n",
    "    transforms.RandomCrop(32, padding=4),\n",
    "    transforms.ToTensor(),\n",
    "    normTransform\n",
    "])\n",
    "\n",
    "# 构建MyDataset实例\n",
    "train_data = MyDataset(txt_path=train_txt_path, transform=trainTransform)\n",
    "\n",
    "# 构建DataLoder\n",
    "train_loader = DataLoader(dataset=train_data, batch_size=10, shuffle=True)"
   ]
  },
  {
   "cell_type": "code",
   "execution_count": null,
   "metadata": {},
   "outputs": [],
   "source": []
  }
 ],
 "metadata": {
  "kernelspec": {
   "display_name": "Python 3",
   "language": "python",
   "name": "python3"
  },
  "language_info": {
   "codemirror_mode": {
    "name": "ipython",
    "version": 3
   },
   "file_extension": ".py",
   "mimetype": "text/x-python",
   "name": "python",
   "nbconvert_exporter": "python",
   "pygments_lexer": "ipython3",
   "version": "3.7.0"
  }
 },
 "nbformat": 4,
 "nbformat_minor": 2
}
