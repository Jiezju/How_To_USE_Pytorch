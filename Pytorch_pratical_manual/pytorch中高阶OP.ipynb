{
 "cells": [
  {
   "cell_type": "markdown",
   "metadata": {},
   "source": [
    "## Pytorch中的高阶OP"
   ]
  },
  {
   "cell_type": "markdown",
   "metadata": {},
   "source": [
    "    torch.where(condition,x,y)\n",
    "    \n",
    "    if conditon:\n",
    "        x\n",
    "    else:\n",
    "        y"
   ]
  },
  {
   "cell_type": "code",
   "execution_count": 5,
   "metadata": {
    "ExecuteTime": {
     "end_time": "2019-12-28T21:29:19.456330Z",
     "start_time": "2019-12-28T21:29:19.451380Z"
    }
   },
   "outputs": [],
   "source": [
    "import torch"
   ]
  },
  {
   "cell_type": "code",
   "execution_count": 4,
   "metadata": {
    "ExecuteTime": {
     "end_time": "2019-12-28T11:13:07.737798Z",
     "start_time": "2019-12-28T11:13:07.725831Z"
    }
   },
   "outputs": [
    {
     "name": "stdout",
     "output_type": "stream",
     "text": [
      "tensor([[1., 1.],\n",
      "        [1., 1.]])\n",
      "tensor([[0., 0.],\n",
      "        [0., 0.]])\n",
      "tensor([[0.7933, 0.4137],\n",
      "        [0.3752, 0.5107]])\n",
      "tensor([[1., 0.],\n",
      "        [0., 1.]])\n"
     ]
    }
   ],
   "source": [
    "#======================================= 设置概率值 ===================================================\n",
    "# =======================================where\n",
    "\n",
    "A = torch.full((2, 2), 1)\n",
    "B = torch.full((2, 2), 0)\n",
    "data = torch.rand((2, 2))\n",
    "result = torch.where(data > 0.5, A, B)\n",
    "print(A)\n",
    "print(B)\n",
    "print(data)\n",
    "print(result)"
   ]
  },
  {
   "cell_type": "markdown",
   "metadata": {},
   "source": [
    "## 激活函数"
   ]
  },
  {
   "cell_type": "markdown",
   "metadata": {},
   "source": [
    "    sigmoid()\n",
    "    \n",
    "    tanh()\n",
    "    \n",
    "    relu()"
   ]
  },
  {
   "cell_type": "code",
   "execution_count": 6,
   "metadata": {
    "ExecuteTime": {
     "end_time": "2019-12-28T21:30:19.021087Z",
     "start_time": "2019-12-28T21:30:18.537153Z"
    }
   },
   "outputs": [
    {
     "name": "stdout",
     "output_type": "stream",
     "text": [
      "tensor([0.0000e+00, 1.6655e-34, 7.4564e-25, 3.3382e-15, 1.4945e-05, 9.9999e-01,\n",
      "        1.0000e+00, 1.0000e+00, 1.0000e+00, 1.0000e+00])\n"
     ]
    }
   ],
   "source": [
    "# ============================================ sigmoid   =================================================\n",
    "\n",
    "a = torch.linspace(-100, 100, 10)\n",
    "print(a.sigmoid())"
   ]
  },
  {
   "cell_type": "code",
   "execution_count": 7,
   "metadata": {
    "ExecuteTime": {
     "end_time": "2019-12-28T21:32:02.856012Z",
     "start_time": "2019-12-28T21:32:02.744310Z"
    }
   },
   "outputs": [
    {
     "name": "stdout",
     "output_type": "stream",
     "text": [
      "tensor([0.0000e+00, 1.6655e-34, 7.4564e-25, 3.3382e-15, 1.4945e-05, 1.4901e-05,\n",
      "        0.0000e+00, 0.0000e+00, 0.0000e+00, 0.0000e+00])\n"
     ]
    }
   ],
   "source": [
    "def sigmoid_derivative(x):\n",
    "    return x.sigmoid() * (1 - x.sigmoid())\n",
    "\n",
    "\n",
    "print(sigmoid_derivative(a))"
   ]
  },
  {
   "cell_type": "code",
   "execution_count": 8,
   "metadata": {
    "ExecuteTime": {
     "end_time": "2019-12-28T21:34:27.473163Z",
     "start_time": "2019-12-28T21:34:27.297374Z"
    }
   },
   "outputs": [
    {
     "name": "stdout",
     "output_type": "stream",
     "text": [
      "tensor([-0.7616, -0.6514, -0.5047, -0.3215, -0.1107,  0.1107,  0.3215,  0.5047,\n",
      "         0.6514,  0.7616])\n"
     ]
    }
   ],
   "source": [
    "b = torch.linspace(-1, 1, 10)\n",
    "print(b.tanh())"
   ]
  },
  {
   "cell_type": "code",
   "execution_count": 9,
   "metadata": {
    "ExecuteTime": {
     "end_time": "2019-12-28T21:35:11.968173Z",
     "start_time": "2019-12-28T21:35:11.852511Z"
    }
   },
   "outputs": [
    {
     "name": "stdout",
     "output_type": "stream",
     "text": [
      "tensor([0.0000, 0.0000, 0.0000, 0.0000, 0.0000, 0.1111, 0.3333, 0.5556, 0.7778,\n",
      "        1.0000])\n"
     ]
    }
   ],
   "source": [
    "print(b.relu())"
   ]
  },
  {
   "cell_type": "markdown",
   "metadata": {},
   "source": [
    "## 自动求导机制"
   ]
  },
  {
   "cell_type": "code",
   "execution_count": null,
   "metadata": {},
   "outputs": [],
   "source": []
  }
 ],
 "metadata": {
  "kernelspec": {
   "display_name": "Python 3",
   "language": "python",
   "name": "python3"
  },
  "language_info": {
   "codemirror_mode": {
    "name": "ipython",
    "version": 3
   },
   "file_extension": ".py",
   "mimetype": "text/x-python",
   "name": "python",
   "nbconvert_exporter": "python",
   "pygments_lexer": "ipython3",
   "version": "3.7.0"
  }
 },
 "nbformat": 4,
 "nbformat_minor": 2
}
