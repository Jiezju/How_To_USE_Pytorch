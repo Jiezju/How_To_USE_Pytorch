{
 "cells": [
  {
   "cell_type": "markdown",
   "metadata": {},
   "source": [
    "## TensorBoard使用"
   ]
  },
  {
   "cell_type": "markdown",
   "metadata": {},
   "source": [
    "**使用流程：**\n",
    "\n",
    "    python1脚本中记录所需数据-->生成event file文件-->tensorboard终端"
   ]
  },
  {
   "cell_type": "code",
   "execution_count": 3,
   "metadata": {
    "ExecuteTime": {
     "end_time": "2020-05-03T13:13:08.227195Z",
     "start_time": "2020-05-03T13:13:06.387109Z"
    }
   },
   "outputs": [],
   "source": [
    "import matplotlib.pyplot as plt"
   ]
  },
  {
   "cell_type": "markdown",
   "metadata": {},
   "source": [
    "### 1. Python终端代码，生成event文件"
   ]
  },
  {
   "cell_type": "code",
   "execution_count": 1,
   "metadata": {
    "ExecuteTime": {
     "end_time": "2020-05-03T08:11:15.636186Z",
     "start_time": "2020-05-03T08:10:33.829387Z"
    }
   },
   "outputs": [],
   "source": [
    "'''\n",
    "TensorBoard测试代码\n",
    "'''\n",
    "\n",
    "import numpy as np\n",
    "from torch.utils.tensorboard import SummaryWriter\n",
    "\n",
    "##引入SummaryWriter类\n",
    "writer = SummaryWriter(comment='test_tensorboard')\n",
    "\n",
    "for x in range(100):\n",
    "    \n",
    "    ##添加绘图数据，生成event file文件\n",
    "    writer.add_scalar('y=2x', x * 2, x) # 曲线名称，y轴，x轴\n",
    "    writer.add_scalar('y=pow(2, x)',  2 ** x, x)\n",
    "    \n",
    "    writer.add_scalars('data/scalar_group', {\"xsinx\": x * np.sin(x),  # 添加event file文件路径\n",
    "                                             \"xcosx\": x * np.cos(x),\n",
    "                                             \"arctanx\": np.arctan(x)}, x)\n",
    "writer.close()"
   ]
  },
  {
   "cell_type": "markdown",
   "metadata": {
    "collapsed": true
   },
   "source": [
    "### 2. tensorboard终端查看"
   ]
  },
  {
   "cell_type": "markdown",
   "metadata": {},
   "source": [
    "**终端命令**\n",
    "\n",
    "- 输入runs文件夹路径\n",
    "  \n",
    "        tensorboard --logdir=E:/.../runs"
   ]
  },
  {
   "cell_type": "markdown",
   "metadata": {},
   "source": [
    "### **SummaryWriter类基本属性**"
   ]
  },
  {
   "cell_type": "markdown",
   "metadata": {
    "collapsed": true
   },
   "source": [
    "    SummaryWriter(log_dir=log_dir, comment='_scalars', filename_suffix=\"12345678\")\n",
    "    \n",
    "- 功能\n",
    "\n",
    "    提供创建event file的高级接口\n",
    "    \n",
    "- log_dir\n",
    "\n",
    "    event file输出文件夹\n",
    "    \n",
    "- comment\n",
    "\n",
    "    不指定log_dir时，文件夹后缀\n",
    "\n",
    "- filename_fuffix\n",
    "\n",
    "    event file文件名\n",
    "\n",
    "    "
   ]
  },
  {
   "cell_type": "code",
   "execution_count": 2,
   "metadata": {
    "ExecuteTime": {
     "end_time": "2019-12-16T07:39:15.736870Z",
     "start_time": "2019-12-16T07:39:15.178516Z"
    },
    "collapsed": true
   },
   "outputs": [],
   "source": [
    "import matplotlib.pyplot as plt"
   ]
  },
  {
   "cell_type": "code",
   "execution_count": 3,
   "metadata": {
    "ExecuteTime": {
     "end_time": "2019-12-16T07:40:33.932955Z",
     "start_time": "2019-12-16T07:40:33.877932Z"
    },
    "collapsed": true
   },
   "outputs": [],
   "source": [
    "# ----------------------------------- 0 SummaryWriter -----------------------------------\n",
    "##一般优先采用有路径模式\n",
    "log_dir = \"./train_log/test_log_dir\"\n",
    "#指定路径生成event file文件 comment='_scalars'不起作用\n",
    "writer = SummaryWriter(log_dir=log_dir, comment='_scalars', filename_suffix=\"12345678\")\n",
    "#writer = SummaryWriter(comment='_scalars', filename_suffix=\"12345678\")\n",
    "\n",
    "for x in range(100):\n",
    "    writer.add_scalar('y=pow_2_x', 2**x, x)\n",
    "\n",
    "writer.close()"
   ]
  },
  {
   "cell_type": "code",
   "execution_count": 6,
   "metadata": {
    "ExecuteTime": {
     "end_time": "2019-12-16T07:42:10.815022Z",
     "start_time": "2019-12-16T07:42:10.758992Z"
    },
    "collapsed": true
   },
   "outputs": [],
   "source": [
    "# ----------------------------------- 0 SummaryWriter -----------------------------------\n",
    "#直接在默认文件夹下生成runs文件\n",
    "writer = SummaryWriter(comment='_scalars', filename_suffix=\"12345678\")\n",
    "\n",
    "for x in range(100):\n",
    "    writer.add_scalar('y=pow_2_x', 2**x, x)\n",
    "\n",
    "writer.close()"
   ]
  },
  {
   "cell_type": "markdown",
   "metadata": {
    "collapsed": true
   },
   "source": [
    "### **SummaryWriter类基本方法**"
   ]
  },
  {
   "cell_type": "markdown",
   "metadata": {},
   "source": [
    "- add_scalar(tag, scalar_value, global_step)\n",
    " \n",
    "    - 功能\n",
    "        \n",
    "        记录标量，只能绘制单条曲线\n",
    "    \n",
    "    - tag\n",
    "    \n",
    "        图像的标签名，图的唯一标识\n",
    "        \n",
    "    - scalar_value\n",
    "    \n",
    "        要记录的标量\n",
    "        \n",
    "    - global_step\n",
    "    \n",
    "        x轴\n",
    "        \n",
    "- add_scalars(main_tag,tag_scalar_dict)\n",
    "\n",
    "    - 功能\n",
    "    \n",
    "        可以绘制多条曲线\n",
    "        \n",
    "    - main_tag\n",
    "    \n",
    "        该图的标签\n",
    "        \n",
    "    - tag_scalar_dict\n",
    "    \n",
    "        传入字典类 key是变量的tag，value是变量的值"
   ]
  },
  {
   "cell_type": "code",
   "execution_count": 8,
   "metadata": {
    "ExecuteTime": {
     "end_time": "2019-12-16T08:06:24.395155Z",
     "start_time": "2019-12-16T08:06:24.265118Z"
    },
    "collapsed": true
   },
   "outputs": [],
   "source": [
    "# ----------------------------------- 1 scalar and scalars -----------------------------------\n",
    "max_epoch = 100\n",
    "\n",
    "writer = SummaryWriter(comment='test_comment', filename_suffix=\"test_suffix\")\n",
    "\n",
    "for x in range(max_epoch):\n",
    "    \n",
    "    # 单条曲线绘制\n",
    "    writer.add_scalar('y=2x', x * 2, x)\n",
    "    writer.add_scalar('y=pow_2_x', 2**x, x)\n",
    "    \n",
    "    # 通过字典传入，多条曲线绘制\n",
    "    writer.add_scalars('data/scalar_group', {\n",
    "        \"xsinx\": x * np.sin(x),\n",
    "        \"xcosx\": x * np.cos(x)\n",
    "    }, x)\n",
    "writer.close()"
   ]
  },
  {
   "cell_type": "code",
   "execution_count": null,
   "metadata": {
    "collapsed": true
   },
   "outputs": [],
   "source": []
  },
  {
   "cell_type": "markdown",
   "metadata": {},
   "source": [
    "- add_histogram(tag, values, global_step, bins)\n",
    "\n",
    "    - 功能\n",
    "    \n",
    "        统计直方图与多分位数折线图\n",
    "        \n",
    "    - tag\n",
    "    \n",
    "        图像的标签名，图的唯一标识\n",
    "        \n",
    "    - values\n",
    "    \n",
    "        要统计的参数，权值或者梯度或者偏置\n",
    "        \n",
    "    - global_step\n",
    "    \n",
    "        y轴\n",
    "        \n",
    "    - bins\n",
    "    \n",
    "        取直方图的bins"
   ]
  },
  {
   "cell_type": "code",
   "execution_count": 4,
   "metadata": {
    "ExecuteTime": {
     "end_time": "2020-05-03T13:13:19.807843Z",
     "start_time": "2020-05-03T13:13:19.130993Z"
    }
   },
   "outputs": [
    {
     "data": {
      "image/png": "[encoded data removed]",
      "text/plain": [
       "<Figure size 432x288 with 2 Axes>"
      ]
     },
     "metadata": {
      "needs_background": "light"
     },
     "output_type": "display_data"
    },
    {
     "data": {
      "image/png": "[encoded data removed]",
      "text/plain": [
       "<Figure size 432x288 with 2 Axes>"
      ]
     },
     "metadata": {
      "needs_background": "light"
     },
     "output_type": "display_data"
    }
   ],
   "source": [
    "# ----------------------------------- 2 histogram -----------------------------------\n",
    "writer = SummaryWriter(comment='test_comment', filename_suffix=\"test_suffix\")\n",
    "\n",
    "for x in range(2):\n",
    "\n",
    "    np.random.seed(x)\n",
    "\n",
    "    data_union = np.arange(100)\n",
    "    data_normal = np.random.normal(size=1000)\n",
    "\n",
    "    writer.add_histogram('distribution union', data_union, x) # data_union \n",
    "    writer.add_histogram('distribution normal', data_normal, x)\n",
    "\n",
    "    plt.subplot(121).hist(data_union, label=\"union\")\n",
    "    plt.subplot(122).hist(data_normal, label=\"normal\")\n",
    "    plt.legend()\n",
    "    plt.show()\n",
    "\n",
    "writer.close()"
   ]
  },
  {
   "cell_type": "code",
   "execution_count": 6,
   "metadata": {
    "ExecuteTime": {
     "end_time": "2020-05-03T14:18:31.988243Z",
     "start_time": "2020-05-03T14:18:31.983258Z"
    }
   },
   "outputs": [
    {
     "data": {
      "text/plain": [
       "array([ 0,  1,  2,  3,  4,  5,  6,  7,  8,  9, 10, 11, 12, 13, 14, 15, 16,\n",
       "       17, 18, 19, 20, 21, 22, 23, 24, 25, 26, 27, 28, 29, 30, 31, 32, 33,\n",
       "       34, 35, 36, 37, 38, 39, 40, 41, 42, 43, 44, 45, 46, 47, 48, 49, 50,\n",
       "       51, 52, 53, 54, 55, 56, 57, 58, 59, 60, 61, 62, 63, 64, 65, 66, 67,\n",
       "       68, 69, 70, 71, 72, 73, 74, 75, 76, 77, 78, 79, 80, 81, 82, 83, 84,\n",
       "       85, 86, 87, 88, 89, 90, 91, 92, 93, 94, 95, 96, 97, 98, 99])"
      ]
     },
     "execution_count": 6,
     "metadata": {},
     "output_type": "execute_result"
    }
   ],
   "source": [
    "data_union"
   ]
  },
  {
   "cell_type": "markdown",
   "metadata": {},
   "source": [
    "## 基于TensorBoard对网络模型的性能指标的监控例程"
   ]
  },
  {
   "cell_type": "markdown",
   "metadata": {},
   "source": [
    "代码实例：\n",
    "\n",
    "    # 参数设置\n",
    "    # ============================ step 1/5 数据 ============================\n",
    "    # ============================ step 2/5 模型 ============================\n",
    "    # ============================ step 3/5 损失函数 ============================\n",
    "    # ============================ step 4/5 优化器 ============================\n",
    "    # ============================ step 5/5 训练 ============================\n",
    "    \n",
    "    ##基于matplot绘制曲线\n",
    "    train_curve = list()\n",
    "    valid_curve = list()\n",
    "\n",
    "    iter_count = 0\n",
    "\n",
    "    # 构建 SummaryWriter，监控数据====================================================================\n",
    "    writer = SummaryWriter(comment='test_your_comment', filename_suffix=\"_test_your_filename_suffix\")\n",
    "\n",
    "    for epoch in range(MAX_EPOCH):\n",
    "\n",
    "        loss_mean = 0.\n",
    "        correct = 0.\n",
    "        total = 0.\n",
    "\n",
    "        net.train()\n",
    "        for i, data in enumerate(train_loader):\n",
    "\n",
    "            iter_count += 1\n",
    "\n",
    "            # forward\n",
    "\n",
    "            # backward================================================\n",
    "            loss = criterion(outputs, labels)\n",
    "\n",
    "            # update weights\n",
    "\n",
    "            # 统计分类情况\n",
    "            _, predicted = torch.max(outputs.data, 1)\n",
    "            total += labels.size(0)\n",
    "            #统计正确率================================================\n",
    "            correct += (predicted == labels).squeeze().sum().numpy()\n",
    "\n",
    "            # 打印训练信息\n",
    "            loss_mean += loss.item()\n",
    "            train_curve.append(loss.item())\n",
    "            if (i+1) % log_interval == 0:\n",
    "                loss_mean = loss_mean / log_interval\n",
    "                print(\"Training:Epoch[{:0>3}/{:0>3}] Iteration[{:0>3}/{:0>3}] Loss: {:.4f} Acc:{:.2%}\".format(\n",
    "                    epoch, MAX_EPOCH, i+1, len(train_loader), loss_mean, correct / total))\n",
    "                loss_mean = 0.\n",
    "\n",
    "            # 记录数据，保存于event file=========================================\n",
    "            writer.add_scalars(\"Loss\", {\"Train\": loss.item()}, iter_count)\n",
    "            writer.add_scalars(\"Accuracy\", {\"Train\": correct / total}, iter_count)\n",
    "\n",
    "        # 每个epoch，记录梯度，权值================================================\n",
    "        for name, param in net.named_parameters():\n",
    "            writer.add_histogram(name + '_grad', param.grad, epoch)\n",
    "            writer.add_histogram(name + '_data', param, epoch)\n",
    "\n",
    "        \n",
    "        # validate the model\n",
    "        if (epoch+1) % val_interval == 0:\n",
    "\n",
    "            correct_val = 0.\n",
    "            total_val = 0.\n",
    "            loss_val = 0.\n",
    "            net.eval()\n",
    "            with torch.no_grad():\n",
    "                for j, data in enumerate(valid_loader):\n",
    "                    inputs, labels = data\n",
    "                    outputs = net(inputs)\n",
    "                    loss = criterion(outputs, labels)\n",
    "\n",
    "                    _, predicted = torch.max(outputs.data, 1)\n",
    "                    total_val += labels.size(0)\n",
    "                    correct_val += (predicted == labels).squeeze().sum().numpy()\n",
    "\n",
    "                    loss_val += loss.item()\n",
    "\n",
    "                valid_curve.append(loss.item())\n",
    "                print(\"Valid:\\t Epoch[{:0>3}/{:0>3}] Iteration[{:0>3}/{:0>3}] Loss: {:.4f} Acc:{:.2%}\".format(\n",
    "                    epoch, MAX_EPOCH, j+1, len(valid_loader), loss_val, correct / total))\n",
    "\n",
    "                # 记录数据，保存于event file========================================================================\n",
    "                writer.add_scalars(\"Loss\", {\"Valid\": np.mean(valid_curve)}, iter_count)\n",
    "                writer.add_scalars(\"Accuracy\", {\"Valid\": correct / total}, iter_count)\n",
    "\n",
    "    train_x = range(len(train_curve))\n",
    "    train_y = train_curve\n",
    "\n",
    "    train_iters = len(train_loader)\n",
    "    valid_x = np.arange(1, len(valid_curve)+1) * train_iters*val_interval # 由于valid中记录的是epochloss，需要对记录点进行转换到iterations\n",
    "    valid_y = valid_curve\n",
    "\n",
    "    plt.plot(train_x, train_y, label='Train')\n",
    "    plt.plot(valid_x, valid_y, label='Valid')\n",
    "\n",
    "    plt.legend(loc='upper right')\n",
    "    plt.ylabel('loss value')\n",
    "    plt.xlabel('Iteration')\n",
    "    plt.show()"
   ]
  },
  {
   "cell_type": "code",
   "execution_count": null,
   "metadata": {
    "collapsed": true
   },
   "outputs": [],
   "source": []
  }
 ],
 "metadata": {
  "anaconda-cloud": {},
  "kernelspec": {
   "display_name": "Python 3",
   "language": "python",
   "name": "python3"
  },
  "language_info": {
   "codemirror_mode": {
    "name": "ipython",
    "version": 3
   },
   "file_extension": ".py",
   "mimetype": "text/x-python",
   "name": "python",
   "nbconvert_exporter": "python",
   "pygments_lexer": "ipython3",
   "version": "3.7.0"
  },
  "toc": {
   "base_numbering": 1,
   "nav_menu": {},
   "number_sections": true,
   "sideBar": true,
   "skip_h1_title": false,
   "title_cell": "Table of Contents",
   "title_sidebar": "Contents",
   "toc_cell": false,
   "toc_position": {},
   "toc_section_display": true,
   "toc_window_display": false
  },
  "varInspector": {
   "cols": {
    "lenName": 16,
    "lenType": 16,
    "lenVar": 40
   },
   "kernels_config": {
    "python": {
     "delete_cmd_postfix": "",
     "delete_cmd_prefix": "del ",
     "library": "var_list.py",
     "varRefreshCmd": "print(var_dic_list())"
    },
    "r": {
     "delete_cmd_postfix": ") ",
     "delete_cmd_prefix": "rm(",
     "library": "var_list.r",
     "varRefreshCmd": "cat(var_dic_list()) "
    }
   },
   "types_to_exclude": [
    "module",
    "function",
    "builtin_function_or_method",
    "instance",
    "_Feature"
   ],
   "window_display": false
  }
 },
 "nbformat": 4,
 "nbformat_minor": 1
}
