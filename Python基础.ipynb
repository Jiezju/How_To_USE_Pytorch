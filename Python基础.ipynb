{
 "cells": [
  {
   "cell_type": "markdown",
   "metadata": {},
   "source": [
    "### 变量与对象"
   ]
  },
  {
   "cell_type": "markdown",
   "metadata": {},
   "source": [
    "**不可变对象**\n",
    "    \n",
    "    int  float  str tuple\n",
    "    \n",
    "**可变对象**\n",
    "\n",
    "    list dict set\n",
    "    \n",
    "    注意： 所谓可变不可变是针对内存而言"
   ]
  },
  {
   "cell_type": "code",
   "execution_count": 1,
   "metadata": {
    "ExecuteTime": {
     "end_time": "2020-03-04T15:29:02.266570Z",
     "start_time": "2020-03-04T15:29:02.262607Z"
    }
   },
   "outputs": [],
   "source": [
    "'''\n",
    "对赋值的理解\n",
    "'''\n",
    "a = 1  # a是指向对象的指针（也就是变量）变量没有类型  1 是对象，对象有类型"
   ]
  },
  {
   "cell_type": "code",
   "execution_count": 2,
   "metadata": {
    "ExecuteTime": {
     "end_time": "2020-03-04T15:36:09.783159Z",
     "start_time": "2020-03-04T15:36:09.773137Z"
    }
   },
   "outputs": [
    {
     "data": {
      "text/plain": [
       "True"
      ]
     },
     "execution_count": 2,
     "metadata": {},
     "output_type": "execute_result"
    }
   ],
   "source": [
    "'''\n",
    "对于不可变对象，指向该对象的变量在内存中共享\n",
    "'''\n",
    "\n",
    "a = 1\n",
    "b = 1\n",
    "\n",
    "# a b 两个变量都指向同一个不可变对象 1 所以a b指向相同的内存\n",
    "id(a) == id(b)"
   ]
  },
  {
   "cell_type": "code",
   "execution_count": 3,
   "metadata": {
    "ExecuteTime": {
     "end_time": "2020-03-04T15:57:35.178900Z",
     "start_time": "2020-03-04T15:57:35.173913Z"
    }
   },
   "outputs": [
    {
     "data": {
      "text/plain": [
       "False"
      ]
     },
     "execution_count": 3,
     "metadata": {},
     "output_type": "execute_result"
    }
   ],
   "source": [
    "'''\n",
    "可变类型\n",
    "'''\n",
    "a = [1]\n",
    "b = [1]\n",
    "id(a) == id(b)  # 由于指向可变对象，所以两个变量指向不同的内存"
   ]
  },
  {
   "cell_type": "code",
   "execution_count": 4,
   "metadata": {
    "ExecuteTime": {
     "end_time": "2020-03-04T16:14:48.259863Z",
     "start_time": "2020-03-04T16:14:48.253846Z"
    }
   },
   "outputs": [
    {
     "data": {
      "text/plain": [
       "True"
      ]
     },
     "execution_count": 4,
     "metadata": {},
     "output_type": "execute_result"
    }
   ],
   "source": [
    "a = [1]\n",
    "b = a\n",
    "id(a) == id(b)  # 对于可变对象的赋值，指向同样的内存"
   ]
  },
  {
   "cell_type": "markdown",
   "metadata": {},
   "source": [
    "### 深拷贝与浅拷贝"
   ]
  },
  {
   "cell_type": "code",
   "execution_count": 6,
   "metadata": {
    "ExecuteTime": {
     "end_time": "2020-03-04T16:37:55.529395Z",
     "start_time": "2020-03-04T16:37:55.525408Z"
    }
   },
   "outputs": [
    {
     "data": {
      "text/plain": [
       "([1, 2, 3, 4], [1, 2, 3])"
      ]
     },
     "execution_count": 6,
     "metadata": {},
     "output_type": "execute_result"
    }
   ],
   "source": [
    "'''\n",
    "冒号深拷贝\n",
    "'''\n",
    "\n",
    "a = [1, 2, 3]\n",
    "b = a[:] \n",
    "a.append(4)\n",
    "a, b"
   ]
  },
  {
   "cell_type": "markdown",
   "metadata": {},
   "source": [
    "### 全局标量的声明"
   ]
  },
  {
   "cell_type": "code",
   "execution_count": 11,
   "metadata": {
    "ExecuteTime": {
     "end_time": "2020-03-04T16:44:27.542853Z",
     "start_time": "2020-03-04T16:44:27.538865Z"
    }
   },
   "outputs": [],
   "source": [
    "a=1\n",
    "def local():\n",
    "    global a\n",
    "    \n",
    "    return a*3"
   ]
  },
  {
   "cell_type": "code",
   "execution_count": 12,
   "metadata": {
    "ExecuteTime": {
     "end_time": "2020-03-04T16:44:27.916180Z",
     "start_time": "2020-03-04T16:44:27.910196Z"
    }
   },
   "outputs": [
    {
     "data": {
      "text/plain": [
       "3"
      ]
     },
     "execution_count": 12,
     "metadata": {},
     "output_type": "execute_result"
    }
   ],
   "source": [
    "local()"
   ]
  },
  {
   "cell_type": "markdown",
   "metadata": {},
   "source": [
    "### 高阶函数"
   ]
  },
  {
   "cell_type": "markdown",
   "metadata": {},
   "source": [
    "**map()函数**\n",
    "    \n",
    "    将一个函数映射到迭代序列，返回函数输出序列"
   ]
  },
  {
   "cell_type": "code",
   "execution_count": 1,
   "metadata": {
    "ExecuteTime": {
     "end_time": "2020-03-05T14:26:42.715624Z",
     "start_time": "2020-03-05T14:26:42.711625Z"
    }
   },
   "outputs": [],
   "source": [
    "def f(x):\n",
    "    return x**2+x+1"
   ]
  },
  {
   "cell_type": "code",
   "execution_count": 11,
   "metadata": {
    "ExecuteTime": {
     "end_time": "2020-03-05T14:32:38.647215Z",
     "start_time": "2020-03-05T14:32:38.643198Z"
    }
   },
   "outputs": [
    {
     "data": {
      "text/plain": [
       "[1, 3, 7, 13, 21]"
      ]
     },
     "execution_count": 11,
     "metadata": {},
     "output_type": "execute_result"
    }
   ],
   "source": [
    "li = [i for i in range(5)]\n",
    "li\n",
    "result = list(map(f, li))  # 注意map输出要用list转换类型\n",
    "result"
   ]
  },
  {
   "cell_type": "markdown",
   "metadata": {},
   "source": [
    "**reduce()函数**\n",
    "\n",
    "    将一个函数进行复合运算\n",
    "    \n",
    "    计算过程：z=f(x,y)\n",
    "    reduce(f,[x1,x2,x3])  ==> f(f(x1,x2),x3)"
   ]
  },
  {
   "cell_type": "code",
   "execution_count": 12,
   "metadata": {
    "ExecuteTime": {
     "end_time": "2020-03-05T14:39:33.480977Z",
     "start_time": "2020-03-05T14:39:33.477980Z"
    }
   },
   "outputs": [],
   "source": [
    "def f(x,y):\n",
    "    return 2*x+y"
   ]
  },
  {
   "cell_type": "code",
   "execution_count": 14,
   "metadata": {
    "ExecuteTime": {
     "end_time": "2020-03-05T14:41:37.174918Z",
     "start_time": "2020-03-05T14:41:37.169957Z"
    }
   },
   "outputs": [
    {
     "data": {
      "text/plain": [
       "4"
      ]
     },
     "execution_count": 14,
     "metadata": {},
     "output_type": "execute_result"
    }
   ],
   "source": [
    "from functools import reduce # 导入reduce函数\n",
    "li = [i for i in range(3)]\n",
    "reduce(f, li)"
   ]
  },
  {
   "cell_type": "markdown",
   "metadata": {},
   "source": [
    "**filter()函数**\n",
    "\n",
    "    通过输入函数对序列进行过滤\n",
    "    filter(f,list)  根据f对list进行筛选"
   ]
  },
  {
   "cell_type": "code",
   "execution_count": 15,
   "metadata": {
    "ExecuteTime": {
     "end_time": "2020-03-05T14:48:53.607479Z",
     "start_time": "2020-03-05T14:48:53.603516Z"
    }
   },
   "outputs": [],
   "source": [
    "def is_odd(n):\n",
    "    return n % 2 == 0"
   ]
  },
  {
   "cell_type": "code",
   "execution_count": 17,
   "metadata": {
    "ExecuteTime": {
     "end_time": "2020-03-05T14:49:43.985282Z",
     "start_time": "2020-03-05T14:49:43.980270Z"
    }
   },
   "outputs": [
    {
     "data": {
      "text/plain": [
       "[0, 2, 4, 6, 8]"
      ]
     },
     "execution_count": 17,
     "metadata": {},
     "output_type": "execute_result"
    }
   ],
   "source": [
    "li = [i for i in range(10)]\n",
    "list(filter(is_odd, li))"
   ]
  },
  {
   "cell_type": "markdown",
   "metadata": {},
   "source": [
    "**sorted()函数**\n",
    "   \n",
    "    实现排序"
   ]
  },
  {
   "cell_type": "code",
   "execution_count": 33,
   "metadata": {
    "ExecuteTime": {
     "end_time": "2020-03-05T14:57:53.867255Z",
     "start_time": "2020-03-05T14:57:53.864262Z"
    }
   },
   "outputs": [],
   "source": [
    "import random"
   ]
  },
  {
   "cell_type": "code",
   "execution_count": 40,
   "metadata": {
    "ExecuteTime": {
     "end_time": "2020-03-05T14:58:57.651942Z",
     "start_time": "2020-03-05T14:58:57.648971Z"
    }
   },
   "outputs": [],
   "source": [
    "alist=[i for i in range(-10,10)]"
   ]
  },
  {
   "cell_type": "code",
   "execution_count": 41,
   "metadata": {
    "ExecuteTime": {
     "end_time": "2020-03-05T14:58:58.108146Z",
     "start_time": "2020-03-05T14:58:58.106145Z"
    }
   },
   "outputs": [],
   "source": [
    "random.shuffle(alist)"
   ]
  },
  {
   "cell_type": "code",
   "execution_count": 42,
   "metadata": {
    "ExecuteTime": {
     "end_time": "2020-03-05T14:58:58.518180Z",
     "start_time": "2020-03-05T14:58:58.511204Z"
    }
   },
   "outputs": [
    {
     "data": {
      "text/plain": [
       "[2, 7, -3, 5, 8, 1, 0, 4, -8, -10, -2, -1, -9, -6, -4, 3, 9, 6, -5, -7]"
      ]
     },
     "execution_count": 42,
     "metadata": {},
     "output_type": "execute_result"
    }
   ],
   "source": [
    "alist"
   ]
  },
  {
   "cell_type": "code",
   "execution_count": 44,
   "metadata": {
    "ExecuteTime": {
     "end_time": "2020-03-05T15:00:02.450577Z",
     "start_time": "2020-03-05T15:00:02.446588Z"
    }
   },
   "outputs": [],
   "source": [
    "def f(x):\n",
    "    return x**3"
   ]
  },
  {
   "cell_type": "code",
   "execution_count": 45,
   "metadata": {
    "ExecuteTime": {
     "end_time": "2020-03-05T15:00:02.944907Z",
     "start_time": "2020-03-05T15:00:02.939915Z"
    }
   },
   "outputs": [
    {
     "data": {
      "text/plain": [
       "[-10, -9, -8, -7, -6, -5, -4, -3, -2, -1, 0, 1, 2, 3, 4, 5, 6, 7, 8, 9]"
      ]
     },
     "execution_count": 45,
     "metadata": {},
     "output_type": "execute_result"
    }
   ],
   "source": [
    "sorted(alist,key=f,reverse=False) # 按照f(x)对指定序列排序"
   ]
  },
  {
   "cell_type": "markdown",
   "metadata": {},
   "source": [
    "### 迭代器与生成器"
   ]
  },
  {
   "cell_type": "markdown",
   "metadata": {},
   "source": [
    "**迭代器与生成器的创建**\n",
    "\n",
    "    iter(x) 创建以x的迭代器\n",
    "    next(x) 依次产生下一个数"
   ]
  },
  {
   "cell_type": "code",
   "execution_count": 46,
   "metadata": {
    "ExecuteTime": {
     "end_time": "2020-03-05T15:05:47.436610Z",
     "start_time": "2020-03-05T15:05:47.433617Z"
    }
   },
   "outputs": [],
   "source": [
    "a = (x for x in range(10))\n",
    "it = iter(a)"
   ]
  },
  {
   "cell_type": "code",
   "execution_count": 47,
   "metadata": {
    "ExecuteTime": {
     "end_time": "2020-03-05T15:05:52.025477Z",
     "start_time": "2020-03-05T15:05:52.021063Z"
    }
   },
   "outputs": [
    {
     "data": {
      "text/plain": [
       "<generator object <genexpr> at 0x0000026898342318>"
      ]
     },
     "execution_count": 47,
     "metadata": {},
     "output_type": "execute_result"
    }
   ],
   "source": [
    "it"
   ]
  },
  {
   "cell_type": "code",
   "execution_count": 49,
   "metadata": {
    "ExecuteTime": {
     "end_time": "2020-03-05T15:06:18.520935Z",
     "start_time": "2020-03-05T15:06:18.516939Z"
    }
   },
   "outputs": [
    {
     "data": {
      "text/plain": [
       "(1, 2)"
      ]
     },
     "execution_count": 49,
     "metadata": {},
     "output_type": "execute_result"
    }
   ],
   "source": [
    "next(it),next(it)"
   ]
  },
  {
   "cell_type": "markdown",
   "metadata": {},
   "source": [
    "**yield函数**\n",
    "\n",
    "    调用一次，停止一次，在调用一次，运行下一次"
   ]
  },
  {
   "cell_type": "code",
   "execution_count": 72,
   "metadata": {
    "ExecuteTime": {
     "end_time": "2020-03-05T15:17:14.616348Z",
     "start_time": "2020-03-05T15:17:14.613347Z"
    }
   },
   "outputs": [],
   "source": [
    "def fibonacci():\n",
    "    ret=[0,1]\n",
    "    ret.append(ret[-1]+ret[-2])\n",
    "    yield ret # 每yield一次就输出一次"
   ]
  },
  {
   "cell_type": "code",
   "execution_count": 73,
   "metadata": {
    "ExecuteTime": {
     "end_time": "2020-03-05T15:17:15.094564Z",
     "start_time": "2020-03-05T15:17:15.090545Z"
    }
   },
   "outputs": [
    {
     "data": {
      "text/plain": [
       "[[0, 1, 1]]"
      ]
     },
     "execution_count": 73,
     "metadata": {},
     "output_type": "execute_result"
    }
   ],
   "source": [
    "list(fibonacci())"
   ]
  },
  {
   "cell_type": "code",
   "execution_count": 75,
   "metadata": {
    "ExecuteTime": {
     "end_time": "2020-03-05T15:17:28.323657Z",
     "start_time": "2020-03-05T15:17:28.318704Z"
    }
   },
   "outputs": [
    {
     "data": {
      "text/plain": [
       "[0, 1, 1]"
      ]
     },
     "execution_count": 75,
     "metadata": {},
     "output_type": "execute_result"
    }
   ],
   "source": [
    "list(next(fibonacci()))"
   ]
  },
  {
   "cell_type": "code",
   "execution_count": 76,
   "metadata": {
    "ExecuteTime": {
     "end_time": "2020-03-05T15:17:38.624320Z",
     "start_time": "2020-03-05T15:17:38.618335Z"
    }
   },
   "outputs": [
    {
     "data": {
      "text/plain": [
       "[0, 1, 1]"
      ]
     },
     "execution_count": 76,
     "metadata": {},
     "output_type": "execute_result"
    }
   ],
   "source": [
    "list(next(fibonacci()))"
   ]
  },
  {
   "cell_type": "code",
   "execution_count": null,
   "metadata": {},
   "outputs": [],
   "source": []
  }
 ],
 "metadata": {
  "kernelspec": {
   "display_name": "Python 3",
   "language": "python",
   "name": "python3"
  },
  "language_info": {
   "codemirror_mode": {
    "name": "ipython",
    "version": 3
   },
   "file_extension": ".py",
   "mimetype": "text/x-python",
   "name": "python",
   "nbconvert_exporter": "python",
   "pygments_lexer": "ipython3",
   "version": "3.7.0"
  }
 },
 "nbformat": 4,
 "nbformat_minor": 2
}
