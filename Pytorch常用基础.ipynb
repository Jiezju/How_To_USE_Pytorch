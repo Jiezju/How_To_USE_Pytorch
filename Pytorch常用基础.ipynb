{
 "cells": [
  {
   "cell_type": "markdown",
   "metadata": {},
   "source": [
    "## Tensor张量"
   ]
  },
  {
   "cell_type": "code",
   "execution_count": 1,
   "metadata": {
    "ExecuteTime": {
     "end_time": "2020-03-24T14:15:32.330310Z",
     "start_time": "2020-03-24T14:15:26.513227Z"
    }
   },
   "outputs": [],
   "source": [
    "import torch\n",
    "import numpy as np"
   ]
  },
  {
   "cell_type": "markdown",
   "metadata": {},
   "source": [
    "### 张量类型转化"
   ]
  },
  {
   "cell_type": "code",
   "execution_count": 6,
   "metadata": {
    "ExecuteTime": {
     "end_time": "2020-03-06T14:59:48.676371Z",
     "start_time": "2020-03-06T14:59:48.669389Z"
    }
   },
   "outputs": [
    {
     "name": "stdout",
     "output_type": "stream",
     "text": [
      "tensor([[1.0033e-42, 0.0000e+00],\n",
      "        [1.0033e-42, 0.0000e+00]])\n"
     ]
    }
   ],
   "source": [
    "'''\n",
    "创建新的tensor 默认为FloatTensor\n",
    "'''\n",
    "\n",
    "a = torch.Tensor(2, 2) # torch.Tensor等价于torch.FloatTensor\n",
    "print(a)"
   ]
  },
  {
   "cell_type": "code",
   "execution_count": 7,
   "metadata": {
    "ExecuteTime": {
     "end_time": "2020-03-06T15:01:57.632039Z",
     "start_time": "2020-03-06T15:01:57.625056Z"
    }
   },
   "outputs": [
    {
     "name": "stdout",
     "output_type": "stream",
     "text": [
      "tensor([[0, 0],\n",
      "        [0, 0]], dtype=torch.int32)\n"
     ]
    }
   ],
   "source": [
    "'''\n",
    "tensor数据类型转化\n",
    "'''\n",
    "\n",
    "b = a.int()   # int()  float()   double()\n",
    "print(b)"
   ]
  },
  {
   "cell_type": "code",
   "execution_count": 8,
   "metadata": {
    "ExecuteTime": {
     "end_time": "2020-03-06T15:04:57.708472Z",
     "start_time": "2020-03-06T15:04:57.597565Z"
    }
   },
   "outputs": [
    {
     "data": {
      "text/plain": [
       "tensor([[0., 0.],\n",
       "        [0., 0.]])"
      ]
     },
     "execution_count": 8,
     "metadata": {},
     "output_type": "execute_result"
    }
   ],
   "source": [
    "'''\n",
    "使用type函数\n",
    "'''\n",
    "\n",
    "c = b.type(torch.FloatTensor)\n",
    "c"
   ]
  },
  {
   "cell_type": "code",
   "execution_count": 16,
   "metadata": {
    "ExecuteTime": {
     "end_time": "2020-01-15T12:06:08.073305Z",
     "start_time": "2020-01-15T12:06:08.066322Z"
    }
   },
   "outputs": [
    {
     "name": "stdout",
     "output_type": "stream",
     "text": [
      "tensor([[0.0000e+00, 0.0000e+00, 0.0000e+00, 0.0000e+00],\n",
      "        [0.0000e+00, 0.0000e+00, 0.0000e+00, 0.0000e+00],\n",
      "        [0.0000e+00, 0.0000e+00, 2.0459e-42, 0.0000e+00],\n",
      "        [0.0000e+00, 1.0745e-38, 0.0000e+00, 9.3674e-39]])\n",
      "tensor([[0, 0, 0, 0],\n",
      "        [0, 0, 0, 0],\n",
      "        [0, 0, 0, 0],\n",
      "        [0, 0, 0, 0]], dtype=torch.int32)\n"
     ]
    }
   ],
   "source": [
    "'''\n",
    "使用type_as()保持类型一致\n",
    "'''\n",
    "c = torch.Tensor(4, 4)\n",
    "print(c)\n",
    "d = c.type_as(b)\n",
    "print(d)"
   ]
  },
  {
   "cell_type": "markdown",
   "metadata": {},
   "source": [
    "### 随机张量的创建"
   ]
  },
  {
   "cell_type": "code",
   "execution_count": 3,
   "metadata": {
    "ExecuteTime": {
     "end_time": "2020-03-24T14:45:41.094960Z",
     "start_time": "2020-03-24T14:45:41.070035Z"
    }
   },
   "outputs": [
    {
     "name": "stdout",
     "output_type": "stream",
     "text": [
      "tensor([[1., 2.],\n",
      "        [3., 4.]])\n",
      "tensor([[0., 0.],\n",
      "        [0., 0.]])\n",
      "tensor([[1., 1.],\n",
      "        [1., 1.]])\n",
      "tensor([[1., 0.],\n",
      "        [0., 1.]])\n",
      "tensor([[0.5089, 1.3943],\n",
      "        [0.1924, 0.2655]])\n",
      "tensor([ 0,  1,  2,  3,  4,  5,  6,  7,  8,  9, 10, 11])\n",
      "tensor([3, 1, 2, 0])\n",
      "tensor([[4, 2, 7, 4],\n",
      "        [3, 8, 7, 8],\n",
      "        [9, 0, 5, 5]])\n"
     ]
    }
   ],
   "source": [
    "# 使用python列表list创建\n",
    "a = torch.Tensor([[1, 2], [3, 4]])\n",
    "#print(a)\n",
    "\n",
    "# 使用zeros函数创建零张量\n",
    "b = torch.zeros(2, 2)\n",
    "#print(b)\n",
    "\n",
    "# 使用ones函数创建全1张量\n",
    "c = torch.ones(2, 2)\n",
    "#print(c)\n",
    "\n",
    "# 创建对角线全1张量\n",
    "d = torch.eye(2, 2)\n",
    "#print(d)\n",
    "\n",
    "# 创建服从正态分布的随机张量\n",
    "e = torch.randn(2, 2)\n",
    "#print(e)\n",
    "\n",
    "# 创建连续整数向量\n",
    "f = torch.arange(12)\n",
    "#print(f)\n",
    "\n",
    "# 生成随机排列张量\n",
    "g = torch.randperm(4)\n",
    "#print(g)\n",
    "\n",
    "# 生成范围内整数的随机数\n",
    "h = torch.randint(10, (3, 4))\n",
    "#print(h)"
   ]
  },
  {
   "cell_type": "markdown",
   "metadata": {},
   "source": [
    "### torch张量与list列表、numpy数组的转化"
   ]
  },
  {
   "cell_type": "code",
   "execution_count": 32,
   "metadata": {
    "ExecuteTime": {
     "end_time": "2020-01-15T12:36:52.775570Z",
     "start_time": "2020-01-15T12:36:52.771571Z"
    }
   },
   "outputs": [
    {
     "name": "stdout",
     "output_type": "stream",
     "text": [
      "[1, 2, 3]\n",
      "tensor([1, 2, 3])\n",
      "[1, 2, 3]\n"
     ]
    }
   ],
   "source": [
    "'''\n",
    "tensor <-> list\n",
    "'''\n",
    "\n",
    "a = [1, 2, 3]\n",
    "b = torch.tensor(a)  ## list to tensor\n",
    "# print(id(a),id(b)) 不相同\n",
    "#print(a)\n",
    "#print(b)\n",
    "\n",
    "c = b.tolist()      # tensor to list\n",
    "#print(c)"
   ]
  },
  {
   "cell_type": "code",
   "execution_count": 34,
   "metadata": {
    "ExecuteTime": {
     "end_time": "2020-01-15T12:42:27.533830Z",
     "start_time": "2020-01-15T12:42:27.421457Z"
    }
   },
   "outputs": [
    {
     "name": "stdout",
     "output_type": "stream",
     "text": [
      "[1 2 3]\n",
      "tensor([1, 2, 3], dtype=torch.int32)\n",
      "[1 2 3]\n"
     ]
    }
   ],
   "source": [
    "'''\n",
    "tensor <-> numpy\n",
    "'''\n",
    "\n",
    "a = np.array([1, 2, 3])  \n",
    "#print(a)\n",
    "\n",
    "b = torch.from_numpy(a)   # numpy to tensor\n",
    "#print(b)\n",
    "\n",
    "c = b.numpy()             # tensor to numpy\n",
    "#print(c)"
   ]
  },
  {
   "cell_type": "markdown",
   "metadata": {},
   "source": [
    "### 张量属性获取（维度，元素数量）"
   ]
  },
  {
   "cell_type": "code",
   "execution_count": 37,
   "metadata": {
    "ExecuteTime": {
     "end_time": "2020-01-15T12:50:47.140498Z",
     "start_time": "2020-01-15T12:50:47.133517Z"
    }
   },
   "outputs": [
    {
     "name": "stdout",
     "output_type": "stream",
     "text": [
      "torch.Size([2, 2])\n",
      "torch.Size([2, 2])\n"
     ]
    }
   ],
   "source": [
    "'''\n",
    "维度获取\n",
    "'''\n",
    "t = torch.Tensor(2, 2)\n",
    "print(t.shape)\n",
    "print(t.size())"
   ]
  },
  {
   "cell_type": "code",
   "execution_count": 38,
   "metadata": {
    "ExecuteTime": {
     "end_time": "2020-01-15T12:55:34.404046Z",
     "start_time": "2020-01-15T12:55:34.398063Z"
    }
   },
   "outputs": [
    {
     "data": {
      "text/plain": [
       "12"
      ]
     },
     "execution_count": 38,
     "metadata": {},
     "output_type": "execute_result"
    }
   ],
   "source": [
    "'''\n",
    "获取元素总数\n",
    "'''\n",
    "\n",
    "t=torch.arange(12)\n",
    "t.numel()"
   ]
  },
  {
   "cell_type": "markdown",
   "metadata": {},
   "source": [
    "### 张量的组合与分块"
   ]
  },
  {
   "cell_type": "code",
   "execution_count": 11,
   "metadata": {
    "ExecuteTime": {
     "end_time": "2020-03-06T15:23:46.490031Z",
     "start_time": "2020-03-06T15:23:46.477050Z"
    }
   },
   "outputs": [
    {
     "name": "stdout",
     "output_type": "stream",
     "text": [
      "torch.Size([2, 3])\n",
      "tensor([[ 6.,  7.,  8.],\n",
      "        [ 9., 10., 11.]])\n",
      "torch.Size([2, 3])\n",
      "torch.Size([4, 3])\n",
      "tensor([[ 1.,  2.,  3.,  6.,  7.,  8.],\n",
      "        [ 4.,  5.,  6.,  9., 10., 11.]])\n",
      "torch.Size([2, 6])\n"
     ]
    }
   ],
   "source": [
    "'''\n",
    "基于torch.cat()在已有维度添加数据\n",
    "'''\n",
    "a = torch.Tensor([[1, 2, 3], [4, 5, 6]])\n",
    "#print(a.shape)\n",
    "b = torch.arange(6, 12).reshape(2, 3).float()\n",
    "#print(b)\n",
    "#print(b.shape)\n",
    "\n",
    "c = torch.cat([a, b], 0)\n",
    "#print(c.shape)\n",
    "d = torch.cat([a, b], 1)\n",
    "#print(d)\n",
    "#print(d.shape)"
   ]
  },
  {
   "cell_type": "code",
   "execution_count": 13,
   "metadata": {
    "ExecuteTime": {
     "end_time": "2020-03-06T15:33:52.311819Z",
     "start_time": "2020-03-06T15:33:52.304862Z"
    }
   },
   "outputs": [
    {
     "name": "stdout",
     "output_type": "stream",
     "text": [
      "torch.Size([2, 3, 3])\n",
      "tensor([[[-0.9154,  0.7221, -0.2612],\n",
      "         [ 0.9302, -1.8321,  1.4481],\n",
      "         [-0.3382,  0.1383, -1.7269]],\n",
      "\n",
      "        [[ 0.0000,  1.0000,  2.0000],\n",
      "         [ 3.0000,  4.0000,  5.0000],\n",
      "         [ 6.0000,  7.0000,  8.0000]]])\n"
     ]
    }
   ],
   "source": [
    "'''\n",
    "基于torch.stack()扩展维度添加数据\n",
    "'''\n",
    "t1 = torch.randn(3, 3)\n",
    "t2 = torch.arange(9).reshape(3, 3).float()\n",
    "t = torch.stack([t1, t2], 0)\n",
    "print(t.shape)\n",
    "print(t)"
   ]
  },
  {
   "cell_type": "code",
   "execution_count": 14,
   "metadata": {
    "ExecuteTime": {
     "end_time": "2020-03-06T15:39:31.299645Z",
     "start_time": "2020-03-06T15:39:31.292688Z"
    }
   },
   "outputs": [
    {
     "name": "stdout",
     "output_type": "stream",
     "text": [
      "torch.Size([3, 2, 3])\n",
      "tensor([[[-0.9154,  0.7221, -0.2612],\n",
      "         [ 0.0000,  1.0000,  2.0000]],\n",
      "\n",
      "        [[ 0.9302, -1.8321,  1.4481],\n",
      "         [ 3.0000,  4.0000,  5.0000]],\n",
      "\n",
      "        [[-0.3382,  0.1383, -1.7269],\n",
      "         [ 6.0000,  7.0000,  8.0000]]])\n"
     ]
    }
   ],
   "source": [
    "t = torch.stack([t1, t2], 1)\n",
    "print(t.shape)\n",
    "print(t)"
   ]
  },
  {
   "cell_type": "code",
   "execution_count": 15,
   "metadata": {
    "ExecuteTime": {
     "end_time": "2020-03-06T15:41:54.482317Z",
     "start_time": "2020-03-06T15:41:54.476331Z"
    }
   },
   "outputs": [
    {
     "name": "stdout",
     "output_type": "stream",
     "text": [
      "torch.Size([3, 3, 2])\n",
      "tensor([[[-0.9154,  0.0000],\n",
      "         [ 0.7221,  1.0000],\n",
      "         [-0.2612,  2.0000]],\n",
      "\n",
      "        [[ 0.9302,  3.0000],\n",
      "         [-1.8321,  4.0000],\n",
      "         [ 1.4481,  5.0000]],\n",
      "\n",
      "        [[-0.3382,  6.0000],\n",
      "         [ 0.1383,  7.0000],\n",
      "         [-1.7269,  8.0000]]])\n"
     ]
    }
   ],
   "source": [
    "t = torch.stack([t1, t2], 2)\n",
    "print(t.shape)\n",
    "print(t)"
   ]
  },
  {
   "cell_type": "code",
   "execution_count": 18,
   "metadata": {
    "ExecuteTime": {
     "end_time": "2020-03-06T15:49:17.182969Z",
     "start_time": "2020-03-06T15:49:17.177010Z"
    }
   },
   "outputs": [
    {
     "name": "stdout",
     "output_type": "stream",
     "text": [
      "(tensor([[1., 2., 3.]]), tensor([[4., 5., 6.]]))\n"
     ]
    }
   ],
   "source": [
    "'''\n",
    "使用torch.chunk()函数对张量指定数量进行分块\n",
    "'''\n",
    "\n",
    "a = torch.Tensor([[1, 2, 3], [4, 5, 6]])\n",
    "b = torch.chunk(a, 2, 0)  # 将张量a沿着第0维分成2块\n",
    "print(b)"
   ]
  },
  {
   "cell_type": "code",
   "execution_count": 52,
   "metadata": {
    "ExecuteTime": {
     "end_time": "2020-01-15T13:47:01.520449Z",
     "start_time": "2020-01-15T13:47:01.483548Z"
    }
   },
   "outputs": [
    {
     "name": "stdout",
     "output_type": "stream",
     "text": [
      "(tensor([[1.],\n",
      "        [4.]]), tensor([[2., 3.],\n",
      "        [5., 6.]]))\n"
     ]
    }
   ],
   "source": [
    "'''\n",
    "使用torch.split()对张量指定大小进行拆分\n",
    "'''\n",
    "\n",
    "c = torch.split(a, [1, 2], 1) # 对张量a沿着第1维按照[1,2]分块\n",
    "print(c)"
   ]
  },
  {
   "cell_type": "markdown",
   "metadata": {},
   "source": [
    "### Tensor的索引与变形"
   ]
  },
  {
   "cell_type": "code",
   "execution_count": 53,
   "metadata": {
    "ExecuteTime": {
     "end_time": "2020-01-15T13:57:20.780796Z",
     "start_time": "2020-01-15T13:57:20.773817Z"
    }
   },
   "outputs": [
    {
     "name": "stdout",
     "output_type": "stream",
     "text": [
      "tensor([3., 2.])\n",
      "tensor(2.)\n"
     ]
    }
   ],
   "source": [
    "'''\n",
    "通过下标索引\n",
    "'''\n",
    "a = torch.Tensor([[1, 0], [3, 2]])\n",
    "\n",
    "print(a[1])\n",
    "print(a[1,1])"
   ]
  },
  {
   "cell_type": "markdown",
   "metadata": {},
   "source": [
    "### 依据条件表达式获取元素及索引"
   ]
  },
  {
   "cell_type": "code",
   "execution_count": 3,
   "metadata": {
    "ExecuteTime": {
     "end_time": "2020-03-07T15:39:52.025162Z",
     "start_time": "2020-03-07T15:39:51.581887Z"
    }
   },
   "outputs": [
    {
     "name": "stdout",
     "output_type": "stream",
     "text": [
      "tensor([[ 0.8657, -0.5027],\n",
      "        [ 0.4255,  0.3918]])\n",
      "tensor([0.8657, 0.4255, 0.3918])\n"
     ]
    }
   ],
   "source": [
    "'''\n",
    "使用逻辑表达式进行索引\n",
    "'''\n",
    "\n",
    "t = torch.randn(2, 2)\n",
    "print(t)\n",
    "print(t[t > 0]) # 取出索引并拉成一维张量 等价于 torch.masked_select(t,t>0)"
   ]
  },
  {
   "cell_type": "code",
   "execution_count": 9,
   "metadata": {
    "ExecuteTime": {
     "end_time": "2020-03-18T15:58:45.078598Z",
     "start_time": "2020-03-18T15:58:45.069622Z"
    }
   },
   "outputs": [
    {
     "data": {
      "text/plain": [
       "(tensor([[1, 0, 0],\n",
       "         [0, 1, 1],\n",
       "         [1, 0, 0]], dtype=torch.uint8), tensor([[1, 0, 0],\n",
       "         [0, 1, 1],\n",
       "         [1, 0, 0]], dtype=torch.uint8), tensor([[0, 1, 1],\n",
       "         [1, 0, 0],\n",
       "         [0, 1, 1]], dtype=torch.uint8), tensor([[1, 0, 0],\n",
       "         [0, 1, 1],\n",
       "         [1, 0, 0]], dtype=torch.uint8), tensor([[1, 0, 0],\n",
       "         [0, 1, 1],\n",
       "         [1, 0, 0]], dtype=torch.uint8))"
      ]
     },
     "execution_count": 9,
     "metadata": {},
     "output_type": "execute_result"
    }
   ],
   "source": [
    "'''\n",
    "比较运算\n",
    "'''\n",
    "\n",
    "# 等于运算索引\n",
    "\n",
    "x = torch.randint(3, (3, 3))\n",
    "index_eq = torch.eq(x, 2)\n",
    "\n",
    "# 大于运算\n",
    "index_gt = torch.gt(x, 1)\n",
    "\n",
    "# 小于运算\n",
    "index_lt = torch.lt(x, 2)\n",
    "\n",
    "# 大于等于\n",
    "index_ge = torch.ge(x, 2)\n",
    "\n",
    "index_t = x == 2\n",
    "\n",
    "index_eq, index_gt, index_lt, index_ge, index_t"
   ]
  },
  {
   "cell_type": "code",
   "execution_count": 6,
   "metadata": {
    "ExecuteTime": {
     "end_time": "2020-03-07T15:41:30.828555Z",
     "start_time": "2020-03-07T15:41:30.822571Z"
    }
   },
   "outputs": [
    {
     "data": {
      "text/plain": [
       "tensor([0.8657, 0.4255, 0.3918])"
      ]
     },
     "execution_count": 6,
     "metadata": {},
     "output_type": "execute_result"
    }
   ],
   "source": [
    "torch.masked_select(t, t > 0)"
   ]
  },
  {
   "cell_type": "code",
   "execution_count": 4,
   "metadata": {
    "ExecuteTime": {
     "end_time": "2020-03-18T15:46:28.149709Z",
     "start_time": "2020-03-18T15:46:27.731000Z"
    }
   },
   "outputs": [
    {
     "name": "stdout",
     "output_type": "stream",
     "text": [
      "tensor([[0, 0],\n",
      "        [0, 2],\n",
      "        [1, 2]])\n"
     ]
    }
   ],
   "source": [
    "'''\n",
    "选择非零的元素下标索引，查元素可通过前述方法\n",
    "'''\n",
    "t = torch.Tensor([[1, 0, 2], [0, 0, 3]])\n",
    "non0 = torch.nonzero(t) # 返回的是索引！！\n",
    "print(non0)"
   ]
  },
  {
   "cell_type": "code",
   "execution_count": 11,
   "metadata": {
    "ExecuteTime": {
     "end_time": "2020-03-18T16:08:46.045373Z",
     "start_time": "2020-03-18T16:08:46.039387Z"
    }
   },
   "outputs": [
    {
     "data": {
      "text/plain": [
       "tensor([1., 2., 3.])"
      ]
     },
     "execution_count": 11,
     "metadata": {},
     "output_type": "execute_result"
    }
   ],
   "source": [
    "t = torch.masked_select(t, t != 0)\n",
    "t"
   ]
  },
  {
   "cell_type": "code",
   "execution_count": 5,
   "metadata": {
    "ExecuteTime": {
     "end_time": "2020-03-18T15:46:36.986799Z",
     "start_time": "2020-03-18T15:46:36.980814Z"
    }
   },
   "outputs": [],
   "source": [
    "'''\n",
    "定义tf.gather_nd函数\n",
    "'''\n",
    "def torch_gather_nd(x, coords):\n",
    "    x = x.contiguous()\n",
    "    inds = coords.mv(torch.LongTensor(x.stride()))\n",
    "    x_gather = torch.index_select(x.reshape(-1), 0, inds)\n",
    "    return x_gather"
   ]
  },
  {
   "cell_type": "code",
   "execution_count": 6,
   "metadata": {
    "ExecuteTime": {
     "end_time": "2020-03-18T15:47:24.437789Z",
     "start_time": "2020-03-18T15:47:24.234077Z"
    }
   },
   "outputs": [
    {
     "data": {
      "text/plain": [
       "tensor([1., 2., 3.])"
      ]
     },
     "execution_count": 6,
     "metadata": {},
     "output_type": "execute_result"
    }
   ],
   "source": [
    "nonx=torch_gather_nd(t,non0)\n",
    "nonx"
   ]
  },
  {
   "cell_type": "code",
   "execution_count": 16,
   "metadata": {
    "ExecuteTime": {
     "end_time": "2020-03-22T18:48:54.547379Z",
     "start_time": "2020-03-22T18:48:54.541394Z"
    }
   },
   "outputs": [
    {
     "name": "stdout",
     "output_type": "stream",
     "text": [
      "tensor([[1, 2, 3],\n",
      "        [1, 1, 1]])\n"
     ]
    }
   ],
   "source": [
    "'''\n",
    "torch.where(condition,x,y)  满足condition输出x，不满足输出y\n",
    "'''\n",
    "\n",
    "t = torch.tensor([[1, 2, 3], [4, 5, 6]])\n",
    "t1 = torch.where(t > 3, torch.full_like(t, 1), t)\n",
    "print(t1)"
   ]
  },
  {
   "cell_type": "code",
   "execution_count": 17,
   "metadata": {
    "ExecuteTime": {
     "end_time": "2020-03-22T18:48:58.749943Z",
     "start_time": "2020-03-22T18:48:58.742971Z"
    }
   },
   "outputs": [
    {
     "data": {
      "text/plain": [
       "tensor([[1, 2, 3],\n",
       "        [1, 1, 1]])"
      ]
     },
     "execution_count": 17,
     "metadata": {},
     "output_type": "execute_result"
    }
   ],
   "source": [
    "t = torch.tensor([[1, 2, 3], [4, 5, 6]])\n",
    "t2 = torch.where(t > 3, torch.tensor(1,dtype=torch.long), t)\n",
    "t2"
   ]
  },
  {
   "cell_type": "code",
   "execution_count": 5,
   "metadata": {
    "ExecuteTime": {
     "end_time": "2020-01-16T04:32:30.750505Z",
     "start_time": "2020-01-16T04:32:30.744550Z"
    }
   },
   "outputs": [
    {
     "data": {
      "text/plain": [
       "tensor([[1, 1, 2],\n",
       "        [3, 4, 4]])"
      ]
     },
     "execution_count": 5,
     "metadata": {},
     "output_type": "execute_result"
    }
   ],
   "source": [
    "'''\n",
    "使用clamp函数对元素限制\n",
    "'''\n",
    "\n",
    "t = torch.arange(6).reshape(2,3)\n",
    "t.clamp(1,4) # 小于1的数为1 大于4的数为4"
   ]
  },
  {
   "cell_type": "markdown",
   "metadata": {},
   "source": [
    "### 张量变形"
   ]
  },
  {
   "cell_type": "code",
   "execution_count": 24,
   "metadata": {
    "ExecuteTime": {
     "end_time": "2020-03-07T16:16:10.856365Z",
     "start_time": "2020-03-07T16:16:10.851378Z"
    }
   },
   "outputs": [
    {
     "name": "stdout",
     "output_type": "stream",
     "text": [
      "tensor([0, 1, 2, 3, 4, 5])\n"
     ]
    }
   ],
   "source": [
    "a = torch.arange(6)\n",
    "print(a)"
   ]
  },
  {
   "cell_type": "code",
   "execution_count": 25,
   "metadata": {
    "ExecuteTime": {
     "end_time": "2020-03-07T16:16:11.209446Z",
     "start_time": "2020-03-07T16:16:11.201471Z"
    }
   },
   "outputs": [
    {
     "data": {
      "text/plain": [
       "tensor([[0, 1, 2],\n",
       "        [3, 4, 5]])"
      ]
     },
     "execution_count": 25,
     "metadata": {},
     "output_type": "execute_result"
    }
   ],
   "source": [
    "'''\n",
    "使用view()\n",
    "'''\n",
    "\n",
    "b = a.view(2, 3)\n",
    "b"
   ]
  },
  {
   "cell_type": "code",
   "execution_count": 26,
   "metadata": {
    "ExecuteTime": {
     "end_time": "2020-03-07T16:16:11.663215Z",
     "start_time": "2020-03-07T16:16:11.658219Z"
    }
   },
   "outputs": [
    {
     "data": {
      "text/plain": [
       "tensor([[0, 1],\n",
       "        [2, 3],\n",
       "        [4, 5]])"
      ]
     },
     "execution_count": 26,
     "metadata": {},
     "output_type": "execute_result"
    }
   ],
   "source": [
    "'''\n",
    "使用reshape\n",
    "'''\n",
    "\n",
    "c = a.reshape(3, 2)\n",
    "c"
   ]
  },
  {
   "cell_type": "code",
   "execution_count": 27,
   "metadata": {
    "ExecuteTime": {
     "end_time": "2020-03-07T16:16:16.385445Z",
     "start_time": "2020-03-07T16:16:16.379461Z"
    }
   },
   "outputs": [
    {
     "data": {
      "text/plain": [
       "tensor([[0, 1, 2],\n",
       "        [3, 4, 5]])"
      ]
     },
     "execution_count": 27,
     "metadata": {},
     "output_type": "execute_result"
    }
   ],
   "source": [
    "'''\n",
    "resize_进行原地操作\n",
    "'''\n",
    "\n",
    "d = a.resize_(2, 3)\n",
    "d"
   ]
  },
  {
   "cell_type": "markdown",
   "metadata": {},
   "source": [
    "### 张量维度变换"
   ]
  },
  {
   "cell_type": "code",
   "execution_count": 11,
   "metadata": {
    "ExecuteTime": {
     "end_time": "2020-01-16T04:51:34.509824Z",
     "start_time": "2020-01-16T04:51:34.336730Z"
    }
   },
   "outputs": [
    {
     "name": "stdout",
     "output_type": "stream",
     "text": [
      "torch.Size([2, 4, 3])\n"
     ]
    }
   ],
   "source": [
    "'''\n",
    "使用transpose进行两个维度的转置 注意只有两个维度可变！！\n",
    "'''\n",
    "\n",
    "a = torch.randn(2, 3, 4)\n",
    "b = a.transpose(1, 2)\n",
    "print(b.shape)"
   ]
  },
  {
   "cell_type": "code",
   "execution_count": 31,
   "metadata": {
    "ExecuteTime": {
     "end_time": "2020-03-07T16:24:43.098331Z",
     "start_time": "2020-03-07T16:24:43.089340Z"
    },
    "scrolled": true
   },
   "outputs": [
    {
     "name": "stdout",
     "output_type": "stream",
     "text": [
      "tensor([[[[-1.8326e+00,  3.0995e-01, -5.8632e-01, -7.8512e-01],\n",
      "          [-7.6643e-01, -1.6678e-01, -1.8480e-01,  4.8551e-01],\n",
      "          [ 9.4620e-01,  6.9529e-01,  2.6464e-01,  3.7948e-01],\n",
      "          [-8.8412e-01,  8.8079e-01, -7.8480e-02, -1.7295e+00]],\n",
      "\n",
      "         [[ 2.0035e-01,  1.4955e+00, -1.5980e+00,  1.2968e+00],\n",
      "          [-1.2007e+00,  2.3130e-01,  7.7936e-02, -7.8087e-01],\n",
      "          [-1.2616e+00, -1.5478e+00,  3.2053e-01, -3.6779e-01],\n",
      "          [-9.7553e-02, -4.7623e-01, -2.8041e-01,  8.3581e-01]],\n",
      "\n",
      "         [[-1.1460e+00,  1.2939e-01, -1.0328e+00, -4.7575e-01],\n",
      "          [-1.5065e+00, -5.0245e-01, -4.7354e-01,  1.7148e+00],\n",
      "          [ 8.0770e-01, -3.4655e-02,  1.6937e+00, -1.3660e+00],\n",
      "          [ 5.5628e-01, -2.5619e-01,  5.6245e-01,  9.5372e-02]]],\n",
      "\n",
      "\n",
      "        [[[ 8.9207e-01, -7.2033e-02, -9.9900e-01, -8.3959e-01],\n",
      "          [-1.3506e-01,  1.5266e+00,  3.3313e-01, -5.3554e-01],\n",
      "          [ 5.3303e-02, -9.5044e-01, -2.6120e+00,  5.8022e-01],\n",
      "          [ 2.6052e+00, -5.1532e-01,  1.2035e+00, -5.0069e-04]],\n",
      "\n",
      "         [[ 1.2235e+00,  1.7980e+00,  1.5499e+00,  1.3931e+00],\n",
      "          [ 2.9978e-02,  1.6284e+00,  4.3151e-01,  3.5730e-01],\n",
      "          [ 6.0830e-01, -9.6866e-02,  1.8537e+00, -5.4324e-01],\n",
      "          [-4.0524e-01, -4.0472e-01,  1.7134e+00,  8.2928e-01]],\n",
      "\n",
      "         [[ 5.8108e-01, -3.2802e-02, -1.6158e+00,  1.0373e+00],\n",
      "          [ 4.6621e-01,  1.4306e+00, -2.2700e-01, -1.9923e-01],\n",
      "          [-6.1876e-02,  5.4407e-01, -1.3739e+00,  6.4961e-02],\n",
      "          [ 1.4562e+00,  3.2663e-02, -1.3627e+00, -2.4796e-01]]]])\n",
      "torch.Size([3, 2, 4, 4])\n"
     ]
    }
   ],
   "source": [
    "'''\n",
    "使用permute进行多维度转置\n",
    "'''\n",
    "\n",
    "a = torch.randn(2, 3, 4, 4)\n",
    "print(a)\n",
    "b = a.permute(1, 0, 2, 3)\n",
    "print(b.shape)"
   ]
  },
  {
   "cell_type": "code",
   "execution_count": 30,
   "metadata": {
    "ExecuteTime": {
     "end_time": "2020-03-07T16:19:31.613201Z",
     "start_time": "2020-03-07T16:19:31.606220Z"
    }
   },
   "outputs": [
    {
     "data": {
      "text/plain": [
       "torch.Size([3, 4, 4])"
      ]
     },
     "execution_count": 30,
     "metadata": {},
     "output_type": "execute_result"
    }
   ],
   "source": [
    "'''\n",
    "squeeze去除维度为1的维度\n",
    "'''\n",
    "\n",
    "a=torch.randn(1,3,4,4)\n",
    "b=a.squeeze(0) # 去除第0维度的1\n",
    "b.shape"
   ]
  },
  {
   "cell_type": "code",
   "execution_count": 17,
   "metadata": {
    "ExecuteTime": {
     "end_time": "2020-01-16T05:05:08.654202Z",
     "start_time": "2020-01-16T05:05:08.549476Z"
    }
   },
   "outputs": [
    {
     "name": "stdout",
     "output_type": "stream",
     "text": [
      "torch.Size([1, 3, 4, 4])\n"
     ]
    }
   ],
   "source": [
    "'''\n",
    "unsqueeze增加维度\n",
    "'''\n",
    "\n",
    "a = torch.randn(3, 4, 4)\n",
    "b = a.unsqueeze(0)\n",
    "print(b.shape)"
   ]
  },
  {
   "cell_type": "code",
   "execution_count": 32,
   "metadata": {
    "ExecuteTime": {
     "end_time": "2020-03-07T16:28:22.198057Z",
     "start_time": "2020-03-07T16:28:22.087352Z"
    },
    "scrolled": true
   },
   "outputs": [
    {
     "name": "stdout",
     "output_type": "stream",
     "text": [
      "tensor([[[ 1.5565, -0.5176, -0.6837],\n",
      "         [ 1.4660, -0.9521,  1.1106],\n",
      "         [-0.2141,  1.5363, -1.2925]]])\n",
      "tensor([[[ 1.5565, -0.5176, -0.6837],\n",
      "         [ 1.4660, -0.9521,  1.1106],\n",
      "         [-0.2141,  1.5363, -1.2925]],\n",
      "\n",
      "        [[ 1.5565, -0.5176, -0.6837],\n",
      "         [ 1.4660, -0.9521,  1.1106],\n",
      "         [-0.2141,  1.5363, -1.2925]],\n",
      "\n",
      "        [[ 1.5565, -0.5176, -0.6837],\n",
      "         [ 1.4660, -0.9521,  1.1106],\n",
      "         [-0.2141,  1.5363, -1.2925]]])\n",
      "torch.Size([3, 3, 3])\n"
     ]
    }
   ],
   "source": [
    "'''\n",
    "使用expand复制相应维度 1 ->n\n",
    "'''\n",
    "\n",
    "t = torch.randn(1, 3, 3)\n",
    "print(t)\n",
    "t_ex = t.expand(3, 3, 3)\n",
    "print(t_ex)\n",
    "print(t_ex.shape)"
   ]
  },
  {
   "cell_type": "markdown",
   "metadata": {},
   "source": [
    "### 张量的排序与最值"
   ]
  },
  {
   "cell_type": "code",
   "execution_count": 2,
   "metadata": {
    "ExecuteTime": {
     "end_time": "2020-03-08T15:04:28.744474Z",
     "start_time": "2020-03-08T15:04:28.247543Z"
    }
   },
   "outputs": [
    {
     "name": "stdout",
     "output_type": "stream",
     "text": [
      "tensor([[-1.8379,  1.5234,  0.3487],\n",
      "        [-1.4017, -2.5192,  1.4343],\n",
      "        [ 0.5637,  0.6419, -0.4996]])\n"
     ]
    }
   ],
   "source": [
    "a = torch.randn(3, 3)\n",
    "#print(a)"
   ]
  },
  {
   "cell_type": "code",
   "execution_count": 5,
   "metadata": {
    "ExecuteTime": {
     "end_time": "2020-03-08T15:09:05.920576Z",
     "start_time": "2020-03-08T15:09:05.913588Z"
    }
   },
   "outputs": [
    {
     "name": "stdout",
     "output_type": "stream",
     "text": [
      "tensor([[ 0.5637,  1.5234,  1.4343],\n",
      "        [-1.4017,  0.6419,  0.3487],\n",
      "        [-1.8379, -2.5192, -0.4996]])\n"
     ]
    }
   ],
   "source": [
    "'''\n",
    "使用sort函数进行排序，返回排序后的值及索引\n",
    "'''\n",
    "\n",
    "b, indexes = a.sort(0, True)  # 按行进行排序，即按照列进行比较，True代表降序（从大到小）\n",
    "#print(b)"
   ]
  },
  {
   "cell_type": "code",
   "execution_count": 6,
   "metadata": {
    "ExecuteTime": {
     "end_time": "2020-03-08T15:09:08.016264Z",
     "start_time": "2020-03-08T15:09:08.006290Z"
    }
   },
   "outputs": [
    {
     "data": {
      "text/plain": [
       "tensor([[2, 0, 1],\n",
       "        [1, 2, 0],\n",
       "        [0, 1, 2]])"
      ]
     },
     "execution_count": 6,
     "metadata": {},
     "output_type": "execute_result"
    }
   ],
   "source": [
    "indexes  # 按从大到小的顺序进排序的索引"
   ]
  },
  {
   "cell_type": "code",
   "execution_count": 8,
   "metadata": {
    "ExecuteTime": {
     "end_time": "2020-03-08T15:10:25.007218Z",
     "start_time": "2020-03-08T15:10:25.003255Z"
    }
   },
   "outputs": [
    {
     "name": "stdout",
     "output_type": "stream",
     "text": [
      "tensor([2, 2, 2])\n"
     ]
    }
   ],
   "source": [
    "'''\n",
    "使用max与min函数指定维度选择最值，返回最值以及对应索引\n",
    "'''\n",
    "\n",
    "c , index = indexes.max(0)  # 按行选择最大值，即选择每列最值\n",
    "print(c)"
   ]
  },
  {
   "cell_type": "code",
   "execution_count": 9,
   "metadata": {
    "ExecuteTime": {
     "end_time": "2020-03-08T15:10:34.838724Z",
     "start_time": "2020-03-08T15:10:34.833705Z"
    }
   },
   "outputs": [
    {
     "data": {
      "text/plain": [
       "tensor([0, 1, 2])"
      ]
     },
     "execution_count": 9,
     "metadata": {},
     "output_type": "execute_result"
    }
   ],
   "source": [
    "index"
   ]
  },
  {
   "cell_type": "markdown",
   "metadata": {},
   "source": [
    "### 张量的广播"
   ]
  },
  {
   "cell_type": "code",
   "execution_count": 22,
   "metadata": {
    "ExecuteTime": {
     "end_time": "2020-01-16T12:10:20.235581Z",
     "start_time": "2020-01-16T12:10:20.206643Z"
    }
   },
   "outputs": [
    {
     "name": "stdout",
     "output_type": "stream",
     "text": [
      "torch.Size([3, 2, 2])\n"
     ]
    }
   ],
   "source": [
    "'''\n",
    "广播就是从尾部遍历维度，两个张量的维度对应的只能是1或者不存在\n",
    "'''\n",
    "\n",
    "a = torch.ones(3, 1, 2)\n",
    "b = torch.ones(2, 1)\n",
    "c = a + b\n",
    "print(c.shape)  # 维度结果取两个张量各维度的最大值"
   ]
  },
  {
   "cell_type": "markdown",
   "metadata": {},
   "source": [
    "### 原地操作_"
   ]
  },
  {
   "cell_type": "code",
   "execution_count": 10,
   "metadata": {
    "ExecuteTime": {
     "end_time": "2020-03-08T15:19:26.651870Z",
     "start_time": "2020-03-08T15:19:26.576884Z"
    }
   },
   "outputs": [
    {
     "name": "stdout",
     "output_type": "stream",
     "text": [
      "tensor([[2, 4],\n",
      "        [6, 8]])\n"
     ]
    }
   ],
   "source": [
    "a = torch.tensor([[1, 2], [3, 4]])\n",
    "b = a.add_(a)  # 加_表示原地操作\n",
    "print(b)"
   ]
  },
  {
   "cell_type": "markdown",
   "metadata": {},
   "source": [
    "### Autograd自动求导"
   ]
  },
  {
   "cell_type": "code",
   "execution_count": 4,
   "metadata": {
    "ExecuteTime": {
     "end_time": "2020-03-24T17:04:20.135023Z",
     "start_time": "2020-03-24T17:04:19.413967Z"
    }
   },
   "outputs": [],
   "source": [
    "a = torch.randn(2, 2, requires_grad=True)\n",
    "b = torch.randn(2, 2)"
   ]
  },
  {
   "cell_type": "code",
   "execution_count": 5,
   "metadata": {
    "ExecuteTime": {
     "end_time": "2020-03-24T17:04:34.346944Z",
     "start_time": "2020-03-24T17:04:33.693558Z"
    }
   },
   "outputs": [
    {
     "name": "stdout",
     "output_type": "stream",
     "text": [
      "tensor([[-0.4364,  1.0122],\n",
      "        [-0.1160, -1.2081]], requires_grad=True)\n",
      "tensor([[ 0.0917, -1.1998],\n",
      "        [-0.1489, -1.4336]])\n"
     ]
    }
   ],
   "source": [
    "print(a)\n",
    "print(b)"
   ]
  },
  {
   "cell_type": "code",
   "execution_count": 13,
   "metadata": {
    "ExecuteTime": {
     "end_time": "2020-03-08T15:24:52.567908Z",
     "start_time": "2020-03-08T15:24:52.562924Z"
    }
   },
   "outputs": [
    {
     "name": "stdout",
     "output_type": "stream",
     "text": [
      "True\n",
      "False\n"
     ]
    }
   ],
   "source": [
    "'''\n",
    "requires_grad\n",
    "'''\n",
    "\n",
    "print(a.requires_grad)\n",
    "print(b.requires_grad)"
   ]
  },
  {
   "cell_type": "code",
   "execution_count": 14,
   "metadata": {
    "ExecuteTime": {
     "end_time": "2020-03-08T15:24:54.902010Z",
     "start_time": "2020-03-08T15:24:54.727355Z"
    }
   },
   "outputs": [
    {
     "data": {
      "text/plain": [
       "tensor([[-1.3295,  0.6521],\n",
       "        [ 0.2530,  0.1194]], requires_grad=True)"
      ]
     },
     "execution_count": 14,
     "metadata": {},
     "output_type": "execute_result"
    }
   ],
   "source": [
    "'''\n",
    "使用内置requires_grad_()将tensor变为需要求导 即将 requires_grad=True\n",
    "'''\n",
    "\n",
    "b.requires_grad_()"
   ]
  },
  {
   "cell_type": "code",
   "execution_count": 15,
   "metadata": {
    "ExecuteTime": {
     "end_time": "2020-03-08T15:25:39.558268Z",
     "start_time": "2020-03-08T15:25:39.551288Z"
    }
   },
   "outputs": [
    {
     "name": "stdout",
     "output_type": "stream",
     "text": [
      "True\n"
     ]
    }
   ],
   "source": [
    "'''\n",
    "通过requires_grad查看是否需要求导属性\n",
    "'''\n",
    "\n",
    "c = a + b\n",
    "print(c.requires_grad)"
   ]
  },
  {
   "cell_type": "code",
   "execution_count": 27,
   "metadata": {
    "ExecuteTime": {
     "end_time": "2020-01-16T12:38:00.825637Z",
     "start_time": "2020-01-16T12:38:00.715171Z"
    }
   },
   "outputs": [
    {
     "name": "stdout",
     "output_type": "stream",
     "text": [
      "None\n",
      "None\n",
      "<AddBackward0 object at 0x0000022C9DBBA4A8>\n"
     ]
    }
   ],
   "source": [
    "'''\n",
    "使用grad_fn查看张量创建方式\n",
    "'''\n",
    "\n",
    "print(a.grad_fn)\n",
    "print(b.grad_fn)\n",
    "print(c.grad_fn)"
   ]
  },
  {
   "cell_type": "code",
   "execution_count": 31,
   "metadata": {
    "ExecuteTime": {
     "end_time": "2020-01-16T12:41:00.488108Z",
     "start_time": "2020-01-16T12:41:00.481160Z"
    }
   },
   "outputs": [
    {
     "data": {
      "text/plain": [
       "tensor([[ 1.6273,  0.7909],\n",
       "        [ 0.2451, -0.6679]])"
      ]
     },
     "execution_count": 31,
     "metadata": {},
     "output_type": "execute_result"
    }
   ],
   "source": [
    "'''\n",
    "使用detach()查看张量值\n",
    "'''\n",
    "\n",
    "c.detach()  ## 等同于早期版本的data 更安全，生成的新数据默认为False"
   ]
  },
  {
   "cell_type": "markdown",
   "metadata": {},
   "source": [
    "### 计算图"
   ]
  },
  {
   "cell_type": "code",
   "execution_count": 17,
   "metadata": {
    "ExecuteTime": {
     "end_time": "2020-03-08T15:31:13.913030Z",
     "start_time": "2020-03-08T15:31:13.539095Z"
    }
   },
   "outputs": [],
   "source": [
    "'''\n",
    "创建计算图 y=ax+b\n",
    "'''\n",
    "\n",
    "# 初始化变量\n",
    "x = torch.randn(1)\n",
    "w = torch.ones(1, requires_grad=True)\n",
    "b = torch.ones(1, requires_grad=True)"
   ]
  },
  {
   "cell_type": "code",
   "execution_count": 18,
   "metadata": {
    "ExecuteTime": {
     "end_time": "2020-03-08T15:31:13.964867Z",
     "start_time": "2020-03-08T15:31:13.960832Z"
    }
   },
   "outputs": [
    {
     "name": "stdout",
     "output_type": "stream",
     "text": [
      "True\n",
      "True\n",
      "True\n"
     ]
    }
   ],
   "source": [
    "'''\n",
    "自己手动创建的都是叶子节点\n",
    "'''\n",
    "print(x.is_leaf)\n",
    "print(w.is_leaf)\n",
    "print(b.is_leaf)"
   ]
  },
  {
   "cell_type": "code",
   "execution_count": 19,
   "metadata": {
    "ExecuteTime": {
     "end_time": "2020-03-08T15:31:14.619576Z",
     "start_time": "2020-03-08T15:31:14.615580Z"
    }
   },
   "outputs": [],
   "source": [
    "'''\n",
    "前向计算\n",
    "'''\n",
    "\n",
    "y = w * x\n",
    "z = y + b"
   ]
  },
  {
   "cell_type": "code",
   "execution_count": 20,
   "metadata": {
    "ExecuteTime": {
     "end_time": "2020-03-08T15:31:15.253239Z",
     "start_time": "2020-03-08T15:31:15.249280Z"
    }
   },
   "outputs": [
    {
     "name": "stdout",
     "output_type": "stream",
     "text": [
      "False\n",
      "False\n"
     ]
    }
   ],
   "source": [
    "'''\n",
    "由计算生成的都不是叶子节点\n",
    "'''\n",
    "\n",
    "print(y.is_leaf)\n",
    "print(z.is_leaf)"
   ]
  },
  {
   "cell_type": "code",
   "execution_count": 21,
   "metadata": {
    "ExecuteTime": {
     "end_time": "2020-03-08T15:31:16.117013Z",
     "start_time": "2020-03-08T15:31:15.778829Z"
    }
   },
   "outputs": [
    {
     "name": "stdout",
     "output_type": "stream",
     "text": [
      "tensor([0.8339])\n",
      "tensor([1.])\n"
     ]
    }
   ],
   "source": [
    "'''\n",
    "对最终结果采用反向传播，通过grad获取梯度\n",
    "'''\n",
    "\n",
    "z.backward(retain_graph=True)  # 保证梯度不需要叠加\n",
    "print(w.grad)\n",
    "print(b.grad)"
   ]
  },
  {
   "cell_type": "markdown",
   "metadata": {},
   "source": [
    "### 张量矩阵运算"
   ]
  },
  {
   "cell_type": "code",
   "execution_count": 4,
   "metadata": {
    "ExecuteTime": {
     "end_time": "2020-03-10T15:47:32.053657Z",
     "start_time": "2020-03-10T15:47:32.044645Z"
    }
   },
   "outputs": [
    {
     "name": "stdout",
     "output_type": "stream",
     "text": [
      "tensor([[2., 2., 2.],\n",
      "        [2., 2., 2.],\n",
      "        [2., 2., 2.]])\n",
      "tensor([[0., 7., 2.],\n",
      "        [0., 0., 0.],\n",
      "        [3., 6., 8.]])\n"
     ]
    }
   ],
   "source": [
    "'''\n",
    "矩阵点乘 torch.mul()函数\n",
    "'''\n",
    "\n",
    "a = torch.full((3, 3), 2)\n",
    "b = torch.randint(9, (3, 3)).float()\n",
    "print(a)\n",
    "print(b)"
   ]
  },
  {
   "cell_type": "code",
   "execution_count": 6,
   "metadata": {
    "ExecuteTime": {
     "end_time": "2020-03-10T15:47:37.786464Z",
     "start_time": "2020-03-10T15:47:37.768711Z"
    }
   },
   "outputs": [
    {
     "data": {
      "text/plain": [
       "tensor([[ 0., 14.,  4.],\n",
       "        [ 0.,  0.,  0.],\n",
       "        [ 6., 12., 16.]])"
      ]
     },
     "execution_count": 6,
     "metadata": {},
     "output_type": "execute_result"
    }
   ],
   "source": [
    "c = a.mul(b)\n",
    "c"
   ]
  },
  {
   "cell_type": "code",
   "execution_count": 9,
   "metadata": {
    "ExecuteTime": {
     "end_time": "2020-03-17T17:45:27.598378Z",
     "start_time": "2020-03-17T17:45:27.591397Z"
    }
   },
   "outputs": [
    {
     "data": {
      "text/plain": [
       "tensor([[ -1.4354,   2.1790,   2.2766],\n",
       "        [-10.7198,   2.3536,   5.8722],\n",
       "        [-20.0043,   2.5282,   9.4678]])"
      ]
     },
     "execution_count": 9,
     "metadata": {},
     "output_type": "execute_result"
    }
   ],
   "source": [
    "'''\n",
    "矩阵乘法（内积运算） 只适用于低维情形\n",
    "'''\n",
    "\n",
    "A = torch.arange(12).reshape(3, 4).float()\n",
    "B = torch.randn(4, 3)\n",
    "C = torch.mm(A, B)\n",
    "C"
   ]
  },
  {
   "cell_type": "code",
   "execution_count": 11,
   "metadata": {
    "ExecuteTime": {
     "end_time": "2020-03-10T15:53:54.553515Z",
     "start_time": "2020-03-10T15:53:54.546503Z"
    }
   },
   "outputs": [
    {
     "data": {
      "text/plain": [
       "tensor([[ -3.4689,  -2.2716,   1.7884],\n",
       "        [-12.0591,  -7.2039,   2.9889],\n",
       "        [-20.6494, -12.1362,   4.1893]])"
      ]
     },
     "execution_count": 11,
     "metadata": {},
     "output_type": "execute_result"
    }
   ],
   "source": [
    "'''\n",
    "多维矩阵乘法\n",
    "'''\n",
    "\n",
    "A = torch.arange(12).reshape(3, 4).float()\n",
    "B = torch.randn(4, 3)\n",
    "C = torch.matmul(A, B)\n",
    "C"
   ]
  },
  {
   "cell_type": "code",
   "execution_count": null,
   "metadata": {},
   "outputs": [],
   "source": []
  }
 ],
 "metadata": {
  "kernelspec": {
   "display_name": "Python 3",
   "language": "python",
   "name": "python3"
  },
  "language_info": {
   "codemirror_mode": {
    "name": "ipython",
    "version": 3
   },
   "file_extension": ".py",
   "mimetype": "text/x-python",
   "name": "python",
   "nbconvert_exporter": "python",
   "pygments_lexer": "ipython3",
   "version": "3.7.0"
  }
 },
 "nbformat": 4,
 "nbformat_minor": 2
}
