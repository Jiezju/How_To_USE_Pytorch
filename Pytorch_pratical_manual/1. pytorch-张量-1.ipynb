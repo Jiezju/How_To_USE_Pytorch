{
 "cells": [
  {
   "cell_type": "markdown",
   "metadata": {},
   "source": [
    "## Tensor理论"
   ]
  },
  {
   "cell_type": "markdown",
   "metadata": {},
   "source": [
    "Tensor 概念：\n",
    "\n",
    "是一个高维数组，是标量，向量，矩阵的高维扩展\n",
    "\n",
    "\n",
    "\n",
    "![](./img/tensor.png)"
   ]
  },
  {
   "cell_type": "markdown",
   "metadata": {},
   "source": [
    "**Tensor与Variable的关系：**\n",
    "\n",
    "注意：0.4.0以后的pytorch已经将Variable并入了Tensor，所以Variable已经不常用\n",
    "\n",
    "作用：\n",
    "- 主要用于封装tensor，用于自动求导\n",
    "- 来源于torch.autograd\n",
    "\n",
    "数据结构属性：\n",
    "- detach()\n",
    "\n",
    "    用于封装的tensor数据\n",
    "    \n",
    "- grad\n",
    "\n",
    "    数据的梯度\n",
    "    \n",
    "- grad_fn \n",
    "\n",
    "    创建Tensor的function\n",
    "    \n",
    "- require_grad \n",
    "\n",
    "    布尔值，是否需要梯度\n",
    "    \n",
    "- is_leaf \n",
    "\n",
    "    布尔值，指示是否是叶子节点（张量,用于计算图）\n",
    "\n",
    "![](./img/variable.png)"
   ]
  },
  {
   "cell_type": "markdown",
   "metadata": {},
   "source": [
    "Tensor数据属性：（0.4.0版本以后）\n",
    "\n",
    "- 继承来自于Variable的所有数据属性（data,grad,grad_fn,require_grad,is_leaf）\n",
    "- dtype \n",
    "\n",
    "    张量数据类型，如torch.FloatTensor 或者 torch.cuda.FloatTensor（用于输入数据） 或者 torch.long (用于标签)\n",
    "    \n",
    "- shape \n",
    "\n",
    "    张量形状，如（64,64,224,224）\n",
    "    \n",
    "- device\n",
    "\n",
    "    张量所在设备，指明在GPU和CPU设备\n",
    "\n",
    "![](./img/tensorshu.png)"
   ]
  },
  {
   "cell_type": "code",
   "execution_count": 1,
   "metadata": {
    "ExecuteTime": {
     "end_time": "2020-05-29T12:47:12.849773Z",
     "start_time": "2020-05-29T12:47:04.494227Z"
    }
   },
   "outputs": [],
   "source": [
    "'''\n",
    "导入pytorch\n",
    "'''\n",
    "\n",
    "import torch\n",
    "import numpy as np"
   ]
  },
  {
   "cell_type": "code",
   "execution_count": 2,
   "metadata": {
    "ExecuteTime": {
     "end_time": "2020-04-17T09:04:47.830310Z",
     "start_time": "2020-04-17T09:04:47.371174Z"
    }
   },
   "outputs": [
    {
     "name": "stdout",
     "output_type": "stream",
     "text": [
      "tensor([[1, 2, 3],\n",
      "        [4, 5, 6],\n",
      "        [7, 8, 9]])\n",
      "torch.int64\n",
      "torch.Size([3, 3])\n"
     ]
    }
   ],
   "source": [
    "# ===============================  exmaple 2 ===============================\n",
    "# 通过torch.tensor创建张量\n",
    "\n",
    "t = torch.tensor([[1, 2, 3], [4, 5, 6], [7, 8, 9]])\n",
    "\n",
    "#等价输出\n",
    "print(t.detach())\n",
    "print(t.dtype)\n",
    "\n",
    "print(t.shape)"
   ]
  },
  {
   "cell_type": "markdown",
   "metadata": {},
   "source": [
    "## 张量创建"
   ]
  },
  {
   "cell_type": "markdown",
   "metadata": {},
   "source": [
    "**1. 直接创建法**\n",
    "\n",
    "    torch.tensor(data,dtype=None,device=None,requires_grad=False,pin_memory=False)\n",
    "\n",
    "- data可以是list或者numpy\n",
    "- 注意：pin_memory表示是否用于锁页内存\n",
    "- device可选cuda或者cpu"
   ]
  },
  {
   "cell_type": "code",
   "execution_count": 6,
   "metadata": {
    "ExecuteTime": {
     "end_time": "2020-04-16T10:00:57.226013Z",
     "start_time": "2020-04-16T10:00:54.693331Z"
    }
   },
   "outputs": [
    {
     "name": "stdout",
     "output_type": "stream",
     "text": [
      "torch.int64\n",
      "cpu\n",
      "tensor([[1., 1., 1.],\n",
      "        [1., 1., 1.],\n",
      "        [1., 1., 1.]], dtype=torch.float64)\n"
     ]
    }
   ],
   "source": [
    "# ===============================  exmaple 2 ===============================\n",
    "# 通过torch.tensor创建张量\n",
    "\n",
    "alist = [1, 2, 4, 5, 6]\n",
    "\n",
    "list_to_tensor = torch.tensor(alist)\n",
    "print(list_to_tensor.dtype)\n",
    "\n",
    "ndarray = np.ones((3, 3))\n",
    "numpy_to_tensor = torch.tensor(ndarray, device='cpu')  #由于本版本支持cuda\n",
    "#numpy_to_tensor = torch.tensor(ndarray, device='cuda')\n",
    "numpy_to_tensor.device\n",
    "#numpy_to_tensor"
   ]
  },
  {
   "cell_type": "markdown",
   "metadata": {},
   "source": [
    "**2. 从numpy到Tensor**\n",
    "\n",
    "    torch.from_numpy(numpy_array)\n",
    "\n",
    "- 功能\n",
    "\n",
    "    从numpy_array创建Tensor\n",
    "\n",
    "- 注意\n",
    "    \n",
    "    numpy_array和Tensor共享同一块内存，改动一个，另一个也变\n",
    "\n",
    "\n",
    "![](./img/numpy.png)"
   ]
  },
  {
   "cell_type": "code",
   "execution_count": 8,
   "metadata": {
    "ExecuteTime": {
     "end_time": "2020-04-16T10:07:57.322241Z",
     "start_time": "2020-04-16T10:07:56.968347Z"
    }
   },
   "outputs": [
    {
     "name": "stdout",
     "output_type": "stream",
     "text": [
      "[[1 2 3]\n",
      " [4 5 6]]\n",
      "tensor([[1, 2, 3],\n",
      "        [4, 5, 6]], dtype=torch.int32)\n",
      "tensor([[100,   2,   3],\n",
      "        [  4,   5,   6]], dtype=torch.int32)\n",
      "[[100   2   3]\n",
      " [  4   5   6]]\n"
     ]
    }
   ],
   "source": [
    "# ===============================  exmaple 3 ===============================\n",
    "# 通过torch.from_numpy创建张量\n",
    "\n",
    "array = np.array([[1, 2, 3], [4, 5, 6]])\n",
    "#print(array)\n",
    "array_to_tensor = torch.from_numpy(array)\n",
    "#print(array_to_tensor)\n",
    "array_to_tensor[0, 0] = 100\n",
    "#print(array_to_tensor)\n",
    "#print(array)"
   ]
  },
  {
   "cell_type": "markdown",
   "metadata": {},
   "source": [
    "**3. 依据数值创建Tensor**\n",
    "\n",
    "\n",
    "**3.1 全0张量**\n",
    "\n",
    "    torch.zeros(size,out=None,dtype=None,layout=torch.strided,device=None,requires_grad=False)\n",
    "\n",
    "功能：\n",
    "    依据size创建全0向量\n",
    "\n",
    "- size \n",
    "\n",
    "    张量形状\n",
    "\n",
    "- out\n",
    "\n",
    "    输出结果\n",
    "\n",
    "- layout\n",
    "\n",
    "    内存布局形式，有strided,sparse_coo\n",
    "    \n",
    "- device\n",
    "\n",
    "    cpu,cuda\n",
    "  \n",
    "- requires_grad\n",
    "\n",
    "    是否需要梯度\n",
    "\n",
    "\n",
    "\n",
    "\n",
    "    torch.zeros_like(input,dtype=None,layout=None,device=None,requires_grad=False)\n",
    "\n",
    "功能：\n",
    "    依据input形状创建全0张量\n",
    "\n",
    "- input\n",
    "    \n",
    "    创建与input形状一样的全0向量"
   ]
  },
  {
   "cell_type": "code",
   "execution_count": 12,
   "metadata": {},
   "outputs": [
    {
     "name": "stdout",
     "output_type": "stream",
     "text": [
      "tensor([[0., 0., 0.],\n",
      "        [0., 0., 0.],\n",
      "        [0., 0., 0.]])\n",
      "tensor([[0., 0., 0.],\n",
      "        [0., 0., 0.]], dtype=torch.float64)\n"
     ]
    }
   ],
   "source": [
    "# ===============================  exmaple 4 ===============================\n",
    "# 通过torch.zeros创建张量\n",
    "\n",
    "t = torch.zeros((3, 3))\n",
    "print(t)\n",
    "\n",
    "# ===============================  exmaple 5 ===============================\n",
    "# 通过torch.zeros_like()创建张量\n",
    "\n",
    "t1 = torch.tensor([[1, 2, 3], [4, 5, 6]])\n",
    "t = torch.zeros_like(t1, dtype=torch.float64)\n",
    "print(t)"
   ]
  },
  {
   "cell_type": "markdown",
   "metadata": {},
   "source": [
    "**3.2 全1张量**\n",
    "\n",
    "    torch.ones(size, dtype, device=None, requires_grad=False)\n",
    "\n",
    "\n",
    "    torch.ones_like(input,dtype,device=None,requires_grad=False)"
   ]
  },
  {
   "cell_type": "code",
   "execution_count": 14,
   "metadata": {},
   "outputs": [
    {
     "name": "stdout",
     "output_type": "stream",
     "text": [
      "tensor([[1., 1., 1.],\n",
      "        [1., 1., 1.],\n",
      "        [1., 1., 1.],\n",
      "        [1., 1., 1.]])\n"
     ]
    }
   ],
   "source": [
    "# ===============================  exmaple 6 ===============================\n",
    "# 通过torch.ones() 和 torch.ones_like()创建全1张量\n",
    "\n",
    "t_one = torch.ones((5, 5))\n",
    "\n",
    "t_test = torch.zeros((4, 3))\n",
    "\n",
    "t_one_like = torch.ones_like(t_test)\n",
    "\n",
    "print(t_one_like)"
   ]
  },
  {
   "cell_type": "markdown",
   "metadata": {},
   "source": [
    "**3.3  自定义全值张量**\n",
    "\n",
    "    torch.full(size, fill_value, out=None, dtype=None, layout=torch.strided, device=None, requires_grad=False)\n",
    "\n",
    "- full_value\n",
    "\n",
    "    全张量的值\n",
    "\n",
    "    \n",
    "    \n",
    "    torch.full_like(input,fill_value)"
   ]
  },
  {
   "cell_type": "code",
   "execution_count": 17,
   "metadata": {},
   "outputs": [
    {
     "name": "stdout",
     "output_type": "stream",
     "text": [
      "tensor([[10., 10., 10., 10., 10.],\n",
      "        [10., 10., 10., 10., 10.],\n",
      "        [10., 10., 10., 10., 10.],\n",
      "        [10., 10., 10., 10., 10.],\n",
      "        [10., 10., 10., 10., 10.]])\n",
      "tensor([[12., 12.],\n",
      "        [12., 12.]])\n"
     ]
    }
   ],
   "source": [
    "# ===============================  exmaple 7 ===============================\n",
    "# 通过torch.full创建全值张量\n",
    "\n",
    "#全10张量\n",
    "\n",
    "t_10 = torch.full((5, 5), fill_value=10)\n",
    "print(t_10)\n",
    "\n",
    "t_test = torch.ones((2, 2))\n",
    "t_12 = torch.full_like(t_test, fill_value=12)\n",
    "print(t_12)"
   ]
  },
  {
   "cell_type": "markdown",
   "metadata": {},
   "source": [
    "**3.4 等差（比）张量**\n",
    "\n",
    "       torch.arange(start=0,end,steps=1,out=None,dtype=None,layout=torch.strided,device=None,requires_grad=False)\n",
    "\n",
    "- 功能\n",
    "    \n",
    "    生成一维的等差张量，区间为[start,end)\n",
    "    \n",
    "- start\n",
    "\n",
    "    区间起始值\n",
    "\n",
    "- end\n",
    "\n",
    "    区间终止值\n",
    "\n",
    "- step\n",
    "\n",
    "    区间步长\n",
    "    \n",
    "\n",
    "    torch.linspace(start, end, steps=100, out=None, dtype=None, layout=torch.strided, device=None, requires_grad=False)\n",
    "\n",
    "- 功能\n",
    "    \n",
    "    创建1维等比张量\n",
    "\n",
    "- start\n",
    "\n",
    "    数列起始值\n",
    "\n",
    "- end\n",
    "\n",
    "    数列结束值\n",
    "\n",
    "- steps\n",
    "\n",
    "    数列长度\n"
   ]
  },
  {
   "cell_type": "code",
   "execution_count": 26,
   "metadata": {},
   "outputs": [
    {
     "name": "stdout",
     "output_type": "stream",
     "text": [
      "tensor([2, 4, 6, 8])\n",
      "tensor([ 2.,  8., 14., 20., 26., 32.])\n"
     ]
    }
   ],
   "source": [
    "# ===============================  exmaple 8 ===============================\n",
    "# 通过torch.arange()创建等差数列张量\n",
    "\n",
    "#生成偶数张量\n",
    "\n",
    "t_ou = torch.arange(2, 10, 2)\n",
    "print(t_ou)\n",
    "\n",
    "# ===============================  exmaple 9 ===============================\n",
    "# 通过torch.linspace创建均分数列张量\n",
    "\n",
    "t_q = torch.linspace(2, 32, 6)#(32-2)/6=5\n",
    "print(t_q)"
   ]
  },
  {
   "cell_type": "markdown",
   "metadata": {},
   "source": [
    "    torch.logspace(start, end, steps=100, base=10.0, out=None, dtype=None, layout=torch.strided, device=None, requires_grad=False)\n",
    "\n",
    "- 功能\n",
    "\n",
    "    创建对数均分的1维向量\n",
    "\n",
    "- start \n",
    "\n",
    "    区间起始点\n",
    "\n",
    "- end\n",
    "\n",
    "    区间终止点\n",
    "\n",
    "\n",
    "- steps\n",
    "\n",
    "    区间长度\n",
    "\n",
    "- base\n",
    "\n",
    "    对数函数的基底，10"
   ]
  },
  {
   "cell_type": "code",
   "execution_count": 37,
   "metadata": {},
   "outputs": [
    {
     "name": "stdout",
     "output_type": "stream",
     "text": [
      "tensor([  100.0000,   104.7616,   109.7499,   114.9757,   120.4504,   126.1857,\n",
      "          132.1941,   138.4886,   145.0829,   151.9911,   159.2283,   166.8101,\n",
      "          174.7528,   183.0738,   191.7910,   200.9233,   210.4905,   220.5131,\n",
      "          231.0130,   242.0128,   253.5364,   265.6088,   278.2559,   291.5052,\n",
      "          305.3856,   319.9267,   335.1603,   351.1191,   367.8381,   385.3528,\n",
      "          403.7016,   422.9243,   443.0621,   464.1590,   486.2601,   509.4139,\n",
      "          533.6699,   559.0809,   585.7021,   613.5907,   642.8071,   673.4151,\n",
      "          705.4805,   739.0723,   774.2636,   811.1310,   849.7534,   890.2148,\n",
      "          932.6034,   977.0098,  1023.5306,  1072.2671,  1123.3243,  1176.8120,\n",
      "         1232.8464,  1291.5498,  1353.0476,  1417.4736,  1484.9683,  1555.6766,\n",
      "         1629.7510,  1707.3524,  1788.6499,  1873.8174,  1963.0402,  2056.5125,\n",
      "         2154.4355,  2257.0188,  2364.4893,  2477.0769,  2595.0242,  2718.5876,\n",
      "         2848.0361,  2983.6470,  3125.7148,  3274.5491,  3430.4702,  3593.8140,\n",
      "         3764.9351,  3944.2068,  4132.0122,  4328.7598,  4534.8784,  4750.8120,\n",
      "         4977.0239,  5214.0078,  5462.2783,  5722.3677,  5994.8408,  6280.2920,\n",
      "         6579.3350,  6892.6094,  7220.8086,  7564.6353,  7924.8291,  8302.1738,\n",
      "         8697.4912,  9111.6270,  9545.4814, 10000.0000])\n"
     ]
    }
   ],
   "source": [
    "# ===============================  exmaple 10 ===============================\n",
    "# 通过torch.logspace()创建均分数列张量\n",
    "\n",
    "t=torch.logspace(2,4)  #[10^2,10^4]\n",
    "print(t)"
   ]
  },
  {
   "cell_type": "markdown",
   "metadata": {},
   "source": [
    "    torch.eye(n, m=None, out=None, dtype=None, layout=torch.strided, device=None, requires__grad=False)\n",
    "\n",
    "- 功能\n",
    "\n",
    "    创建单位对角矩阵\n",
    "\n",
    "- n:行数\n",
    "\n",
    "  m:列数"
   ]
  },
  {
   "cell_type": "code",
   "execution_count": 39,
   "metadata": {},
   "outputs": [
    {
     "data": {
      "text/plain": [
       "tensor([[1., 0., 0.],\n",
       "        [0., 1., 0.],\n",
       "        [0., 0., 1.]])"
      ]
     },
     "execution_count": 39,
     "metadata": {},
     "output_type": "execute_result"
    }
   ],
   "source": [
    "# ===============================  exmaple 11 ===============================\n",
    "# 通过torch.eye()创建均分数列张量\n",
    "\n",
    "torch.eye(3,3)"
   ]
  },
  {
   "cell_type": "markdown",
   "metadata": {},
   "source": [
    "**4. 依概率分布生成张量**\n",
    "\n",
    "**4.1 正态分布**\n",
    "\n",
    "    torch.normal(mean, std, out=None)\n",
    "\n",
    "    torch.normal(mean, std, size, out=None)\n",
    "\n",
    "- 功能\n",
    "\n",
    "    生成正态分布（高斯分布）\n",
    "\n",
    "- mean\n",
    "\n",
    "    均值\n",
    "\n",
    "- std\n",
    "\n",
    "    标准差\n",
    "\n",
    "- 四种模式\n",
    "\n",
    "mean为标量  std为标量\n",
    "\n",
    "mean为标量  std为向量\n",
    "\n",
    "mean为张量  std为标量\n",
    "\n",
    "mean为张量  std为张量\n",
    "\n"
   ]
  },
  {
   "cell_type": "code",
   "execution_count": 40,
   "metadata": {},
   "outputs": [
    {
     "name": "stdout",
     "output_type": "stream",
     "text": [
      "mean: tensor([1., 2., 3., 4.])\n",
      "std: tensor([1., 2., 3., 4.])\n",
      "t_normal tensor([ 0.6675, -2.4327,  2.4156,  2.7709])\n"
     ]
    }
   ],
   "source": [
    "# ===============================  exmaple 12 ===============================\n",
    "# 通过torch.normal()创建正态分布张量\n",
    "\n",
    "# mean：张量 std: 张量\n",
    "mean = torch.arange(1, 5, dtype=torch.float)\n",
    "std = torch.arange(1, 5, dtype=torch.float)\n",
    "\n",
    "t_normal = torch.normal(mean, std)\n",
    "print('mean:', mean)\n",
    "print('std:', std)\n",
    "print('t_normal', t_normal)"
   ]
  },
  {
   "cell_type": "code",
   "execution_count": 48,
   "metadata": {},
   "outputs": [
    {
     "name": "stdout",
     "output_type": "stream",
     "text": [
      "tensor([ 0.6456, -0.3379,  0.3129, -0.0184])\n",
      "tensor([[ 0.8450],\n",
      "        [ 1.4252],\n",
      "        [-0.0974],\n",
      "        [ 0.7427]])\n",
      "tensor([[-0.7797, -0.2071, -0.7629,  1.0192]])\n"
     ]
    }
   ],
   "source": [
    "# mean：标量 std: 标量\n",
    "t_norm = torch.normal(0, 1, (4, ))  ##与3相同\n",
    "t_norm2 = torch.normal(0, 1, (4, 1))\n",
    "t_norm3 = torch.normal(0, 1, (1, 4))\n",
    "print(t_norm)\n",
    "print(t_norm2)\n",
    "print(t_norm3)"
   ]
  },
  {
   "cell_type": "code",
   "execution_count": 52,
   "metadata": {},
   "outputs": [
    {
     "name": "stdout",
     "output_type": "stream",
     "text": [
      "tensor([ 0.4758, -0.5742,  3.5751,  4.4323])\n",
      "mean:tensor([1., 2., 3., 4.])\n",
      "std:1\n"
     ]
    }
   ],
   "source": [
    "# mean：张量 std: 标量\n",
    "mean = torch.arange(1, 5, dtype=torch.float)\n",
    "std = 1\n",
    "\n",
    "t_norm = torch.normal(mean, std)  ##标准差都为1\n",
    "print(t_norm)\n",
    "print('mean:{}\\nstd:{}'.format(mean, std))"
   ]
  },
  {
   "cell_type": "markdown",
   "metadata": {},
   "source": [
    "**4.1 标准正态分布**\n",
    "\n",
    "    torch.randn(size, out=None, dtype=None, layout=torch.strided, device=None, requires_grad=False)\n",
    "\n",
    "- 功能\n",
    "\n",
    "    生成标准正态分布\n",
    "    \n",
    "\n",
    "    torch.randn_like(input)"
   ]
  },
  {
   "cell_type": "code",
   "execution_count": 53,
   "metadata": {},
   "outputs": [
    {
     "name": "stdout",
     "output_type": "stream",
     "text": [
      "tensor([[-0.7290,  1.0772, -0.3467],\n",
      "        [ 0.4302, -0.8149,  0.9168]])\n"
     ]
    }
   ],
   "source": [
    "# ===============================  exmaple 13 ===============================\n",
    "# 通过torch.randn()创建正态分布张量\n",
    "\n",
    "t = torch.randn((2, 3))\n",
    "print(t)"
   ]
  },
  {
   "cell_type": "markdown",
   "metadata": {},
   "source": [
    "**4.2 均匀分布**\n",
    "\n",
    "    torch.rand(size, out=None, dtype=None, layout=torch.strided, device=None, requires_grad=False)\n",
    "\n",
    "- 功能\n",
    "\n",
    "    在[0,1)上生成均匀分布\n",
    "\n",
    "     \n",
    "    torch.rand_like(input)\n",
    "\n"
   ]
  },
  {
   "cell_type": "code",
   "execution_count": 56,
   "metadata": {},
   "outputs": [
    {
     "name": "stdout",
     "output_type": "stream",
     "text": [
      "tensor([[0.6704, 0.6465, 0.3887],\n",
      "        [0.6619, 0.9234, 0.4714],\n",
      "        [0.7594, 0.3267, 0.1921]])\n"
     ]
    }
   ],
   "source": [
    "# ===============================  exmaple 14 ===============================\n",
    "# 通过torch.randn()创建均匀分布张量\n",
    "\n",
    "t = torch.rand((3, 3))\n",
    "print(t)"
   ]
  },
  {
   "cell_type": "markdown",
   "metadata": {},
   "source": [
    "**自定义区间的均匀分布**\n",
    "\n",
    "    torch.randint(low=0, high, size, out=None, dtype=None, layout=torch.strided, device=None, requires_grad=False)\n",
    "\n",
    "- 功能\n",
    "\n",
    "    生成[low,high)的整数均匀分布\n",
    "\n",
    "        torch.randint_like(input)\n",
    "\n"
   ]
  },
  {
   "cell_type": "code",
   "execution_count": 60,
   "metadata": {},
   "outputs": [
    {
     "name": "stdout",
     "output_type": "stream",
     "text": [
      "tensor([[0, 4, 0],\n",
      "        [3, 3, 6],\n",
      "        [6, 1, 0],\n",
      "        [6, 6, 1]])\n"
     ]
    }
   ],
   "source": [
    "# ===============================  exmaple 15 ===============================\n",
    "# 通过torch.randint()创建均匀分布整数张量\n",
    "\n",
    "t = torch.randint(0,7,(4, 3))\n",
    "print(t)"
   ]
  },
  {
   "cell_type": "markdown",
   "metadata": {},
   "source": [
    "**4.3  生成随机排列**\n",
    "\n",
    "    torch.randperm(n, out=None, dtype=torch.int6, layout=torch.strided, device=None, requires_grad=False)\n",
    "\n",
    "- 功能\n",
    "    \n",
    "    生成0-n-1的随机全排列，充当了random.shuffle的功能（TensorFlow）\n",
    "\n",
    "        torch.bernoulli(input, size, generator=None, out=None)\n",
    "\n",
    "- 功能\n",
    "\n",
    "    以input概率值生成两点概率分布\n",
    "    \n",
    "    注意input必须为张量"
   ]
  },
  {
   "cell_type": "code",
   "execution_count": 66,
   "metadata": {},
   "outputs": [
    {
     "name": "stdout",
     "output_type": "stream",
     "text": [
      "tensor([2, 3, 0, 4, 1])\n",
      "tensor([0., 1., 0.])\n"
     ]
    }
   ],
   "source": [
    "# ===============================  exmaple 16 ===============================\n",
    "\n",
    "t=torch.randperm(5)\n",
    "\n",
    "print(t)\n",
    "\n",
    "t_ber=torch.bernoulli(torch.tensor([0.1,0.4,0.6]))\n",
    "print(t_ber)"
   ]
  },
  {
   "cell_type": "markdown",
   "metadata": {},
   "source": [
    "## 张量的类型检测"
   ]
  },
  {
   "cell_type": "code",
   "execution_count": 5,
   "metadata": {
    "ExecuteTime": {
     "end_time": "2019-12-20T08:04:23.394221Z",
     "start_time": "2019-12-20T08:04:23.389220Z"
    }
   },
   "outputs": [
    {
     "name": "stdout",
     "output_type": "stream",
     "text": [
      "True\n"
     ]
    }
   ],
   "source": [
    "t1 = torch.tensor([1, 2, 3])\n",
    "print(isinstance(t1, torch.LongTensor))"
   ]
  },
  {
   "cell_type": "code",
   "execution_count": 7,
   "metadata": {
    "ExecuteTime": {
     "end_time": "2019-12-20T08:05:50.188555Z",
     "start_time": "2019-12-20T08:05:39.226631Z"
    }
   },
   "outputs": [
    {
     "name": "stdout",
     "output_type": "stream",
     "text": [
      "True\n"
     ]
    }
   ],
   "source": [
    "t_gpu = t1.cuda()\n",
    "print(isinstance(t_gpu, torch.cuda.LongTensor))"
   ]
  },
  {
   "cell_type": "markdown",
   "metadata": {},
   "source": [
    "## 张量索引"
   ]
  },
  {
   "cell_type": "code",
   "execution_count": 2,
   "metadata": {
    "ExecuteTime": {
     "end_time": "2019-12-21T12:51:48.676776Z",
     "start_time": "2019-12-21T12:51:48.123416Z"
    },
    "scrolled": true
   },
   "outputs": [
    {
     "name": "stdout",
     "output_type": "stream",
     "text": [
      "torch.Size([3, 28, 28])\n",
      "torch.Size([28, 28])\n",
      "tensor(-1.0117)\n"
     ]
    }
   ],
   "source": [
    "'''\n",
    "单个维度的索引\n",
    "'''\n",
    "\n",
    "a = torch.randn(4, 3, 28, 28)\n",
    "\n",
    "print(a[0].shape)\n",
    "print(a[0, 1].shape)\n",
    "print(a[0, 1, 2, 4])"
   ]
  },
  {
   "cell_type": "code",
   "execution_count": 5,
   "metadata": {
    "ExecuteTime": {
     "end_time": "2019-12-21T14:59:51.569884Z",
     "start_time": "2019-12-21T14:59:51.564893Z"
    }
   },
   "outputs": [
    {
     "name": "stdout",
     "output_type": "stream",
     "text": [
      "torch.Size([2, 3, 28, 28])\n",
      "torch.Size([2, 1, 28, 28])\n",
      "torch.Size([2, 2, 28, 28])\n"
     ]
    }
   ],
   "source": [
    "'''\n",
    "冒号索引\n",
    ":相当于->\n",
    "'''\n",
    "\n",
    "b = torch.rand(4, 3, 28, 28)\n",
    "\n",
    "print(b[:2].shape)\n",
    "print(b[:2, :1, :, :].shape)\n",
    "print(b[:2, 1:].shape)"
   ]
  },
  {
   "cell_type": "code",
   "execution_count": 9,
   "metadata": {
    "ExecuteTime": {
     "end_time": "2019-12-26T07:26:51.155654Z",
     "start_time": "2019-12-26T07:26:51.150668Z"
    }
   },
   "outputs": [
    {
     "name": "stdout",
     "output_type": "stream",
     "text": [
      "torch.Size([4, 3, 14, 14])\n"
     ]
    }
   ],
   "source": [
    "'''\n",
    "使用冒号对所有图片等间隔采样，缩小为一半\n",
    "'''\n",
    "\n",
    "tens = torch.rand(4, 3, 28, 28)\n",
    "tens_half = tens[:, :, 0:28:2, 0:28:2]  ##简要写法  tens_half = tens[:, :, ::2, ::2]\n",
    "print(tens_half.shape)\n",
    "#print(tens[,1].shape)  报错"
   ]
  },
  {
   "cell_type": "code",
   "execution_count": 6,
   "metadata": {
    "ExecuteTime": {
     "end_time": "2019-12-26T07:23:30.823180Z",
     "start_time": "2019-12-26T07:23:30.817196Z"
    }
   },
   "outputs": [
    {
     "name": "stdout",
     "output_type": "stream",
     "text": [
      "torch.Size([3, 28, 28])\n",
      "torch.Size([3, 28, 14])\n"
     ]
    }
   ],
   "source": [
    "'''\n",
    "使用省略号...自适应维度\n",
    "'''\n",
    "\n",
    "print(tens[0,...].shape)  ## 等价于a[0]\n",
    "\n",
    "print(tens[0,...,::2].shape)"
   ]
  },
  {
   "cell_type": "markdown",
   "metadata": {},
   "source": [
    "## 张量小结测试"
   ]
  },
  {
   "cell_type": "code",
   "execution_count": 10,
   "metadata": {
    "ExecuteTime": {
     "end_time": "2019-12-20T14:58:43.099777Z",
     "start_time": "2019-12-20T14:58:43.094776Z"
    }
   },
   "outputs": [
    {
     "name": "stdout",
     "output_type": "stream",
     "text": [
      "tensor(1.)\n",
      "torch.Size([])\n",
      "torch.Size([])\n",
      "0\n"
     ]
    }
   ],
   "source": [
    "'''\n",
    "创建标量\n",
    "'''\n",
    "\n",
    "t_scalar = torch.tensor(1.)\n",
    "#t_vector=torch.tensor([1.])  ##创建向量\n",
    "print(t_scalar)\n",
    "print(t_scalar.shape)\n",
    "print(t_scalar.size())\n",
    "print(t_scalar.dim())  #dim=shape.shape"
   ]
  },
  {
   "cell_type": "code",
   "execution_count": 3,
   "metadata": {
    "ExecuteTime": {
     "end_time": "2019-12-20T14:46:55.486936Z",
     "start_time": "2019-12-20T14:46:55.467984Z"
    }
   },
   "outputs": [],
   "source": [
    "'''\n",
    "向量常用于创建偏置以及线性层输入\n",
    "'''\n",
    "\n",
    "bias = torch.tensor([0])"
   ]
  },
  {
   "cell_type": "code",
   "execution_count": 7,
   "metadata": {
    "ExecuteTime": {
     "end_time": "2019-12-20T14:52:06.235858Z",
     "start_time": "2019-12-20T14:52:06.230898Z"
    }
   },
   "outputs": [
    {
     "name": "stdout",
     "output_type": "stream",
     "text": [
      "2\n"
     ]
    }
   ],
   "source": [
    "'''\n",
    "创建带批量为2的线性层一维输入\n",
    "'''\n",
    "\n",
    "input_tensor = torch.tensor([1, 2])\n",
    "print(input_tensor.shape[0])"
   ]
  },
  {
   "cell_type": "code",
   "execution_count": 9,
   "metadata": {
    "ExecuteTime": {
     "end_time": "2019-12-20T14:57:00.290057Z",
     "start_time": "2019-12-20T14:57:00.272097Z"
    },
    "scrolled": true
   },
   "outputs": [
    {
     "data": {
      "text/plain": [
       "tensor([[[[3.8968e-01, 9.2057e-01, 8.0029e-01,  ..., 5.9498e-01,\n",
       "           1.2399e-02, 4.6397e-01],\n",
       "          [8.8366e-01, 2.3000e-01, 8.6891e-01,  ..., 4.6887e-01,\n",
       "           2.1826e-01, 7.7907e-01],\n",
       "          [9.1668e-01, 1.5556e-01, 6.9894e-01,  ..., 7.4492e-01,\n",
       "           8.3081e-01, 8.0782e-01],\n",
       "          ...,\n",
       "          [1.9833e-01, 6.6708e-01, 4.8038e-01,  ..., 4.1517e-01,\n",
       "           7.4727e-01, 7.5665e-01],\n",
       "          [6.6790e-01, 5.2917e-01, 3.9979e-01,  ..., 9.5632e-01,\n",
       "           2.8823e-01, 5.6313e-01],\n",
       "          [4.2215e-01, 2.4959e-01, 6.9285e-02,  ..., 1.3289e-01,\n",
       "           8.9725e-01, 9.0191e-01]],\n",
       "\n",
       "         [[7.3643e-01, 4.7713e-01, 9.5669e-01,  ..., 4.0365e-01,\n",
       "           4.7595e-01, 5.9045e-01],\n",
       "          [8.1007e-01, 1.6429e-01, 2.9199e-01,  ..., 5.7358e-04,\n",
       "           3.3748e-01, 5.3308e-01],\n",
       "          [7.9939e-01, 3.8051e-01, 9.5043e-02,  ..., 2.1944e-01,\n",
       "           3.1859e-01, 6.3576e-01],\n",
       "          ...,\n",
       "          [2.4095e-01, 4.7191e-01, 3.8380e-01,  ..., 5.2401e-01,\n",
       "           2.6459e-01, 6.9978e-01],\n",
       "          [4.9188e-01, 1.4354e-01, 1.0412e-01,  ..., 1.0267e-02,\n",
       "           9.8893e-01, 4.1743e-01],\n",
       "          [9.6975e-01, 3.6946e-01, 1.7523e-02,  ..., 5.9857e-01,\n",
       "           5.5951e-01, 6.3862e-01]],\n",
       "\n",
       "         [[2.2307e-01, 4.4447e-01, 9.7255e-01,  ..., 7.7938e-01,\n",
       "           9.7757e-01, 3.0115e-02],\n",
       "          [1.4968e-01, 7.8239e-01, 3.2860e-01,  ..., 3.5416e-01,\n",
       "           5.4377e-01, 9.9806e-01],\n",
       "          [1.9266e-01, 1.6289e-01, 8.0616e-01,  ..., 9.6124e-04,\n",
       "           5.7186e-01, 4.5936e-01],\n",
       "          ...,\n",
       "          [6.5977e-01, 1.0380e-01, 4.7653e-01,  ..., 3.8671e-01,\n",
       "           2.2997e-01, 2.4925e-02],\n",
       "          [8.9819e-01, 6.2493e-02, 8.8696e-01,  ..., 9.7028e-01,\n",
       "           2.0258e-01, 2.2208e-01],\n",
       "          [1.5537e-01, 9.2271e-01, 6.8917e-01,  ..., 8.1962e-04,\n",
       "           1.5909e-01, 8.3692e-01]]],\n",
       "\n",
       "\n",
       "        [[[4.8146e-01, 3.8361e-01, 5.2308e-01,  ..., 2.3455e-01,\n",
       "           3.0152e-01, 3.5531e-01],\n",
       "          [5.1498e-01, 4.4819e-01, 8.3477e-01,  ..., 9.7039e-01,\n",
       "           8.0505e-01, 3.1696e-01],\n",
       "          [6.5264e-01, 3.0314e-01, 5.8903e-01,  ..., 9.8882e-01,\n",
       "           2.1538e-01, 3.8347e-01],\n",
       "          ...,\n",
       "          [4.6171e-01, 2.0290e-01, 8.0591e-01,  ..., 8.3802e-01,\n",
       "           9.2823e-01, 6.8762e-01],\n",
       "          [2.2858e-02, 7.4618e-01, 6.6385e-01,  ..., 8.0213e-01,\n",
       "           9.5466e-01, 3.1236e-01],\n",
       "          [6.6552e-01, 4.7436e-01, 4.9826e-01,  ..., 3.0395e-02,\n",
       "           3.9670e-01, 2.8124e-01]],\n",
       "\n",
       "         [[3.7995e-01, 9.9020e-01, 9.6942e-01,  ..., 5.1186e-01,\n",
       "           2.4703e-01, 4.4567e-01],\n",
       "          [2.2501e-02, 1.8656e-01, 3.8675e-01,  ..., 4.6088e-01,\n",
       "           7.2733e-01, 6.9871e-01],\n",
       "          [4.0682e-01, 2.9038e-01, 3.5308e-02,  ..., 2.5720e-01,\n",
       "           3.4280e-01, 2.1318e-01],\n",
       "          ...,\n",
       "          [1.7835e-01, 1.2878e-01, 9.1793e-01,  ..., 6.0698e-01,\n",
       "           6.8909e-01, 4.4668e-01],\n",
       "          [7.6857e-01, 3.9168e-01, 2.7945e-01,  ..., 8.6295e-01,\n",
       "           8.3611e-02, 4.9858e-01],\n",
       "          [7.6550e-01, 4.6001e-01, 1.7379e-01,  ..., 7.3438e-01,\n",
       "           3.3542e-01, 7.3571e-01]],\n",
       "\n",
       "         [[2.9045e-01, 1.9784e-01, 7.1226e-01,  ..., 6.2512e-01,\n",
       "           9.2340e-01, 2.2757e-01],\n",
       "          [1.4872e-01, 6.4270e-01, 8.1592e-01,  ..., 8.7426e-01,\n",
       "           1.1460e-01, 4.1463e-01],\n",
       "          [3.9091e-01, 7.5696e-01, 5.1952e-01,  ..., 6.5346e-01,\n",
       "           2.4904e-01, 6.9265e-01],\n",
       "          ...,\n",
       "          [2.9518e-01, 3.3931e-01, 3.3572e-01,  ..., 5.8457e-01,\n",
       "           7.3507e-01, 4.7465e-01],\n",
       "          [9.0967e-01, 8.5389e-01, 7.7593e-01,  ..., 4.6088e-01,\n",
       "           6.5138e-01, 7.4368e-01],\n",
       "          [5.7351e-01, 6.9179e-01, 6.8830e-01,  ..., 3.3135e-01,\n",
       "           1.9015e-01, 6.4775e-01]]]])"
      ]
     },
     "execution_count": 9,
     "metadata": {},
     "output_type": "execute_result"
    }
   ],
   "source": [
    "'''\n",
    "创建批量为2的4维张量\n",
    "'''\n",
    "\n",
    "image_in = torch.rand(2, 3, 28, 28)\n",
    "image_in"
   ]
  },
  {
   "cell_type": "code",
   "execution_count": 11,
   "metadata": {
    "ExecuteTime": {
     "end_time": "2019-12-20T14:59:13.497498Z",
     "start_time": "2019-12-20T14:59:13.492522Z"
    }
   },
   "outputs": [
    {
     "name": "stdout",
     "output_type": "stream",
     "text": [
      "4704\n"
     ]
    }
   ],
   "source": [
    "'''\n",
    "获取张量元素数目\n",
    "'''\n",
    "\n",
    "print(image_in.numel())"
   ]
  },
  {
   "cell_type": "code",
   "execution_count": 12,
   "metadata": {
    "ExecuteTime": {
     "end_time": "2019-12-20T15:47:17.937443Z",
     "start_time": "2019-12-20T15:47:17.836712Z"
    }
   },
   "outputs": [
    {
     "name": "stdout",
     "output_type": "stream",
     "text": [
      "tensor([1.2000, 4.3000])\n",
      "tensor([[[-9.0406e-23,  4.5915e-41,  0.0000e+00],\n",
      "         [ 0.0000e+00,  0.0000e+00,  0.0000e+00]]])\n"
     ]
    }
   ],
   "source": [
    "'''\n",
    "torch.FloatTensor的输入作用\n",
    "'''\n",
    "\n",
    "#生成指定张量\n",
    "t1 = torch.FloatTensor([1.2, 4.3])  ##不推荐使用\n",
    "print(t1)\n",
    "\n",
    "#生成指定形状的张量，未初始化\n",
    "t2 = torch.FloatTensor(1, 2, 3)\n",
    "print(t2)"
   ]
  },
  {
   "cell_type": "code",
   "execution_count": 13,
   "metadata": {
    "ExecuteTime": {
     "end_time": "2019-12-20T15:53:29.030650Z",
     "start_time": "2019-12-20T15:53:28.975787Z"
    }
   },
   "outputs": [
    {
     "name": "stdout",
     "output_type": "stream",
     "text": [
      "tensor([[5.3894, 8.8334, 2.3138],\n",
      "        [0.9652, 6.2210, 1.5272],\n",
      "        [5.6017, 4.9012, 4.7157]])\n"
     ]
    }
   ],
   "source": [
    "'''\n",
    "均匀采样0-10的随机张量\n",
    "'''\n",
    "\n",
    "t_test = 10 * torch.rand(3, 3)\n",
    "print(t_test)"
   ]
  },
  {
   "cell_type": "code",
   "execution_count": 15,
   "metadata": {
    "ExecuteTime": {
     "end_time": "2019-12-20T16:04:39.097633Z",
     "start_time": "2019-12-20T16:04:38.985874Z"
    }
   },
   "outputs": [
    {
     "name": "stdout",
     "output_type": "stream",
     "text": [
      "tensor([[-0.9956,  0.8989,  1.1733,  0.4062, -0.5954],\n",
      "        [ 0.1560, -0.1922, -0.5187,  0.1533,  0.0540]])\n"
     ]
    }
   ],
   "source": [
    "'''\n",
    "生成来自于10均值为0，方差不同的正态分布[2,5]张量\n",
    "'''\n",
    "\n",
    "t = torch.normal(mean=torch.full([10], 0),\n",
    "                 std=torch.arange(1, 0, -0.1)).view(2, 5)  ##tensor没有reshape\n",
    "print(t)"
   ]
  },
  {
   "cell_type": "code",
   "execution_count": 3,
   "metadata": {
    "ExecuteTime": {
     "end_time": "2020-03-08T16:11:21.718032Z",
     "start_time": "2020-03-08T16:11:21.637967Z"
    }
   },
   "outputs": [
    {
     "name": "stdout",
     "output_type": "stream",
     "text": [
      "torch.Size([4, 1])\n",
      "tensor([[0.0000, 0.5155, 0.0424, 0.5071],\n",
      "        [1.0000, 0.2075, 0.6843, 0.6519],\n",
      "        [2.0000, 0.2202, 0.4358, 0.5101],\n",
      "        [3.0000, 0.3082, 0.2753, 0.2088]])\n",
      "torch.Size([4, 4])\n"
     ]
    }
   ],
   "source": [
    "'''\n",
    "乱序索引\n",
    "'''\n",
    "\n",
    "a = torch.rand(4, 3)\n",
    "b = torch.tensor([[0.], [1.], [2.0], [3.0]])\n",
    "print(b.shape)\n",
    "c = torch.cat([b, a], dim=1)\n",
    "print(c)\n",
    "print(c.shape)"
   ]
  },
  {
   "cell_type": "code",
   "execution_count": 4,
   "metadata": {
    "ExecuteTime": {
     "end_time": "2020-03-08T16:11:26.790414Z",
     "start_time": "2020-03-08T16:11:26.733533Z"
    }
   },
   "outputs": [
    {
     "name": "stdout",
     "output_type": "stream",
     "text": [
      "tensor([1, 2, 3, 0])\n"
     ]
    },
    {
     "data": {
      "text/plain": [
       "tensor([[1.0000, 0.2075, 0.6843, 0.6519],\n",
       "        [2.0000, 0.2202, 0.4358, 0.5101],\n",
       "        [3.0000, 0.3082, 0.2753, 0.2088],\n",
       "        [0.0000, 0.5155, 0.0424, 0.5071]])"
      ]
     },
     "execution_count": 4,
     "metadata": {},
     "output_type": "execute_result"
    }
   ],
   "source": [
    "idx = torch.randperm(4)\n",
    "print(idx)\n",
    "c[idx]  # 这个相当于换行 索引第1行，第2行，第3行，第0行"
   ]
  },
  {
   "cell_type": "code",
   "execution_count": null,
   "metadata": {},
   "outputs": [],
   "source": []
  }
 ],
 "metadata": {
  "anaconda-cloud": {},
  "kernelspec": {
   "display_name": "Python 3",
   "language": "python",
   "name": "python3"
  },
  "language_info": {
   "codemirror_mode": {
    "name": "ipython",
    "version": 3
   },
   "file_extension": ".py",
   "mimetype": "text/x-python",
   "name": "python",
   "nbconvert_exporter": "python",
   "pygments_lexer": "ipython3",
   "version": "3.7.0"
  }
 },
 "nbformat": 4,
 "nbformat_minor": 1
}
